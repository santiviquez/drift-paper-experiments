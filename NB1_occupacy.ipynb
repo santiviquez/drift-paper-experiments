{
 "cells": [
  {
   "cell_type": "code",
   "execution_count": 1,
   "metadata": {},
   "outputs": [],
   "source": [
    "import pandas as pd\n",
    "import numpy as np\n",
    "import nannyml as nml\n",
    "import nannyml_premium as nml_premium\n",
    "from nannyml_premium.performance_estimation.confidence_based import MCBPE\n",
    "from nannyml_premium.concept_shift.rcs import ClassificationConceptShiftEstimator"
   ]
  },
  {
   "cell_type": "code",
   "execution_count": 2,
   "metadata": {},
   "outputs": [
    {
     "data": {
      "text/html": [
       "<div>\n",
       "<style scoped>\n",
       "    .dataframe tbody tr th:only-of-type {\n",
       "        vertical-align: middle;\n",
       "    }\n",
       "\n",
       "    .dataframe tbody tr th {\n",
       "        vertical-align: top;\n",
       "    }\n",
       "\n",
       "    .dataframe thead th {\n",
       "        text-align: right;\n",
       "    }\n",
       "</style>\n",
       "<table border=\"1\" class=\"dataframe\">\n",
       "  <thead>\n",
       "    <tr style=\"text-align: right;\">\n",
       "      <th></th>\n",
       "      <th>predicted</th>\n",
       "      <th>measured</th>\n",
       "      <th>prob_predicted</th>\n",
       "      <th>co2</th>\n",
       "      <th>temperature</th>\n",
       "      <th>time</th>\n",
       "    </tr>\n",
       "  </thead>\n",
       "  <tbody>\n",
       "    <tr>\n",
       "      <th>0</th>\n",
       "      <td>0.0</td>\n",
       "      <td>0.0</td>\n",
       "      <td>0.000002</td>\n",
       "      <td>406.449058</td>\n",
       "      <td>22.149338</td>\n",
       "      <td>2021-03-30 00:12:00</td>\n",
       "    </tr>\n",
       "    <tr>\n",
       "      <th>1</th>\n",
       "      <td>0.0</td>\n",
       "      <td>0.0</td>\n",
       "      <td>0.000005</td>\n",
       "      <td>406.389182</td>\n",
       "      <td>22.151172</td>\n",
       "      <td>2021-03-30 00:15:00</td>\n",
       "    </tr>\n",
       "    <tr>\n",
       "      <th>2</th>\n",
       "      <td>0.0</td>\n",
       "      <td>0.0</td>\n",
       "      <td>0.000016</td>\n",
       "      <td>406.584225</td>\n",
       "      <td>22.151124</td>\n",
       "      <td>2021-03-30 00:18:00</td>\n",
       "    </tr>\n",
       "    <tr>\n",
       "      <th>3</th>\n",
       "      <td>0.0</td>\n",
       "      <td>0.0</td>\n",
       "      <td>0.000071</td>\n",
       "      <td>407.031691</td>\n",
       "      <td>22.150188</td>\n",
       "      <td>2021-03-30 00:21:00</td>\n",
       "    </tr>\n",
       "    <tr>\n",
       "      <th>4</th>\n",
       "      <td>0.0</td>\n",
       "      <td>0.0</td>\n",
       "      <td>0.000374</td>\n",
       "      <td>407.353326</td>\n",
       "      <td>22.148271</td>\n",
       "      <td>2021-03-30 00:24:00</td>\n",
       "    </tr>\n",
       "  </tbody>\n",
       "</table>\n",
       "</div>"
      ],
      "text/plain": [
       "   predicted  measured  prob_predicted         co2  temperature  \\\n",
       "0        0.0       0.0        0.000002  406.449058    22.149338   \n",
       "1        0.0       0.0        0.000005  406.389182    22.151172   \n",
       "2        0.0       0.0        0.000016  406.584225    22.151124   \n",
       "3        0.0       0.0        0.000071  407.031691    22.150188   \n",
       "4        0.0       0.0        0.000374  407.353326    22.148271   \n",
       "\n",
       "                  time  \n",
       "0  2021-03-30 00:12:00  \n",
       "1  2021-03-30 00:15:00  \n",
       "2  2021-03-30 00:18:00  \n",
       "3  2021-03-30 00:21:00  \n",
       "4  2021-03-30 00:24:00  "
      ]
     },
     "execution_count": 2,
     "metadata": {},
     "output_type": "execute_result"
    }
   ],
   "source": [
    "df_raw = pd.read_csv('data/occupacy_data.csv', index_col=0)\n",
    "df_raw.head()"
   ]
  },
  {
   "cell_type": "code",
   "execution_count": 3,
   "metadata": {},
   "outputs": [],
   "source": [
    "features = ['co2', 'temperature']\n",
    "y_pred = 'predicted'\n",
    "target = 'measured'\n",
    "y_pred_proba = 'prob_predicted'\n",
    "timestamp = 'time'"
   ]
  },
  {
   "cell_type": "markdown",
   "metadata": {},
   "source": [
    "Directly taken from the paper:\n",
    "\n",
    "\"The data drift analysis encompasses the input variables co2 and room temperature, alongside the target variable measured\n",
    "\n",
    "Consequently, the dataset is divided into two parts: training data, which includes records from March 30, 2021, at 12:12 AM to May 8, 2021, at 11:57 PM, and test data, which spans from May 9, 2021, at 12:00 AM to July 11, 2021, at 11:57 PM.\""
   ]
  },
  {
   "cell_type": "code",
   "execution_count": 4,
   "metadata": {},
   "outputs": [
    {
     "name": "stdout",
     "output_type": "stream",
     "text": [
      "train set\n",
      "lenght: 16091\n",
      "from: 2021-03-30 00:12:00 to 2021-05-02 23:57:00\n",
      "\n",
      "\n",
      "test set\n",
      "lenght: 7854\n",
      "from: 2021-06-09 00:12:00 to 2021-06-25 12:03:00\n",
      "\n",
      "\n",
      "prod set\n",
      "lenght: 7854\n",
      "from: 2021-06-25 12:06:00 to 2021-07-11 23:57:00\n"
     ]
    }
   ],
   "source": [
    "df_train = df_raw[df_raw['time'] <= '2021-05-08 23:57:00']\n",
    "df_test = df_raw[(df_raw['time'] >= '2021-06-09 00:00:00') & (df_raw['time'] <= '2021-06-25 12:03:00')]\n",
    "df_prod = df_raw[df_raw['time'] >= '2021-06-25 12:06:00']\n",
    "\n",
    "print(f'train set')\n",
    "print(f'lenght: {len(df_train)}')\n",
    "print(f'from: {df_train.time.iloc[0]} to {df_train.time.iloc[-1]}')\n",
    "print('\\n')\n",
    "\n",
    "print(f'test set')\n",
    "print(f'lenght: {len(df_test)}')\n",
    "print(f'from: {df_test.time.iloc[0]} to {df_test.time.iloc[-1]}')\n",
    "print('\\n')\n",
    "\n",
    "print(f'prod set')\n",
    "print(f'lenght: {len(df_prod)}')\n",
    "print(f'from: {df_prod.time.iloc[0]} to {df_prod.time.iloc[-1]}')"
   ]
  },
  {
   "cell_type": "markdown",
   "metadata": {},
   "source": [
    "# Red flag 1: using training data as reference data\n",
    "\n",
    "## fit on training data"
   ]
  },
  {
   "cell_type": "code",
   "execution_count": 5,
   "metadata": {},
   "outputs": [
    {
     "name": "stderr",
     "output_type": "stream",
     "text": [
      "/Users/santiago/miniconda3/envs/nannymlPremium/lib/python3.10/site-packages/nannyml/chunk.py:181: UserWarning: The resulting number of chunks is too low. Please consider splitting your data in a different way or continue at your own risk.\n",
      "  warnings.warn(\n"
     ]
    },
    {
     "data": {
      "application/vnd.plotly.v1+json": {
       "config": {
        "plotlyServerURL": "https://plot.ly"
       },
       "data": [
        {
         "hoverinfo": "skip",
         "legendgroup": "metric_reference",
         "line": {
          "color": "#00c8e5",
          "shape": "hv",
          "width": 2
         },
         "mode": "lines",
         "name": "Metric",
         "showlegend": true,
         "type": "scatter",
         "x": [
          0,
          1,
          2,
          3,
          4,
          5,
          6,
          7,
          8,
          9
         ],
         "xaxis": "x",
         "y": [
          0.9990997224764329,
          0.9998540039418935,
          0.9812028349822649,
          0.9577366103681892,
          0.9636907220550343,
          0.9516706086380283,
          0.9671872108417442,
          0.9986062123108431,
          0.9999643849277015,
          0.9999643849277015
         ],
         "yaxis": "y"
        },
        {
         "customdata": [
          [
           "Realized <b>ROC AUC</b>",
           "<b style=\"color:#00c8e5;line-height:60px\">Reference</b>",
           "",
           "[0:1963]",
           "Chunk index: <b>0</b>",
           0.9991,
           0.0385
          ],
          [
           "Realized <b>ROC AUC</b>",
           "<b style=\"color:#00c8e5;line-height:60px\">Reference</b>",
           "",
           "[1964:3927]",
           "Chunk index: <b>1</b>",
           0.9999,
           0.0385
          ],
          [
           "Realized <b>ROC AUC</b>",
           "<b style=\"color:#00c8e5;line-height:60px\">Reference</b>",
           "",
           "[3928:5891]",
           "Chunk index: <b>2</b>",
           0.9812,
           0.0385
          ],
          [
           "Realized <b>ROC AUC</b>",
           "<b style=\"color:#00c8e5;line-height:60px\">Reference</b>",
           "",
           "[5892:7855]",
           "Chunk index: <b>3</b>",
           0.9577,
           0.0385
          ],
          [
           "Realized <b>ROC AUC</b>",
           "<b style=\"color:#00c8e5;line-height:60px\">Reference</b>",
           "",
           "[7856:9819]",
           "Chunk index: <b>4</b>",
           0.9637,
           0.0385
          ],
          [
           "Realized <b>ROC AUC</b>",
           "<b style=\"color:#00c8e5;line-height:60px\">Reference</b>",
           "",
           "[9820:11783]",
           "Chunk index: <b>5</b>",
           0.9517,
           0.0385
          ],
          [
           "Realized <b>ROC AUC</b>",
           "<b style=\"color:#00c8e5;line-height:60px\">Reference</b>",
           "",
           "[11784:13747]",
           "Chunk index: <b>6</b>",
           0.9672,
           0.0385
          ],
          [
           "Realized <b>ROC AUC</b>",
           "<b style=\"color:#00c8e5;line-height:60px\">Reference</b>",
           "",
           "[13748:15711]",
           "Chunk index: <b>7</b>",
           0.9986,
           0.0385
          ],
          [
           "Realized <b>ROC AUC</b>",
           "<b style=\"color:#00c8e5;line-height:60px\">Reference</b>",
           "",
           "[15712:16090]",
           "Chunk index: <b>8</b>",
           1,
           0.0878
          ]
         ],
         "hovertemplate": "%{customdata[1]} &nbsp; &nbsp; %{customdata[2]} <br />Chunk: <b>%{customdata[3]}</b> &nbsp; &nbsp; %{customdata[4]} <br />%{customdata[0]}: <b>%{customdata[5]}</b><br />Confidence band: +/- <b>%{customdata[6]}</b><br /><extra></extra>",
         "legendgroup": "metric_reference",
         "marker": {
          "color": "#00c8e5",
          "size": 5,
          "symbol": "circle"
         },
         "mode": "markers",
         "name": "Metric",
         "showlegend": false,
         "type": "scatter",
         "x": [
          0.5,
          1.5,
          2.5,
          3.5,
          4.5,
          5.5,
          6.5,
          7.5,
          8.5
         ],
         "xaxis": "x",
         "y": [
          0.9990997224764329,
          0.9998540039418935,
          0.9812028349822649,
          0.9577366103681892,
          0.9636907220550343,
          0.9516706086380283,
          0.9671872108417442,
          0.9986062123108431,
          0.9999643849277015,
          0.9999643849277015
         ],
         "yaxis": "y"
        },
        {
         "hoverinfo": "skip",
         "legendgroup": "metric_analysis",
         "line": {
          "color": "#00c8e5",
          "shape": "hv",
          "width": 2
         },
         "mode": "lines",
         "name": "Metric",
         "showlegend": false,
         "type": "scatter",
         "x": [
          9,
          10,
          11,
          12,
          13
         ],
         "xaxis": "x",
         "y": [
          0.990782778481774,
          0.9842151250913889,
          0.9637804888108022,
          0.9718876088406072,
          0.9718876088406072
         ],
         "yaxis": "y"
        },
        {
         "customdata": [
          [
           "Realized <b>ROC AUC</b>",
           "<b style=\"color:#3b0280;line-height:60px\">Analysis</b>",
           "",
           "[0:1963]",
           "Chunk index: <b>0</b>",
           0.9908,
           0.0385
          ],
          [
           "Realized <b>ROC AUC</b>",
           "<b style=\"color:#3b0280;line-height:60px\">Analysis</b>",
           "",
           "[1964:3927]",
           "Chunk index: <b>1</b>",
           0.9842,
           0.0385
          ],
          [
           "Realized <b>ROC AUC</b>",
           "<b style=\"color:#3b0280;line-height:60px\">Analysis</b>",
           "",
           "[3928:5891]",
           "Chunk index: <b>2</b>",
           0.9638,
           0.0385
          ],
          [
           "Realized <b>ROC AUC</b>",
           "<b style=\"color:#3b0280;line-height:60px\">Analysis</b>",
           "",
           "[5892:7853]",
           "Chunk index: <b>3</b>",
           0.9719,
           0.0386
          ]
         ],
         "hovertemplate": "%{customdata[1]} &nbsp; &nbsp; %{customdata[2]} <br />Chunk: <b>%{customdata[3]}</b> &nbsp; &nbsp; %{customdata[4]} <br />%{customdata[0]}: <b>%{customdata[5]}</b><br />Confidence band: +/- <b>%{customdata[6]}</b><br /><extra></extra>",
         "legendgroup": "metric_analysis",
         "marker": {
          "color": "#00c8e5",
          "size": 5,
          "symbol": "circle"
         },
         "mode": "markers",
         "name": "Metric",
         "showlegend": false,
         "type": "scatter",
         "x": [
          9.5,
          10.5,
          11.5,
          12.5
         ],
         "xaxis": "x",
         "y": [
          0.990782778481774,
          0.9842151250913889,
          0.9637804888108022,
          0.9718876088406072,
          0.9718876088406072
         ],
         "yaxis": "y"
        },
        {
         "hoverinfo": "skip",
         "legendgroup": "alert",
         "marker": {
          "color": "#DD4040",
          "size": 8,
          "symbol": "diamond"
         },
         "mode": "markers",
         "name": "Alert",
         "showlegend": true,
         "type": "scatter",
         "x": [],
         "xaxis": "x",
         "y": [],
         "yaxis": "y"
        },
        {
         "hoverinfo": "skip",
         "legendgroup": "thresh",
         "line": {
          "color": "#DD4040",
          "dash": "dash",
          "width": 2
         },
         "mode": "lines",
         "name": "Threshold",
         "showlegend": true,
         "type": "scatter",
         "x": [
          0,
          1,
          2,
          3,
          4,
          5,
          6,
          7,
          8,
          9
         ],
         "xaxis": "x",
         "y": [
          1,
          1,
          1,
          1,
          1,
          1,
          1,
          1,
          1,
          1
         ],
         "yaxis": "y"
        },
        {
         "hoverinfo": "skip",
         "legendgroup": "thresh",
         "line": {
          "color": "#DD4040",
          "dash": "dash",
          "width": 2
         },
         "mode": "lines",
         "name": "Threshold",
         "showlegend": false,
         "type": "scatter",
         "x": [
          0,
          1,
          2,
          3,
          4,
          5,
          6,
          7,
          8,
          9
         ],
         "xaxis": "x",
         "y": [
          0.9230267346854631,
          0.9230267346854631,
          0.9230267346854631,
          0.9230267346854631,
          0.9230267346854631,
          0.9230267346854631,
          0.9230267346854631,
          0.9230267346854631,
          0.9230267346854631,
          0.9230267346854631
         ],
         "yaxis": "y"
        },
        {
         "hoverinfo": "skip",
         "legendgroup": "thresh",
         "line": {
          "color": "#DD4040",
          "dash": "dash",
          "width": 2
         },
         "mode": "lines",
         "name": "Threshold",
         "showlegend": false,
         "type": "scatter",
         "x": [
          9,
          10,
          11,
          12,
          13
         ],
         "xaxis": "x",
         "y": [
          1,
          1,
          1,
          1,
          1
         ],
         "yaxis": "y"
        },
        {
         "hoverinfo": "skip",
         "legendgroup": "thresh",
         "line": {
          "color": "#DD4040",
          "dash": "dash",
          "width": 2
         },
         "mode": "lines",
         "name": "Threshold",
         "showlegend": false,
         "type": "scatter",
         "x": [
          9,
          10,
          11,
          12,
          13
         ],
         "xaxis": "x",
         "y": [
          0.9230267346854631,
          0.9230267346854631,
          0.9230267346854631,
          0.9230267346854631,
          0.9230267346854631
         ],
         "yaxis": "y"
        },
        {
         "hoverinfo": "skip",
         "legendgroup": "metric_reference",
         "line": {
          "color": "#00c8e5",
          "shape": "hv",
          "width": 2
         },
         "mode": "lines",
         "name": "Metric",
         "showlegend": false,
         "type": "scatter",
         "x": [
          0,
          1,
          2,
          3,
          4,
          5,
          6,
          7,
          8,
          9
         ],
         "xaxis": "x2",
         "y": [
          0.9933808553971487,
          0.9979633401221996,
          0.9867617107942973,
          0.9760692464358453,
          0.9862525458248472,
          0.9704684317718941,
          0.9765784114052953,
          0.9908350305498982,
          0.9973614775725593,
          0.9973614775725593
         ],
         "yaxis": "y2"
        },
        {
         "customdata": [
          [
           "Realized <b>Accuracy</b>",
           "<b style=\"color:#00c8e5;line-height:60px\">Reference</b>",
           "",
           "[0:1963]",
           "Chunk index: <b>0</b>",
           0.9934,
           0.0082
          ],
          [
           "Realized <b>Accuracy</b>",
           "<b style=\"color:#00c8e5;line-height:60px\">Reference</b>",
           "",
           "[1964:3927]",
           "Chunk index: <b>1</b>",
           0.998,
           0.0082
          ],
          [
           "Realized <b>Accuracy</b>",
           "<b style=\"color:#00c8e5;line-height:60px\">Reference</b>",
           "",
           "[3928:5891]",
           "Chunk index: <b>2</b>",
           0.9868,
           0.0082
          ],
          [
           "Realized <b>Accuracy</b>",
           "<b style=\"color:#00c8e5;line-height:60px\">Reference</b>",
           "",
           "[5892:7855]",
           "Chunk index: <b>3</b>",
           0.9761,
           0.0082
          ],
          [
           "Realized <b>Accuracy</b>",
           "<b style=\"color:#00c8e5;line-height:60px\">Reference</b>",
           "",
           "[7856:9819]",
           "Chunk index: <b>4</b>",
           0.9863,
           0.0082
          ],
          [
           "Realized <b>Accuracy</b>",
           "<b style=\"color:#00c8e5;line-height:60px\">Reference</b>",
           "",
           "[9820:11783]",
           "Chunk index: <b>5</b>",
           0.9705,
           0.0082
          ],
          [
           "Realized <b>Accuracy</b>",
           "<b style=\"color:#00c8e5;line-height:60px\">Reference</b>",
           "",
           "[11784:13747]",
           "Chunk index: <b>6</b>",
           0.9766,
           0.0082
          ],
          [
           "Realized <b>Accuracy</b>",
           "<b style=\"color:#00c8e5;line-height:60px\">Reference</b>",
           "",
           "[13748:15711]",
           "Chunk index: <b>7</b>",
           0.9908,
           0.0082
          ],
          [
           "Realized <b>Accuracy</b>",
           "<b style=\"color:#00c8e5;line-height:60px\">Reference</b>",
           "",
           "[15712:16090]",
           "Chunk index: <b>8</b>",
           0.9974,
           0.0187
          ]
         ],
         "hovertemplate": "%{customdata[1]} &nbsp; &nbsp; %{customdata[2]} <br />Chunk: <b>%{customdata[3]}</b> &nbsp; &nbsp; %{customdata[4]} <br />%{customdata[0]}: <b>%{customdata[5]}</b><br />Confidence band: +/- <b>%{customdata[6]}</b><br /><extra></extra>",
         "legendgroup": "metric_reference",
         "marker": {
          "color": "#00c8e5",
          "size": 5,
          "symbol": "circle"
         },
         "mode": "markers",
         "name": "Metric",
         "showlegend": false,
         "type": "scatter",
         "x": [
          0.5,
          1.5,
          2.5,
          3.5,
          4.5,
          5.5,
          6.5,
          7.5,
          8.5
         ],
         "xaxis": "x2",
         "y": [
          0.9933808553971487,
          0.9979633401221996,
          0.9867617107942973,
          0.9760692464358453,
          0.9862525458248472,
          0.9704684317718941,
          0.9765784114052953,
          0.9908350305498982,
          0.9973614775725593,
          0.9973614775725593
         ],
         "yaxis": "y2"
        },
        {
         "hoverinfo": "skip",
         "legendgroup": "metric_analysis",
         "line": {
          "color": "#00c8e5",
          "shape": "hv",
          "width": 2
         },
         "mode": "lines",
         "name": "Metric",
         "showlegend": false,
         "type": "scatter",
         "x": [
          9,
          10,
          11,
          12,
          13
         ],
         "xaxis": "x2",
         "y": [
          0.9837067209775967,
          0.9760692464358453,
          0.9633401221995926,
          0.990316004077472,
          0.990316004077472
         ],
         "yaxis": "y2"
        },
        {
         "customdata": [
          [
           "Realized <b>Accuracy</b>",
           "<b style=\"color:#3b0280;line-height:60px\">Analysis</b>",
           "",
           "[0:1963]",
           "Chunk index: <b>0</b>",
           0.9837,
           0.0082
          ],
          [
           "Realized <b>Accuracy</b>",
           "<b style=\"color:#3b0280;line-height:60px\">Analysis</b>",
           "",
           "[1964:3927]",
           "Chunk index: <b>1</b>",
           0.9761,
           0.0082
          ],
          [
           "Realized <b>Accuracy</b>",
           "<b style=\"color:#3b0280;line-height:60px\">Analysis</b>",
           "",
           "[3928:5891]",
           "Chunk index: <b>2</b>",
           0.9633,
           0.0082
          ],
          [
           "Realized <b>Accuracy</b>",
           "<b style=\"color:#3b0280;line-height:60px\">Analysis</b>",
           "",
           "[5892:7853]",
           "Chunk index: <b>3</b>",
           0.9903,
           0.0082
          ]
         ],
         "hovertemplate": "%{customdata[1]} &nbsp; &nbsp; %{customdata[2]} <br />Chunk: <b>%{customdata[3]}</b> &nbsp; &nbsp; %{customdata[4]} <br />%{customdata[0]}: <b>%{customdata[5]}</b><br />Confidence band: +/- <b>%{customdata[6]}</b><br /><extra></extra>",
         "legendgroup": "metric_analysis",
         "marker": {
          "color": "#00c8e5",
          "size": 5,
          "symbol": "circle"
         },
         "mode": "markers",
         "name": "Metric",
         "showlegend": false,
         "type": "scatter",
         "x": [
          9.5,
          10.5,
          11.5,
          12.5
         ],
         "xaxis": "x2",
         "y": [
          0.9837067209775967,
          0.9760692464358453,
          0.9633401221995926,
          0.990316004077472,
          0.990316004077472
         ],
         "yaxis": "y2"
        },
        {
         "hoverinfo": "skip",
         "legendgroup": "alert",
         "marker": {
          "color": "#DD4040",
          "size": 8,
          "symbol": "diamond"
         },
         "mode": "markers",
         "name": "Alert",
         "showlegend": false,
         "type": "scatter",
         "x": [],
         "xaxis": "x2",
         "y": [],
         "yaxis": "y2"
        },
        {
         "hoverinfo": "skip",
         "legendgroup": "thresh",
         "line": {
          "color": "#DD4040",
          "dash": "dash",
          "width": 2
         },
         "mode": "lines",
         "name": "Threshold",
         "showlegend": false,
         "type": "scatter",
         "x": [
          0,
          1,
          2,
          3,
          4,
          5,
          6,
          7,
          8,
          9
         ],
         "xaxis": "x2",
         "y": [
          1,
          1,
          1,
          1,
          1,
          1,
          1,
          1,
          1,
          1
         ],
         "yaxis": "y2"
        },
        {
         "hoverinfo": "skip",
         "legendgroup": "thresh",
         "line": {
          "color": "#DD4040",
          "dash": "dash",
          "width": 2
         },
         "mode": "lines",
         "name": "Threshold",
         "showlegend": false,
         "type": "scatter",
         "x": [
          0,
          1,
          2,
          3,
          4,
          5,
          6,
          7,
          8,
          9
         ],
         "xaxis": "x2",
         "y": [
          0.9582749439634207,
          0.9582749439634207,
          0.9582749439634207,
          0.9582749439634207,
          0.9582749439634207,
          0.9582749439634207,
          0.9582749439634207,
          0.9582749439634207,
          0.9582749439634207,
          0.9582749439634207
         ],
         "yaxis": "y2"
        },
        {
         "hoverinfo": "skip",
         "legendgroup": "thresh",
         "line": {
          "color": "#DD4040",
          "dash": "dash",
          "width": 2
         },
         "mode": "lines",
         "name": "Threshold",
         "showlegend": false,
         "type": "scatter",
         "x": [
          9,
          10,
          11,
          12,
          13
         ],
         "xaxis": "x2",
         "y": [
          1,
          1,
          1,
          1,
          1
         ],
         "yaxis": "y2"
        },
        {
         "hoverinfo": "skip",
         "legendgroup": "thresh",
         "line": {
          "color": "#DD4040",
          "dash": "dash",
          "width": 2
         },
         "mode": "lines",
         "name": "Threshold",
         "showlegend": false,
         "type": "scatter",
         "x": [
          9,
          10,
          11,
          12,
          13
         ],
         "xaxis": "x2",
         "y": [
          0.9582749439634207,
          0.9582749439634207,
          0.9582749439634207,
          0.9582749439634207,
          0.9582749439634207
         ],
         "yaxis": "y2"
        },
        {
         "hoverinfo": "skip",
         "legendgroup": "metric_reference",
         "line": {
          "color": "#00c8e5",
          "shape": "hv",
          "width": 2
         },
         "mode": "lines",
         "name": "Metric",
         "showlegend": false,
         "type": "scatter",
         "x": [
          0,
          1,
          2,
          3,
          4,
          5,
          6,
          7,
          8,
          9
         ],
         "xaxis": "x3",
         "y": [
          0.9150326797385621,
          0.7777777777777778,
          0.8586956521739131,
          0.8919540229885058,
          0.8457142857142858,
          0.8333333333333334,
          0.8904761904761904,
          0.9108910891089109,
          0.9950738916256158,
          0.9950738916256158
         ],
         "yaxis": "y3"
        },
        {
         "customdata": [
          [
           "Realized <b>F1</b>",
           "<b style=\"color:#00c8e5;line-height:60px\">Reference</b>",
           "",
           "[0:1963]",
           "Chunk index: <b>0</b>",
           0.915,
           0.1112
          ],
          [
           "Realized <b>F1</b>",
           "<b style=\"color:#00c8e5;line-height:60px\">Reference</b>",
           "",
           "[1964:3927]",
           "Chunk index: <b>1</b>",
           0.7778,
           0.1112
          ],
          [
           "Realized <b>F1</b>",
           "<b style=\"color:#00c8e5;line-height:60px\">Reference</b>",
           "",
           "[3928:5891]",
           "Chunk index: <b>2</b>",
           0.8587,
           0.1112
          ],
          [
           "Realized <b>F1</b>",
           "<b style=\"color:#00c8e5;line-height:60px\">Reference</b>",
           "",
           "[5892:7855]",
           "Chunk index: <b>3</b>",
           0.892,
           0.1112
          ],
          [
           "Realized <b>F1</b>",
           "<b style=\"color:#00c8e5;line-height:60px\">Reference</b>",
           "",
           "[7856:9819]",
           "Chunk index: <b>4</b>",
           0.8457,
           0.1112
          ],
          [
           "Realized <b>F1</b>",
           "<b style=\"color:#00c8e5;line-height:60px\">Reference</b>",
           "",
           "[9820:11783]",
           "Chunk index: <b>5</b>",
           0.8333,
           0.1112
          ],
          [
           "Realized <b>F1</b>",
           "<b style=\"color:#00c8e5;line-height:60px\">Reference</b>",
           "",
           "[11784:13747]",
           "Chunk index: <b>6</b>",
           0.8905,
           0.1112
          ],
          [
           "Realized <b>F1</b>",
           "<b style=\"color:#00c8e5;line-height:60px\">Reference</b>",
           "",
           "[13748:15711]",
           "Chunk index: <b>7</b>",
           0.9109,
           0.1112
          ],
          [
           "Realized <b>F1</b>",
           "<b style=\"color:#00c8e5;line-height:60px\">Reference</b>",
           "",
           "[15712:16090]",
           "Chunk index: <b>8</b>",
           0.9951,
           0.2531
          ]
         ],
         "hovertemplate": "%{customdata[1]} &nbsp; &nbsp; %{customdata[2]} <br />Chunk: <b>%{customdata[3]}</b> &nbsp; &nbsp; %{customdata[4]} <br />%{customdata[0]}: <b>%{customdata[5]}</b><br />Confidence band: +/- <b>%{customdata[6]}</b><br /><extra></extra>",
         "legendgroup": "metric_reference",
         "marker": {
          "color": "#00c8e5",
          "size": 5,
          "symbol": "circle"
         },
         "mode": "markers",
         "name": "Metric",
         "showlegend": false,
         "type": "scatter",
         "x": [
          0.5,
          1.5,
          2.5,
          3.5,
          4.5,
          5.5,
          6.5,
          7.5,
          8.5
         ],
         "xaxis": "x3",
         "y": [
          0.9150326797385621,
          0.7777777777777778,
          0.8586956521739131,
          0.8919540229885058,
          0.8457142857142858,
          0.8333333333333334,
          0.8904761904761904,
          0.9108910891089109,
          0.9950738916256158,
          0.9950738916256158
         ],
         "yaxis": "y3"
        },
        {
         "hoverinfo": "skip",
         "legendgroup": "metric_analysis",
         "line": {
          "color": "#00c8e5",
          "shape": "hv",
          "width": 2
         },
         "mode": "lines",
         "name": "Metric",
         "showlegend": false,
         "type": "scatter",
         "x": [
          9,
          10,
          11,
          12,
          13
         ],
         "xaxis": "x3",
         "y": [
          0.9241706161137441,
          0.8645533141210374,
          0.8285714285714286,
          0.9147982062780269,
          0.9147982062780269
         ],
         "yaxis": "y3"
        },
        {
         "customdata": [
          [
           "Realized <b>F1</b>",
           "<b style=\"color:#3b0280;line-height:60px\">Analysis</b>",
           "",
           "[0:1963]",
           "Chunk index: <b>0</b>",
           0.9242,
           0.1112
          ],
          [
           "Realized <b>F1</b>",
           "<b style=\"color:#3b0280;line-height:60px\">Analysis</b>",
           "",
           "[1964:3927]",
           "Chunk index: <b>1</b>",
           0.8646,
           0.1112
          ],
          [
           "Realized <b>F1</b>",
           "<b style=\"color:#3b0280;line-height:60px\">Analysis</b>",
           "",
           "[3928:5891]",
           "Chunk index: <b>2</b>",
           0.8286,
           0.1112
          ],
          [
           "Realized <b>F1</b>",
           "<b style=\"color:#3b0280;line-height:60px\">Analysis</b>",
           "",
           "[5892:7853]",
           "Chunk index: <b>3</b>",
           0.9148,
           0.1112
          ]
         ],
         "hovertemplate": "%{customdata[1]} &nbsp; &nbsp; %{customdata[2]} <br />Chunk: <b>%{customdata[3]}</b> &nbsp; &nbsp; %{customdata[4]} <br />%{customdata[0]}: <b>%{customdata[5]}</b><br />Confidence band: +/- <b>%{customdata[6]}</b><br /><extra></extra>",
         "legendgroup": "metric_analysis",
         "marker": {
          "color": "#00c8e5",
          "size": 5,
          "symbol": "circle"
         },
         "mode": "markers",
         "name": "Metric",
         "showlegend": false,
         "type": "scatter",
         "x": [
          9.5,
          10.5,
          11.5,
          12.5
         ],
         "xaxis": "x3",
         "y": [
          0.9241706161137441,
          0.8645533141210374,
          0.8285714285714286,
          0.9147982062780269,
          0.9147982062780269
         ],
         "yaxis": "y3"
        },
        {
         "hoverinfo": "skip",
         "legendgroup": "alert",
         "marker": {
          "color": "#DD4040",
          "size": 8,
          "symbol": "diamond"
         },
         "mode": "markers",
         "name": "Alert",
         "showlegend": false,
         "type": "scatter",
         "x": [],
         "xaxis": "x3",
         "y": [],
         "yaxis": "y3"
        },
        {
         "hoverinfo": "skip",
         "legendgroup": "thresh",
         "line": {
          "color": "#DD4040",
          "dash": "dash",
          "width": 2
         },
         "mode": "lines",
         "name": "Threshold",
         "showlegend": false,
         "type": "scatter",
         "x": [
          0,
          1,
          2,
          3,
          4,
          5,
          6,
          7,
          8,
          9
         ],
         "xaxis": "x3",
         "y": [
          1,
          1,
          1,
          1,
          1,
          1,
          1,
          1,
          1,
          1
         ],
         "yaxis": "y3"
        },
        {
         "hoverinfo": "skip",
         "legendgroup": "thresh",
         "line": {
          "color": "#DD4040",
          "dash": "dash",
          "width": 2
         },
         "mode": "lines",
         "name": "Threshold",
         "showlegend": false,
         "type": "scatter",
         "x": [
          0,
          1,
          2,
          3,
          4,
          5,
          6,
          7,
          8,
          9
         ],
         "xaxis": "x3",
         "y": [
          0.7068727487012633,
          0.7068727487012633,
          0.7068727487012633,
          0.7068727487012633,
          0.7068727487012633,
          0.7068727487012633,
          0.7068727487012633,
          0.7068727487012633,
          0.7068727487012633,
          0.7068727487012633
         ],
         "yaxis": "y3"
        },
        {
         "hoverinfo": "skip",
         "legendgroup": "thresh",
         "line": {
          "color": "#DD4040",
          "dash": "dash",
          "width": 2
         },
         "mode": "lines",
         "name": "Threshold",
         "showlegend": false,
         "type": "scatter",
         "x": [
          9,
          10,
          11,
          12,
          13
         ],
         "xaxis": "x3",
         "y": [
          1,
          1,
          1,
          1,
          1
         ],
         "yaxis": "y3"
        },
        {
         "hoverinfo": "skip",
         "legendgroup": "thresh",
         "line": {
          "color": "#DD4040",
          "dash": "dash",
          "width": 2
         },
         "mode": "lines",
         "name": "Threshold",
         "showlegend": false,
         "type": "scatter",
         "x": [
          9,
          10,
          11,
          12,
          13
         ],
         "xaxis": "x3",
         "y": [
          0.7068727487012633,
          0.7068727487012633,
          0.7068727487012633,
          0.7068727487012633,
          0.7068727487012633
         ],
         "yaxis": "y3"
        },
        {
         "hoverinfo": "skip",
         "legendgroup": "metric_reference",
         "line": {
          "color": "#00c8e5",
          "shape": "hv",
          "width": 2
         },
         "mode": "lines",
         "name": "Metric",
         "showlegend": false,
         "type": "scatter",
         "x": [
          0,
          1,
          2,
          3,
          4,
          5,
          6,
          7,
          8,
          9
         ],
         "xaxis": "x4",
         "y": [
          0.9859154929577465,
          1,
          0.9753086419753086,
          0.9282296650717703,
          0.9135802469135802,
          0.9235668789808917,
          0.9396984924623115,
          0.9787234042553191,
          1,
          1
         ],
         "yaxis": "y4"
        },
        {
         "customdata": [
          [
           "Realized <b>Recall</b>",
           "<b style=\"color:#00c8e5;line-height:60px\">Reference</b>",
           "",
           "[0:1963]",
           "Chunk index: <b>0</b>",
           0.9859,
           0.0597
          ],
          [
           "Realized <b>Recall</b>",
           "<b style=\"color:#00c8e5;line-height:60px\">Reference</b>",
           "",
           "[1964:3927]",
           "Chunk index: <b>1</b>",
           1,
           0.0597
          ],
          [
           "Realized <b>Recall</b>",
           "<b style=\"color:#00c8e5;line-height:60px\">Reference</b>",
           "",
           "[3928:5891]",
           "Chunk index: <b>2</b>",
           0.9753,
           0.0597
          ],
          [
           "Realized <b>Recall</b>",
           "<b style=\"color:#00c8e5;line-height:60px\">Reference</b>",
           "",
           "[5892:7855]",
           "Chunk index: <b>3</b>",
           0.9282,
           0.0597
          ],
          [
           "Realized <b>Recall</b>",
           "<b style=\"color:#00c8e5;line-height:60px\">Reference</b>",
           "",
           "[7856:9819]",
           "Chunk index: <b>4</b>",
           0.9136,
           0.0597
          ],
          [
           "Realized <b>Recall</b>",
           "<b style=\"color:#00c8e5;line-height:60px\">Reference</b>",
           "",
           "[9820:11783]",
           "Chunk index: <b>5</b>",
           0.9236,
           0.0597
          ],
          [
           "Realized <b>Recall</b>",
           "<b style=\"color:#00c8e5;line-height:60px\">Reference</b>",
           "",
           "[11784:13747]",
           "Chunk index: <b>6</b>",
           0.9397,
           0.0597
          ],
          [
           "Realized <b>Recall</b>",
           "<b style=\"color:#00c8e5;line-height:60px\">Reference</b>",
           "",
           "[13748:15711]",
           "Chunk index: <b>7</b>",
           0.9787,
           0.0597
          ],
          [
           "Realized <b>Recall</b>",
           "<b style=\"color:#00c8e5;line-height:60px\">Reference</b>",
           "",
           "[15712:16090]",
           "Chunk index: <b>8</b>",
           1,
           0.136
          ]
         ],
         "hovertemplate": "%{customdata[1]} &nbsp; &nbsp; %{customdata[2]} <br />Chunk: <b>%{customdata[3]}</b> &nbsp; &nbsp; %{customdata[4]} <br />%{customdata[0]}: <b>%{customdata[5]}</b><br />Confidence band: +/- <b>%{customdata[6]}</b><br /><extra></extra>",
         "legendgroup": "metric_reference",
         "marker": {
          "color": "#00c8e5",
          "size": 5,
          "symbol": "circle"
         },
         "mode": "markers",
         "name": "Metric",
         "showlegend": false,
         "type": "scatter",
         "x": [
          0.5,
          1.5,
          2.5,
          3.5,
          4.5,
          5.5,
          6.5,
          7.5,
          8.5
         ],
         "xaxis": "x4",
         "y": [
          0.9859154929577465,
          1,
          0.9753086419753086,
          0.9282296650717703,
          0.9135802469135802,
          0.9235668789808917,
          0.9396984924623115,
          0.9787234042553191,
          1,
          1
         ],
         "yaxis": "y4"
        },
        {
         "hoverinfo": "skip",
         "legendgroup": "metric_analysis",
         "line": {
          "color": "#00c8e5",
          "shape": "hv",
          "width": 2
         },
         "mode": "lines",
         "name": "Metric",
         "showlegend": false,
         "type": "scatter",
         "x": [
          9,
          10,
          11,
          12,
          13
         ],
         "xaxis": "x4",
         "y": [
          0.9605911330049262,
          0.967741935483871,
          0.8405797101449275,
          0.918918918918919,
          0.918918918918919
         ],
         "yaxis": "y4"
        },
        {
         "customdata": [
          [
           "Realized <b>Recall</b>",
           "<b style=\"color:#3b0280;line-height:60px\">Analysis</b>",
           "",
           "[0:1963]",
           "Chunk index: <b>0</b>",
           0.9606,
           0.0597
          ],
          [
           "Realized <b>Recall</b>",
           "<b style=\"color:#3b0280;line-height:60px\">Analysis</b>",
           "",
           "[1964:3927]",
           "Chunk index: <b>1</b>",
           0.9677,
           0.0597
          ],
          [
           "Realized <b>Recall</b>",
           "<b style=\"color:#3b0280;line-height:60px\">Analysis</b>",
           "<span style=\"color:#AD0000\">⚠ <b>Drift detected</b></span>",
           "[3928:5891]",
           "Chunk index: <b>2</b>",
           0.8406,
           0.0597
          ],
          [
           "Realized <b>Recall</b>",
           "<b style=\"color:#3b0280;line-height:60px\">Analysis</b>",
           "",
           "[5892:7853]",
           "Chunk index: <b>3</b>",
           0.9189,
           0.0598
          ]
         ],
         "hovertemplate": "%{customdata[1]} &nbsp; &nbsp; %{customdata[2]} <br />Chunk: <b>%{customdata[3]}</b> &nbsp; &nbsp; %{customdata[4]} <br />%{customdata[0]}: <b>%{customdata[5]}</b><br />Confidence band: +/- <b>%{customdata[6]}</b><br /><extra></extra>",
         "legendgroup": "metric_analysis",
         "marker": {
          "color": "#00c8e5",
          "size": 5,
          "symbol": "circle"
         },
         "mode": "markers",
         "name": "Metric",
         "showlegend": false,
         "type": "scatter",
         "x": [
          9.5,
          10.5,
          11.5,
          12.5
         ],
         "xaxis": "x4",
         "y": [
          0.9605911330049262,
          0.967741935483871,
          0.8405797101449275,
          0.918918918918919,
          0.918918918918919
         ],
         "yaxis": "y4"
        },
        {
         "hoverinfo": "skip",
         "legendgroup": "alert",
         "marker": {
          "color": "#DD4040",
          "size": 8,
          "symbol": "diamond"
         },
         "mode": "markers",
         "name": "Alert",
         "showlegend": false,
         "type": "scatter",
         "x": [
          11.5
         ],
         "xaxis": "x4",
         "y": [
          0.8405797101449275
         ],
         "yaxis": "y4"
        },
        {
         "hoverinfo": "skip",
         "legendgroup": "thresh",
         "line": {
          "color": "#DD4040",
          "dash": "dash",
          "width": 2
         },
         "mode": "lines",
         "name": "Threshold",
         "showlegend": false,
         "type": "scatter",
         "x": [
          0,
          1,
          2,
          3,
          4,
          5,
          6,
          7,
          8,
          9
         ],
         "xaxis": "x4",
         "y": [
          1,
          1,
          1,
          1,
          1,
          1,
          1,
          1,
          1,
          1
         ],
         "yaxis": "y4"
        },
        {
         "hoverinfo": "skip",
         "legendgroup": "thresh",
         "line": {
          "color": "#DD4040",
          "dash": "dash",
          "width": 2
         },
         "mode": "lines",
         "name": "Threshold",
         "showlegend": false,
         "type": "scatter",
         "x": [
          0,
          1,
          2,
          3,
          4,
          5,
          6,
          7,
          8,
          9
         ],
         "xaxis": "x4",
         "y": [
          0.8638244305556404,
          0.8638244305556404,
          0.8638244305556404,
          0.8638244305556404,
          0.8638244305556404,
          0.8638244305556404,
          0.8638244305556404,
          0.8638244305556404,
          0.8638244305556404,
          0.8638244305556404
         ],
         "yaxis": "y4"
        },
        {
         "hoverinfo": "skip",
         "legendgroup": "thresh",
         "line": {
          "color": "#DD4040",
          "dash": "dash",
          "width": 2
         },
         "mode": "lines",
         "name": "Threshold",
         "showlegend": false,
         "type": "scatter",
         "x": [
          9,
          10,
          11,
          12,
          13
         ],
         "xaxis": "x4",
         "y": [
          1,
          1,
          1,
          1,
          1
         ],
         "yaxis": "y4"
        },
        {
         "hoverinfo": "skip",
         "legendgroup": "thresh",
         "line": {
          "color": "#DD4040",
          "dash": "dash",
          "width": 2
         },
         "mode": "lines",
         "name": "Threshold",
         "showlegend": false,
         "type": "scatter",
         "x": [
          9,
          10,
          11,
          12,
          13
         ],
         "xaxis": "x4",
         "y": [
          0.8638244305556404,
          0.8638244305556404,
          0.8638244305556404,
          0.8638244305556404,
          0.8638244305556404
         ],
         "yaxis": "y4"
        }
       ],
       "layout": {
        "annotations": [
         {
          "font": {
           "size": 16
          },
          "showarrow": false,
          "text": "Realized <b>ROC AUC</b>",
          "x": 0.5,
          "xanchor": "center",
          "xref": "paper",
          "y": 1,
          "yanchor": "bottom",
          "yref": "paper"
         },
         {
          "font": {
           "size": 16
          },
          "showarrow": false,
          "text": "Realized <b>Accuracy</b>",
          "x": 0.5,
          "xanchor": "center",
          "xref": "paper",
          "y": 0.71875,
          "yanchor": "bottom",
          "yref": "paper"
         },
         {
          "font": {
           "size": 16
          },
          "showarrow": false,
          "text": "Realized <b>F1</b>",
          "x": 0.5,
          "xanchor": "center",
          "xref": "paper",
          "y": 0.4375,
          "yanchor": "bottom",
          "yref": "paper"
         },
         {
          "font": {
           "size": 16
          },
          "showarrow": false,
          "text": "Realized <b>Recall</b>",
          "x": 0.5,
          "xanchor": "center",
          "xref": "paper",
          "y": 0.15625,
          "yanchor": "bottom",
          "yref": "paper"
         },
         {
          "showarrow": false,
          "text": "Reference",
          "x": 4,
          "xref": "x",
          "xshift": 10,
          "y": 1.01,
          "yref": "y domain"
         },
         {
          "showarrow": false,
          "text": "Analysis",
          "x": 10.5,
          "xref": "x",
          "xshift": 15,
          "y": 1.01,
          "yref": "y domain"
         },
         {
          "showarrow": false,
          "text": "Reference",
          "x": 4,
          "xref": "x2",
          "xshift": 10,
          "y": 1.01,
          "yref": "y2 domain"
         },
         {
          "showarrow": false,
          "text": "Analysis",
          "x": 10.5,
          "xref": "x2",
          "xshift": 15,
          "y": 1.01,
          "yref": "y2 domain"
         },
         {
          "showarrow": false,
          "text": "Reference",
          "x": 4,
          "xref": "x3",
          "xshift": 10,
          "y": 1.01,
          "yref": "y3 domain"
         },
         {
          "showarrow": false,
          "text": "Analysis",
          "x": 10.5,
          "xref": "x3",
          "xshift": 15,
          "y": 1.01,
          "yref": "y3 domain"
         },
         {
          "showarrow": false,
          "text": "Reference",
          "x": 4,
          "xref": "x4",
          "xshift": 10,
          "y": 1.01,
          "yref": "y4 domain"
         },
         {
          "showarrow": false,
          "text": "Analysis",
          "x": 10.5,
          "xref": "x4",
          "xshift": 15,
          "y": 1.01,
          "yref": "y4 domain"
         }
        ],
        "height": 2000,
        "hoverlabel": {
         "bgcolor": "white",
         "font": {
          "size": 14
         }
        },
        "legend": {
         "itemclick": false,
         "itemdoubleclick": false,
         "traceorder": "grouped"
        },
        "paper_bgcolor": "rgba(255,255,255,1)",
        "plot_bgcolor": "rgba(255,255,255,1)",
        "shapes": [
         {
          "layer": "below",
          "line": {
           "color": "#666666",
           "width": 1
          },
          "type": "line",
          "x0": 9,
          "x1": 9,
          "xref": "x",
          "y0": 0,
          "y1": 1,
          "yref": "y domain"
         },
         {
          "layer": "below",
          "line": {
           "color": "#666666",
           "width": 1
          },
          "type": "line",
          "x0": 9,
          "x1": 9,
          "xref": "x",
          "y0": 0,
          "y1": 1,
          "yref": "y domain"
         },
         {
          "layer": "below",
          "line": {
           "color": "#666666",
           "width": 1
          },
          "type": "line",
          "x0": 9,
          "x1": 9,
          "xref": "x2",
          "y0": 0,
          "y1": 1,
          "yref": "y2 domain"
         },
         {
          "layer": "below",
          "line": {
           "color": "#666666",
           "width": 1
          },
          "type": "line",
          "x0": 9,
          "x1": 9,
          "xref": "x",
          "y0": 0,
          "y1": 1,
          "yref": "y domain"
         },
         {
          "layer": "below",
          "line": {
           "color": "#666666",
           "width": 1
          },
          "type": "line",
          "x0": 9,
          "x1": 9,
          "xref": "x2",
          "y0": 0,
          "y1": 1,
          "yref": "y2 domain"
         },
         {
          "layer": "below",
          "line": {
           "color": "#666666",
           "width": 1
          },
          "type": "line",
          "x0": 9,
          "x1": 9,
          "xref": "x3",
          "y0": 0,
          "y1": 1,
          "yref": "y3 domain"
         },
         {
          "layer": "below",
          "line": {
           "color": "#666666",
           "width": 1
          },
          "type": "line",
          "x0": 9,
          "x1": 9,
          "xref": "x",
          "y0": 0,
          "y1": 1,
          "yref": "y domain"
         },
         {
          "layer": "below",
          "line": {
           "color": "#666666",
           "width": 1
          },
          "type": "line",
          "x0": 9,
          "x1": 9,
          "xref": "x2",
          "y0": 0,
          "y1": 1,
          "yref": "y2 domain"
         },
         {
          "layer": "below",
          "line": {
           "color": "#666666",
           "width": 1
          },
          "type": "line",
          "x0": 9,
          "x1": 9,
          "xref": "x3",
          "y0": 0,
          "y1": 1,
          "yref": "y3 domain"
         },
         {
          "layer": "below",
          "line": {
           "color": "#666666",
           "width": 1
          },
          "type": "line",
          "x0": 9,
          "x1": 9,
          "xref": "x4",
          "y0": 0,
          "y1": 1,
          "yref": "y4 domain"
         }
        ],
        "template": {
         "data": {
          "bar": [
           {
            "error_x": {
             "color": "#2a3f5f"
            },
            "error_y": {
             "color": "#2a3f5f"
            },
            "marker": {
             "line": {
              "color": "#E5ECF6",
              "width": 0.5
             },
             "pattern": {
              "fillmode": "overlay",
              "size": 10,
              "solidity": 0.2
             }
            },
            "type": "bar"
           }
          ],
          "barpolar": [
           {
            "marker": {
             "line": {
              "color": "#E5ECF6",
              "width": 0.5
             },
             "pattern": {
              "fillmode": "overlay",
              "size": 10,
              "solidity": 0.2
             }
            },
            "type": "barpolar"
           }
          ],
          "carpet": [
           {
            "aaxis": {
             "endlinecolor": "#2a3f5f",
             "gridcolor": "white",
             "linecolor": "white",
             "minorgridcolor": "white",
             "startlinecolor": "#2a3f5f"
            },
            "baxis": {
             "endlinecolor": "#2a3f5f",
             "gridcolor": "white",
             "linecolor": "white",
             "minorgridcolor": "white",
             "startlinecolor": "#2a3f5f"
            },
            "type": "carpet"
           }
          ],
          "choropleth": [
           {
            "colorbar": {
             "outlinewidth": 0,
             "ticks": ""
            },
            "type": "choropleth"
           }
          ],
          "contour": [
           {
            "colorbar": {
             "outlinewidth": 0,
             "ticks": ""
            },
            "colorscale": [
             [
              0,
              "#0d0887"
             ],
             [
              0.1111111111111111,
              "#46039f"
             ],
             [
              0.2222222222222222,
              "#7201a8"
             ],
             [
              0.3333333333333333,
              "#9c179e"
             ],
             [
              0.4444444444444444,
              "#bd3786"
             ],
             [
              0.5555555555555556,
              "#d8576b"
             ],
             [
              0.6666666666666666,
              "#ed7953"
             ],
             [
              0.7777777777777778,
              "#fb9f3a"
             ],
             [
              0.8888888888888888,
              "#fdca26"
             ],
             [
              1,
              "#f0f921"
             ]
            ],
            "type": "contour"
           }
          ],
          "contourcarpet": [
           {
            "colorbar": {
             "outlinewidth": 0,
             "ticks": ""
            },
            "type": "contourcarpet"
           }
          ],
          "heatmap": [
           {
            "colorbar": {
             "outlinewidth": 0,
             "ticks": ""
            },
            "colorscale": [
             [
              0,
              "#0d0887"
             ],
             [
              0.1111111111111111,
              "#46039f"
             ],
             [
              0.2222222222222222,
              "#7201a8"
             ],
             [
              0.3333333333333333,
              "#9c179e"
             ],
             [
              0.4444444444444444,
              "#bd3786"
             ],
             [
              0.5555555555555556,
              "#d8576b"
             ],
             [
              0.6666666666666666,
              "#ed7953"
             ],
             [
              0.7777777777777778,
              "#fb9f3a"
             ],
             [
              0.8888888888888888,
              "#fdca26"
             ],
             [
              1,
              "#f0f921"
             ]
            ],
            "type": "heatmap"
           }
          ],
          "heatmapgl": [
           {
            "colorbar": {
             "outlinewidth": 0,
             "ticks": ""
            },
            "colorscale": [
             [
              0,
              "#0d0887"
             ],
             [
              0.1111111111111111,
              "#46039f"
             ],
             [
              0.2222222222222222,
              "#7201a8"
             ],
             [
              0.3333333333333333,
              "#9c179e"
             ],
             [
              0.4444444444444444,
              "#bd3786"
             ],
             [
              0.5555555555555556,
              "#d8576b"
             ],
             [
              0.6666666666666666,
              "#ed7953"
             ],
             [
              0.7777777777777778,
              "#fb9f3a"
             ],
             [
              0.8888888888888888,
              "#fdca26"
             ],
             [
              1,
              "#f0f921"
             ]
            ],
            "type": "heatmapgl"
           }
          ],
          "histogram": [
           {
            "marker": {
             "pattern": {
              "fillmode": "overlay",
              "size": 10,
              "solidity": 0.2
             }
            },
            "type": "histogram"
           }
          ],
          "histogram2d": [
           {
            "colorbar": {
             "outlinewidth": 0,
             "ticks": ""
            },
            "colorscale": [
             [
              0,
              "#0d0887"
             ],
             [
              0.1111111111111111,
              "#46039f"
             ],
             [
              0.2222222222222222,
              "#7201a8"
             ],
             [
              0.3333333333333333,
              "#9c179e"
             ],
             [
              0.4444444444444444,
              "#bd3786"
             ],
             [
              0.5555555555555556,
              "#d8576b"
             ],
             [
              0.6666666666666666,
              "#ed7953"
             ],
             [
              0.7777777777777778,
              "#fb9f3a"
             ],
             [
              0.8888888888888888,
              "#fdca26"
             ],
             [
              1,
              "#f0f921"
             ]
            ],
            "type": "histogram2d"
           }
          ],
          "histogram2dcontour": [
           {
            "colorbar": {
             "outlinewidth": 0,
             "ticks": ""
            },
            "colorscale": [
             [
              0,
              "#0d0887"
             ],
             [
              0.1111111111111111,
              "#46039f"
             ],
             [
              0.2222222222222222,
              "#7201a8"
             ],
             [
              0.3333333333333333,
              "#9c179e"
             ],
             [
              0.4444444444444444,
              "#bd3786"
             ],
             [
              0.5555555555555556,
              "#d8576b"
             ],
             [
              0.6666666666666666,
              "#ed7953"
             ],
             [
              0.7777777777777778,
              "#fb9f3a"
             ],
             [
              0.8888888888888888,
              "#fdca26"
             ],
             [
              1,
              "#f0f921"
             ]
            ],
            "type": "histogram2dcontour"
           }
          ],
          "mesh3d": [
           {
            "colorbar": {
             "outlinewidth": 0,
             "ticks": ""
            },
            "type": "mesh3d"
           }
          ],
          "parcoords": [
           {
            "line": {
             "colorbar": {
              "outlinewidth": 0,
              "ticks": ""
             }
            },
            "type": "parcoords"
           }
          ],
          "pie": [
           {
            "automargin": true,
            "type": "pie"
           }
          ],
          "scatter": [
           {
            "fillpattern": {
             "fillmode": "overlay",
             "size": 10,
             "solidity": 0.2
            },
            "type": "scatter"
           }
          ],
          "scatter3d": [
           {
            "line": {
             "colorbar": {
              "outlinewidth": 0,
              "ticks": ""
             }
            },
            "marker": {
             "colorbar": {
              "outlinewidth": 0,
              "ticks": ""
             }
            },
            "type": "scatter3d"
           }
          ],
          "scattercarpet": [
           {
            "marker": {
             "colorbar": {
              "outlinewidth": 0,
              "ticks": ""
             }
            },
            "type": "scattercarpet"
           }
          ],
          "scattergeo": [
           {
            "marker": {
             "colorbar": {
              "outlinewidth": 0,
              "ticks": ""
             }
            },
            "type": "scattergeo"
           }
          ],
          "scattergl": [
           {
            "marker": {
             "colorbar": {
              "outlinewidth": 0,
              "ticks": ""
             }
            },
            "type": "scattergl"
           }
          ],
          "scattermapbox": [
           {
            "marker": {
             "colorbar": {
              "outlinewidth": 0,
              "ticks": ""
             }
            },
            "type": "scattermapbox"
           }
          ],
          "scatterpolar": [
           {
            "marker": {
             "colorbar": {
              "outlinewidth": 0,
              "ticks": ""
             }
            },
            "type": "scatterpolar"
           }
          ],
          "scatterpolargl": [
           {
            "marker": {
             "colorbar": {
              "outlinewidth": 0,
              "ticks": ""
             }
            },
            "type": "scatterpolargl"
           }
          ],
          "scatterternary": [
           {
            "marker": {
             "colorbar": {
              "outlinewidth": 0,
              "ticks": ""
             }
            },
            "type": "scatterternary"
           }
          ],
          "surface": [
           {
            "colorbar": {
             "outlinewidth": 0,
             "ticks": ""
            },
            "colorscale": [
             [
              0,
              "#0d0887"
             ],
             [
              0.1111111111111111,
              "#46039f"
             ],
             [
              0.2222222222222222,
              "#7201a8"
             ],
             [
              0.3333333333333333,
              "#9c179e"
             ],
             [
              0.4444444444444444,
              "#bd3786"
             ],
             [
              0.5555555555555556,
              "#d8576b"
             ],
             [
              0.6666666666666666,
              "#ed7953"
             ],
             [
              0.7777777777777778,
              "#fb9f3a"
             ],
             [
              0.8888888888888888,
              "#fdca26"
             ],
             [
              1,
              "#f0f921"
             ]
            ],
            "type": "surface"
           }
          ],
          "table": [
           {
            "cells": {
             "fill": {
              "color": "#EBF0F8"
             },
             "line": {
              "color": "white"
             }
            },
            "header": {
             "fill": {
              "color": "#C8D4E3"
             },
             "line": {
              "color": "white"
             }
            },
            "type": "table"
           }
          ]
         },
         "layout": {
          "annotationdefaults": {
           "arrowcolor": "#2a3f5f",
           "arrowhead": 0,
           "arrowwidth": 1
          },
          "autotypenumbers": "strict",
          "coloraxis": {
           "colorbar": {
            "outlinewidth": 0,
            "ticks": ""
           }
          },
          "colorscale": {
           "diverging": [
            [
             0,
             "#8e0152"
            ],
            [
             0.1,
             "#c51b7d"
            ],
            [
             0.2,
             "#de77ae"
            ],
            [
             0.3,
             "#f1b6da"
            ],
            [
             0.4,
             "#fde0ef"
            ],
            [
             0.5,
             "#f7f7f7"
            ],
            [
             0.6,
             "#e6f5d0"
            ],
            [
             0.7,
             "#b8e186"
            ],
            [
             0.8,
             "#7fbc41"
            ],
            [
             0.9,
             "#4d9221"
            ],
            [
             1,
             "#276419"
            ]
           ],
           "sequential": [
            [
             0,
             "#0d0887"
            ],
            [
             0.1111111111111111,
             "#46039f"
            ],
            [
             0.2222222222222222,
             "#7201a8"
            ],
            [
             0.3333333333333333,
             "#9c179e"
            ],
            [
             0.4444444444444444,
             "#bd3786"
            ],
            [
             0.5555555555555556,
             "#d8576b"
            ],
            [
             0.6666666666666666,
             "#ed7953"
            ],
            [
             0.7777777777777778,
             "#fb9f3a"
            ],
            [
             0.8888888888888888,
             "#fdca26"
            ],
            [
             1,
             "#f0f921"
            ]
           ],
           "sequentialminus": [
            [
             0,
             "#0d0887"
            ],
            [
             0.1111111111111111,
             "#46039f"
            ],
            [
             0.2222222222222222,
             "#7201a8"
            ],
            [
             0.3333333333333333,
             "#9c179e"
            ],
            [
             0.4444444444444444,
             "#bd3786"
            ],
            [
             0.5555555555555556,
             "#d8576b"
            ],
            [
             0.6666666666666666,
             "#ed7953"
            ],
            [
             0.7777777777777778,
             "#fb9f3a"
            ],
            [
             0.8888888888888888,
             "#fdca26"
            ],
            [
             1,
             "#f0f921"
            ]
           ]
          },
          "colorway": [
           "#636efa",
           "#EF553B",
           "#00cc96",
           "#ab63fa",
           "#FFA15A",
           "#19d3f3",
           "#FF6692",
           "#B6E880",
           "#FF97FF",
           "#FECB52"
          ],
          "font": {
           "color": "#2a3f5f"
          },
          "geo": {
           "bgcolor": "white",
           "lakecolor": "white",
           "landcolor": "#E5ECF6",
           "showlakes": true,
           "showland": true,
           "subunitcolor": "white"
          },
          "hoverlabel": {
           "align": "left"
          },
          "hovermode": "closest",
          "mapbox": {
           "style": "light"
          },
          "paper_bgcolor": "white",
          "plot_bgcolor": "#E5ECF6",
          "polar": {
           "angularaxis": {
            "gridcolor": "white",
            "linecolor": "white",
            "ticks": ""
           },
           "bgcolor": "#E5ECF6",
           "radialaxis": {
            "gridcolor": "white",
            "linecolor": "white",
            "ticks": ""
           }
          },
          "scene": {
           "xaxis": {
            "backgroundcolor": "#E5ECF6",
            "gridcolor": "white",
            "gridwidth": 2,
            "linecolor": "white",
            "showbackground": true,
            "ticks": "",
            "zerolinecolor": "white"
           },
           "yaxis": {
            "backgroundcolor": "#E5ECF6",
            "gridcolor": "white",
            "gridwidth": 2,
            "linecolor": "white",
            "showbackground": true,
            "ticks": "",
            "zerolinecolor": "white"
           },
           "zaxis": {
            "backgroundcolor": "#E5ECF6",
            "gridcolor": "white",
            "gridwidth": 2,
            "linecolor": "white",
            "showbackground": true,
            "ticks": "",
            "zerolinecolor": "white"
           }
          },
          "shapedefaults": {
           "line": {
            "color": "#2a3f5f"
           }
          },
          "ternary": {
           "aaxis": {
            "gridcolor": "white",
            "linecolor": "white",
            "ticks": ""
           },
           "baxis": {
            "gridcolor": "white",
            "linecolor": "white",
            "ticks": ""
           },
           "bgcolor": "#E5ECF6",
           "caxis": {
            "gridcolor": "white",
            "linecolor": "white",
            "ticks": ""
           }
          },
          "title": {
           "x": 0.05
          },
          "xaxis": {
           "automargin": true,
           "gridcolor": "white",
           "linecolor": "white",
           "ticks": "",
           "title": {
            "standoff": 15
           },
           "zerolinecolor": "white",
           "zerolinewidth": 2
          },
          "yaxis": {
           "automargin": true,
           "gridcolor": "white",
           "linecolor": "white",
           "ticks": "",
           "title": {
            "standoff": 15
           },
           "zerolinecolor": "white",
           "zerolinewidth": 2
          }
         }
        },
        "title": {
         "text": "Realized performance"
        },
        "xaxis": {
         "anchor": "y",
         "domain": [
          0,
          1
         ],
         "linecolor": "#3b0280",
         "matches": "x",
         "mirror": true,
         "showgrid": false,
         "title": {
          "text": "Chunk"
         },
         "zeroline": false
        },
        "xaxis2": {
         "anchor": "y2",
         "domain": [
          0,
          1
         ],
         "linecolor": "#3b0280",
         "matches": "x",
         "mirror": true,
         "showgrid": false,
         "title": {
          "text": "Chunk"
         },
         "zeroline": false
        },
        "xaxis3": {
         "anchor": "y3",
         "domain": [
          0,
          1
         ],
         "linecolor": "#3b0280",
         "matches": "x",
         "mirror": true,
         "showgrid": false,
         "title": {
          "text": "Chunk"
         },
         "zeroline": false
        },
        "xaxis4": {
         "anchor": "y4",
         "domain": [
          0,
          1
         ],
         "linecolor": "#3b0280",
         "matches": "x",
         "mirror": true,
         "showgrid": false,
         "title": {
          "text": "Chunk"
         },
         "zeroline": false
        },
        "yaxis": {
         "anchor": "x",
         "domain": [
          0.84375,
          1
         ],
         "linecolor": "#3b0280",
         "mirror": true,
         "showgrid": false,
         "title": {
          "text": "ROC AUC"
         },
         "zeroline": false
        },
        "yaxis2": {
         "anchor": "x2",
         "domain": [
          0.5625,
          0.71875
         ],
         "linecolor": "#3b0280",
         "mirror": true,
         "showgrid": false,
         "title": {
          "text": "Accuracy"
         },
         "zeroline": false
        },
        "yaxis3": {
         "anchor": "x3",
         "domain": [
          0.28125,
          0.4375
         ],
         "linecolor": "#3b0280",
         "mirror": true,
         "showgrid": false,
         "title": {
          "text": "F1"
         },
         "zeroline": false
        },
        "yaxis4": {
         "anchor": "x4",
         "domain": [
          0,
          0.15625
         ],
         "linecolor": "#3b0280",
         "mirror": true,
         "showgrid": false,
         "title": {
          "text": "Recall"
         },
         "zeroline": false
        }
       }
      }
     },
     "metadata": {},
     "output_type": "display_data"
    }
   ],
   "source": [
    "performance_calc = nml.PerformanceCalculator(\n",
    "    y_pred_proba=y_pred_proba,\n",
    "    y_pred=y_pred,\n",
    "    y_true=target,\n",
    "    metrics=['roc_auc', 'accuracy', 'f1', 'recall'],\n",
    "    chunk_size=1964,\n",
    "    problem_type='classification_binary',\n",
    ").fit(df_train)\n",
    "\n",
    "realized_results = performance_calc.calculate(df_prod)\n",
    "\n",
    "realized_results.plot()"
   ]
  },
  {
   "cell_type": "markdown",
   "metadata": {},
   "source": [
    "## fit on test data"
   ]
  },
  {
   "cell_type": "code",
   "execution_count": 6,
   "metadata": {},
   "outputs": [
    {
     "name": "stderr",
     "output_type": "stream",
     "text": [
      "/Users/santiago/miniconda3/envs/nannymlPremium/lib/python3.10/site-packages/nannyml/chunk.py:181: UserWarning:\n",
      "\n",
      "The resulting number of chunks is too low. Please consider splitting your data in a different way or continue at your own risk.\n",
      "\n",
      "/Users/santiago/miniconda3/envs/nannymlPremium/lib/python3.10/site-packages/nannyml/chunk.py:181: UserWarning:\n",
      "\n",
      "The resulting number of chunks is too low. Please consider splitting your data in a different way or continue at your own risk.\n",
      "\n",
      "/Users/santiago/miniconda3/envs/nannymlPremium/lib/python3.10/site-packages/nannyml/chunk.py:181: UserWarning:\n",
      "\n",
      "The resulting number of chunks is too low. Please consider splitting your data in a different way or continue at your own risk.\n",
      "\n",
      "/Users/santiago/miniconda3/envs/nannymlPremium/lib/python3.10/site-packages/nannyml/chunk.py:181: UserWarning:\n",
      "\n",
      "The resulting number of chunks is too low. Please consider splitting your data in a different way or continue at your own risk.\n",
      "\n",
      "/Users/santiago/miniconda3/envs/nannymlPremium/lib/python3.10/site-packages/nannyml/chunk.py:181: UserWarning:\n",
      "\n",
      "The resulting number of chunks is too low. Please consider splitting your data in a different way or continue at your own risk.\n",
      "\n",
      "/Users/santiago/miniconda3/envs/nannymlPremium/lib/python3.10/site-packages/nannyml/chunk.py:181: UserWarning:\n",
      "\n",
      "The resulting number of chunks is too low. Please consider splitting your data in a different way or continue at your own risk.\n",
      "\n"
     ]
    },
    {
     "data": {
      "application/vnd.plotly.v1+json": {
       "config": {
        "plotlyServerURL": "https://plot.ly"
       },
       "data": [
        {
         "hoverinfo": "skip",
         "legendgroup": "metric_reference",
         "line": {
          "color": "#00c8e5",
          "shape": "hv",
          "width": 2
         },
         "mode": "lines",
         "name": "Metric",
         "showlegend": true,
         "type": "scatter",
         "x": [
          0,
          1,
          2,
          3,
          4
         ],
         "xaxis": "x",
         "y": [
          0.9117498880429915,
          0.952747545058487,
          0.9882585087326466,
          0.9647870810626029,
          0.9647870810626029
         ],
         "yaxis": "y"
        },
        {
         "customdata": [
          [
           "Realized <b>ROC AUC</b>",
           "<b style=\"color:#00c8e5;line-height:60px\">Reference</b>",
           "",
           "[0:1963]",
           "Chunk index: <b>0</b>",
           0.9117,
           0.0357
          ],
          [
           "Realized <b>ROC AUC</b>",
           "<b style=\"color:#00c8e5;line-height:60px\">Reference</b>",
           "",
           "[1964:3927]",
           "Chunk index: <b>1</b>",
           0.9527,
           0.0357
          ],
          [
           "Realized <b>ROC AUC</b>",
           "<b style=\"color:#00c8e5;line-height:60px\">Reference</b>",
           "",
           "[3928:5891]",
           "Chunk index: <b>2</b>",
           0.9883,
           0.0357
          ],
          [
           "Realized <b>ROC AUC</b>",
           "<b style=\"color:#00c8e5;line-height:60px\">Reference</b>",
           "",
           "[5892:7853]",
           "Chunk index: <b>3</b>",
           0.9648,
           0.0357
          ]
         ],
         "hovertemplate": "%{customdata[1]} &nbsp; &nbsp; %{customdata[2]} <br />Chunk: <b>%{customdata[3]}</b> &nbsp; &nbsp; %{customdata[4]} <br />%{customdata[0]}: <b>%{customdata[5]}</b><br />Confidence band: +/- <b>%{customdata[6]}</b><br /><extra></extra>",
         "legendgroup": "metric_reference",
         "marker": {
          "color": "#00c8e5",
          "size": 5,
          "symbol": "circle"
         },
         "mode": "markers",
         "name": "Metric",
         "showlegend": false,
         "type": "scatter",
         "x": [
          0.5,
          1.5,
          2.5,
          3.5
         ],
         "xaxis": "x",
         "y": [
          0.9117498880429915,
          0.952747545058487,
          0.9882585087326466,
          0.9647870810626029,
          0.9647870810626029
         ],
         "yaxis": "y"
        },
        {
         "hoverinfo": "skip",
         "legendgroup": "metric_analysis",
         "line": {
          "color": "#00c8e5",
          "shape": "hv",
          "width": 2
         },
         "mode": "lines",
         "name": "Metric",
         "showlegend": false,
         "type": "scatter",
         "x": [
          4,
          5,
          6,
          7,
          8
         ],
         "xaxis": "x",
         "y": [
          0.990782778481774,
          0.9842151250913889,
          0.9637804888108022,
          0.9718876088406072,
          0.9718876088406072
         ],
         "yaxis": "y"
        },
        {
         "customdata": [
          [
           "Realized <b>ROC AUC</b>",
           "<b style=\"color:#3b0280;line-height:60px\">Analysis</b>",
           "",
           "[0:1963]",
           "Chunk index: <b>0</b>",
           0.9908,
           0.0357
          ],
          [
           "Realized <b>ROC AUC</b>",
           "<b style=\"color:#3b0280;line-height:60px\">Analysis</b>",
           "",
           "[1964:3927]",
           "Chunk index: <b>1</b>",
           0.9842,
           0.0357
          ],
          [
           "Realized <b>ROC AUC</b>",
           "<b style=\"color:#3b0280;line-height:60px\">Analysis</b>",
           "",
           "[3928:5891]",
           "Chunk index: <b>2</b>",
           0.9638,
           0.0357
          ],
          [
           "Realized <b>ROC AUC</b>",
           "<b style=\"color:#3b0280;line-height:60px\">Analysis</b>",
           "",
           "[5892:7853]",
           "Chunk index: <b>3</b>",
           0.9719,
           0.0357
          ]
         ],
         "hovertemplate": "%{customdata[1]} &nbsp; &nbsp; %{customdata[2]} <br />Chunk: <b>%{customdata[3]}</b> &nbsp; &nbsp; %{customdata[4]} <br />%{customdata[0]}: <b>%{customdata[5]}</b><br />Confidence band: +/- <b>%{customdata[6]}</b><br /><extra></extra>",
         "legendgroup": "metric_analysis",
         "marker": {
          "color": "#00c8e5",
          "size": 5,
          "symbol": "circle"
         },
         "mode": "markers",
         "name": "Metric",
         "showlegend": false,
         "type": "scatter",
         "x": [
          4.5,
          5.5,
          6.5,
          7.5
         ],
         "xaxis": "x",
         "y": [
          0.990782778481774,
          0.9842151250913889,
          0.9637804888108022,
          0.9718876088406072,
          0.9718876088406072
         ],
         "yaxis": "y"
        },
        {
         "hoverinfo": "skip",
         "legendgroup": "alert",
         "marker": {
          "color": "#DD4040",
          "size": 8,
          "symbol": "diamond"
         },
         "mode": "markers",
         "name": "Alert",
         "showlegend": true,
         "type": "scatter",
         "x": [],
         "xaxis": "x",
         "y": [],
         "yaxis": "y"
        },
        {
         "hoverinfo": "skip",
         "legendgroup": "thresh",
         "line": {
          "color": "#DD4040",
          "dash": "dash",
          "width": 2
         },
         "mode": "lines",
         "name": "Threshold",
         "showlegend": true,
         "type": "scatter",
         "x": [
          0,
          1,
          2,
          3,
          4
         ],
         "xaxis": "x",
         "y": [
          1,
          1,
          1,
          1,
          1
         ],
         "yaxis": "y"
        },
        {
         "hoverinfo": "skip",
         "legendgroup": "thresh",
         "line": {
          "color": "#DD4040",
          "dash": "dash",
          "width": 2
         },
         "mode": "lines",
         "name": "Threshold",
         "showlegend": false,
         "type": "scatter",
         "x": [
          0,
          1,
          2,
          3,
          4
         ],
         "xaxis": "x",
         "y": [
          0.871192505982193,
          0.871192505982193,
          0.871192505982193,
          0.871192505982193,
          0.871192505982193
         ],
         "yaxis": "y"
        },
        {
         "hoverinfo": "skip",
         "legendgroup": "thresh",
         "line": {
          "color": "#DD4040",
          "dash": "dash",
          "width": 2
         },
         "mode": "lines",
         "name": "Threshold",
         "showlegend": false,
         "type": "scatter",
         "x": [
          4,
          5,
          6,
          7,
          8
         ],
         "xaxis": "x",
         "y": [
          1,
          1,
          1,
          1,
          1
         ],
         "yaxis": "y"
        },
        {
         "hoverinfo": "skip",
         "legendgroup": "thresh",
         "line": {
          "color": "#DD4040",
          "dash": "dash",
          "width": 2
         },
         "mode": "lines",
         "name": "Threshold",
         "showlegend": false,
         "type": "scatter",
         "x": [
          4,
          5,
          6,
          7,
          8
         ],
         "xaxis": "x",
         "y": [
          0.871192505982193,
          0.871192505982193,
          0.871192505982193,
          0.871192505982193,
          0.871192505982193
         ],
         "yaxis": "y"
        },
        {
         "hoverinfo": "skip",
         "legendgroup": "metric_reference",
         "line": {
          "color": "#00c8e5",
          "shape": "hv",
          "width": 2
         },
         "mode": "lines",
         "name": "Metric",
         "showlegend": false,
         "type": "scatter",
         "x": [
          0,
          1,
          2,
          3,
          4
         ],
         "xaxis": "x2",
         "y": [
          0.9557026476578412,
          0.9663951120162932,
          0.9918533604887984,
          0.9750254841997962,
          0.9750254841997962
         ],
         "yaxis": "y2"
        },
        {
         "customdata": [
          [
           "Realized <b>Accuracy</b>",
           "<b style=\"color:#00c8e5;line-height:60px\">Reference</b>",
           "",
           "[0:1963]",
           "Chunk index: <b>0</b>",
           0.9557,
           0.0111
          ],
          [
           "Realized <b>Accuracy</b>",
           "<b style=\"color:#00c8e5;line-height:60px\">Reference</b>",
           "",
           "[1964:3927]",
           "Chunk index: <b>1</b>",
           0.9664,
           0.0111
          ],
          [
           "Realized <b>Accuracy</b>",
           "<b style=\"color:#00c8e5;line-height:60px\">Reference</b>",
           "",
           "[3928:5891]",
           "Chunk index: <b>2</b>",
           0.9919,
           0.0111
          ],
          [
           "Realized <b>Accuracy</b>",
           "<b style=\"color:#00c8e5;line-height:60px\">Reference</b>",
           "",
           "[5892:7853]",
           "Chunk index: <b>3</b>",
           0.975,
           0.0111
          ]
         ],
         "hovertemplate": "%{customdata[1]} &nbsp; &nbsp; %{customdata[2]} <br />Chunk: <b>%{customdata[3]}</b> &nbsp; &nbsp; %{customdata[4]} <br />%{customdata[0]}: <b>%{customdata[5]}</b><br />Confidence band: +/- <b>%{customdata[6]}</b><br /><extra></extra>",
         "legendgroup": "metric_reference",
         "marker": {
          "color": "#00c8e5",
          "size": 5,
          "symbol": "circle"
         },
         "mode": "markers",
         "name": "Metric",
         "showlegend": false,
         "type": "scatter",
         "x": [
          0.5,
          1.5,
          2.5,
          3.5
         ],
         "xaxis": "x2",
         "y": [
          0.9557026476578412,
          0.9663951120162932,
          0.9918533604887984,
          0.9750254841997962,
          0.9750254841997962
         ],
         "yaxis": "y2"
        },
        {
         "hoverinfo": "skip",
         "legendgroup": "metric_analysis",
         "line": {
          "color": "#00c8e5",
          "shape": "hv",
          "width": 2
         },
         "mode": "lines",
         "name": "Metric",
         "showlegend": false,
         "type": "scatter",
         "x": [
          4,
          5,
          6,
          7,
          8
         ],
         "xaxis": "x2",
         "y": [
          0.9837067209775967,
          0.9760692464358453,
          0.9633401221995926,
          0.990316004077472,
          0.990316004077472
         ],
         "yaxis": "y2"
        },
        {
         "customdata": [
          [
           "Realized <b>Accuracy</b>",
           "<b style=\"color:#3b0280;line-height:60px\">Analysis</b>",
           "",
           "[0:1963]",
           "Chunk index: <b>0</b>",
           0.9837,
           0.0111
          ],
          [
           "Realized <b>Accuracy</b>",
           "<b style=\"color:#3b0280;line-height:60px\">Analysis</b>",
           "",
           "[1964:3927]",
           "Chunk index: <b>1</b>",
           0.9761,
           0.0111
          ],
          [
           "Realized <b>Accuracy</b>",
           "<b style=\"color:#3b0280;line-height:60px\">Analysis</b>",
           "",
           "[3928:5891]",
           "Chunk index: <b>2</b>",
           0.9633,
           0.0111
          ],
          [
           "Realized <b>Accuracy</b>",
           "<b style=\"color:#3b0280;line-height:60px\">Analysis</b>",
           "",
           "[5892:7853]",
           "Chunk index: <b>3</b>",
           0.9903,
           0.0111
          ]
         ],
         "hovertemplate": "%{customdata[1]} &nbsp; &nbsp; %{customdata[2]} <br />Chunk: <b>%{customdata[3]}</b> &nbsp; &nbsp; %{customdata[4]} <br />%{customdata[0]}: <b>%{customdata[5]}</b><br />Confidence band: +/- <b>%{customdata[6]}</b><br /><extra></extra>",
         "legendgroup": "metric_analysis",
         "marker": {
          "color": "#00c8e5",
          "size": 5,
          "symbol": "circle"
         },
         "mode": "markers",
         "name": "Metric",
         "showlegend": false,
         "type": "scatter",
         "x": [
          4.5,
          5.5,
          6.5,
          7.5
         ],
         "xaxis": "x2",
         "y": [
          0.9837067209775967,
          0.9760692464358453,
          0.9633401221995926,
          0.990316004077472,
          0.990316004077472
         ],
         "yaxis": "y2"
        },
        {
         "hoverinfo": "skip",
         "legendgroup": "alert",
         "marker": {
          "color": "#DD4040",
          "size": 8,
          "symbol": "diamond"
         },
         "mode": "markers",
         "name": "Alert",
         "showlegend": false,
         "type": "scatter",
         "x": [],
         "xaxis": "x2",
         "y": [],
         "yaxis": "y2"
        },
        {
         "hoverinfo": "skip",
         "legendgroup": "thresh",
         "line": {
          "color": "#DD4040",
          "dash": "dash",
          "width": 2
         },
         "mode": "lines",
         "name": "Threshold",
         "showlegend": false,
         "type": "scatter",
         "x": [
          0,
          1,
          2,
          3,
          4
         ],
         "xaxis": "x2",
         "y": [
          1,
          1,
          1,
          1,
          1
         ],
         "yaxis": "y2"
        },
        {
         "hoverinfo": "skip",
         "legendgroup": "thresh",
         "line": {
          "color": "#DD4040",
          "dash": "dash",
          "width": 2
         },
         "mode": "lines",
         "name": "Threshold",
         "showlegend": false,
         "type": "scatter",
         "x": [
          0,
          1,
          2,
          3,
          4
         ],
         "xaxis": "x2",
         "y": [
          0.932555344391063,
          0.932555344391063,
          0.932555344391063,
          0.932555344391063,
          0.932555344391063
         ],
         "yaxis": "y2"
        },
        {
         "hoverinfo": "skip",
         "legendgroup": "thresh",
         "line": {
          "color": "#DD4040",
          "dash": "dash",
          "width": 2
         },
         "mode": "lines",
         "name": "Threshold",
         "showlegend": false,
         "type": "scatter",
         "x": [
          4,
          5,
          6,
          7,
          8
         ],
         "xaxis": "x2",
         "y": [
          1,
          1,
          1,
          1,
          1
         ],
         "yaxis": "y2"
        },
        {
         "hoverinfo": "skip",
         "legendgroup": "thresh",
         "line": {
          "color": "#DD4040",
          "dash": "dash",
          "width": 2
         },
         "mode": "lines",
         "name": "Threshold",
         "showlegend": false,
         "type": "scatter",
         "x": [
          4,
          5,
          6,
          7,
          8
         ],
         "xaxis": "x2",
         "y": [
          0.932555344391063,
          0.932555344391063,
          0.932555344391063,
          0.932555344391063,
          0.932555344391063
         ],
         "yaxis": "y2"
        },
        {
         "hoverinfo": "skip",
         "legendgroup": "metric_reference",
         "line": {
          "color": "#00c8e5",
          "shape": "hv",
          "width": 2
         },
         "mode": "lines",
         "name": "Metric",
         "showlegend": false,
         "type": "scatter",
         "x": [
          0,
          1,
          2,
          3,
          4
         ],
         "xaxis": "x3",
         "y": [
          0.6925795053003534,
          0.8759398496240601,
          0.9310344827586207,
          0.8784119106699751,
          0.8784119106699751
         ],
         "yaxis": "y3"
        },
        {
         "customdata": [
          [
           "Realized <b>F1</b>",
           "<b style=\"color:#00c8e5;line-height:60px\">Reference</b>",
           "",
           "[0:1963]",
           "Chunk index: <b>0</b>",
           0.6926,
           0.105
          ],
          [
           "Realized <b>F1</b>",
           "<b style=\"color:#00c8e5;line-height:60px\">Reference</b>",
           "",
           "[1964:3927]",
           "Chunk index: <b>1</b>",
           0.8759,
           0.105
          ],
          [
           "Realized <b>F1</b>",
           "<b style=\"color:#00c8e5;line-height:60px\">Reference</b>",
           "",
           "[3928:5891]",
           "Chunk index: <b>2</b>",
           0.931,
           0.105
          ],
          [
           "Realized <b>F1</b>",
           "<b style=\"color:#00c8e5;line-height:60px\">Reference</b>",
           "",
           "[5892:7853]",
           "Chunk index: <b>3</b>",
           0.8784,
           0.1051
          ]
         ],
         "hovertemplate": "%{customdata[1]} &nbsp; &nbsp; %{customdata[2]} <br />Chunk: <b>%{customdata[3]}</b> &nbsp; &nbsp; %{customdata[4]} <br />%{customdata[0]}: <b>%{customdata[5]}</b><br />Confidence band: +/- <b>%{customdata[6]}</b><br /><extra></extra>",
         "legendgroup": "metric_reference",
         "marker": {
          "color": "#00c8e5",
          "size": 5,
          "symbol": "circle"
         },
         "mode": "markers",
         "name": "Metric",
         "showlegend": false,
         "type": "scatter",
         "x": [
          0.5,
          1.5,
          2.5,
          3.5
         ],
         "xaxis": "x3",
         "y": [
          0.6925795053003534,
          0.8759398496240601,
          0.9310344827586207,
          0.8784119106699751,
          0.8784119106699751
         ],
         "yaxis": "y3"
        },
        {
         "hoverinfo": "skip",
         "legendgroup": "metric_analysis",
         "line": {
          "color": "#00c8e5",
          "shape": "hv",
          "width": 2
         },
         "mode": "lines",
         "name": "Metric",
         "showlegend": false,
         "type": "scatter",
         "x": [
          4,
          5,
          6,
          7,
          8
         ],
         "xaxis": "x3",
         "y": [
          0.9241706161137441,
          0.8645533141210374,
          0.8285714285714286,
          0.9147982062780269,
          0.9147982062780269
         ],
         "yaxis": "y3"
        },
        {
         "customdata": [
          [
           "Realized <b>F1</b>",
           "<b style=\"color:#3b0280;line-height:60px\">Analysis</b>",
           "",
           "[0:1963]",
           "Chunk index: <b>0</b>",
           0.9242,
           0.105
          ],
          [
           "Realized <b>F1</b>",
           "<b style=\"color:#3b0280;line-height:60px\">Analysis</b>",
           "",
           "[1964:3927]",
           "Chunk index: <b>1</b>",
           0.8646,
           0.105
          ],
          [
           "Realized <b>F1</b>",
           "<b style=\"color:#3b0280;line-height:60px\">Analysis</b>",
           "",
           "[3928:5891]",
           "Chunk index: <b>2</b>",
           0.8286,
           0.105
          ],
          [
           "Realized <b>F1</b>",
           "<b style=\"color:#3b0280;line-height:60px\">Analysis</b>",
           "",
           "[5892:7853]",
           "Chunk index: <b>3</b>",
           0.9148,
           0.1051
          ]
         ],
         "hovertemplate": "%{customdata[1]} &nbsp; &nbsp; %{customdata[2]} <br />Chunk: <b>%{customdata[3]}</b> &nbsp; &nbsp; %{customdata[4]} <br />%{customdata[0]}: <b>%{customdata[5]}</b><br />Confidence band: +/- <b>%{customdata[6]}</b><br /><extra></extra>",
         "legendgroup": "metric_analysis",
         "marker": {
          "color": "#00c8e5",
          "size": 5,
          "symbol": "circle"
         },
         "mode": "markers",
         "name": "Metric",
         "showlegend": false,
         "type": "scatter",
         "x": [
          4.5,
          5.5,
          6.5,
          7.5
         ],
         "xaxis": "x3",
         "y": [
          0.9241706161137441,
          0.8645533141210374,
          0.8285714285714286,
          0.9147982062780269,
          0.9147982062780269
         ],
         "yaxis": "y3"
        },
        {
         "hoverinfo": "skip",
         "legendgroup": "alert",
         "marker": {
          "color": "#DD4040",
          "size": 8,
          "symbol": "diamond"
         },
         "mode": "markers",
         "name": "Alert",
         "showlegend": false,
         "type": "scatter",
         "x": [],
         "xaxis": "x3",
         "y": [],
         "yaxis": "y3"
        },
        {
         "hoverinfo": "skip",
         "legendgroup": "thresh",
         "line": {
          "color": "#DD4040",
          "dash": "dash",
          "width": 2
         },
         "mode": "lines",
         "name": "Threshold",
         "showlegend": false,
         "type": "scatter",
         "x": [
          0,
          1,
          2,
          3,
          4
         ],
         "xaxis": "x3",
         "y": [
          1,
          1,
          1,
          1,
          1
         ],
         "yaxis": "y3"
        },
        {
         "hoverinfo": "skip",
         "legendgroup": "thresh",
         "line": {
          "color": "#DD4040",
          "dash": "dash",
          "width": 2
         },
         "mode": "lines",
         "name": "Threshold",
         "showlegend": false,
         "type": "scatter",
         "x": [
          0,
          1,
          2,
          3,
          4
         ],
         "xaxis": "x3",
         "y": [
          0.5732172148646006,
          0.5732172148646006,
          0.5732172148646006,
          0.5732172148646006,
          0.5732172148646006
         ],
         "yaxis": "y3"
        },
        {
         "hoverinfo": "skip",
         "legendgroup": "thresh",
         "line": {
          "color": "#DD4040",
          "dash": "dash",
          "width": 2
         },
         "mode": "lines",
         "name": "Threshold",
         "showlegend": false,
         "type": "scatter",
         "x": [
          4,
          5,
          6,
          7,
          8
         ],
         "xaxis": "x3",
         "y": [
          1,
          1,
          1,
          1,
          1
         ],
         "yaxis": "y3"
        },
        {
         "hoverinfo": "skip",
         "legendgroup": "thresh",
         "line": {
          "color": "#DD4040",
          "dash": "dash",
          "width": 2
         },
         "mode": "lines",
         "name": "Threshold",
         "showlegend": false,
         "type": "scatter",
         "x": [
          4,
          5,
          6,
          7,
          8
         ],
         "xaxis": "x3",
         "y": [
          0.5732172148646006,
          0.5732172148646006,
          0.5732172148646006,
          0.5732172148646006,
          0.5732172148646006
         ],
         "yaxis": "y3"
        },
        {
         "hoverinfo": "skip",
         "legendgroup": "metric_reference",
         "line": {
          "color": "#00c8e5",
          "shape": "hv",
          "width": 2
         },
         "mode": "lines",
         "name": "Metric",
         "showlegend": false,
         "type": "scatter",
         "x": [
          0,
          1,
          2,
          3,
          4
         ],
         "xaxis": "x4",
         "y": [
          0.8448275862068966,
          0.8859315589353612,
          0.9310344827586207,
          0.8805970149253731,
          0.8805970149253731
         ],
         "yaxis": "y4"
        },
        {
         "customdata": [
          [
           "Realized <b>Recall</b>",
           "<b style=\"color:#00c8e5;line-height:60px\">Reference</b>",
           "",
           "[0:1963]",
           "Chunk index: <b>0</b>",
           0.8448,
           0.0725
          ],
          [
           "Realized <b>Recall</b>",
           "<b style=\"color:#00c8e5;line-height:60px\">Reference</b>",
           "",
           "[1964:3927]",
           "Chunk index: <b>1</b>",
           0.8859,
           0.0725
          ],
          [
           "Realized <b>Recall</b>",
           "<b style=\"color:#00c8e5;line-height:60px\">Reference</b>",
           "",
           "[3928:5891]",
           "Chunk index: <b>2</b>",
           0.931,
           0.0725
          ],
          [
           "Realized <b>Recall</b>",
           "<b style=\"color:#00c8e5;line-height:60px\">Reference</b>",
           "",
           "[5892:7853]",
           "Chunk index: <b>3</b>",
           0.8806,
           0.0726
          ]
         ],
         "hovertemplate": "%{customdata[1]} &nbsp; &nbsp; %{customdata[2]} <br />Chunk: <b>%{customdata[3]}</b> &nbsp; &nbsp; %{customdata[4]} <br />%{customdata[0]}: <b>%{customdata[5]}</b><br />Confidence band: +/- <b>%{customdata[6]}</b><br /><extra></extra>",
         "legendgroup": "metric_reference",
         "marker": {
          "color": "#00c8e5",
          "size": 5,
          "symbol": "circle"
         },
         "mode": "markers",
         "name": "Metric",
         "showlegend": false,
         "type": "scatter",
         "x": [
          0.5,
          1.5,
          2.5,
          3.5
         ],
         "xaxis": "x4",
         "y": [
          0.8448275862068966,
          0.8859315589353612,
          0.9310344827586207,
          0.8805970149253731,
          0.8805970149253731
         ],
         "yaxis": "y4"
        },
        {
         "hoverinfo": "skip",
         "legendgroup": "metric_analysis",
         "line": {
          "color": "#00c8e5",
          "shape": "hv",
          "width": 2
         },
         "mode": "lines",
         "name": "Metric",
         "showlegend": false,
         "type": "scatter",
         "x": [
          4,
          5,
          6,
          7,
          8
         ],
         "xaxis": "x4",
         "y": [
          0.9605911330049262,
          0.967741935483871,
          0.8405797101449275,
          0.918918918918919,
          0.918918918918919
         ],
         "yaxis": "y4"
        },
        {
         "customdata": [
          [
           "Realized <b>Recall</b>",
           "<b style=\"color:#3b0280;line-height:60px\">Analysis</b>",
           "",
           "[0:1963]",
           "Chunk index: <b>0</b>",
           0.9606,
           0.0725
          ],
          [
           "Realized <b>Recall</b>",
           "<b style=\"color:#3b0280;line-height:60px\">Analysis</b>",
           "",
           "[1964:3927]",
           "Chunk index: <b>1</b>",
           0.9677,
           0.0725
          ],
          [
           "Realized <b>Recall</b>",
           "<b style=\"color:#3b0280;line-height:60px\">Analysis</b>",
           "",
           "[3928:5891]",
           "Chunk index: <b>2</b>",
           0.8406,
           0.0725
          ],
          [
           "Realized <b>Recall</b>",
           "<b style=\"color:#3b0280;line-height:60px\">Analysis</b>",
           "",
           "[5892:7853]",
           "Chunk index: <b>3</b>",
           0.9189,
           0.0726
          ]
         ],
         "hovertemplate": "%{customdata[1]} &nbsp; &nbsp; %{customdata[2]} <br />Chunk: <b>%{customdata[3]}</b> &nbsp; &nbsp; %{customdata[4]} <br />%{customdata[0]}: <b>%{customdata[5]}</b><br />Confidence band: +/- <b>%{customdata[6]}</b><br /><extra></extra>",
         "legendgroup": "metric_analysis",
         "marker": {
          "color": "#00c8e5",
          "size": 5,
          "symbol": "circle"
         },
         "mode": "markers",
         "name": "Metric",
         "showlegend": false,
         "type": "scatter",
         "x": [
          4.5,
          5.5,
          6.5,
          7.5
         ],
         "xaxis": "x4",
         "y": [
          0.9605911330049262,
          0.967741935483871,
          0.8405797101449275,
          0.918918918918919,
          0.918918918918919
         ],
         "yaxis": "y4"
        },
        {
         "hoverinfo": "skip",
         "legendgroup": "alert",
         "marker": {
          "color": "#DD4040",
          "size": 8,
          "symbol": "diamond"
         },
         "mode": "markers",
         "name": "Alert",
         "showlegend": false,
         "type": "scatter",
         "x": [],
         "xaxis": "x4",
         "y": [],
         "yaxis": "y4"
        },
        {
         "hoverinfo": "skip",
         "legendgroup": "thresh",
         "line": {
          "color": "#DD4040",
          "dash": "dash",
          "width": 2
         },
         "mode": "lines",
         "name": "Threshold",
         "showlegend": false,
         "type": "scatter",
         "x": [
          0,
          1,
          2,
          3,
          4
         ],
         "xaxis": "x4",
         "y": [
          0.9774758347638348,
          0.9774758347638348,
          0.9774758347638348,
          0.9774758347638348,
          0.9774758347638348
         ],
         "yaxis": "y4"
        },
        {
         "hoverinfo": "skip",
         "legendgroup": "thresh",
         "line": {
          "color": "#DD4040",
          "dash": "dash",
          "width": 2
         },
         "mode": "lines",
         "name": "Threshold",
         "showlegend": false,
         "type": "scatter",
         "x": [
          0,
          1,
          2,
          3,
          4
         ],
         "xaxis": "x4",
         "y": [
          0.7937194866492909,
          0.7937194866492909,
          0.7937194866492909,
          0.7937194866492909,
          0.7937194866492909
         ],
         "yaxis": "y4"
        },
        {
         "hoverinfo": "skip",
         "legendgroup": "thresh",
         "line": {
          "color": "#DD4040",
          "dash": "dash",
          "width": 2
         },
         "mode": "lines",
         "name": "Threshold",
         "showlegend": false,
         "type": "scatter",
         "x": [
          4,
          5,
          6,
          7,
          8
         ],
         "xaxis": "x4",
         "y": [
          0.9774758347638348,
          0.9774758347638348,
          0.9774758347638348,
          0.9774758347638348,
          0.9774758347638348
         ],
         "yaxis": "y4"
        },
        {
         "hoverinfo": "skip",
         "legendgroup": "thresh",
         "line": {
          "color": "#DD4040",
          "dash": "dash",
          "width": 2
         },
         "mode": "lines",
         "name": "Threshold",
         "showlegend": false,
         "type": "scatter",
         "x": [
          4,
          5,
          6,
          7,
          8
         ],
         "xaxis": "x4",
         "y": [
          0.7937194866492909,
          0.7937194866492909,
          0.7937194866492909,
          0.7937194866492909,
          0.7937194866492909
         ],
         "yaxis": "y4"
        }
       ],
       "layout": {
        "annotations": [
         {
          "font": {
           "size": 16
          },
          "showarrow": false,
          "text": "Realized <b>ROC AUC</b>",
          "x": 0.5,
          "xanchor": "center",
          "xref": "paper",
          "y": 1,
          "yanchor": "bottom",
          "yref": "paper"
         },
         {
          "font": {
           "size": 16
          },
          "showarrow": false,
          "text": "Realized <b>Accuracy</b>",
          "x": 0.5,
          "xanchor": "center",
          "xref": "paper",
          "y": 0.71875,
          "yanchor": "bottom",
          "yref": "paper"
         },
         {
          "font": {
           "size": 16
          },
          "showarrow": false,
          "text": "Realized <b>F1</b>",
          "x": 0.5,
          "xanchor": "center",
          "xref": "paper",
          "y": 0.4375,
          "yanchor": "bottom",
          "yref": "paper"
         },
         {
          "font": {
           "size": 16
          },
          "showarrow": false,
          "text": "Realized <b>Recall</b>",
          "x": 0.5,
          "xanchor": "center",
          "xref": "paper",
          "y": 0.15625,
          "yanchor": "bottom",
          "yref": "paper"
         },
         {
          "showarrow": false,
          "text": "Reference",
          "x": 1.5,
          "xref": "x",
          "xshift": 10,
          "y": 1.01,
          "yref": "y domain"
         },
         {
          "showarrow": false,
          "text": "Analysis",
          "x": 5.5,
          "xref": "x",
          "xshift": 15,
          "y": 1.01,
          "yref": "y domain"
         },
         {
          "showarrow": false,
          "text": "Reference",
          "x": 1.5,
          "xref": "x2",
          "xshift": 10,
          "y": 1.01,
          "yref": "y2 domain"
         },
         {
          "showarrow": false,
          "text": "Analysis",
          "x": 5.5,
          "xref": "x2",
          "xshift": 15,
          "y": 1.01,
          "yref": "y2 domain"
         },
         {
          "showarrow": false,
          "text": "Reference",
          "x": 1.5,
          "xref": "x3",
          "xshift": 10,
          "y": 1.01,
          "yref": "y3 domain"
         },
         {
          "showarrow": false,
          "text": "Analysis",
          "x": 5.5,
          "xref": "x3",
          "xshift": 15,
          "y": 1.01,
          "yref": "y3 domain"
         },
         {
          "showarrow": false,
          "text": "Reference",
          "x": 1.5,
          "xref": "x4",
          "xshift": 10,
          "y": 1.01,
          "yref": "y4 domain"
         },
         {
          "showarrow": false,
          "text": "Analysis",
          "x": 5.5,
          "xref": "x4",
          "xshift": 15,
          "y": 1.01,
          "yref": "y4 domain"
         }
        ],
        "height": 2000,
        "hoverlabel": {
         "bgcolor": "white",
         "font": {
          "size": 14
         }
        },
        "legend": {
         "itemclick": false,
         "itemdoubleclick": false,
         "traceorder": "grouped"
        },
        "paper_bgcolor": "rgba(255,255,255,1)",
        "plot_bgcolor": "rgba(255,255,255,1)",
        "shapes": [
         {
          "layer": "below",
          "line": {
           "color": "#666666",
           "width": 1
          },
          "type": "line",
          "x0": 4,
          "x1": 4,
          "xref": "x",
          "y0": 0,
          "y1": 1,
          "yref": "y domain"
         },
         {
          "layer": "below",
          "line": {
           "color": "#666666",
           "width": 1
          },
          "type": "line",
          "x0": 4,
          "x1": 4,
          "xref": "x",
          "y0": 0,
          "y1": 1,
          "yref": "y domain"
         },
         {
          "layer": "below",
          "line": {
           "color": "#666666",
           "width": 1
          },
          "type": "line",
          "x0": 4,
          "x1": 4,
          "xref": "x2",
          "y0": 0,
          "y1": 1,
          "yref": "y2 domain"
         },
         {
          "layer": "below",
          "line": {
           "color": "#666666",
           "width": 1
          },
          "type": "line",
          "x0": 4,
          "x1": 4,
          "xref": "x",
          "y0": 0,
          "y1": 1,
          "yref": "y domain"
         },
         {
          "layer": "below",
          "line": {
           "color": "#666666",
           "width": 1
          },
          "type": "line",
          "x0": 4,
          "x1": 4,
          "xref": "x2",
          "y0": 0,
          "y1": 1,
          "yref": "y2 domain"
         },
         {
          "layer": "below",
          "line": {
           "color": "#666666",
           "width": 1
          },
          "type": "line",
          "x0": 4,
          "x1": 4,
          "xref": "x3",
          "y0": 0,
          "y1": 1,
          "yref": "y3 domain"
         },
         {
          "layer": "below",
          "line": {
           "color": "#666666",
           "width": 1
          },
          "type": "line",
          "x0": 4,
          "x1": 4,
          "xref": "x",
          "y0": 0,
          "y1": 1,
          "yref": "y domain"
         },
         {
          "layer": "below",
          "line": {
           "color": "#666666",
           "width": 1
          },
          "type": "line",
          "x0": 4,
          "x1": 4,
          "xref": "x2",
          "y0": 0,
          "y1": 1,
          "yref": "y2 domain"
         },
         {
          "layer": "below",
          "line": {
           "color": "#666666",
           "width": 1
          },
          "type": "line",
          "x0": 4,
          "x1": 4,
          "xref": "x3",
          "y0": 0,
          "y1": 1,
          "yref": "y3 domain"
         },
         {
          "layer": "below",
          "line": {
           "color": "#666666",
           "width": 1
          },
          "type": "line",
          "x0": 4,
          "x1": 4,
          "xref": "x4",
          "y0": 0,
          "y1": 1,
          "yref": "y4 domain"
         }
        ],
        "template": {
         "data": {
          "bar": [
           {
            "error_x": {
             "color": "#2a3f5f"
            },
            "error_y": {
             "color": "#2a3f5f"
            },
            "marker": {
             "line": {
              "color": "#E5ECF6",
              "width": 0.5
             },
             "pattern": {
              "fillmode": "overlay",
              "size": 10,
              "solidity": 0.2
             }
            },
            "type": "bar"
           }
          ],
          "barpolar": [
           {
            "marker": {
             "line": {
              "color": "#E5ECF6",
              "width": 0.5
             },
             "pattern": {
              "fillmode": "overlay",
              "size": 10,
              "solidity": 0.2
             }
            },
            "type": "barpolar"
           }
          ],
          "carpet": [
           {
            "aaxis": {
             "endlinecolor": "#2a3f5f",
             "gridcolor": "white",
             "linecolor": "white",
             "minorgridcolor": "white",
             "startlinecolor": "#2a3f5f"
            },
            "baxis": {
             "endlinecolor": "#2a3f5f",
             "gridcolor": "white",
             "linecolor": "white",
             "minorgridcolor": "white",
             "startlinecolor": "#2a3f5f"
            },
            "type": "carpet"
           }
          ],
          "choropleth": [
           {
            "colorbar": {
             "outlinewidth": 0,
             "ticks": ""
            },
            "type": "choropleth"
           }
          ],
          "contour": [
           {
            "colorbar": {
             "outlinewidth": 0,
             "ticks": ""
            },
            "colorscale": [
             [
              0,
              "#0d0887"
             ],
             [
              0.1111111111111111,
              "#46039f"
             ],
             [
              0.2222222222222222,
              "#7201a8"
             ],
             [
              0.3333333333333333,
              "#9c179e"
             ],
             [
              0.4444444444444444,
              "#bd3786"
             ],
             [
              0.5555555555555556,
              "#d8576b"
             ],
             [
              0.6666666666666666,
              "#ed7953"
             ],
             [
              0.7777777777777778,
              "#fb9f3a"
             ],
             [
              0.8888888888888888,
              "#fdca26"
             ],
             [
              1,
              "#f0f921"
             ]
            ],
            "type": "contour"
           }
          ],
          "contourcarpet": [
           {
            "colorbar": {
             "outlinewidth": 0,
             "ticks": ""
            },
            "type": "contourcarpet"
           }
          ],
          "heatmap": [
           {
            "colorbar": {
             "outlinewidth": 0,
             "ticks": ""
            },
            "colorscale": [
             [
              0,
              "#0d0887"
             ],
             [
              0.1111111111111111,
              "#46039f"
             ],
             [
              0.2222222222222222,
              "#7201a8"
             ],
             [
              0.3333333333333333,
              "#9c179e"
             ],
             [
              0.4444444444444444,
              "#bd3786"
             ],
             [
              0.5555555555555556,
              "#d8576b"
             ],
             [
              0.6666666666666666,
              "#ed7953"
             ],
             [
              0.7777777777777778,
              "#fb9f3a"
             ],
             [
              0.8888888888888888,
              "#fdca26"
             ],
             [
              1,
              "#f0f921"
             ]
            ],
            "type": "heatmap"
           }
          ],
          "heatmapgl": [
           {
            "colorbar": {
             "outlinewidth": 0,
             "ticks": ""
            },
            "colorscale": [
             [
              0,
              "#0d0887"
             ],
             [
              0.1111111111111111,
              "#46039f"
             ],
             [
              0.2222222222222222,
              "#7201a8"
             ],
             [
              0.3333333333333333,
              "#9c179e"
             ],
             [
              0.4444444444444444,
              "#bd3786"
             ],
             [
              0.5555555555555556,
              "#d8576b"
             ],
             [
              0.6666666666666666,
              "#ed7953"
             ],
             [
              0.7777777777777778,
              "#fb9f3a"
             ],
             [
              0.8888888888888888,
              "#fdca26"
             ],
             [
              1,
              "#f0f921"
             ]
            ],
            "type": "heatmapgl"
           }
          ],
          "histogram": [
           {
            "marker": {
             "pattern": {
              "fillmode": "overlay",
              "size": 10,
              "solidity": 0.2
             }
            },
            "type": "histogram"
           }
          ],
          "histogram2d": [
           {
            "colorbar": {
             "outlinewidth": 0,
             "ticks": ""
            },
            "colorscale": [
             [
              0,
              "#0d0887"
             ],
             [
              0.1111111111111111,
              "#46039f"
             ],
             [
              0.2222222222222222,
              "#7201a8"
             ],
             [
              0.3333333333333333,
              "#9c179e"
             ],
             [
              0.4444444444444444,
              "#bd3786"
             ],
             [
              0.5555555555555556,
              "#d8576b"
             ],
             [
              0.6666666666666666,
              "#ed7953"
             ],
             [
              0.7777777777777778,
              "#fb9f3a"
             ],
             [
              0.8888888888888888,
              "#fdca26"
             ],
             [
              1,
              "#f0f921"
             ]
            ],
            "type": "histogram2d"
           }
          ],
          "histogram2dcontour": [
           {
            "colorbar": {
             "outlinewidth": 0,
             "ticks": ""
            },
            "colorscale": [
             [
              0,
              "#0d0887"
             ],
             [
              0.1111111111111111,
              "#46039f"
             ],
             [
              0.2222222222222222,
              "#7201a8"
             ],
             [
              0.3333333333333333,
              "#9c179e"
             ],
             [
              0.4444444444444444,
              "#bd3786"
             ],
             [
              0.5555555555555556,
              "#d8576b"
             ],
             [
              0.6666666666666666,
              "#ed7953"
             ],
             [
              0.7777777777777778,
              "#fb9f3a"
             ],
             [
              0.8888888888888888,
              "#fdca26"
             ],
             [
              1,
              "#f0f921"
             ]
            ],
            "type": "histogram2dcontour"
           }
          ],
          "mesh3d": [
           {
            "colorbar": {
             "outlinewidth": 0,
             "ticks": ""
            },
            "type": "mesh3d"
           }
          ],
          "parcoords": [
           {
            "line": {
             "colorbar": {
              "outlinewidth": 0,
              "ticks": ""
             }
            },
            "type": "parcoords"
           }
          ],
          "pie": [
           {
            "automargin": true,
            "type": "pie"
           }
          ],
          "scatter": [
           {
            "fillpattern": {
             "fillmode": "overlay",
             "size": 10,
             "solidity": 0.2
            },
            "type": "scatter"
           }
          ],
          "scatter3d": [
           {
            "line": {
             "colorbar": {
              "outlinewidth": 0,
              "ticks": ""
             }
            },
            "marker": {
             "colorbar": {
              "outlinewidth": 0,
              "ticks": ""
             }
            },
            "type": "scatter3d"
           }
          ],
          "scattercarpet": [
           {
            "marker": {
             "colorbar": {
              "outlinewidth": 0,
              "ticks": ""
             }
            },
            "type": "scattercarpet"
           }
          ],
          "scattergeo": [
           {
            "marker": {
             "colorbar": {
              "outlinewidth": 0,
              "ticks": ""
             }
            },
            "type": "scattergeo"
           }
          ],
          "scattergl": [
           {
            "marker": {
             "colorbar": {
              "outlinewidth": 0,
              "ticks": ""
             }
            },
            "type": "scattergl"
           }
          ],
          "scattermapbox": [
           {
            "marker": {
             "colorbar": {
              "outlinewidth": 0,
              "ticks": ""
             }
            },
            "type": "scattermapbox"
           }
          ],
          "scatterpolar": [
           {
            "marker": {
             "colorbar": {
              "outlinewidth": 0,
              "ticks": ""
             }
            },
            "type": "scatterpolar"
           }
          ],
          "scatterpolargl": [
           {
            "marker": {
             "colorbar": {
              "outlinewidth": 0,
              "ticks": ""
             }
            },
            "type": "scatterpolargl"
           }
          ],
          "scatterternary": [
           {
            "marker": {
             "colorbar": {
              "outlinewidth": 0,
              "ticks": ""
             }
            },
            "type": "scatterternary"
           }
          ],
          "surface": [
           {
            "colorbar": {
             "outlinewidth": 0,
             "ticks": ""
            },
            "colorscale": [
             [
              0,
              "#0d0887"
             ],
             [
              0.1111111111111111,
              "#46039f"
             ],
             [
              0.2222222222222222,
              "#7201a8"
             ],
             [
              0.3333333333333333,
              "#9c179e"
             ],
             [
              0.4444444444444444,
              "#bd3786"
             ],
             [
              0.5555555555555556,
              "#d8576b"
             ],
             [
              0.6666666666666666,
              "#ed7953"
             ],
             [
              0.7777777777777778,
              "#fb9f3a"
             ],
             [
              0.8888888888888888,
              "#fdca26"
             ],
             [
              1,
              "#f0f921"
             ]
            ],
            "type": "surface"
           }
          ],
          "table": [
           {
            "cells": {
             "fill": {
              "color": "#EBF0F8"
             },
             "line": {
              "color": "white"
             }
            },
            "header": {
             "fill": {
              "color": "#C8D4E3"
             },
             "line": {
              "color": "white"
             }
            },
            "type": "table"
           }
          ]
         },
         "layout": {
          "annotationdefaults": {
           "arrowcolor": "#2a3f5f",
           "arrowhead": 0,
           "arrowwidth": 1
          },
          "autotypenumbers": "strict",
          "coloraxis": {
           "colorbar": {
            "outlinewidth": 0,
            "ticks": ""
           }
          },
          "colorscale": {
           "diverging": [
            [
             0,
             "#8e0152"
            ],
            [
             0.1,
             "#c51b7d"
            ],
            [
             0.2,
             "#de77ae"
            ],
            [
             0.3,
             "#f1b6da"
            ],
            [
             0.4,
             "#fde0ef"
            ],
            [
             0.5,
             "#f7f7f7"
            ],
            [
             0.6,
             "#e6f5d0"
            ],
            [
             0.7,
             "#b8e186"
            ],
            [
             0.8,
             "#7fbc41"
            ],
            [
             0.9,
             "#4d9221"
            ],
            [
             1,
             "#276419"
            ]
           ],
           "sequential": [
            [
             0,
             "#0d0887"
            ],
            [
             0.1111111111111111,
             "#46039f"
            ],
            [
             0.2222222222222222,
             "#7201a8"
            ],
            [
             0.3333333333333333,
             "#9c179e"
            ],
            [
             0.4444444444444444,
             "#bd3786"
            ],
            [
             0.5555555555555556,
             "#d8576b"
            ],
            [
             0.6666666666666666,
             "#ed7953"
            ],
            [
             0.7777777777777778,
             "#fb9f3a"
            ],
            [
             0.8888888888888888,
             "#fdca26"
            ],
            [
             1,
             "#f0f921"
            ]
           ],
           "sequentialminus": [
            [
             0,
             "#0d0887"
            ],
            [
             0.1111111111111111,
             "#46039f"
            ],
            [
             0.2222222222222222,
             "#7201a8"
            ],
            [
             0.3333333333333333,
             "#9c179e"
            ],
            [
             0.4444444444444444,
             "#bd3786"
            ],
            [
             0.5555555555555556,
             "#d8576b"
            ],
            [
             0.6666666666666666,
             "#ed7953"
            ],
            [
             0.7777777777777778,
             "#fb9f3a"
            ],
            [
             0.8888888888888888,
             "#fdca26"
            ],
            [
             1,
             "#f0f921"
            ]
           ]
          },
          "colorway": [
           "#636efa",
           "#EF553B",
           "#00cc96",
           "#ab63fa",
           "#FFA15A",
           "#19d3f3",
           "#FF6692",
           "#B6E880",
           "#FF97FF",
           "#FECB52"
          ],
          "font": {
           "color": "#2a3f5f"
          },
          "geo": {
           "bgcolor": "white",
           "lakecolor": "white",
           "landcolor": "#E5ECF6",
           "showlakes": true,
           "showland": true,
           "subunitcolor": "white"
          },
          "hoverlabel": {
           "align": "left"
          },
          "hovermode": "closest",
          "mapbox": {
           "style": "light"
          },
          "paper_bgcolor": "white",
          "plot_bgcolor": "#E5ECF6",
          "polar": {
           "angularaxis": {
            "gridcolor": "white",
            "linecolor": "white",
            "ticks": ""
           },
           "bgcolor": "#E5ECF6",
           "radialaxis": {
            "gridcolor": "white",
            "linecolor": "white",
            "ticks": ""
           }
          },
          "scene": {
           "xaxis": {
            "backgroundcolor": "#E5ECF6",
            "gridcolor": "white",
            "gridwidth": 2,
            "linecolor": "white",
            "showbackground": true,
            "ticks": "",
            "zerolinecolor": "white"
           },
           "yaxis": {
            "backgroundcolor": "#E5ECF6",
            "gridcolor": "white",
            "gridwidth": 2,
            "linecolor": "white",
            "showbackground": true,
            "ticks": "",
            "zerolinecolor": "white"
           },
           "zaxis": {
            "backgroundcolor": "#E5ECF6",
            "gridcolor": "white",
            "gridwidth": 2,
            "linecolor": "white",
            "showbackground": true,
            "ticks": "",
            "zerolinecolor": "white"
           }
          },
          "shapedefaults": {
           "line": {
            "color": "#2a3f5f"
           }
          },
          "ternary": {
           "aaxis": {
            "gridcolor": "white",
            "linecolor": "white",
            "ticks": ""
           },
           "baxis": {
            "gridcolor": "white",
            "linecolor": "white",
            "ticks": ""
           },
           "bgcolor": "#E5ECF6",
           "caxis": {
            "gridcolor": "white",
            "linecolor": "white",
            "ticks": ""
           }
          },
          "title": {
           "x": 0.05
          },
          "xaxis": {
           "automargin": true,
           "gridcolor": "white",
           "linecolor": "white",
           "ticks": "",
           "title": {
            "standoff": 15
           },
           "zerolinecolor": "white",
           "zerolinewidth": 2
          },
          "yaxis": {
           "automargin": true,
           "gridcolor": "white",
           "linecolor": "white",
           "ticks": "",
           "title": {
            "standoff": 15
           },
           "zerolinecolor": "white",
           "zerolinewidth": 2
          }
         }
        },
        "title": {
         "text": "Realized performance"
        },
        "xaxis": {
         "anchor": "y",
         "domain": [
          0,
          1
         ],
         "linecolor": "#3b0280",
         "matches": "x",
         "mirror": true,
         "showgrid": false,
         "title": {
          "text": "Chunk"
         },
         "zeroline": false
        },
        "xaxis2": {
         "anchor": "y2",
         "domain": [
          0,
          1
         ],
         "linecolor": "#3b0280",
         "matches": "x",
         "mirror": true,
         "showgrid": false,
         "title": {
          "text": "Chunk"
         },
         "zeroline": false
        },
        "xaxis3": {
         "anchor": "y3",
         "domain": [
          0,
          1
         ],
         "linecolor": "#3b0280",
         "matches": "x",
         "mirror": true,
         "showgrid": false,
         "title": {
          "text": "Chunk"
         },
         "zeroline": false
        },
        "xaxis4": {
         "anchor": "y4",
         "domain": [
          0,
          1
         ],
         "linecolor": "#3b0280",
         "matches": "x",
         "mirror": true,
         "showgrid": false,
         "title": {
          "text": "Chunk"
         },
         "zeroline": false
        },
        "yaxis": {
         "anchor": "x",
         "domain": [
          0.84375,
          1
         ],
         "linecolor": "#3b0280",
         "mirror": true,
         "showgrid": false,
         "title": {
          "text": "ROC AUC"
         },
         "zeroline": false
        },
        "yaxis2": {
         "anchor": "x2",
         "domain": [
          0.5625,
          0.71875
         ],
         "linecolor": "#3b0280",
         "mirror": true,
         "showgrid": false,
         "title": {
          "text": "Accuracy"
         },
         "zeroline": false
        },
        "yaxis3": {
         "anchor": "x3",
         "domain": [
          0.28125,
          0.4375
         ],
         "linecolor": "#3b0280",
         "mirror": true,
         "showgrid": false,
         "title": {
          "text": "F1"
         },
         "zeroline": false
        },
        "yaxis4": {
         "anchor": "x4",
         "domain": [
          0,
          0.15625
         ],
         "linecolor": "#3b0280",
         "mirror": true,
         "showgrid": false,
         "title": {
          "text": "Recall"
         },
         "zeroline": false
        }
       }
      }
     },
     "metadata": {},
     "output_type": "display_data"
    }
   ],
   "source": [
    "performance_calc = nml.PerformanceCalculator(\n",
    "    y_pred_proba=y_pred_proba,\n",
    "    y_pred=y_pred,\n",
    "    y_true=target,\n",
    "    metrics=['roc_auc', 'accuracy', 'f1', 'recall'],\n",
    "    chunk_size=1964,\n",
    "    problem_type='classification_binary',\n",
    ").fit(df_test)\n",
    "\n",
    "realized_results = performance_calc.calculate(df_prod)\n",
    "\n",
    "realized_results.plot()"
   ]
  },
  {
   "cell_type": "markdown",
   "metadata": {},
   "source": [
    "# Red Flag 2: not providing the chunk size of their experiments\n",
    "\n",
    "## Using small chunk size"
   ]
  },
  {
   "cell_type": "code",
   "execution_count": 7,
   "metadata": {},
   "outputs": [
    {
     "data": {
      "application/vnd.plotly.v1+json": {
       "config": {
        "plotlyServerURL": "https://plot.ly"
       },
       "data": [
        {
         "hoverinfo": "skip",
         "legendgroup": "metric_reference",
         "line": {
          "color": "#00c8e5",
          "shape": "hv",
          "width": 2
         },
         "mode": "lines",
         "name": "Method",
         "showlegend": true,
         "type": "scatter",
         "x": [
          "2021-06-09T00:12:00",
          "2021-06-10T01:24:00",
          "2021-06-11T02:36:00",
          "2021-06-12T03:48:00",
          "2021-06-13T05:00:00",
          "2021-06-14T06:12:00",
          "2021-06-15T07:24:00",
          "2021-06-16T08:36:00",
          "2021-06-17T09:48:00",
          "2021-06-18T11:00:00",
          "2021-06-19T12:12:00",
          "2021-06-20T13:24:00",
          "2021-06-21T14:36:00",
          "2021-06-22T15:48:00",
          "2021-06-23T17:00:00",
          "2021-06-24T18:12:00",
          "2021-06-25T12:03:00"
         ],
         "xaxis": "x",
         "y": [
          0.2661064425770308,
          0.24012630506748153,
          0.17285255920550038,
          0.31007028265851794,
          0.4190231729055258,
          0.1605607333842628,
          0.21691418385536032,
          0.19428113063407182,
          0.6044634581105169,
          0.7635655716832187,
          0.5402485357779475,
          0.2868220015278839,
          0.2638731856378915,
          0.5740132416603004,
          0.2857310924369748,
          0.36769777248341556,
          0.36769777248341556
         ],
         "yaxis": "y"
        },
        {
         "customdata": [
          [
           "Kolmogorov-Smirnov statistic for <b>co2</b>",
           "<b style=\"color:#00c8e5;line-height:60px\">Reference</b>",
           "",
           "[0:499]",
           "From <b>Jun-09-2021</b> to <b>Jun-10-2021</b>",
           0.2661
          ],
          [
           "Kolmogorov-Smirnov statistic for <b>co2</b>",
           "<b style=\"color:#00c8e5;line-height:60px\">Reference</b>",
           "",
           "[500:999]",
           "From <b>Jun-10-2021</b> to <b>Jun-11-2021</b>",
           0.2401
          ],
          [
           "Kolmogorov-Smirnov statistic for <b>co2</b>",
           "<b style=\"color:#00c8e5;line-height:60px\">Reference</b>",
           "",
           "[1000:1499]",
           "From <b>Jun-11-2021</b> to <b>Jun-12-2021</b>",
           0.1729
          ],
          [
           "Kolmogorov-Smirnov statistic for <b>co2</b>",
           "<b style=\"color:#00c8e5;line-height:60px\">Reference</b>",
           "",
           "[1500:1999]",
           "From <b>Jun-12-2021</b> to <b>Jun-13-2021</b>",
           0.3101
          ],
          [
           "Kolmogorov-Smirnov statistic for <b>co2</b>",
           "<b style=\"color:#00c8e5;line-height:60px\">Reference</b>",
           "",
           "[2000:2499]",
           "From <b>Jun-13-2021</b> to <b>Jun-14-2021</b>",
           0.419
          ],
          [
           "Kolmogorov-Smirnov statistic for <b>co2</b>",
           "<b style=\"color:#00c8e5;line-height:60px\">Reference</b>",
           "",
           "[2500:2999]",
           "From <b>Jun-14-2021</b> to <b>Jun-15-2021</b>",
           0.1606
          ],
          [
           "Kolmogorov-Smirnov statistic for <b>co2</b>",
           "<b style=\"color:#00c8e5;line-height:60px\">Reference</b>",
           "",
           "[3000:3499]",
           "From <b>Jun-15-2021</b> to <b>Jun-16-2021</b>",
           0.2169
          ],
          [
           "Kolmogorov-Smirnov statistic for <b>co2</b>",
           "<b style=\"color:#00c8e5;line-height:60px\">Reference</b>",
           "",
           "[3500:3999]",
           "From <b>Jun-16-2021</b> to <b>Jun-17-2021</b>",
           0.1943
          ],
          [
           "Kolmogorov-Smirnov statistic for <b>co2</b>",
           "<b style=\"color:#00c8e5;line-height:60px\">Reference</b>",
           "",
           "[4000:4499]",
           "From <b>Jun-17-2021</b> to <b>Jun-18-2021</b>",
           0.6045
          ],
          [
           "Kolmogorov-Smirnov statistic for <b>co2</b>",
           "<b style=\"color:#00c8e5;line-height:60px\">Reference</b>",
           "",
           "[4500:4999]",
           "From <b>Jun-18-2021</b> to <b>Jun-19-2021</b>",
           0.7636
          ],
          [
           "Kolmogorov-Smirnov statistic for <b>co2</b>",
           "<b style=\"color:#00c8e5;line-height:60px\">Reference</b>",
           "",
           "[5000:5499]",
           "From <b>Jun-19-2021</b> to <b>Jun-20-2021</b>",
           0.5402
          ],
          [
           "Kolmogorov-Smirnov statistic for <b>co2</b>",
           "<b style=\"color:#00c8e5;line-height:60px\">Reference</b>",
           "",
           "[5500:5999]",
           "From <b>Jun-20-2021</b> to <b>Jun-21-2021</b>",
           0.2868
          ],
          [
           "Kolmogorov-Smirnov statistic for <b>co2</b>",
           "<b style=\"color:#00c8e5;line-height:60px\">Reference</b>",
           "",
           "[6000:6499]",
           "From <b>Jun-21-2021</b> to <b>Jun-22-2021</b>",
           0.2639
          ],
          [
           "Kolmogorov-Smirnov statistic for <b>co2</b>",
           "<b style=\"color:#00c8e5;line-height:60px\">Reference</b>",
           "",
           "[6500:6999]",
           "From <b>Jun-22-2021</b> to <b>Jun-23-2021</b>",
           0.574
          ],
          [
           "Kolmogorov-Smirnov statistic for <b>co2</b>",
           "<b style=\"color:#00c8e5;line-height:60px\">Reference</b>",
           "",
           "[7000:7499]",
           "From <b>Jun-23-2021</b> to <b>Jun-24-2021</b>",
           0.2857
          ],
          [
           "Kolmogorov-Smirnov statistic for <b>co2</b>",
           "<b style=\"color:#00c8e5;line-height:60px\">Reference</b>",
           "",
           "[7500:7853]",
           "From <b>Jun-24-2021</b> to <b>Jun-25-2021</b>",
           0.3677
          ]
         ],
         "hovertemplate": "%{customdata[1]} &nbsp; &nbsp; %{customdata[2]} <br />Chunk: <b>%{customdata[3]}</b> &nbsp; &nbsp; %{customdata[4]} <br />%{customdata[0]}: <b>%{customdata[5]}</b><b r /><extra></extra>",
         "legendgroup": "metric_reference",
         "marker": {
          "color": "#00c8e5",
          "size": 5,
          "symbol": "circle"
         },
         "mode": "markers",
         "name": "Method",
         "showlegend": false,
         "type": "scatter",
         "x": [
          "2021-06-09T12:48:00",
          "2021-06-10T14:00:00",
          "2021-06-11T15:12:00",
          "2021-06-12T16:24:00",
          "2021-06-13T17:36:00",
          "2021-06-14T18:48:00",
          "2021-06-15T20:00:00",
          "2021-06-16T21:12:00",
          "2021-06-17T22:24:00",
          "2021-06-18T23:36:00",
          "2021-06-20T00:48:00",
          "2021-06-21T02:00:00",
          "2021-06-22T03:12:00",
          "2021-06-23T04:24:00",
          "2021-06-24T05:36:00",
          "2021-06-25T03:07:30"
         ],
         "xaxis": "x",
         "y": [
          0.2661064425770308,
          0.24012630506748153,
          0.17285255920550038,
          0.31007028265851794,
          0.4190231729055258,
          0.1605607333842628,
          0.21691418385536032,
          0.19428113063407182,
          0.6044634581105169,
          0.7635655716832187,
          0.5402485357779475,
          0.2868220015278839,
          0.2638731856378915,
          0.5740132416603004,
          0.2857310924369748,
          0.36769777248341556,
          0.36769777248341556
         ],
         "yaxis": "y"
        },
        {
         "hoverinfo": "skip",
         "legendgroup": "metric_analysis",
         "line": {
          "color": "#00c8e5",
          "shape": "hv",
          "width": 2
         },
         "mode": "lines",
         "name": "Method",
         "showlegend": false,
         "type": "scatter",
         "x": [
          "2021-06-25T12:06:00",
          "2021-06-26T13:18:00",
          "2021-06-27T14:30:00",
          "2021-06-28T15:42:00",
          "2021-06-29T16:54:00",
          "2021-06-30T18:06:00",
          "2021-07-01T19:18:00",
          "2021-07-02T20:30:00",
          "2021-07-03T21:42:00",
          "2021-07-04T22:54:00",
          "2021-07-06T00:18:00",
          "2021-07-07T01:30:00",
          "2021-07-08T02:42:00",
          "2021-07-09T03:54:00",
          "2021-07-10T05:06:00",
          "2021-07-11T06:18:00",
          "2021-07-11T23:57:00"
         ],
         "xaxis": "x",
         "y": [
          0.27310924369747897,
          0.5215390883626178,
          0.48823631270690093,
          0.6326666666666667,
          0.3907695441813089,
          0.3220575502928444,
          0.14076088617265087,
          0.4177876241405653,
          0.4441685765215177,
          0.14757830404889227,
          0.15531805449452507,
          0.20775553857906798,
          0.2046305067481538,
          0.20114896867838045,
          0.22388235294117648,
          0.18600044023772838,
          0.18600044023772838
         ],
         "yaxis": "y"
        },
        {
         "customdata": [
          [
           "Kolmogorov-Smirnov statistic for <b>co2</b>",
           "<b style=\"color:#00c8e5;line-height:60px\">Analysis</b>",
           "",
           "[0:499]",
           "From <b>Jun-25-2021</b> to <b>Jun-26-2021</b>",
           0.2731
          ],
          [
           "Kolmogorov-Smirnov statistic for <b>co2</b>",
           "<b style=\"color:#00c8e5;line-height:60px\">Analysis</b>",
           "",
           "[500:999]",
           "From <b>Jun-26-2021</b> to <b>Jun-27-2021</b>",
           0.5215
          ],
          [
           "Kolmogorov-Smirnov statistic for <b>co2</b>",
           "<b style=\"color:#00c8e5;line-height:60px\">Analysis</b>",
           "",
           "[1000:1499]",
           "From <b>Jun-27-2021</b> to <b>Jun-28-2021</b>",
           0.4882
          ],
          [
           "Kolmogorov-Smirnov statistic for <b>co2</b>",
           "<b style=\"color:#00c8e5;line-height:60px\">Analysis</b>",
           "",
           "[1500:1999]",
           "From <b>Jun-28-2021</b> to <b>Jun-29-2021</b>",
           0.6327
          ],
          [
           "Kolmogorov-Smirnov statistic for <b>co2</b>",
           "<b style=\"color:#00c8e5;line-height:60px\">Analysis</b>",
           "",
           "[2000:2499]",
           "From <b>Jun-29-2021</b> to <b>Jun-30-2021</b>",
           0.3908
          ],
          [
           "Kolmogorov-Smirnov statistic for <b>co2</b>",
           "<b style=\"color:#00c8e5;line-height:60px\">Analysis</b>",
           "",
           "[2500:2999]",
           "From <b>Jun-30-2021</b> to <b>Jul-01-2021</b>",
           0.3221
          ],
          [
           "Kolmogorov-Smirnov statistic for <b>co2</b>",
           "<b style=\"color:#00c8e5;line-height:60px\">Analysis</b>",
           "",
           "[3000:3499]",
           "From <b>Jul-01-2021</b> to <b>Jul-02-2021</b>",
           0.1408
          ],
          [
           "Kolmogorov-Smirnov statistic for <b>co2</b>",
           "<b style=\"color:#00c8e5;line-height:60px\">Analysis</b>",
           "",
           "[3500:3999]",
           "From <b>Jul-02-2021</b> to <b>Jul-03-2021</b>",
           0.4178
          ],
          [
           "Kolmogorov-Smirnov statistic for <b>co2</b>",
           "<b style=\"color:#00c8e5;line-height:60px\">Analysis</b>",
           "",
           "[4000:4499]",
           "From <b>Jul-03-2021</b> to <b>Jul-04-2021</b>",
           0.4442
          ],
          [
           "Kolmogorov-Smirnov statistic for <b>co2</b>",
           "<b style=\"color:#00c8e5;line-height:60px\">Analysis</b>",
           "",
           "[4500:4999]",
           "From <b>Jul-04-2021</b> to <b>Jul-06-2021</b>",
           0.1476
          ],
          [
           "Kolmogorov-Smirnov statistic for <b>co2</b>",
           "<b style=\"color:#00c8e5;line-height:60px\">Analysis</b>",
           "",
           "[5000:5499]",
           "From <b>Jul-06-2021</b> to <b>Jul-07-2021</b>",
           0.1553
          ],
          [
           "Kolmogorov-Smirnov statistic for <b>co2</b>",
           "<b style=\"color:#00c8e5;line-height:60px\">Analysis</b>",
           "",
           "[5500:5999]",
           "From <b>Jul-07-2021</b> to <b>Jul-08-2021</b>",
           0.2078
          ],
          [
           "Kolmogorov-Smirnov statistic for <b>co2</b>",
           "<b style=\"color:#00c8e5;line-height:60px\">Analysis</b>",
           "",
           "[6000:6499]",
           "From <b>Jul-08-2021</b> to <b>Jul-09-2021</b>",
           0.2046
          ],
          [
           "Kolmogorov-Smirnov statistic for <b>co2</b>",
           "<b style=\"color:#00c8e5;line-height:60px\">Analysis</b>",
           "",
           "[6500:6999]",
           "From <b>Jul-09-2021</b> to <b>Jul-10-2021</b>",
           0.2011
          ],
          [
           "Kolmogorov-Smirnov statistic for <b>co2</b>",
           "<b style=\"color:#00c8e5;line-height:60px\">Analysis</b>",
           "",
           "[7000:7499]",
           "From <b>Jul-10-2021</b> to <b>Jul-11-2021</b>",
           0.2239
          ],
          [
           "Kolmogorov-Smirnov statistic for <b>co2</b>",
           "<b style=\"color:#00c8e5;line-height:60px\">Analysis</b>",
           "",
           "[7500:7853]",
           "From <b>Jul-11-2021</b> to <b>Jul-11-2021</b>",
           0.186
          ]
         ],
         "hovertemplate": "%{customdata[1]} &nbsp; &nbsp; %{customdata[2]} <br />Chunk: <b>%{customdata[3]}</b> &nbsp; &nbsp; %{customdata[4]} <br />%{customdata[0]}: <b>%{customdata[5]}</b><b r /><extra></extra>",
         "legendgroup": "metric_analysis",
         "marker": {
          "color": "#00c8e5",
          "size": 5,
          "symbol": "circle"
         },
         "mode": "markers",
         "name": "Method",
         "showlegend": false,
         "type": "scatter",
         "x": [
          "2021-06-26T00:42:00",
          "2021-06-27T01:54:00",
          "2021-06-28T03:06:00",
          "2021-06-29T04:18:00",
          "2021-06-30T05:30:00",
          "2021-07-01T06:42:00",
          "2021-07-02T07:54:00",
          "2021-07-03T09:06:00",
          "2021-07-04T10:18:00",
          "2021-07-05T11:36:00",
          "2021-07-06T12:54:00",
          "2021-07-07T14:06:00",
          "2021-07-08T15:18:00",
          "2021-07-09T16:30:00",
          "2021-07-10T17:42:00",
          "2021-07-11T15:07:30"
         ],
         "xaxis": "x",
         "y": [
          0.27310924369747897,
          0.5215390883626178,
          0.48823631270690093,
          0.6326666666666667,
          0.3907695441813089,
          0.3220575502928444,
          0.14076088617265087,
          0.4177876241405653,
          0.4441685765215177,
          0.14757830404889227,
          0.15531805449452507,
          0.20775553857906798,
          0.2046305067481538,
          0.20114896867838045,
          0.22388235294117648,
          0.18600044023772838,
          0.18600044023772838
         ],
         "yaxis": "y"
        },
        {
         "hoverinfo": "skip",
         "legendgroup": "alert",
         "marker": {
          "color": "#DD4040",
          "size": 8,
          "symbol": "diamond"
         },
         "mode": "markers",
         "name": "Alert",
         "showlegend": true,
         "type": "scatter",
         "x": [],
         "xaxis": "x",
         "y": [],
         "yaxis": "y"
        },
        {
         "hoverinfo": "skip",
         "legendgroup": "thresh",
         "line": {
          "color": "#DD4040",
          "dash": "dash",
          "width": 2
         },
         "mode": "lines",
         "name": "Threshold",
         "showlegend": true,
         "type": "scatter",
         "x": [
          "2021-06-09T00:12:00",
          "2021-06-10T01:24:00",
          "2021-06-11T02:36:00",
          "2021-06-12T03:48:00",
          "2021-06-13T05:00:00",
          "2021-06-14T06:12:00",
          "2021-06-15T07:24:00",
          "2021-06-16T08:36:00",
          "2021-06-17T09:48:00",
          "2021-06-18T11:00:00",
          "2021-06-19T12:12:00",
          "2021-06-20T13:24:00",
          "2021-06-21T14:36:00",
          "2021-06-22T15:48:00",
          "2021-06-23T17:00:00",
          "2021-06-24T18:12:00",
          "2021-06-25T12:03:00"
         ],
         "xaxis": "x",
         "y": [
          0.8696538923382047,
          0.8696538923382047,
          0.8696538923382047,
          0.8696538923382047,
          0.8696538923382047,
          0.8696538923382047,
          0.8696538923382047,
          0.8696538923382047,
          0.8696538923382047,
          0.8696538923382047,
          0.8696538923382047,
          0.8696538923382047,
          0.8696538923382047,
          0.8696538923382047,
          0.8696538923382047,
          0.8696538923382047,
          0.8696538923382047
         ],
         "yaxis": "y"
        },
        {
         "hoverinfo": "skip",
         "legendgroup": "thresh",
         "line": {
          "color": "#DD4040",
          "dash": "dash",
          "width": 2
         },
         "mode": "lines",
         "name": "Threshold",
         "showlegend": false,
         "type": "scatter",
         "x": [
          "2021-06-25T12:06:00",
          "2021-06-26T13:18:00",
          "2021-06-27T14:30:00",
          "2021-06-28T15:42:00",
          "2021-06-29T16:54:00",
          "2021-06-30T18:06:00",
          "2021-07-01T19:18:00",
          "2021-07-02T20:30:00",
          "2021-07-03T21:42:00",
          "2021-07-04T22:54:00",
          "2021-07-06T00:18:00",
          "2021-07-07T01:30:00",
          "2021-07-08T02:42:00",
          "2021-07-09T03:54:00",
          "2021-07-10T05:06:00",
          "2021-07-11T06:18:00",
          "2021-07-11T23:57:00"
         ],
         "xaxis": "x",
         "y": [
          0.8696538923382047,
          0.8696538923382047,
          0.8696538923382047,
          0.8696538923382047,
          0.8696538923382047,
          0.8696538923382047,
          0.8696538923382047,
          0.8696538923382047,
          0.8696538923382047,
          0.8696538923382047,
          0.8696538923382047,
          0.8696538923382047,
          0.8696538923382047,
          0.8696538923382047,
          0.8696538923382047,
          0.8696538923382047,
          0.8696538923382047
         ],
         "yaxis": "y"
        },
        {
         "hoverinfo": "skip",
         "legendgroup": "metric_reference",
         "line": {
          "color": "#00c8e5",
          "shape": "hv",
          "width": 2
         },
         "mode": "lines",
         "name": "Method",
         "showlegend": false,
         "type": "scatter",
         "x": [
          "2021-06-09T00:12:00",
          "2021-06-10T01:24:00",
          "2021-06-11T02:36:00",
          "2021-06-12T03:48:00",
          "2021-06-13T05:00:00",
          "2021-06-14T06:12:00",
          "2021-06-15T07:24:00",
          "2021-06-16T08:36:00",
          "2021-06-17T09:48:00",
          "2021-06-18T11:00:00",
          "2021-06-19T12:12:00",
          "2021-06-20T13:24:00",
          "2021-06-21T14:36:00",
          "2021-06-22T15:48:00",
          "2021-06-23T17:00:00",
          "2021-06-24T18:12:00",
          "2021-06-25T12:03:00"
         ],
         "xaxis": "x2",
         "y": [
          0.19633307868601987,
          0.3578436465495289,
          0.4962174688057041,
          0.37215329768270944,
          0.7091240132416603,
          0.16080468551056787,
          0.17958747135217723,
          0.2957361853832442,
          0.31135472370766487,
          0.38706391647568117,
          0.31718563789152027,
          0.39889126559714794,
          0.5974025974025974,
          0.39163025210084035,
          0.5162740005092946,
          0.581869111280876,
          0.581869111280876
         ],
         "yaxis": "y2"
        },
        {
         "customdata": [
          [
           "Kolmogorov-Smirnov statistic for <b>temperature</b>",
           "<b style=\"color:#00c8e5;line-height:60px\">Reference</b>",
           "",
           "[0:499]",
           "From <b>Jun-09-2021</b> to <b>Jun-10-2021</b>",
           0.1963
          ],
          [
           "Kolmogorov-Smirnov statistic for <b>temperature</b>",
           "<b style=\"color:#00c8e5;line-height:60px\">Reference</b>",
           "",
           "[500:999]",
           "From <b>Jun-10-2021</b> to <b>Jun-11-2021</b>",
           0.3578
          ],
          [
           "Kolmogorov-Smirnov statistic for <b>temperature</b>",
           "<b style=\"color:#00c8e5;line-height:60px\">Reference</b>",
           "",
           "[1000:1499]",
           "From <b>Jun-11-2021</b> to <b>Jun-12-2021</b>",
           0.4962
          ],
          [
           "Kolmogorov-Smirnov statistic for <b>temperature</b>",
           "<b style=\"color:#00c8e5;line-height:60px\">Reference</b>",
           "",
           "[1500:1999]",
           "From <b>Jun-12-2021</b> to <b>Jun-13-2021</b>",
           0.3722
          ],
          [
           "Kolmogorov-Smirnov statistic for <b>temperature</b>",
           "<b style=\"color:#00c8e5;line-height:60px\">Reference</b>",
           "",
           "[2000:2499]",
           "From <b>Jun-13-2021</b> to <b>Jun-14-2021</b>",
           0.7091
          ],
          [
           "Kolmogorov-Smirnov statistic for <b>temperature</b>",
           "<b style=\"color:#00c8e5;line-height:60px\">Reference</b>",
           "",
           "[2500:2999]",
           "From <b>Jun-14-2021</b> to <b>Jun-15-2021</b>",
           0.1608
          ],
          [
           "Kolmogorov-Smirnov statistic for <b>temperature</b>",
           "<b style=\"color:#00c8e5;line-height:60px\">Reference</b>",
           "",
           "[3000:3499]",
           "From <b>Jun-15-2021</b> to <b>Jun-16-2021</b>",
           0.1796
          ],
          [
           "Kolmogorov-Smirnov statistic for <b>temperature</b>",
           "<b style=\"color:#00c8e5;line-height:60px\">Reference</b>",
           "",
           "[3500:3999]",
           "From <b>Jun-16-2021</b> to <b>Jun-17-2021</b>",
           0.2957
          ],
          [
           "Kolmogorov-Smirnov statistic for <b>temperature</b>",
           "<b style=\"color:#00c8e5;line-height:60px\">Reference</b>",
           "",
           "[4000:4499]",
           "From <b>Jun-17-2021</b> to <b>Jun-18-2021</b>",
           0.3114
          ],
          [
           "Kolmogorov-Smirnov statistic for <b>temperature</b>",
           "<b style=\"color:#00c8e5;line-height:60px\">Reference</b>",
           "",
           "[4500:4999]",
           "From <b>Jun-18-2021</b> to <b>Jun-19-2021</b>",
           0.3871
          ],
          [
           "Kolmogorov-Smirnov statistic for <b>temperature</b>",
           "<b style=\"color:#00c8e5;line-height:60px\">Reference</b>",
           "",
           "[5000:5499]",
           "From <b>Jun-19-2021</b> to <b>Jun-20-2021</b>",
           0.3172
          ],
          [
           "Kolmogorov-Smirnov statistic for <b>temperature</b>",
           "<b style=\"color:#00c8e5;line-height:60px\">Reference</b>",
           "",
           "[5500:5999]",
           "From <b>Jun-20-2021</b> to <b>Jun-21-2021</b>",
           0.3989
          ],
          [
           "Kolmogorov-Smirnov statistic for <b>temperature</b>",
           "<b style=\"color:#00c8e5;line-height:60px\">Reference</b>",
           "",
           "[6000:6499]",
           "From <b>Jun-21-2021</b> to <b>Jun-22-2021</b>",
           0.5974
          ],
          [
           "Kolmogorov-Smirnov statistic for <b>temperature</b>",
           "<b style=\"color:#00c8e5;line-height:60px\">Reference</b>",
           "",
           "[6500:6999]",
           "From <b>Jun-22-2021</b> to <b>Jun-23-2021</b>",
           0.3916
          ],
          [
           "Kolmogorov-Smirnov statistic for <b>temperature</b>",
           "<b style=\"color:#00c8e5;line-height:60px\">Reference</b>",
           "",
           "[7000:7499]",
           "From <b>Jun-23-2021</b> to <b>Jun-24-2021</b>",
           0.5163
          ],
          [
           "Kolmogorov-Smirnov statistic for <b>temperature</b>",
           "<b style=\"color:#00c8e5;line-height:60px\">Reference</b>",
           "",
           "[7500:7853]",
           "From <b>Jun-24-2021</b> to <b>Jun-25-2021</b>",
           0.5819
          ]
         ],
         "hovertemplate": "%{customdata[1]} &nbsp; &nbsp; %{customdata[2]} <br />Chunk: <b>%{customdata[3]}</b> &nbsp; &nbsp; %{customdata[4]} <br />%{customdata[0]}: <b>%{customdata[5]}</b><b r /><extra></extra>",
         "legendgroup": "metric_reference",
         "marker": {
          "color": "#00c8e5",
          "size": 5,
          "symbol": "circle"
         },
         "mode": "markers",
         "name": "Method",
         "showlegend": false,
         "type": "scatter",
         "x": [
          "2021-06-09T12:48:00",
          "2021-06-10T14:00:00",
          "2021-06-11T15:12:00",
          "2021-06-12T16:24:00",
          "2021-06-13T17:36:00",
          "2021-06-14T18:48:00",
          "2021-06-15T20:00:00",
          "2021-06-16T21:12:00",
          "2021-06-17T22:24:00",
          "2021-06-18T23:36:00",
          "2021-06-20T00:48:00",
          "2021-06-21T02:00:00",
          "2021-06-22T03:12:00",
          "2021-06-23T04:24:00",
          "2021-06-24T05:36:00",
          "2021-06-25T03:07:30"
         ],
         "xaxis": "x2",
         "y": [
          0.19633307868601987,
          0.3578436465495289,
          0.4962174688057041,
          0.37215329768270944,
          0.7091240132416603,
          0.16080468551056787,
          0.17958747135217723,
          0.2957361853832442,
          0.31135472370766487,
          0.38706391647568117,
          0.31718563789152027,
          0.39889126559714794,
          0.5974025974025974,
          0.39163025210084035,
          0.5162740005092946,
          0.581869111280876,
          0.581869111280876
         ],
         "yaxis": "y2"
        },
        {
         "hoverinfo": "skip",
         "legendgroup": "metric_analysis",
         "line": {
          "color": "#00c8e5",
          "shape": "hv",
          "width": 2
         },
         "mode": "lines",
         "name": "Method",
         "showlegend": false,
         "type": "scatter",
         "x": [
          "2021-06-25T12:06:00",
          "2021-06-26T13:18:00",
          "2021-06-27T14:30:00",
          "2021-06-28T15:42:00",
          "2021-06-29T16:54:00",
          "2021-06-30T18:06:00",
          "2021-07-01T19:18:00",
          "2021-07-02T20:30:00",
          "2021-07-03T21:42:00",
          "2021-07-04T22:54:00",
          "2021-07-06T00:18:00",
          "2021-07-07T01:30:00",
          "2021-07-08T02:42:00",
          "2021-07-09T03:54:00",
          "2021-07-10T05:06:00",
          "2021-07-11T06:18:00",
          "2021-07-11T23:57:00"
         ],
         "xaxis": "x2",
         "y": [
          0.8243269671504966,
          0.9446625923096511,
          0.6460147695441814,
          0.21235752482811307,
          0.41401018589253885,
          0.42473236567354217,
          0.20938884644766997,
          0.5670995670995671,
          0.8062775655716832,
          0.5874036159918513,
          0.17659842118665647,
          0.4269162210338681,
          0.2711652661064426,
          0.30177183600713015,
          0.21657754010695188,
          0.2476445123503947,
          0.2476445123503947
         ],
         "yaxis": "y2"
        },
        {
         "customdata": [
          [
           "Kolmogorov-Smirnov statistic for <b>temperature</b>",
           "<b style=\"color:#00c8e5;line-height:60px\">Analysis</b>",
           "",
           "[0:499]",
           "From <b>Jun-25-2021</b> to <b>Jun-26-2021</b>",
           0.8243
          ],
          [
           "Kolmogorov-Smirnov statistic for <b>temperature</b>",
           "<b style=\"color:#00c8e5;line-height:60px\">Analysis</b>",
           "<span style=\"color:#AD0000\">⚠ <b>Drift detected</b></span>",
           "[500:999]",
           "From <b>Jun-26-2021</b> to <b>Jun-27-2021</b>",
           0.9447
          ],
          [
           "Kolmogorov-Smirnov statistic for <b>temperature</b>",
           "<b style=\"color:#00c8e5;line-height:60px\">Analysis</b>",
           "",
           "[1000:1499]",
           "From <b>Jun-27-2021</b> to <b>Jun-28-2021</b>",
           0.646
          ],
          [
           "Kolmogorov-Smirnov statistic for <b>temperature</b>",
           "<b style=\"color:#00c8e5;line-height:60px\">Analysis</b>",
           "",
           "[1500:1999]",
           "From <b>Jun-28-2021</b> to <b>Jun-29-2021</b>",
           0.2124
          ],
          [
           "Kolmogorov-Smirnov statistic for <b>temperature</b>",
           "<b style=\"color:#00c8e5;line-height:60px\">Analysis</b>",
           "",
           "[2000:2499]",
           "From <b>Jun-29-2021</b> to <b>Jun-30-2021</b>",
           0.414
          ],
          [
           "Kolmogorov-Smirnov statistic for <b>temperature</b>",
           "<b style=\"color:#00c8e5;line-height:60px\">Analysis</b>",
           "",
           "[2500:2999]",
           "From <b>Jun-30-2021</b> to <b>Jul-01-2021</b>",
           0.4247
          ],
          [
           "Kolmogorov-Smirnov statistic for <b>temperature</b>",
           "<b style=\"color:#00c8e5;line-height:60px\">Analysis</b>",
           "",
           "[3000:3499]",
           "From <b>Jul-01-2021</b> to <b>Jul-02-2021</b>",
           0.2094
          ],
          [
           "Kolmogorov-Smirnov statistic for <b>temperature</b>",
           "<b style=\"color:#00c8e5;line-height:60px\">Analysis</b>",
           "",
           "[3500:3999]",
           "From <b>Jul-02-2021</b> to <b>Jul-03-2021</b>",
           0.5671
          ],
          [
           "Kolmogorov-Smirnov statistic for <b>temperature</b>",
           "<b style=\"color:#00c8e5;line-height:60px\">Analysis</b>",
           "",
           "[4000:4499]",
           "From <b>Jul-03-2021</b> to <b>Jul-04-2021</b>",
           0.8063
          ],
          [
           "Kolmogorov-Smirnov statistic for <b>temperature</b>",
           "<b style=\"color:#00c8e5;line-height:60px\">Analysis</b>",
           "",
           "[4500:4999]",
           "From <b>Jul-04-2021</b> to <b>Jul-06-2021</b>",
           0.5874
          ],
          [
           "Kolmogorov-Smirnov statistic for <b>temperature</b>",
           "<b style=\"color:#00c8e5;line-height:60px\">Analysis</b>",
           "",
           "[5000:5499]",
           "From <b>Jul-06-2021</b> to <b>Jul-07-2021</b>",
           0.1766
          ],
          [
           "Kolmogorov-Smirnov statistic for <b>temperature</b>",
           "<b style=\"color:#00c8e5;line-height:60px\">Analysis</b>",
           "",
           "[5500:5999]",
           "From <b>Jul-07-2021</b> to <b>Jul-08-2021</b>",
           0.4269
          ],
          [
           "Kolmogorov-Smirnov statistic for <b>temperature</b>",
           "<b style=\"color:#00c8e5;line-height:60px\">Analysis</b>",
           "",
           "[6000:6499]",
           "From <b>Jul-08-2021</b> to <b>Jul-09-2021</b>",
           0.2712
          ],
          [
           "Kolmogorov-Smirnov statistic for <b>temperature</b>",
           "<b style=\"color:#00c8e5;line-height:60px\">Analysis</b>",
           "",
           "[6500:6999]",
           "From <b>Jul-09-2021</b> to <b>Jul-10-2021</b>",
           0.3018
          ],
          [
           "Kolmogorov-Smirnov statistic for <b>temperature</b>",
           "<b style=\"color:#00c8e5;line-height:60px\">Analysis</b>",
           "",
           "[7000:7499]",
           "From <b>Jul-10-2021</b> to <b>Jul-11-2021</b>",
           0.2166
          ],
          [
           "Kolmogorov-Smirnov statistic for <b>temperature</b>",
           "<b style=\"color:#00c8e5;line-height:60px\">Analysis</b>",
           "",
           "[7500:7853]",
           "From <b>Jul-11-2021</b> to <b>Jul-11-2021</b>",
           0.2476
          ]
         ],
         "hovertemplate": "%{customdata[1]} &nbsp; &nbsp; %{customdata[2]} <br />Chunk: <b>%{customdata[3]}</b> &nbsp; &nbsp; %{customdata[4]} <br />%{customdata[0]}: <b>%{customdata[5]}</b><b r /><extra></extra>",
         "legendgroup": "metric_analysis",
         "marker": {
          "color": "#00c8e5",
          "size": 5,
          "symbol": "circle"
         },
         "mode": "markers",
         "name": "Method",
         "showlegend": false,
         "type": "scatter",
         "x": [
          "2021-06-26T00:42:00",
          "2021-06-27T01:54:00",
          "2021-06-28T03:06:00",
          "2021-06-29T04:18:00",
          "2021-06-30T05:30:00",
          "2021-07-01T06:42:00",
          "2021-07-02T07:54:00",
          "2021-07-03T09:06:00",
          "2021-07-04T10:18:00",
          "2021-07-05T11:36:00",
          "2021-07-06T12:54:00",
          "2021-07-07T14:06:00",
          "2021-07-08T15:18:00",
          "2021-07-09T16:30:00",
          "2021-07-10T17:42:00",
          "2021-07-11T15:07:30"
         ],
         "xaxis": "x2",
         "y": [
          0.8243269671504966,
          0.9446625923096511,
          0.6460147695441814,
          0.21235752482811307,
          0.41401018589253885,
          0.42473236567354217,
          0.20938884644766997,
          0.5670995670995671,
          0.8062775655716832,
          0.5874036159918513,
          0.17659842118665647,
          0.4269162210338681,
          0.2711652661064426,
          0.30177183600713015,
          0.21657754010695188,
          0.2476445123503947,
          0.2476445123503947
         ],
         "yaxis": "y2"
        },
        {
         "hoverinfo": "skip",
         "legendgroup": "alert",
         "marker": {
          "color": "#DD4040",
          "size": 8,
          "symbol": "diamond"
         },
         "mode": "markers",
         "name": "Alert",
         "showlegend": false,
         "type": "scatter",
         "x": [
          "2021-06-27T01:54:00"
         ],
         "xaxis": "x2",
         "y": [
          0.9446625923096511
         ],
         "yaxis": "y2"
        },
        {
         "hoverinfo": "skip",
         "legendgroup": "thresh",
         "line": {
          "color": "#DD4040",
          "dash": "dash",
          "width": 2
         },
         "mode": "lines",
         "name": "Threshold",
         "showlegend": false,
         "type": "scatter",
         "x": [
          "2021-06-09T00:12:00",
          "2021-06-10T01:24:00",
          "2021-06-11T02:36:00",
          "2021-06-12T03:48:00",
          "2021-06-13T05:00:00",
          "2021-06-14T06:12:00",
          "2021-06-15T07:24:00",
          "2021-06-16T08:36:00",
          "2021-06-17T09:48:00",
          "2021-06-18T11:00:00",
          "2021-06-19T12:12:00",
          "2021-06-20T13:24:00",
          "2021-06-21T14:36:00",
          "2021-06-22T15:48:00",
          "2021-06-23T17:00:00",
          "2021-06-24T18:12:00",
          "2021-06-25T12:03:00"
         ],
         "xaxis": "x2",
         "y": [
          0.8449369816699943,
          0.8449369816699943,
          0.8449369816699943,
          0.8449369816699943,
          0.8449369816699943,
          0.8449369816699943,
          0.8449369816699943,
          0.8449369816699943,
          0.8449369816699943,
          0.8449369816699943,
          0.8449369816699943,
          0.8449369816699943,
          0.8449369816699943,
          0.8449369816699943,
          0.8449369816699943,
          0.8449369816699943,
          0.8449369816699943
         ],
         "yaxis": "y2"
        },
        {
         "hoverinfo": "skip",
         "legendgroup": "thresh",
         "line": {
          "color": "#DD4040",
          "dash": "dash",
          "width": 2
         },
         "mode": "lines",
         "name": "Threshold",
         "showlegend": false,
         "type": "scatter",
         "x": [
          "2021-06-25T12:06:00",
          "2021-06-26T13:18:00",
          "2021-06-27T14:30:00",
          "2021-06-28T15:42:00",
          "2021-06-29T16:54:00",
          "2021-06-30T18:06:00",
          "2021-07-01T19:18:00",
          "2021-07-02T20:30:00",
          "2021-07-03T21:42:00",
          "2021-07-04T22:54:00",
          "2021-07-06T00:18:00",
          "2021-07-07T01:30:00",
          "2021-07-08T02:42:00",
          "2021-07-09T03:54:00",
          "2021-07-10T05:06:00",
          "2021-07-11T06:18:00",
          "2021-07-11T23:57:00"
         ],
         "xaxis": "x2",
         "y": [
          0.8449369816699943,
          0.8449369816699943,
          0.8449369816699943,
          0.8449369816699943,
          0.8449369816699943,
          0.8449369816699943,
          0.8449369816699943,
          0.8449369816699943,
          0.8449369816699943,
          0.8449369816699943,
          0.8449369816699943,
          0.8449369816699943,
          0.8449369816699943,
          0.8449369816699943,
          0.8449369816699943,
          0.8449369816699943,
          0.8449369816699943
         ],
         "yaxis": "y2"
        },
        {
         "hoverinfo": "skip",
         "legendgroup": "metric_reference",
         "line": {
          "color": "#00c8e5",
          "shape": "hv",
          "width": 2
         },
         "mode": "lines",
         "name": "Method",
         "showlegend": false,
         "type": "scatter",
         "x": [
          "2021-06-09T00:12:00",
          "2021-06-10T01:24:00",
          "2021-06-11T02:36:00",
          "2021-06-12T03:48:00",
          "2021-06-13T05:00:00",
          "2021-06-14T06:12:00",
          "2021-06-15T07:24:00",
          "2021-06-16T08:36:00",
          "2021-06-17T09:48:00",
          "2021-06-18T11:00:00",
          "2021-06-19T12:12:00",
          "2021-06-20T13:24:00",
          "2021-06-21T14:36:00",
          "2021-06-22T15:48:00",
          "2021-06-23T17:00:00",
          "2021-06-24T18:12:00",
          "2021-06-25T12:03:00"
         ],
         "xaxis": "x3",
         "y": [
          39.03400183022616,
          11.22716259138739,
          3.993057992304377,
          22.253451476550534,
          26.79242432950871,
          32.316121794230085,
          74.21706519622263,
          11.621880961146486,
          1.1973978491895931,
          47.23116627157917,
          0.13253858099968344,
          0.6524407241590716,
          5.7661390925654885,
          23.717902830698563,
          12.619865449343575,
          22.501443030020003,
          22.501443030020003
         ],
         "yaxis": "y3"
        },
        {
         "customdata": [
          [
           "Chi2 statistic for <b>predicted</b>",
           "<b style=\"color:#00c8e5;line-height:60px\">Reference</b>",
           "<span style=\"color:#AD0000\">⚠ <b>Drift detected</b></span>",
           "[0:499]",
           "From <b>Jun-09-2021</b> to <b>Jun-10-2021</b>",
           39.034
          ],
          [
           "Chi2 statistic for <b>predicted</b>",
           "<b style=\"color:#00c8e5;line-height:60px\">Reference</b>",
           "<span style=\"color:#AD0000\">⚠ <b>Drift detected</b></span>",
           "[500:999]",
           "From <b>Jun-10-2021</b> to <b>Jun-11-2021</b>",
           11.2272
          ],
          [
           "Chi2 statistic for <b>predicted</b>",
           "<b style=\"color:#00c8e5;line-height:60px\">Reference</b>",
           "<span style=\"color:#AD0000\">⚠ <b>Drift detected</b></span>",
           "[1000:1499]",
           "From <b>Jun-11-2021</b> to <b>Jun-12-2021</b>",
           3.9931
          ],
          [
           "Chi2 statistic for <b>predicted</b>",
           "<b style=\"color:#00c8e5;line-height:60px\">Reference</b>",
           "<span style=\"color:#AD0000\">⚠ <b>Drift detected</b></span>",
           "[1500:1999]",
           "From <b>Jun-12-2021</b> to <b>Jun-13-2021</b>",
           22.2535
          ],
          [
           "Chi2 statistic for <b>predicted</b>",
           "<b style=\"color:#00c8e5;line-height:60px\">Reference</b>",
           "<span style=\"color:#AD0000\">⚠ <b>Drift detected</b></span>",
           "[2000:2499]",
           "From <b>Jun-13-2021</b> to <b>Jun-14-2021</b>",
           26.7924
          ],
          [
           "Chi2 statistic for <b>predicted</b>",
           "<b style=\"color:#00c8e5;line-height:60px\">Reference</b>",
           "<span style=\"color:#AD0000\">⚠ <b>Drift detected</b></span>",
           "[2500:2999]",
           "From <b>Jun-14-2021</b> to <b>Jun-15-2021</b>",
           32.3161
          ],
          [
           "Chi2 statistic for <b>predicted</b>",
           "<b style=\"color:#00c8e5;line-height:60px\">Reference</b>",
           "<span style=\"color:#AD0000\">⚠ <b>Drift detected</b></span>",
           "[3000:3499]",
           "From <b>Jun-15-2021</b> to <b>Jun-16-2021</b>",
           74.2171
          ],
          [
           "Chi2 statistic for <b>predicted</b>",
           "<b style=\"color:#00c8e5;line-height:60px\">Reference</b>",
           "<span style=\"color:#AD0000\">⚠ <b>Drift detected</b></span>",
           "[3500:3999]",
           "From <b>Jun-16-2021</b> to <b>Jun-17-2021</b>",
           11.6219
          ],
          [
           "Chi2 statistic for <b>predicted</b>",
           "<b style=\"color:#00c8e5;line-height:60px\">Reference</b>",
           "",
           "[4000:4499]",
           "From <b>Jun-17-2021</b> to <b>Jun-18-2021</b>",
           1.1974
          ],
          [
           "Chi2 statistic for <b>predicted</b>",
           "<b style=\"color:#00c8e5;line-height:60px\">Reference</b>",
           "<span style=\"color:#AD0000\">⚠ <b>Drift detected</b></span>",
           "[4500:4999]",
           "From <b>Jun-18-2021</b> to <b>Jun-19-2021</b>",
           47.2312
          ],
          [
           "Chi2 statistic for <b>predicted</b>",
           "<b style=\"color:#00c8e5;line-height:60px\">Reference</b>",
           "",
           "[5000:5499]",
           "From <b>Jun-19-2021</b> to <b>Jun-20-2021</b>",
           0.1325
          ],
          [
           "Chi2 statistic for <b>predicted</b>",
           "<b style=\"color:#00c8e5;line-height:60px\">Reference</b>",
           "",
           "[5500:5999]",
           "From <b>Jun-20-2021</b> to <b>Jun-21-2021</b>",
           0.6524
          ],
          [
           "Chi2 statistic for <b>predicted</b>",
           "<b style=\"color:#00c8e5;line-height:60px\">Reference</b>",
           "<span style=\"color:#AD0000\">⚠ <b>Drift detected</b></span>",
           "[6000:6499]",
           "From <b>Jun-21-2021</b> to <b>Jun-22-2021</b>",
           5.7661
          ],
          [
           "Chi2 statistic for <b>predicted</b>",
           "<b style=\"color:#00c8e5;line-height:60px\">Reference</b>",
           "<span style=\"color:#AD0000\">⚠ <b>Drift detected</b></span>",
           "[6500:6999]",
           "From <b>Jun-22-2021</b> to <b>Jun-23-2021</b>",
           23.7179
          ],
          [
           "Chi2 statistic for <b>predicted</b>",
           "<b style=\"color:#00c8e5;line-height:60px\">Reference</b>",
           "<span style=\"color:#AD0000\">⚠ <b>Drift detected</b></span>",
           "[7000:7499]",
           "From <b>Jun-23-2021</b> to <b>Jun-24-2021</b>",
           12.6199
          ],
          [
           "Chi2 statistic for <b>predicted</b>",
           "<b style=\"color:#00c8e5;line-height:60px\">Reference</b>",
           "<span style=\"color:#AD0000\">⚠ <b>Drift detected</b></span>",
           "[7500:7853]",
           "From <b>Jun-24-2021</b> to <b>Jun-25-2021</b>",
           22.5014
          ]
         ],
         "hovertemplate": "%{customdata[1]} &nbsp; &nbsp; %{customdata[2]} <br />Chunk: <b>%{customdata[3]}</b> &nbsp; &nbsp; %{customdata[4]} <br />%{customdata[0]}: <b>%{customdata[5]}</b><b r /><extra></extra>",
         "legendgroup": "metric_reference",
         "marker": {
          "color": "#00c8e5",
          "size": 5,
          "symbol": "circle"
         },
         "mode": "markers",
         "name": "Method",
         "showlegend": false,
         "type": "scatter",
         "x": [
          "2021-06-09T12:48:00",
          "2021-06-10T14:00:00",
          "2021-06-11T15:12:00",
          "2021-06-12T16:24:00",
          "2021-06-13T17:36:00",
          "2021-06-14T18:48:00",
          "2021-06-15T20:00:00",
          "2021-06-16T21:12:00",
          "2021-06-17T22:24:00",
          "2021-06-18T23:36:00",
          "2021-06-20T00:48:00",
          "2021-06-21T02:00:00",
          "2021-06-22T03:12:00",
          "2021-06-23T04:24:00",
          "2021-06-24T05:36:00",
          "2021-06-25T03:07:30"
         ],
         "xaxis": "x3",
         "y": [
          39.03400183022616,
          11.22716259138739,
          3.993057992304377,
          22.253451476550534,
          26.79242432950871,
          32.316121794230085,
          74.21706519622263,
          11.621880961146486,
          1.1973978491895931,
          47.23116627157917,
          0.13253858099968344,
          0.6524407241590716,
          5.7661390925654885,
          23.717902830698563,
          12.619865449343575,
          22.501443030020003,
          22.501443030020003
         ],
         "yaxis": "y3"
        },
        {
         "hoverinfo": "skip",
         "legendgroup": "metric_analysis",
         "line": {
          "color": "#00c8e5",
          "shape": "hv",
          "width": 2
         },
         "mode": "lines",
         "name": "Method",
         "showlegend": false,
         "type": "scatter",
         "x": [
          "2021-06-25T12:06:00",
          "2021-06-26T13:18:00",
          "2021-06-27T14:30:00",
          "2021-06-28T15:42:00",
          "2021-06-29T16:54:00",
          "2021-06-30T18:06:00",
          "2021-07-01T19:18:00",
          "2021-07-02T20:30:00",
          "2021-07-03T21:42:00",
          "2021-07-04T22:54:00",
          "2021-07-06T00:18:00",
          "2021-07-07T01:30:00",
          "2021-07-08T02:42:00",
          "2021-07-09T03:54:00",
          "2021-07-10T05:06:00",
          "2021-07-11T06:18:00",
          "2021-07-11T23:57:00"
         ],
         "xaxis": "x3",
         "y": [
          51.600513683963186,
          49.39035283983561,
          64.98936707873885,
          116.77909491755558,
          1.5698076884855003,
          3.993057992304377,
          35.59929240525617,
          20.83731136026035,
          51.600513683963186,
          1.5378888907333095,
          58.44807891094508,
          0.6432936434049179,
          2.3450538184895726,
          0.04653306862572677,
          45.122769764429826,
          36.280464355983476,
          36.280464355983476
         ],
         "yaxis": "y3"
        },
        {
         "customdata": [
          [
           "Chi2 statistic for <b>predicted</b>",
           "<b style=\"color:#00c8e5;line-height:60px\">Analysis</b>",
           "<span style=\"color:#AD0000\">⚠ <b>Drift detected</b></span>",
           "[0:499]",
           "From <b>Jun-25-2021</b> to <b>Jun-26-2021</b>",
           51.6005
          ],
          [
           "Chi2 statistic for <b>predicted</b>",
           "<b style=\"color:#00c8e5;line-height:60px\">Analysis</b>",
           "<span style=\"color:#AD0000\">⚠ <b>Drift detected</b></span>",
           "[500:999]",
           "From <b>Jun-26-2021</b> to <b>Jun-27-2021</b>",
           49.3904
          ],
          [
           "Chi2 statistic for <b>predicted</b>",
           "<b style=\"color:#00c8e5;line-height:60px\">Analysis</b>",
           "<span style=\"color:#AD0000\">⚠ <b>Drift detected</b></span>",
           "[1000:1499]",
           "From <b>Jun-27-2021</b> to <b>Jun-28-2021</b>",
           64.9894
          ],
          [
           "Chi2 statistic for <b>predicted</b>",
           "<b style=\"color:#00c8e5;line-height:60px\">Analysis</b>",
           "<span style=\"color:#AD0000\">⚠ <b>Drift detected</b></span>",
           "[1500:1999]",
           "From <b>Jun-28-2021</b> to <b>Jun-29-2021</b>",
           116.7791
          ],
          [
           "Chi2 statistic for <b>predicted</b>",
           "<b style=\"color:#00c8e5;line-height:60px\">Analysis</b>",
           "",
           "[2000:2499]",
           "From <b>Jun-29-2021</b> to <b>Jun-30-2021</b>",
           1.5698
          ],
          [
           "Chi2 statistic for <b>predicted</b>",
           "<b style=\"color:#00c8e5;line-height:60px\">Analysis</b>",
           "<span style=\"color:#AD0000\">⚠ <b>Drift detected</b></span>",
           "[2500:2999]",
           "From <b>Jun-30-2021</b> to <b>Jul-01-2021</b>",
           3.9931
          ],
          [
           "Chi2 statistic for <b>predicted</b>",
           "<b style=\"color:#00c8e5;line-height:60px\">Analysis</b>",
           "<span style=\"color:#AD0000\">⚠ <b>Drift detected</b></span>",
           "[3000:3499]",
           "From <b>Jul-01-2021</b> to <b>Jul-02-2021</b>",
           35.5993
          ],
          [
           "Chi2 statistic for <b>predicted</b>",
           "<b style=\"color:#00c8e5;line-height:60px\">Analysis</b>",
           "<span style=\"color:#AD0000\">⚠ <b>Drift detected</b></span>",
           "[3500:3999]",
           "From <b>Jul-02-2021</b> to <b>Jul-03-2021</b>",
           20.8373
          ],
          [
           "Chi2 statistic for <b>predicted</b>",
           "<b style=\"color:#00c8e5;line-height:60px\">Analysis</b>",
           "<span style=\"color:#AD0000\">⚠ <b>Drift detected</b></span>",
           "[4000:4499]",
           "From <b>Jul-03-2021</b> to <b>Jul-04-2021</b>",
           51.6005
          ],
          [
           "Chi2 statistic for <b>predicted</b>",
           "<b style=\"color:#00c8e5;line-height:60px\">Analysis</b>",
           "",
           "[4500:4999]",
           "From <b>Jul-04-2021</b> to <b>Jul-06-2021</b>",
           1.5379
          ],
          [
           "Chi2 statistic for <b>predicted</b>",
           "<b style=\"color:#00c8e5;line-height:60px\">Analysis</b>",
           "<span style=\"color:#AD0000\">⚠ <b>Drift detected</b></span>",
           "[5000:5499]",
           "From <b>Jul-06-2021</b> to <b>Jul-07-2021</b>",
           58.4481
          ],
          [
           "Chi2 statistic for <b>predicted</b>",
           "<b style=\"color:#00c8e5;line-height:60px\">Analysis</b>",
           "",
           "[5500:5999]",
           "From <b>Jul-07-2021</b> to <b>Jul-08-2021</b>",
           0.6433
          ],
          [
           "Chi2 statistic for <b>predicted</b>",
           "<b style=\"color:#00c8e5;line-height:60px\">Analysis</b>",
           "",
           "[6000:6499]",
           "From <b>Jul-08-2021</b> to <b>Jul-09-2021</b>",
           2.3451
          ],
          [
           "Chi2 statistic for <b>predicted</b>",
           "<b style=\"color:#00c8e5;line-height:60px\">Analysis</b>",
           "",
           "[6500:6999]",
           "From <b>Jul-09-2021</b> to <b>Jul-10-2021</b>",
           0.0465
          ],
          [
           "Chi2 statistic for <b>predicted</b>",
           "<b style=\"color:#00c8e5;line-height:60px\">Analysis</b>",
           "<span style=\"color:#AD0000\">⚠ <b>Drift detected</b></span>",
           "[7000:7499]",
           "From <b>Jul-10-2021</b> to <b>Jul-11-2021</b>",
           45.1228
          ],
          [
           "Chi2 statistic for <b>predicted</b>",
           "<b style=\"color:#00c8e5;line-height:60px\">Analysis</b>",
           "<span style=\"color:#AD0000\">⚠ <b>Drift detected</b></span>",
           "[7500:7853]",
           "From <b>Jul-11-2021</b> to <b>Jul-11-2021</b>",
           36.2805
          ]
         ],
         "hovertemplate": "%{customdata[1]} &nbsp; &nbsp; %{customdata[2]} <br />Chunk: <b>%{customdata[3]}</b> &nbsp; &nbsp; %{customdata[4]} <br />%{customdata[0]}: <b>%{customdata[5]}</b><b r /><extra></extra>",
         "legendgroup": "metric_analysis",
         "marker": {
          "color": "#00c8e5",
          "size": 5,
          "symbol": "circle"
         },
         "mode": "markers",
         "name": "Method",
         "showlegend": false,
         "type": "scatter",
         "x": [
          "2021-06-26T00:42:00",
          "2021-06-27T01:54:00",
          "2021-06-28T03:06:00",
          "2021-06-29T04:18:00",
          "2021-06-30T05:30:00",
          "2021-07-01T06:42:00",
          "2021-07-02T07:54:00",
          "2021-07-03T09:06:00",
          "2021-07-04T10:18:00",
          "2021-07-05T11:36:00",
          "2021-07-06T12:54:00",
          "2021-07-07T14:06:00",
          "2021-07-08T15:18:00",
          "2021-07-09T16:30:00",
          "2021-07-10T17:42:00",
          "2021-07-11T15:07:30"
         ],
         "xaxis": "x3",
         "y": [
          51.600513683963186,
          49.39035283983561,
          64.98936707873885,
          116.77909491755558,
          1.5698076884855003,
          3.993057992304377,
          35.59929240525617,
          20.83731136026035,
          51.600513683963186,
          1.5378888907333095,
          58.44807891094508,
          0.6432936434049179,
          2.3450538184895726,
          0.04653306862572677,
          45.122769764429826,
          36.280464355983476,
          36.280464355983476
         ],
         "yaxis": "y3"
        },
        {
         "hoverinfo": "skip",
         "legendgroup": "alert",
         "marker": {
          "color": "#DD4040",
          "size": 8,
          "symbol": "diamond"
         },
         "mode": "markers",
         "name": "Alert",
         "showlegend": false,
         "type": "scatter",
         "x": [
          "2021-06-26T00:42:00",
          "2021-06-27T01:54:00",
          "2021-06-28T03:06:00",
          "2021-06-29T04:18:00",
          "2021-07-01T06:42:00",
          "2021-07-02T07:54:00",
          "2021-07-03T09:06:00",
          "2021-07-04T10:18:00",
          "2021-07-06T12:54:00",
          "2021-07-10T17:42:00",
          "2021-07-11T15:07:30"
         ],
         "xaxis": "x3",
         "y": [
          51.600513683963186,
          49.39035283983561,
          64.98936707873885,
          116.77909491755558,
          3.993057992304377,
          35.59929240525617,
          20.83731136026035,
          51.600513683963186,
          58.44807891094508,
          45.122769764429826,
          36.280464355983476
         ],
         "yaxis": "y3"
        }
       ],
       "layout": {
        "annotations": [
         {
          "font": {
           "size": 16
          },
          "showarrow": false,
          "text": "Kolmogorov-Smirnov statistic for <b>co2</b>",
          "x": 0.5,
          "xanchor": "center",
          "xref": "paper",
          "y": 1,
          "yanchor": "bottom",
          "yref": "paper"
         },
         {
          "font": {
           "size": 16
          },
          "showarrow": false,
          "text": "Kolmogorov-Smirnov statistic for <b>temperature</b>",
          "x": 0.5,
          "xanchor": "center",
          "xref": "paper",
          "y": 0.6111111111111112,
          "yanchor": "bottom",
          "yref": "paper"
         },
         {
          "font": {
           "size": 16
          },
          "showarrow": false,
          "text": "Chi2 statistic for <b>predicted</b>",
          "x": 0.5,
          "xanchor": "center",
          "xref": "paper",
          "y": 0.22222222222222224,
          "yanchor": "bottom",
          "yref": "paper"
         },
         {
          "showarrow": false,
          "text": "Reference",
          "x": "2021-06-16T21:12:00",
          "xref": "x",
          "xshift": 10,
          "y": 1.01,
          "yref": "y domain"
         },
         {
          "showarrow": false,
          "text": "Analysis",
          "x": "2021-07-03T09:10:30",
          "xref": "x",
          "xshift": 15,
          "y": 1.01,
          "yref": "y domain"
         },
         {
          "showarrow": false,
          "text": "Reference",
          "x": "2021-06-16T21:12:00",
          "xref": "x2",
          "xshift": 10,
          "y": 1.01,
          "yref": "y2 domain"
         },
         {
          "showarrow": false,
          "text": "Analysis",
          "x": "2021-07-03T09:10:30",
          "xref": "x2",
          "xshift": 15,
          "y": 1.01,
          "yref": "y2 domain"
         },
         {
          "showarrow": false,
          "text": "Reference",
          "x": "2021-06-16T21:12:00",
          "xref": "x3",
          "xshift": 10,
          "y": 1.01,
          "yref": "y3 domain"
         },
         {
          "showarrow": false,
          "text": "Analysis",
          "x": "2021-07-03T09:10:30",
          "xref": "x3",
          "xshift": 15,
          "y": 1.01,
          "yref": "y3 domain"
         }
        ],
        "height": 1500,
        "hoverlabel": {
         "bgcolor": "white",
         "font": {
          "size": 14
         }
        },
        "legend": {
         "itemclick": false,
         "itemdoubleclick": false,
         "traceorder": "grouped"
        },
        "paper_bgcolor": "rgba(255,255,255,1)",
        "plot_bgcolor": "rgba(255,255,255,1)",
        "shapes": [
         {
          "layer": "below",
          "line": {
           "color": "#666666",
           "width": 1
          },
          "type": "line",
          "x0": "2021-06-25T12:06:00",
          "x1": "2021-06-25T12:06:00",
          "xref": "x",
          "y0": 0,
          "y1": 1,
          "yref": "y domain"
         },
         {
          "layer": "below",
          "line": {
           "color": "#666666",
           "width": 1
          },
          "type": "line",
          "x0": "2021-06-25T12:06:00",
          "x1": "2021-06-25T12:06:00",
          "xref": "x",
          "y0": 0,
          "y1": 1,
          "yref": "y domain"
         },
         {
          "layer": "below",
          "line": {
           "color": "#666666",
           "width": 1
          },
          "type": "line",
          "x0": "2021-06-25T12:06:00",
          "x1": "2021-06-25T12:06:00",
          "xref": "x2",
          "y0": 0,
          "y1": 1,
          "yref": "y2 domain"
         },
         {
          "layer": "below",
          "line": {
           "color": "#666666",
           "width": 1
          },
          "type": "line",
          "x0": "2021-06-25T12:06:00",
          "x1": "2021-06-25T12:06:00",
          "xref": "x",
          "y0": 0,
          "y1": 1,
          "yref": "y domain"
         },
         {
          "layer": "below",
          "line": {
           "color": "#666666",
           "width": 1
          },
          "type": "line",
          "x0": "2021-06-25T12:06:00",
          "x1": "2021-06-25T12:06:00",
          "xref": "x2",
          "y0": 0,
          "y1": 1,
          "yref": "y2 domain"
         },
         {
          "layer": "below",
          "line": {
           "color": "#666666",
           "width": 1
          },
          "type": "line",
          "x0": "2021-06-25T12:06:00",
          "x1": "2021-06-25T12:06:00",
          "xref": "x3",
          "y0": 0,
          "y1": 1,
          "yref": "y3 domain"
         }
        ],
        "template": {
         "data": {
          "bar": [
           {
            "error_x": {
             "color": "#2a3f5f"
            },
            "error_y": {
             "color": "#2a3f5f"
            },
            "marker": {
             "line": {
              "color": "#E5ECF6",
              "width": 0.5
             },
             "pattern": {
              "fillmode": "overlay",
              "size": 10,
              "solidity": 0.2
             }
            },
            "type": "bar"
           }
          ],
          "barpolar": [
           {
            "marker": {
             "line": {
              "color": "#E5ECF6",
              "width": 0.5
             },
             "pattern": {
              "fillmode": "overlay",
              "size": 10,
              "solidity": 0.2
             }
            },
            "type": "barpolar"
           }
          ],
          "carpet": [
           {
            "aaxis": {
             "endlinecolor": "#2a3f5f",
             "gridcolor": "white",
             "linecolor": "white",
             "minorgridcolor": "white",
             "startlinecolor": "#2a3f5f"
            },
            "baxis": {
             "endlinecolor": "#2a3f5f",
             "gridcolor": "white",
             "linecolor": "white",
             "minorgridcolor": "white",
             "startlinecolor": "#2a3f5f"
            },
            "type": "carpet"
           }
          ],
          "choropleth": [
           {
            "colorbar": {
             "outlinewidth": 0,
             "ticks": ""
            },
            "type": "choropleth"
           }
          ],
          "contour": [
           {
            "colorbar": {
             "outlinewidth": 0,
             "ticks": ""
            },
            "colorscale": [
             [
              0,
              "#0d0887"
             ],
             [
              0.1111111111111111,
              "#46039f"
             ],
             [
              0.2222222222222222,
              "#7201a8"
             ],
             [
              0.3333333333333333,
              "#9c179e"
             ],
             [
              0.4444444444444444,
              "#bd3786"
             ],
             [
              0.5555555555555556,
              "#d8576b"
             ],
             [
              0.6666666666666666,
              "#ed7953"
             ],
             [
              0.7777777777777778,
              "#fb9f3a"
             ],
             [
              0.8888888888888888,
              "#fdca26"
             ],
             [
              1,
              "#f0f921"
             ]
            ],
            "type": "contour"
           }
          ],
          "contourcarpet": [
           {
            "colorbar": {
             "outlinewidth": 0,
             "ticks": ""
            },
            "type": "contourcarpet"
           }
          ],
          "heatmap": [
           {
            "colorbar": {
             "outlinewidth": 0,
             "ticks": ""
            },
            "colorscale": [
             [
              0,
              "#0d0887"
             ],
             [
              0.1111111111111111,
              "#46039f"
             ],
             [
              0.2222222222222222,
              "#7201a8"
             ],
             [
              0.3333333333333333,
              "#9c179e"
             ],
             [
              0.4444444444444444,
              "#bd3786"
             ],
             [
              0.5555555555555556,
              "#d8576b"
             ],
             [
              0.6666666666666666,
              "#ed7953"
             ],
             [
              0.7777777777777778,
              "#fb9f3a"
             ],
             [
              0.8888888888888888,
              "#fdca26"
             ],
             [
              1,
              "#f0f921"
             ]
            ],
            "type": "heatmap"
           }
          ],
          "heatmapgl": [
           {
            "colorbar": {
             "outlinewidth": 0,
             "ticks": ""
            },
            "colorscale": [
             [
              0,
              "#0d0887"
             ],
             [
              0.1111111111111111,
              "#46039f"
             ],
             [
              0.2222222222222222,
              "#7201a8"
             ],
             [
              0.3333333333333333,
              "#9c179e"
             ],
             [
              0.4444444444444444,
              "#bd3786"
             ],
             [
              0.5555555555555556,
              "#d8576b"
             ],
             [
              0.6666666666666666,
              "#ed7953"
             ],
             [
              0.7777777777777778,
              "#fb9f3a"
             ],
             [
              0.8888888888888888,
              "#fdca26"
             ],
             [
              1,
              "#f0f921"
             ]
            ],
            "type": "heatmapgl"
           }
          ],
          "histogram": [
           {
            "marker": {
             "pattern": {
              "fillmode": "overlay",
              "size": 10,
              "solidity": 0.2
             }
            },
            "type": "histogram"
           }
          ],
          "histogram2d": [
           {
            "colorbar": {
             "outlinewidth": 0,
             "ticks": ""
            },
            "colorscale": [
             [
              0,
              "#0d0887"
             ],
             [
              0.1111111111111111,
              "#46039f"
             ],
             [
              0.2222222222222222,
              "#7201a8"
             ],
             [
              0.3333333333333333,
              "#9c179e"
             ],
             [
              0.4444444444444444,
              "#bd3786"
             ],
             [
              0.5555555555555556,
              "#d8576b"
             ],
             [
              0.6666666666666666,
              "#ed7953"
             ],
             [
              0.7777777777777778,
              "#fb9f3a"
             ],
             [
              0.8888888888888888,
              "#fdca26"
             ],
             [
              1,
              "#f0f921"
             ]
            ],
            "type": "histogram2d"
           }
          ],
          "histogram2dcontour": [
           {
            "colorbar": {
             "outlinewidth": 0,
             "ticks": ""
            },
            "colorscale": [
             [
              0,
              "#0d0887"
             ],
             [
              0.1111111111111111,
              "#46039f"
             ],
             [
              0.2222222222222222,
              "#7201a8"
             ],
             [
              0.3333333333333333,
              "#9c179e"
             ],
             [
              0.4444444444444444,
              "#bd3786"
             ],
             [
              0.5555555555555556,
              "#d8576b"
             ],
             [
              0.6666666666666666,
              "#ed7953"
             ],
             [
              0.7777777777777778,
              "#fb9f3a"
             ],
             [
              0.8888888888888888,
              "#fdca26"
             ],
             [
              1,
              "#f0f921"
             ]
            ],
            "type": "histogram2dcontour"
           }
          ],
          "mesh3d": [
           {
            "colorbar": {
             "outlinewidth": 0,
             "ticks": ""
            },
            "type": "mesh3d"
           }
          ],
          "parcoords": [
           {
            "line": {
             "colorbar": {
              "outlinewidth": 0,
              "ticks": ""
             }
            },
            "type": "parcoords"
           }
          ],
          "pie": [
           {
            "automargin": true,
            "type": "pie"
           }
          ],
          "scatter": [
           {
            "fillpattern": {
             "fillmode": "overlay",
             "size": 10,
             "solidity": 0.2
            },
            "type": "scatter"
           }
          ],
          "scatter3d": [
           {
            "line": {
             "colorbar": {
              "outlinewidth": 0,
              "ticks": ""
             }
            },
            "marker": {
             "colorbar": {
              "outlinewidth": 0,
              "ticks": ""
             }
            },
            "type": "scatter3d"
           }
          ],
          "scattercarpet": [
           {
            "marker": {
             "colorbar": {
              "outlinewidth": 0,
              "ticks": ""
             }
            },
            "type": "scattercarpet"
           }
          ],
          "scattergeo": [
           {
            "marker": {
             "colorbar": {
              "outlinewidth": 0,
              "ticks": ""
             }
            },
            "type": "scattergeo"
           }
          ],
          "scattergl": [
           {
            "marker": {
             "colorbar": {
              "outlinewidth": 0,
              "ticks": ""
             }
            },
            "type": "scattergl"
           }
          ],
          "scattermapbox": [
           {
            "marker": {
             "colorbar": {
              "outlinewidth": 0,
              "ticks": ""
             }
            },
            "type": "scattermapbox"
           }
          ],
          "scatterpolar": [
           {
            "marker": {
             "colorbar": {
              "outlinewidth": 0,
              "ticks": ""
             }
            },
            "type": "scatterpolar"
           }
          ],
          "scatterpolargl": [
           {
            "marker": {
             "colorbar": {
              "outlinewidth": 0,
              "ticks": ""
             }
            },
            "type": "scatterpolargl"
           }
          ],
          "scatterternary": [
           {
            "marker": {
             "colorbar": {
              "outlinewidth": 0,
              "ticks": ""
             }
            },
            "type": "scatterternary"
           }
          ],
          "surface": [
           {
            "colorbar": {
             "outlinewidth": 0,
             "ticks": ""
            },
            "colorscale": [
             [
              0,
              "#0d0887"
             ],
             [
              0.1111111111111111,
              "#46039f"
             ],
             [
              0.2222222222222222,
              "#7201a8"
             ],
             [
              0.3333333333333333,
              "#9c179e"
             ],
             [
              0.4444444444444444,
              "#bd3786"
             ],
             [
              0.5555555555555556,
              "#d8576b"
             ],
             [
              0.6666666666666666,
              "#ed7953"
             ],
             [
              0.7777777777777778,
              "#fb9f3a"
             ],
             [
              0.8888888888888888,
              "#fdca26"
             ],
             [
              1,
              "#f0f921"
             ]
            ],
            "type": "surface"
           }
          ],
          "table": [
           {
            "cells": {
             "fill": {
              "color": "#EBF0F8"
             },
             "line": {
              "color": "white"
             }
            },
            "header": {
             "fill": {
              "color": "#C8D4E3"
             },
             "line": {
              "color": "white"
             }
            },
            "type": "table"
           }
          ]
         },
         "layout": {
          "annotationdefaults": {
           "arrowcolor": "#2a3f5f",
           "arrowhead": 0,
           "arrowwidth": 1
          },
          "autotypenumbers": "strict",
          "coloraxis": {
           "colorbar": {
            "outlinewidth": 0,
            "ticks": ""
           }
          },
          "colorscale": {
           "diverging": [
            [
             0,
             "#8e0152"
            ],
            [
             0.1,
             "#c51b7d"
            ],
            [
             0.2,
             "#de77ae"
            ],
            [
             0.3,
             "#f1b6da"
            ],
            [
             0.4,
             "#fde0ef"
            ],
            [
             0.5,
             "#f7f7f7"
            ],
            [
             0.6,
             "#e6f5d0"
            ],
            [
             0.7,
             "#b8e186"
            ],
            [
             0.8,
             "#7fbc41"
            ],
            [
             0.9,
             "#4d9221"
            ],
            [
             1,
             "#276419"
            ]
           ],
           "sequential": [
            [
             0,
             "#0d0887"
            ],
            [
             0.1111111111111111,
             "#46039f"
            ],
            [
             0.2222222222222222,
             "#7201a8"
            ],
            [
             0.3333333333333333,
             "#9c179e"
            ],
            [
             0.4444444444444444,
             "#bd3786"
            ],
            [
             0.5555555555555556,
             "#d8576b"
            ],
            [
             0.6666666666666666,
             "#ed7953"
            ],
            [
             0.7777777777777778,
             "#fb9f3a"
            ],
            [
             0.8888888888888888,
             "#fdca26"
            ],
            [
             1,
             "#f0f921"
            ]
           ],
           "sequentialminus": [
            [
             0,
             "#0d0887"
            ],
            [
             0.1111111111111111,
             "#46039f"
            ],
            [
             0.2222222222222222,
             "#7201a8"
            ],
            [
             0.3333333333333333,
             "#9c179e"
            ],
            [
             0.4444444444444444,
             "#bd3786"
            ],
            [
             0.5555555555555556,
             "#d8576b"
            ],
            [
             0.6666666666666666,
             "#ed7953"
            ],
            [
             0.7777777777777778,
             "#fb9f3a"
            ],
            [
             0.8888888888888888,
             "#fdca26"
            ],
            [
             1,
             "#f0f921"
            ]
           ]
          },
          "colorway": [
           "#636efa",
           "#EF553B",
           "#00cc96",
           "#ab63fa",
           "#FFA15A",
           "#19d3f3",
           "#FF6692",
           "#B6E880",
           "#FF97FF",
           "#FECB52"
          ],
          "font": {
           "color": "#2a3f5f"
          },
          "geo": {
           "bgcolor": "white",
           "lakecolor": "white",
           "landcolor": "#E5ECF6",
           "showlakes": true,
           "showland": true,
           "subunitcolor": "white"
          },
          "hoverlabel": {
           "align": "left"
          },
          "hovermode": "closest",
          "mapbox": {
           "style": "light"
          },
          "paper_bgcolor": "white",
          "plot_bgcolor": "#E5ECF6",
          "polar": {
           "angularaxis": {
            "gridcolor": "white",
            "linecolor": "white",
            "ticks": ""
           },
           "bgcolor": "#E5ECF6",
           "radialaxis": {
            "gridcolor": "white",
            "linecolor": "white",
            "ticks": ""
           }
          },
          "scene": {
           "xaxis": {
            "backgroundcolor": "#E5ECF6",
            "gridcolor": "white",
            "gridwidth": 2,
            "linecolor": "white",
            "showbackground": true,
            "ticks": "",
            "zerolinecolor": "white"
           },
           "yaxis": {
            "backgroundcolor": "#E5ECF6",
            "gridcolor": "white",
            "gridwidth": 2,
            "linecolor": "white",
            "showbackground": true,
            "ticks": "",
            "zerolinecolor": "white"
           },
           "zaxis": {
            "backgroundcolor": "#E5ECF6",
            "gridcolor": "white",
            "gridwidth": 2,
            "linecolor": "white",
            "showbackground": true,
            "ticks": "",
            "zerolinecolor": "white"
           }
          },
          "shapedefaults": {
           "line": {
            "color": "#2a3f5f"
           }
          },
          "ternary": {
           "aaxis": {
            "gridcolor": "white",
            "linecolor": "white",
            "ticks": ""
           },
           "baxis": {
            "gridcolor": "white",
            "linecolor": "white",
            "ticks": ""
           },
           "bgcolor": "#E5ECF6",
           "caxis": {
            "gridcolor": "white",
            "linecolor": "white",
            "ticks": ""
           }
          },
          "title": {
           "x": 0.05
          },
          "xaxis": {
           "automargin": true,
           "gridcolor": "white",
           "linecolor": "white",
           "ticks": "",
           "title": {
            "standoff": 15
           },
           "zerolinecolor": "white",
           "zerolinewidth": 2
          },
          "yaxis": {
           "automargin": true,
           "gridcolor": "white",
           "linecolor": "white",
           "ticks": "",
           "title": {
            "standoff": 15
           },
           "zerolinecolor": "white",
           "zerolinewidth": 2
          }
         }
        },
        "title": {
         "text": "Univariate drift metrics"
        },
        "xaxis": {
         "anchor": "y",
         "domain": [
          0,
          1
         ],
         "linecolor": "#3b0280",
         "matches": "x",
         "mirror": true,
         "showgrid": false,
         "title": {
          "text": "Time"
         },
         "zeroline": false
        },
        "xaxis2": {
         "anchor": "y2",
         "domain": [
          0,
          1
         ],
         "linecolor": "#3b0280",
         "matches": "x",
         "mirror": true,
         "showgrid": false,
         "title": {
          "text": "Time"
         },
         "zeroline": false
        },
        "xaxis3": {
         "anchor": "y3",
         "domain": [
          0,
          1
         ],
         "linecolor": "#3b0280",
         "matches": "x",
         "mirror": true,
         "showgrid": false,
         "title": {
          "text": "Time"
         },
         "zeroline": false
        },
        "yaxis": {
         "anchor": "x",
         "domain": [
          0.7777777777777778,
          1
         ],
         "linecolor": "#3b0280",
         "mirror": true,
         "showgrid": false,
         "title": {
          "text": "Kolmogorov-Smirnov statistic"
         },
         "zeroline": false
        },
        "yaxis2": {
         "anchor": "x2",
         "domain": [
          0.3888888888888889,
          0.6111111111111112
         ],
         "linecolor": "#3b0280",
         "mirror": true,
         "showgrid": false,
         "title": {
          "text": "Kolmogorov-Smirnov statistic"
         },
         "zeroline": false
        },
        "yaxis3": {
         "anchor": "x3",
         "domain": [
          0,
          0.22222222222222224
         ],
         "linecolor": "#3b0280",
         "mirror": true,
         "showgrid": false,
         "title": {
          "text": "Chi2 statistic"
         },
         "zeroline": false
        }
       }
      }
     },
     "metadata": {},
     "output_type": "display_data"
    }
   ],
   "source": [
    "univariate_drift_calc = nml.UnivariateDriftCalculator(\n",
    "    column_names=features + [y_pred],\n",
    "    treat_as_categorical=y_pred,\n",
    "    timestamp_column_name=timestamp,\n",
    "    continuous_methods=['kolmogorov_smirnov'],\n",
    "    categorical_methods=['chi2'],\n",
    "    chunk_size=500\n",
    ")\n",
    "\n",
    "univariate_drift_calc.fit(df_test)\n",
    "univariate_drift_results = univariate_drift_calc.calculate(df_prod)\n",
    "univariate_drift_results.plot()\n"
   ]
  },
  {
   "cell_type": "code",
   "execution_count": 8,
   "metadata": {},
   "outputs": [
    {
     "data": {
      "application/vnd.plotly.v1+json": {
       "config": {
        "plotlyServerURL": "https://plot.ly"
       },
       "data": [
        {
         "hoverinfo": "skip",
         "legendgroup": "metric_reference",
         "line": {
          "color": "#00c8e5",
          "shape": "hv",
          "width": 2
         },
         "mode": "lines",
         "name": "Method",
         "showlegend": true,
         "type": "scatter",
         "x": [
          "2021-06-09T00:12:00",
          "2021-06-10T01:24:00",
          "2021-06-11T02:36:00",
          "2021-06-12T03:48:00",
          "2021-06-13T05:00:00",
          "2021-06-14T06:12:00",
          "2021-06-15T07:24:00",
          "2021-06-16T08:36:00",
          "2021-06-17T09:48:00",
          "2021-06-18T11:00:00",
          "2021-06-19T12:12:00",
          "2021-06-20T13:24:00",
          "2021-06-21T14:36:00",
          "2021-06-22T15:48:00",
          "2021-06-23T17:00:00",
          "2021-06-24T18:12:00",
          "2021-06-25T12:03:00"
         ],
         "xaxis": "x",
         "y": [
          0.19633307868601987,
          0.3578436465495289,
          0.4962174688057041,
          0.37215329768270944,
          0.7091240132416603,
          0.16080468551056787,
          0.17958747135217723,
          0.2957361853832442,
          0.31135472370766487,
          0.38706391647568117,
          0.31718563789152027,
          0.39889126559714794,
          0.5974025974025974,
          0.39163025210084035,
          0.5162740005092946,
          0.581869111280876,
          0.581869111280876
         ],
         "yaxis": "y"
        },
        {
         "customdata": [
          [
           "Kolmogorov-Smirnov statistic for <b>temperature</b>",
           "<b style=\"color:#00c8e5;line-height:60px\">Reference</b>",
           "",
           "[0:499]",
           "From <b>Jun-09-2021</b> to <b>Jun-10-2021</b>",
           0.1963
          ],
          [
           "Kolmogorov-Smirnov statistic for <b>temperature</b>",
           "<b style=\"color:#00c8e5;line-height:60px\">Reference</b>",
           "",
           "[500:999]",
           "From <b>Jun-10-2021</b> to <b>Jun-11-2021</b>",
           0.3578
          ],
          [
           "Kolmogorov-Smirnov statistic for <b>temperature</b>",
           "<b style=\"color:#00c8e5;line-height:60px\">Reference</b>",
           "",
           "[1000:1499]",
           "From <b>Jun-11-2021</b> to <b>Jun-12-2021</b>",
           0.4962
          ],
          [
           "Kolmogorov-Smirnov statistic for <b>temperature</b>",
           "<b style=\"color:#00c8e5;line-height:60px\">Reference</b>",
           "",
           "[1500:1999]",
           "From <b>Jun-12-2021</b> to <b>Jun-13-2021</b>",
           0.3722
          ],
          [
           "Kolmogorov-Smirnov statistic for <b>temperature</b>",
           "<b style=\"color:#00c8e5;line-height:60px\">Reference</b>",
           "",
           "[2000:2499]",
           "From <b>Jun-13-2021</b> to <b>Jun-14-2021</b>",
           0.7091
          ],
          [
           "Kolmogorov-Smirnov statistic for <b>temperature</b>",
           "<b style=\"color:#00c8e5;line-height:60px\">Reference</b>",
           "",
           "[2500:2999]",
           "From <b>Jun-14-2021</b> to <b>Jun-15-2021</b>",
           0.1608
          ],
          [
           "Kolmogorov-Smirnov statistic for <b>temperature</b>",
           "<b style=\"color:#00c8e5;line-height:60px\">Reference</b>",
           "",
           "[3000:3499]",
           "From <b>Jun-15-2021</b> to <b>Jun-16-2021</b>",
           0.1796
          ],
          [
           "Kolmogorov-Smirnov statistic for <b>temperature</b>",
           "<b style=\"color:#00c8e5;line-height:60px\">Reference</b>",
           "",
           "[3500:3999]",
           "From <b>Jun-16-2021</b> to <b>Jun-17-2021</b>",
           0.2957
          ],
          [
           "Kolmogorov-Smirnov statistic for <b>temperature</b>",
           "<b style=\"color:#00c8e5;line-height:60px\">Reference</b>",
           "",
           "[4000:4499]",
           "From <b>Jun-17-2021</b> to <b>Jun-18-2021</b>",
           0.3114
          ],
          [
           "Kolmogorov-Smirnov statistic for <b>temperature</b>",
           "<b style=\"color:#00c8e5;line-height:60px\">Reference</b>",
           "",
           "[4500:4999]",
           "From <b>Jun-18-2021</b> to <b>Jun-19-2021</b>",
           0.3871
          ],
          [
           "Kolmogorov-Smirnov statistic for <b>temperature</b>",
           "<b style=\"color:#00c8e5;line-height:60px\">Reference</b>",
           "",
           "[5000:5499]",
           "From <b>Jun-19-2021</b> to <b>Jun-20-2021</b>",
           0.3172
          ],
          [
           "Kolmogorov-Smirnov statistic for <b>temperature</b>",
           "<b style=\"color:#00c8e5;line-height:60px\">Reference</b>",
           "",
           "[5500:5999]",
           "From <b>Jun-20-2021</b> to <b>Jun-21-2021</b>",
           0.3989
          ],
          [
           "Kolmogorov-Smirnov statistic for <b>temperature</b>",
           "<b style=\"color:#00c8e5;line-height:60px\">Reference</b>",
           "",
           "[6000:6499]",
           "From <b>Jun-21-2021</b> to <b>Jun-22-2021</b>",
           0.5974
          ],
          [
           "Kolmogorov-Smirnov statistic for <b>temperature</b>",
           "<b style=\"color:#00c8e5;line-height:60px\">Reference</b>",
           "",
           "[6500:6999]",
           "From <b>Jun-22-2021</b> to <b>Jun-23-2021</b>",
           0.3916
          ],
          [
           "Kolmogorov-Smirnov statistic for <b>temperature</b>",
           "<b style=\"color:#00c8e5;line-height:60px\">Reference</b>",
           "",
           "[7000:7499]",
           "From <b>Jun-23-2021</b> to <b>Jun-24-2021</b>",
           0.5163
          ],
          [
           "Kolmogorov-Smirnov statistic for <b>temperature</b>",
           "<b style=\"color:#00c8e5;line-height:60px\">Reference</b>",
           "",
           "[7500:7853]",
           "From <b>Jun-24-2021</b> to <b>Jun-25-2021</b>",
           0.5819
          ]
         ],
         "hovertemplate": "%{customdata[1]} &nbsp; &nbsp; %{customdata[2]} <br />Chunk: <b>%{customdata[3]}</b> &nbsp; &nbsp; %{customdata[4]} <br />%{customdata[0]}: <b>%{customdata[5]}</b><b r /><extra></extra>",
         "legendgroup": "metric_reference",
         "marker": {
          "color": "#00c8e5",
          "size": 5,
          "symbol": "circle"
         },
         "mode": "markers",
         "name": "Method",
         "showlegend": false,
         "type": "scatter",
         "x": [
          "2021-06-09T12:48:00",
          "2021-06-10T14:00:00",
          "2021-06-11T15:12:00",
          "2021-06-12T16:24:00",
          "2021-06-13T17:36:00",
          "2021-06-14T18:48:00",
          "2021-06-15T20:00:00",
          "2021-06-16T21:12:00",
          "2021-06-17T22:24:00",
          "2021-06-18T23:36:00",
          "2021-06-20T00:48:00",
          "2021-06-21T02:00:00",
          "2021-06-22T03:12:00",
          "2021-06-23T04:24:00",
          "2021-06-24T05:36:00",
          "2021-06-25T03:07:30"
         ],
         "xaxis": "x",
         "y": [
          0.19633307868601987,
          0.3578436465495289,
          0.4962174688057041,
          0.37215329768270944,
          0.7091240132416603,
          0.16080468551056787,
          0.17958747135217723,
          0.2957361853832442,
          0.31135472370766487,
          0.38706391647568117,
          0.31718563789152027,
          0.39889126559714794,
          0.5974025974025974,
          0.39163025210084035,
          0.5162740005092946,
          0.581869111280876,
          0.581869111280876
         ],
         "yaxis": "y"
        },
        {
         "hoverinfo": "skip",
         "legendgroup": "metric_analysis",
         "line": {
          "color": "#00c8e5",
          "shape": "hv",
          "width": 2
         },
         "mode": "lines",
         "name": "Method",
         "showlegend": false,
         "type": "scatter",
         "x": [
          "2021-06-25T12:06:00",
          "2021-06-26T13:18:00",
          "2021-06-27T14:30:00",
          "2021-06-28T15:42:00",
          "2021-06-29T16:54:00",
          "2021-06-30T18:06:00",
          "2021-07-01T19:18:00",
          "2021-07-02T20:30:00",
          "2021-07-03T21:42:00",
          "2021-07-04T22:54:00",
          "2021-07-06T00:18:00",
          "2021-07-07T01:30:00",
          "2021-07-08T02:42:00",
          "2021-07-09T03:54:00",
          "2021-07-10T05:06:00",
          "2021-07-11T06:18:00",
          "2021-07-11T23:57:00"
         ],
         "xaxis": "x",
         "y": [
          0.8243269671504966,
          0.9446625923096511,
          0.6460147695441814,
          0.21235752482811307,
          0.41401018589253885,
          0.42473236567354217,
          0.20938884644766997,
          0.5670995670995671,
          0.8062775655716832,
          0.5874036159918513,
          0.17659842118665647,
          0.4269162210338681,
          0.2711652661064426,
          0.30177183600713015,
          0.21657754010695188,
          0.2476445123503947,
          0.2476445123503947
         ],
         "yaxis": "y"
        },
        {
         "customdata": [
          [
           "Kolmogorov-Smirnov statistic for <b>temperature</b>",
           "<b style=\"color:#00c8e5;line-height:60px\">Analysis</b>",
           "",
           "[0:499]",
           "From <b>Jun-25-2021</b> to <b>Jun-26-2021</b>",
           0.8243
          ],
          [
           "Kolmogorov-Smirnov statistic for <b>temperature</b>",
           "<b style=\"color:#00c8e5;line-height:60px\">Analysis</b>",
           "<span style=\"color:#AD0000\">⚠ <b>Drift detected</b></span>",
           "[500:999]",
           "From <b>Jun-26-2021</b> to <b>Jun-27-2021</b>",
           0.9447
          ],
          [
           "Kolmogorov-Smirnov statistic for <b>temperature</b>",
           "<b style=\"color:#00c8e5;line-height:60px\">Analysis</b>",
           "",
           "[1000:1499]",
           "From <b>Jun-27-2021</b> to <b>Jun-28-2021</b>",
           0.646
          ],
          [
           "Kolmogorov-Smirnov statistic for <b>temperature</b>",
           "<b style=\"color:#00c8e5;line-height:60px\">Analysis</b>",
           "",
           "[1500:1999]",
           "From <b>Jun-28-2021</b> to <b>Jun-29-2021</b>",
           0.2124
          ],
          [
           "Kolmogorov-Smirnov statistic for <b>temperature</b>",
           "<b style=\"color:#00c8e5;line-height:60px\">Analysis</b>",
           "",
           "[2000:2499]",
           "From <b>Jun-29-2021</b> to <b>Jun-30-2021</b>",
           0.414
          ],
          [
           "Kolmogorov-Smirnov statistic for <b>temperature</b>",
           "<b style=\"color:#00c8e5;line-height:60px\">Analysis</b>",
           "",
           "[2500:2999]",
           "From <b>Jun-30-2021</b> to <b>Jul-01-2021</b>",
           0.4247
          ],
          [
           "Kolmogorov-Smirnov statistic for <b>temperature</b>",
           "<b style=\"color:#00c8e5;line-height:60px\">Analysis</b>",
           "",
           "[3000:3499]",
           "From <b>Jul-01-2021</b> to <b>Jul-02-2021</b>",
           0.2094
          ],
          [
           "Kolmogorov-Smirnov statistic for <b>temperature</b>",
           "<b style=\"color:#00c8e5;line-height:60px\">Analysis</b>",
           "",
           "[3500:3999]",
           "From <b>Jul-02-2021</b> to <b>Jul-03-2021</b>",
           0.5671
          ],
          [
           "Kolmogorov-Smirnov statistic for <b>temperature</b>",
           "<b style=\"color:#00c8e5;line-height:60px\">Analysis</b>",
           "",
           "[4000:4499]",
           "From <b>Jul-03-2021</b> to <b>Jul-04-2021</b>",
           0.8063
          ],
          [
           "Kolmogorov-Smirnov statistic for <b>temperature</b>",
           "<b style=\"color:#00c8e5;line-height:60px\">Analysis</b>",
           "",
           "[4500:4999]",
           "From <b>Jul-04-2021</b> to <b>Jul-06-2021</b>",
           0.5874
          ],
          [
           "Kolmogorov-Smirnov statistic for <b>temperature</b>",
           "<b style=\"color:#00c8e5;line-height:60px\">Analysis</b>",
           "",
           "[5000:5499]",
           "From <b>Jul-06-2021</b> to <b>Jul-07-2021</b>",
           0.1766
          ],
          [
           "Kolmogorov-Smirnov statistic for <b>temperature</b>",
           "<b style=\"color:#00c8e5;line-height:60px\">Analysis</b>",
           "",
           "[5500:5999]",
           "From <b>Jul-07-2021</b> to <b>Jul-08-2021</b>",
           0.4269
          ],
          [
           "Kolmogorov-Smirnov statistic for <b>temperature</b>",
           "<b style=\"color:#00c8e5;line-height:60px\">Analysis</b>",
           "",
           "[6000:6499]",
           "From <b>Jul-08-2021</b> to <b>Jul-09-2021</b>",
           0.2712
          ],
          [
           "Kolmogorov-Smirnov statistic for <b>temperature</b>",
           "<b style=\"color:#00c8e5;line-height:60px\">Analysis</b>",
           "",
           "[6500:6999]",
           "From <b>Jul-09-2021</b> to <b>Jul-10-2021</b>",
           0.3018
          ],
          [
           "Kolmogorov-Smirnov statistic for <b>temperature</b>",
           "<b style=\"color:#00c8e5;line-height:60px\">Analysis</b>",
           "",
           "[7000:7499]",
           "From <b>Jul-10-2021</b> to <b>Jul-11-2021</b>",
           0.2166
          ],
          [
           "Kolmogorov-Smirnov statistic for <b>temperature</b>",
           "<b style=\"color:#00c8e5;line-height:60px\">Analysis</b>",
           "",
           "[7500:7853]",
           "From <b>Jul-11-2021</b> to <b>Jul-11-2021</b>",
           0.2476
          ]
         ],
         "hovertemplate": "%{customdata[1]} &nbsp; &nbsp; %{customdata[2]} <br />Chunk: <b>%{customdata[3]}</b> &nbsp; &nbsp; %{customdata[4]} <br />%{customdata[0]}: <b>%{customdata[5]}</b><b r /><extra></extra>",
         "legendgroup": "metric_analysis",
         "marker": {
          "color": "#00c8e5",
          "size": 5,
          "symbol": "circle"
         },
         "mode": "markers",
         "name": "Method",
         "showlegend": false,
         "type": "scatter",
         "x": [
          "2021-06-26T00:42:00",
          "2021-06-27T01:54:00",
          "2021-06-28T03:06:00",
          "2021-06-29T04:18:00",
          "2021-06-30T05:30:00",
          "2021-07-01T06:42:00",
          "2021-07-02T07:54:00",
          "2021-07-03T09:06:00",
          "2021-07-04T10:18:00",
          "2021-07-05T11:36:00",
          "2021-07-06T12:54:00",
          "2021-07-07T14:06:00",
          "2021-07-08T15:18:00",
          "2021-07-09T16:30:00",
          "2021-07-10T17:42:00",
          "2021-07-11T15:07:30"
         ],
         "xaxis": "x",
         "y": [
          0.8243269671504966,
          0.9446625923096511,
          0.6460147695441814,
          0.21235752482811307,
          0.41401018589253885,
          0.42473236567354217,
          0.20938884644766997,
          0.5670995670995671,
          0.8062775655716832,
          0.5874036159918513,
          0.17659842118665647,
          0.4269162210338681,
          0.2711652661064426,
          0.30177183600713015,
          0.21657754010695188,
          0.2476445123503947,
          0.2476445123503947
         ],
         "yaxis": "y"
        },
        {
         "hoverinfo": "skip",
         "legendgroup": "alert",
         "marker": {
          "color": "#DD4040",
          "size": 8,
          "symbol": "diamond"
         },
         "mode": "markers",
         "name": "Alert",
         "showlegend": true,
         "type": "scatter",
         "x": [
          "2021-06-27T01:54:00"
         ],
         "xaxis": "x",
         "y": [
          0.9446625923096511
         ],
         "yaxis": "y"
        },
        {
         "hoverinfo": "skip",
         "legendgroup": "thresh",
         "line": {
          "color": "#DD4040",
          "dash": "dash",
          "width": 2
         },
         "mode": "lines",
         "name": "Threshold",
         "showlegend": true,
         "type": "scatter",
         "x": [
          "2021-06-09T00:12:00",
          "2021-06-10T01:24:00",
          "2021-06-11T02:36:00",
          "2021-06-12T03:48:00",
          "2021-06-13T05:00:00",
          "2021-06-14T06:12:00",
          "2021-06-15T07:24:00",
          "2021-06-16T08:36:00",
          "2021-06-17T09:48:00",
          "2021-06-18T11:00:00",
          "2021-06-19T12:12:00",
          "2021-06-20T13:24:00",
          "2021-06-21T14:36:00",
          "2021-06-22T15:48:00",
          "2021-06-23T17:00:00",
          "2021-06-24T18:12:00",
          "2021-06-25T12:03:00"
         ],
         "xaxis": "x",
         "y": [
          0.8449369816699943,
          0.8449369816699943,
          0.8449369816699943,
          0.8449369816699943,
          0.8449369816699943,
          0.8449369816699943,
          0.8449369816699943,
          0.8449369816699943,
          0.8449369816699943,
          0.8449369816699943,
          0.8449369816699943,
          0.8449369816699943,
          0.8449369816699943,
          0.8449369816699943,
          0.8449369816699943,
          0.8449369816699943,
          0.8449369816699943
         ],
         "yaxis": "y"
        },
        {
         "hoverinfo": "skip",
         "legendgroup": "thresh",
         "line": {
          "color": "#DD4040",
          "dash": "dash",
          "width": 2
         },
         "mode": "lines",
         "name": "Threshold",
         "showlegend": false,
         "type": "scatter",
         "x": [
          "2021-06-25T12:06:00",
          "2021-06-26T13:18:00",
          "2021-06-27T14:30:00",
          "2021-06-28T15:42:00",
          "2021-06-29T16:54:00",
          "2021-06-30T18:06:00",
          "2021-07-01T19:18:00",
          "2021-07-02T20:30:00",
          "2021-07-03T21:42:00",
          "2021-07-04T22:54:00",
          "2021-07-06T00:18:00",
          "2021-07-07T01:30:00",
          "2021-07-08T02:42:00",
          "2021-07-09T03:54:00",
          "2021-07-10T05:06:00",
          "2021-07-11T06:18:00",
          "2021-07-11T23:57:00"
         ],
         "xaxis": "x",
         "y": [
          0.8449369816699943,
          0.8449369816699943,
          0.8449369816699943,
          0.8449369816699943,
          0.8449369816699943,
          0.8449369816699943,
          0.8449369816699943,
          0.8449369816699943,
          0.8449369816699943,
          0.8449369816699943,
          0.8449369816699943,
          0.8449369816699943,
          0.8449369816699943,
          0.8449369816699943,
          0.8449369816699943,
          0.8449369816699943,
          0.8449369816699943
         ],
         "yaxis": "y"
        }
       ],
       "layout": {
        "annotations": [
         {
          "font": {
           "size": 16
          },
          "showarrow": false,
          "text": "Kolmogorov-Smirnov statistic for <b>temperature</b>",
          "x": 0.5,
          "xanchor": "center",
          "xref": "paper",
          "y": 1,
          "yanchor": "bottom",
          "yref": "paper"
         },
         {
          "showarrow": false,
          "text": "Reference",
          "x": "2021-06-16T21:12:00",
          "xref": "x",
          "xshift": 10,
          "y": 1.01,
          "yref": "y domain"
         },
         {
          "showarrow": false,
          "text": "Analysis",
          "x": "2021-07-03T09:10:30",
          "xref": "x",
          "xshift": 15,
          "y": 1.01,
          "yref": "y domain"
         }
        ],
        "height": 500,
        "hoverlabel": {
         "bgcolor": "white",
         "font": {
          "size": 14
         }
        },
        "legend": {
         "itemclick": false,
         "itemdoubleclick": false,
         "traceorder": "grouped"
        },
        "paper_bgcolor": "rgba(255,255,255,1)",
        "plot_bgcolor": "rgba(255,255,255,1)",
        "shapes": [
         {
          "layer": "below",
          "line": {
           "color": "#666666",
           "width": 1
          },
          "type": "line",
          "x0": "2021-06-25T12:06:00",
          "x1": "2021-06-25T12:06:00",
          "xref": "x",
          "y0": 0,
          "y1": 1,
          "yref": "y domain"
         }
        ],
        "template": {
         "data": {
          "bar": [
           {
            "error_x": {
             "color": "#2a3f5f"
            },
            "error_y": {
             "color": "#2a3f5f"
            },
            "marker": {
             "line": {
              "color": "#E5ECF6",
              "width": 0.5
             },
             "pattern": {
              "fillmode": "overlay",
              "size": 10,
              "solidity": 0.2
             }
            },
            "type": "bar"
           }
          ],
          "barpolar": [
           {
            "marker": {
             "line": {
              "color": "#E5ECF6",
              "width": 0.5
             },
             "pattern": {
              "fillmode": "overlay",
              "size": 10,
              "solidity": 0.2
             }
            },
            "type": "barpolar"
           }
          ],
          "carpet": [
           {
            "aaxis": {
             "endlinecolor": "#2a3f5f",
             "gridcolor": "white",
             "linecolor": "white",
             "minorgridcolor": "white",
             "startlinecolor": "#2a3f5f"
            },
            "baxis": {
             "endlinecolor": "#2a3f5f",
             "gridcolor": "white",
             "linecolor": "white",
             "minorgridcolor": "white",
             "startlinecolor": "#2a3f5f"
            },
            "type": "carpet"
           }
          ],
          "choropleth": [
           {
            "colorbar": {
             "outlinewidth": 0,
             "ticks": ""
            },
            "type": "choropleth"
           }
          ],
          "contour": [
           {
            "colorbar": {
             "outlinewidth": 0,
             "ticks": ""
            },
            "colorscale": [
             [
              0,
              "#0d0887"
             ],
             [
              0.1111111111111111,
              "#46039f"
             ],
             [
              0.2222222222222222,
              "#7201a8"
             ],
             [
              0.3333333333333333,
              "#9c179e"
             ],
             [
              0.4444444444444444,
              "#bd3786"
             ],
             [
              0.5555555555555556,
              "#d8576b"
             ],
             [
              0.6666666666666666,
              "#ed7953"
             ],
             [
              0.7777777777777778,
              "#fb9f3a"
             ],
             [
              0.8888888888888888,
              "#fdca26"
             ],
             [
              1,
              "#f0f921"
             ]
            ],
            "type": "contour"
           }
          ],
          "contourcarpet": [
           {
            "colorbar": {
             "outlinewidth": 0,
             "ticks": ""
            },
            "type": "contourcarpet"
           }
          ],
          "heatmap": [
           {
            "colorbar": {
             "outlinewidth": 0,
             "ticks": ""
            },
            "colorscale": [
             [
              0,
              "#0d0887"
             ],
             [
              0.1111111111111111,
              "#46039f"
             ],
             [
              0.2222222222222222,
              "#7201a8"
             ],
             [
              0.3333333333333333,
              "#9c179e"
             ],
             [
              0.4444444444444444,
              "#bd3786"
             ],
             [
              0.5555555555555556,
              "#d8576b"
             ],
             [
              0.6666666666666666,
              "#ed7953"
             ],
             [
              0.7777777777777778,
              "#fb9f3a"
             ],
             [
              0.8888888888888888,
              "#fdca26"
             ],
             [
              1,
              "#f0f921"
             ]
            ],
            "type": "heatmap"
           }
          ],
          "heatmapgl": [
           {
            "colorbar": {
             "outlinewidth": 0,
             "ticks": ""
            },
            "colorscale": [
             [
              0,
              "#0d0887"
             ],
             [
              0.1111111111111111,
              "#46039f"
             ],
             [
              0.2222222222222222,
              "#7201a8"
             ],
             [
              0.3333333333333333,
              "#9c179e"
             ],
             [
              0.4444444444444444,
              "#bd3786"
             ],
             [
              0.5555555555555556,
              "#d8576b"
             ],
             [
              0.6666666666666666,
              "#ed7953"
             ],
             [
              0.7777777777777778,
              "#fb9f3a"
             ],
             [
              0.8888888888888888,
              "#fdca26"
             ],
             [
              1,
              "#f0f921"
             ]
            ],
            "type": "heatmapgl"
           }
          ],
          "histogram": [
           {
            "marker": {
             "pattern": {
              "fillmode": "overlay",
              "size": 10,
              "solidity": 0.2
             }
            },
            "type": "histogram"
           }
          ],
          "histogram2d": [
           {
            "colorbar": {
             "outlinewidth": 0,
             "ticks": ""
            },
            "colorscale": [
             [
              0,
              "#0d0887"
             ],
             [
              0.1111111111111111,
              "#46039f"
             ],
             [
              0.2222222222222222,
              "#7201a8"
             ],
             [
              0.3333333333333333,
              "#9c179e"
             ],
             [
              0.4444444444444444,
              "#bd3786"
             ],
             [
              0.5555555555555556,
              "#d8576b"
             ],
             [
              0.6666666666666666,
              "#ed7953"
             ],
             [
              0.7777777777777778,
              "#fb9f3a"
             ],
             [
              0.8888888888888888,
              "#fdca26"
             ],
             [
              1,
              "#f0f921"
             ]
            ],
            "type": "histogram2d"
           }
          ],
          "histogram2dcontour": [
           {
            "colorbar": {
             "outlinewidth": 0,
             "ticks": ""
            },
            "colorscale": [
             [
              0,
              "#0d0887"
             ],
             [
              0.1111111111111111,
              "#46039f"
             ],
             [
              0.2222222222222222,
              "#7201a8"
             ],
             [
              0.3333333333333333,
              "#9c179e"
             ],
             [
              0.4444444444444444,
              "#bd3786"
             ],
             [
              0.5555555555555556,
              "#d8576b"
             ],
             [
              0.6666666666666666,
              "#ed7953"
             ],
             [
              0.7777777777777778,
              "#fb9f3a"
             ],
             [
              0.8888888888888888,
              "#fdca26"
             ],
             [
              1,
              "#f0f921"
             ]
            ],
            "type": "histogram2dcontour"
           }
          ],
          "mesh3d": [
           {
            "colorbar": {
             "outlinewidth": 0,
             "ticks": ""
            },
            "type": "mesh3d"
           }
          ],
          "parcoords": [
           {
            "line": {
             "colorbar": {
              "outlinewidth": 0,
              "ticks": ""
             }
            },
            "type": "parcoords"
           }
          ],
          "pie": [
           {
            "automargin": true,
            "type": "pie"
           }
          ],
          "scatter": [
           {
            "fillpattern": {
             "fillmode": "overlay",
             "size": 10,
             "solidity": 0.2
            },
            "type": "scatter"
           }
          ],
          "scatter3d": [
           {
            "line": {
             "colorbar": {
              "outlinewidth": 0,
              "ticks": ""
             }
            },
            "marker": {
             "colorbar": {
              "outlinewidth": 0,
              "ticks": ""
             }
            },
            "type": "scatter3d"
           }
          ],
          "scattercarpet": [
           {
            "marker": {
             "colorbar": {
              "outlinewidth": 0,
              "ticks": ""
             }
            },
            "type": "scattercarpet"
           }
          ],
          "scattergeo": [
           {
            "marker": {
             "colorbar": {
              "outlinewidth": 0,
              "ticks": ""
             }
            },
            "type": "scattergeo"
           }
          ],
          "scattergl": [
           {
            "marker": {
             "colorbar": {
              "outlinewidth": 0,
              "ticks": ""
             }
            },
            "type": "scattergl"
           }
          ],
          "scattermapbox": [
           {
            "marker": {
             "colorbar": {
              "outlinewidth": 0,
              "ticks": ""
             }
            },
            "type": "scattermapbox"
           }
          ],
          "scatterpolar": [
           {
            "marker": {
             "colorbar": {
              "outlinewidth": 0,
              "ticks": ""
             }
            },
            "type": "scatterpolar"
           }
          ],
          "scatterpolargl": [
           {
            "marker": {
             "colorbar": {
              "outlinewidth": 0,
              "ticks": ""
             }
            },
            "type": "scatterpolargl"
           }
          ],
          "scatterternary": [
           {
            "marker": {
             "colorbar": {
              "outlinewidth": 0,
              "ticks": ""
             }
            },
            "type": "scatterternary"
           }
          ],
          "surface": [
           {
            "colorbar": {
             "outlinewidth": 0,
             "ticks": ""
            },
            "colorscale": [
             [
              0,
              "#0d0887"
             ],
             [
              0.1111111111111111,
              "#46039f"
             ],
             [
              0.2222222222222222,
              "#7201a8"
             ],
             [
              0.3333333333333333,
              "#9c179e"
             ],
             [
              0.4444444444444444,
              "#bd3786"
             ],
             [
              0.5555555555555556,
              "#d8576b"
             ],
             [
              0.6666666666666666,
              "#ed7953"
             ],
             [
              0.7777777777777778,
              "#fb9f3a"
             ],
             [
              0.8888888888888888,
              "#fdca26"
             ],
             [
              1,
              "#f0f921"
             ]
            ],
            "type": "surface"
           }
          ],
          "table": [
           {
            "cells": {
             "fill": {
              "color": "#EBF0F8"
             },
             "line": {
              "color": "white"
             }
            },
            "header": {
             "fill": {
              "color": "#C8D4E3"
             },
             "line": {
              "color": "white"
             }
            },
            "type": "table"
           }
          ]
         },
         "layout": {
          "annotationdefaults": {
           "arrowcolor": "#2a3f5f",
           "arrowhead": 0,
           "arrowwidth": 1
          },
          "autotypenumbers": "strict",
          "coloraxis": {
           "colorbar": {
            "outlinewidth": 0,
            "ticks": ""
           }
          },
          "colorscale": {
           "diverging": [
            [
             0,
             "#8e0152"
            ],
            [
             0.1,
             "#c51b7d"
            ],
            [
             0.2,
             "#de77ae"
            ],
            [
             0.3,
             "#f1b6da"
            ],
            [
             0.4,
             "#fde0ef"
            ],
            [
             0.5,
             "#f7f7f7"
            ],
            [
             0.6,
             "#e6f5d0"
            ],
            [
             0.7,
             "#b8e186"
            ],
            [
             0.8,
             "#7fbc41"
            ],
            [
             0.9,
             "#4d9221"
            ],
            [
             1,
             "#276419"
            ]
           ],
           "sequential": [
            [
             0,
             "#0d0887"
            ],
            [
             0.1111111111111111,
             "#46039f"
            ],
            [
             0.2222222222222222,
             "#7201a8"
            ],
            [
             0.3333333333333333,
             "#9c179e"
            ],
            [
             0.4444444444444444,
             "#bd3786"
            ],
            [
             0.5555555555555556,
             "#d8576b"
            ],
            [
             0.6666666666666666,
             "#ed7953"
            ],
            [
             0.7777777777777778,
             "#fb9f3a"
            ],
            [
             0.8888888888888888,
             "#fdca26"
            ],
            [
             1,
             "#f0f921"
            ]
           ],
           "sequentialminus": [
            [
             0,
             "#0d0887"
            ],
            [
             0.1111111111111111,
             "#46039f"
            ],
            [
             0.2222222222222222,
             "#7201a8"
            ],
            [
             0.3333333333333333,
             "#9c179e"
            ],
            [
             0.4444444444444444,
             "#bd3786"
            ],
            [
             0.5555555555555556,
             "#d8576b"
            ],
            [
             0.6666666666666666,
             "#ed7953"
            ],
            [
             0.7777777777777778,
             "#fb9f3a"
            ],
            [
             0.8888888888888888,
             "#fdca26"
            ],
            [
             1,
             "#f0f921"
            ]
           ]
          },
          "colorway": [
           "#636efa",
           "#EF553B",
           "#00cc96",
           "#ab63fa",
           "#FFA15A",
           "#19d3f3",
           "#FF6692",
           "#B6E880",
           "#FF97FF",
           "#FECB52"
          ],
          "font": {
           "color": "#2a3f5f"
          },
          "geo": {
           "bgcolor": "white",
           "lakecolor": "white",
           "landcolor": "#E5ECF6",
           "showlakes": true,
           "showland": true,
           "subunitcolor": "white"
          },
          "hoverlabel": {
           "align": "left"
          },
          "hovermode": "closest",
          "mapbox": {
           "style": "light"
          },
          "paper_bgcolor": "white",
          "plot_bgcolor": "#E5ECF6",
          "polar": {
           "angularaxis": {
            "gridcolor": "white",
            "linecolor": "white",
            "ticks": ""
           },
           "bgcolor": "#E5ECF6",
           "radialaxis": {
            "gridcolor": "white",
            "linecolor": "white",
            "ticks": ""
           }
          },
          "scene": {
           "xaxis": {
            "backgroundcolor": "#E5ECF6",
            "gridcolor": "white",
            "gridwidth": 2,
            "linecolor": "white",
            "showbackground": true,
            "ticks": "",
            "zerolinecolor": "white"
           },
           "yaxis": {
            "backgroundcolor": "#E5ECF6",
            "gridcolor": "white",
            "gridwidth": 2,
            "linecolor": "white",
            "showbackground": true,
            "ticks": "",
            "zerolinecolor": "white"
           },
           "zaxis": {
            "backgroundcolor": "#E5ECF6",
            "gridcolor": "white",
            "gridwidth": 2,
            "linecolor": "white",
            "showbackground": true,
            "ticks": "",
            "zerolinecolor": "white"
           }
          },
          "shapedefaults": {
           "line": {
            "color": "#2a3f5f"
           }
          },
          "ternary": {
           "aaxis": {
            "gridcolor": "white",
            "linecolor": "white",
            "ticks": ""
           },
           "baxis": {
            "gridcolor": "white",
            "linecolor": "white",
            "ticks": ""
           },
           "bgcolor": "#E5ECF6",
           "caxis": {
            "gridcolor": "white",
            "linecolor": "white",
            "ticks": ""
           }
          },
          "title": {
           "x": 0.05
          },
          "xaxis": {
           "automargin": true,
           "gridcolor": "white",
           "linecolor": "white",
           "ticks": "",
           "title": {
            "standoff": 15
           },
           "zerolinecolor": "white",
           "zerolinewidth": 2
          },
          "yaxis": {
           "automargin": true,
           "gridcolor": "white",
           "linecolor": "white",
           "ticks": "",
           "title": {
            "standoff": 15
           },
           "zerolinecolor": "white",
           "zerolinewidth": 2
          }
         }
        },
        "title": {
         "text": "Univariate drift metrics"
        },
        "xaxis": {
         "anchor": "y",
         "domain": [
          0,
          1
         ],
         "linecolor": "#3b0280",
         "matches": "x",
         "mirror": true,
         "showgrid": false,
         "title": {
          "text": "Time"
         },
         "zeroline": false
        },
        "yaxis": {
         "anchor": "x",
         "domain": [
          0,
          1
         ],
         "linecolor": "#3b0280",
         "mirror": true,
         "showgrid": false,
         "title": {
          "text": "Kolmogorov-Smirnov statistic"
         },
         "zeroline": false
        }
       }
      }
     },
     "metadata": {},
     "output_type": "display_data"
    }
   ],
   "source": [
    "fig = univariate_drift_results.filter(column_names='temperature').plot()\n",
    "fig.show()\n",
    "fig.write_image('small_chunk_temperature.svg')"
   ]
  },
  {
   "cell_type": "markdown",
   "metadata": {},
   "source": [
    "## using a big chunk size"
   ]
  },
  {
   "cell_type": "code",
   "execution_count": 9,
   "metadata": {},
   "outputs": [
    {
     "name": "stderr",
     "output_type": "stream",
     "text": [
      "/Users/santiago/miniconda3/envs/nannymlPremium/lib/python3.10/site-packages/nannyml/chunk.py:181: UserWarning:\n",
      "\n",
      "The resulting number of chunks is too low. Please consider splitting your data in a different way or continue at your own risk.\n",
      "\n",
      "/Users/santiago/miniconda3/envs/nannymlPremium/lib/python3.10/site-packages/nannyml/chunk.py:181: UserWarning:\n",
      "\n",
      "The resulting number of chunks is too low. Please consider splitting your data in a different way or continue at your own risk.\n",
      "\n",
      "/Users/santiago/miniconda3/envs/nannymlPremium/lib/python3.10/site-packages/nannyml/chunk.py:181: UserWarning:\n",
      "\n",
      "The resulting number of chunks is too low. Please consider splitting your data in a different way or continue at your own risk.\n",
      "\n",
      "/Users/santiago/miniconda3/envs/nannymlPremium/lib/python3.10/site-packages/nannyml/chunk.py:181: UserWarning:\n",
      "\n",
      "The resulting number of chunks is too low. Please consider splitting your data in a different way or continue at your own risk.\n",
      "\n",
      "/Users/santiago/miniconda3/envs/nannymlPremium/lib/python3.10/site-packages/nannyml/chunk.py:181: UserWarning:\n",
      "\n",
      "The resulting number of chunks is too low. Please consider splitting your data in a different way or continue at your own risk.\n",
      "\n"
     ]
    },
    {
     "data": {
      "application/vnd.plotly.v1+json": {
       "config": {
        "plotlyServerURL": "https://plot.ly"
       },
       "data": [
        {
         "hoverinfo": "skip",
         "legendgroup": "metric_reference",
         "line": {
          "color": "#00c8e5",
          "shape": "hv",
          "width": 2
         },
         "mode": "lines",
         "name": "Method",
         "showlegend": true,
         "type": "scatter",
         "x": [
          "2021-06-09T00:12:00",
          "2021-06-13T03:12:00",
          "2021-06-17T06:12:00",
          "2021-06-21T09:12:00",
          "2021-06-25T12:03:00"
         ],
         "xaxis": "x",
         "y": [
          0.20232805212438615,
          0.15496598565365788,
          0.5196678745558583,
          0.2623256697730524,
          0.2623256697730524
         ],
         "yaxis": "y"
        },
        {
         "customdata": [
          [
           "Kolmogorov-Smirnov statistic for <b>co2</b>",
           "<b style=\"color:#00c8e5;line-height:60px\">Reference</b>",
           "",
           "[0:1963]",
           "From <b>Jun-09-2021</b> to <b>Jun-13-2021</b>",
           0.2023
          ],
          [
           "Kolmogorov-Smirnov statistic for <b>co2</b>",
           "<b style=\"color:#00c8e5;line-height:60px\">Reference</b>",
           "",
           "[1964:3927]",
           "From <b>Jun-13-2021</b> to <b>Jun-17-2021</b>",
           0.155
          ],
          [
           "Kolmogorov-Smirnov statistic for <b>co2</b>",
           "<b style=\"color:#00c8e5;line-height:60px\">Reference</b>",
           "",
           "[3928:5891]",
           "From <b>Jun-17-2021</b> to <b>Jun-21-2021</b>",
           0.5197
          ],
          [
           "Kolmogorov-Smirnov statistic for <b>co2</b>",
           "<b style=\"color:#00c8e5;line-height:60px\">Reference</b>",
           "",
           "[5892:7853]",
           "From <b>Jun-21-2021</b> to <b>Jun-25-2021</b>",
           0.2623
          ]
         ],
         "hovertemplate": "%{customdata[1]} &nbsp; &nbsp; %{customdata[2]} <br />Chunk: <b>%{customdata[3]}</b> &nbsp; &nbsp; %{customdata[4]} <br />%{customdata[0]}: <b>%{customdata[5]}</b><b r /><extra></extra>",
         "legendgroup": "metric_reference",
         "marker": {
          "color": "#00c8e5",
          "size": 5,
          "symbol": "circle"
         },
         "mode": "markers",
         "name": "Method",
         "showlegend": false,
         "type": "scatter",
         "x": [
          "2021-06-11T01:42:00",
          "2021-06-15T04:42:00",
          "2021-06-19T07:42:00",
          "2021-06-23T10:37:30"
         ],
         "xaxis": "x",
         "y": [
          0.20232805212438615,
          0.15496598565365788,
          0.5196678745558583,
          0.2623256697730524,
          0.2623256697730524
         ],
         "yaxis": "y"
        },
        {
         "hoverinfo": "skip",
         "legendgroup": "metric_analysis",
         "line": {
          "color": "#00c8e5",
          "shape": "hv",
          "width": 2
         },
         "mode": "lines",
         "name": "Method",
         "showlegend": false,
         "type": "scatter",
         "x": [
          "2021-06-25T12:06:00",
          "2021-06-29T15:06:00",
          "2021-07-03T18:06:00",
          "2021-07-07T21:06:00",
          "2021-07-11T23:57:00"
         ],
         "xaxis": "x",
         "y": [
          0.4114174831198912,
          0.11204818902195204,
          0.17369578825790638,
          0.12159993271704012,
          0.12159993271704012
         ],
         "yaxis": "y"
        },
        {
         "customdata": [
          [
           "Kolmogorov-Smirnov statistic for <b>co2</b>",
           "<b style=\"color:#00c8e5;line-height:60px\">Analysis</b>",
           "",
           "[0:1963]",
           "From <b>Jun-25-2021</b> to <b>Jun-29-2021</b>",
           0.4114
          ],
          [
           "Kolmogorov-Smirnov statistic for <b>co2</b>",
           "<b style=\"color:#00c8e5;line-height:60px\">Analysis</b>",
           "",
           "[1964:3927]",
           "From <b>Jun-29-2021</b> to <b>Jul-03-2021</b>",
           0.112
          ],
          [
           "Kolmogorov-Smirnov statistic for <b>co2</b>",
           "<b style=\"color:#00c8e5;line-height:60px\">Analysis</b>",
           "",
           "[3928:5891]",
           "From <b>Jul-03-2021</b> to <b>Jul-07-2021</b>",
           0.1737
          ],
          [
           "Kolmogorov-Smirnov statistic for <b>co2</b>",
           "<b style=\"color:#00c8e5;line-height:60px\">Analysis</b>",
           "",
           "[5892:7853]",
           "From <b>Jul-07-2021</b> to <b>Jul-11-2021</b>",
           0.1216
          ]
         ],
         "hovertemplate": "%{customdata[1]} &nbsp; &nbsp; %{customdata[2]} <br />Chunk: <b>%{customdata[3]}</b> &nbsp; &nbsp; %{customdata[4]} <br />%{customdata[0]}: <b>%{customdata[5]}</b><b r /><extra></extra>",
         "legendgroup": "metric_analysis",
         "marker": {
          "color": "#00c8e5",
          "size": 5,
          "symbol": "circle"
         },
         "mode": "markers",
         "name": "Method",
         "showlegend": false,
         "type": "scatter",
         "x": [
          "2021-06-27T13:36:00",
          "2021-07-01T16:36:00",
          "2021-07-05T19:36:00",
          "2021-07-09T22:31:30"
         ],
         "xaxis": "x",
         "y": [
          0.4114174831198912,
          0.11204818902195204,
          0.17369578825790638,
          0.12159993271704012,
          0.12159993271704012
         ],
         "yaxis": "y"
        },
        {
         "hoverinfo": "skip",
         "legendgroup": "alert",
         "marker": {
          "color": "#DD4040",
          "size": 8,
          "symbol": "diamond"
         },
         "mode": "markers",
         "name": "Alert",
         "showlegend": true,
         "type": "scatter",
         "x": [],
         "xaxis": "x",
         "y": [],
         "yaxis": "y"
        },
        {
         "hoverinfo": "skip",
         "legendgroup": "thresh",
         "line": {
          "color": "#DD4040",
          "dash": "dash",
          "width": 2
         },
         "mode": "lines",
         "name": "Threshold",
         "showlegend": true,
         "type": "scatter",
         "x": [
          "2021-06-09T00:12:00",
          "2021-06-13T03:12:00",
          "2021-06-17T06:12:00",
          "2021-06-21T09:12:00",
          "2021-06-25T12:03:00"
         ],
         "xaxis": "x",
         "y": [
          0.7072963178614158,
          0.7072963178614158,
          0.7072963178614158,
          0.7072963178614158,
          0.7072963178614158
         ],
         "yaxis": "y"
        },
        {
         "hoverinfo": "skip",
         "legendgroup": "thresh",
         "line": {
          "color": "#DD4040",
          "dash": "dash",
          "width": 2
         },
         "mode": "lines",
         "name": "Threshold",
         "showlegend": false,
         "type": "scatter",
         "x": [
          "2021-06-25T12:06:00",
          "2021-06-29T15:06:00",
          "2021-07-03T18:06:00",
          "2021-07-07T21:06:00",
          "2021-07-11T23:57:00"
         ],
         "xaxis": "x",
         "y": [
          0.7072963178614158,
          0.7072963178614158,
          0.7072963178614158,
          0.7072963178614158,
          0.7072963178614158
         ],
         "yaxis": "y"
        },
        {
         "hoverinfo": "skip",
         "legendgroup": "metric_reference",
         "line": {
          "color": "#00c8e5",
          "shape": "hv",
          "width": 2
         },
         "mode": "lines",
         "name": "Method",
         "showlegend": false,
         "type": "scatter",
         "x": [
          "2021-06-09T00:12:00",
          "2021-06-13T03:12:00",
          "2021-06-17T06:12:00",
          "2021-06-21T09:12:00",
          "2021-06-25T12:03:00"
         ],
         "xaxis": "x2",
         "y": [
          0.29888035569717614,
          0.24671434950577156,
          0.14139175388726125,
          0.16851928427751417,
          0.16851928427751417
         ],
         "yaxis": "y2"
        },
        {
         "customdata": [
          [
           "Kolmogorov-Smirnov statistic for <b>temperature</b>",
           "<b style=\"color:#00c8e5;line-height:60px\">Reference</b>",
           "",
           "[0:1963]",
           "From <b>Jun-09-2021</b> to <b>Jun-13-2021</b>",
           0.2989
          ],
          [
           "Kolmogorov-Smirnov statistic for <b>temperature</b>",
           "<b style=\"color:#00c8e5;line-height:60px\">Reference</b>",
           "",
           "[1964:3927]",
           "From <b>Jun-13-2021</b> to <b>Jun-17-2021</b>",
           0.2467
          ],
          [
           "Kolmogorov-Smirnov statistic for <b>temperature</b>",
           "<b style=\"color:#00c8e5;line-height:60px\">Reference</b>",
           "",
           "[3928:5891]",
           "From <b>Jun-17-2021</b> to <b>Jun-21-2021</b>",
           0.1414
          ],
          [
           "Kolmogorov-Smirnov statistic for <b>temperature</b>",
           "<b style=\"color:#00c8e5;line-height:60px\">Reference</b>",
           "",
           "[5892:7853]",
           "From <b>Jun-21-2021</b> to <b>Jun-25-2021</b>",
           0.1685
          ]
         ],
         "hovertemplate": "%{customdata[1]} &nbsp; &nbsp; %{customdata[2]} <br />Chunk: <b>%{customdata[3]}</b> &nbsp; &nbsp; %{customdata[4]} <br />%{customdata[0]}: <b>%{customdata[5]}</b><b r /><extra></extra>",
         "legendgroup": "metric_reference",
         "marker": {
          "color": "#00c8e5",
          "size": 5,
          "symbol": "circle"
         },
         "mode": "markers",
         "name": "Method",
         "showlegend": false,
         "type": "scatter",
         "x": [
          "2021-06-11T01:42:00",
          "2021-06-15T04:42:00",
          "2021-06-19T07:42:00",
          "2021-06-23T10:37:30"
         ],
         "xaxis": "x2",
         "y": [
          0.29888035569717614,
          0.24671434950577156,
          0.14139175388726125,
          0.16851928427751417,
          0.16851928427751417
         ],
         "yaxis": "y2"
        },
        {
         "hoverinfo": "skip",
         "legendgroup": "metric_analysis",
         "line": {
          "color": "#00c8e5",
          "shape": "hv",
          "width": 2
         },
         "mode": "lines",
         "name": "Method",
         "showlegend": false,
         "type": "scatter",
         "x": [
          "2021-06-25T12:06:00",
          "2021-06-29T15:06:00",
          "2021-07-03T18:06:00",
          "2021-07-07T21:06:00",
          "2021-07-11T23:57:00"
         ],
         "xaxis": "x2",
         "y": [
          0.6024629996416266,
          0.3510861667384969,
          0.32963511270088486,
          0.160768505344868,
          0.160768505344868
         ],
         "yaxis": "y2"
        },
        {
         "customdata": [
          [
           "Kolmogorov-Smirnov statistic for <b>temperature</b>",
           "<b style=\"color:#00c8e5;line-height:60px\">Analysis</b>",
           "<span style=\"color:#AD0000\">⚠ <b>Drift detected</b></span>",
           "[0:1963]",
           "From <b>Jun-25-2021</b> to <b>Jun-29-2021</b>",
           0.6025
          ],
          [
           "Kolmogorov-Smirnov statistic for <b>temperature</b>",
           "<b style=\"color:#00c8e5;line-height:60px\">Analysis</b>",
           "",
           "[1964:3927]",
           "From <b>Jun-29-2021</b> to <b>Jul-03-2021</b>",
           0.3511
          ],
          [
           "Kolmogorov-Smirnov statistic for <b>temperature</b>",
           "<b style=\"color:#00c8e5;line-height:60px\">Analysis</b>",
           "",
           "[3928:5891]",
           "From <b>Jul-03-2021</b> to <b>Jul-07-2021</b>",
           0.3296
          ],
          [
           "Kolmogorov-Smirnov statistic for <b>temperature</b>",
           "<b style=\"color:#00c8e5;line-height:60px\">Analysis</b>",
           "",
           "[5892:7853]",
           "From <b>Jul-07-2021</b> to <b>Jul-11-2021</b>",
           0.1608
          ]
         ],
         "hovertemplate": "%{customdata[1]} &nbsp; &nbsp; %{customdata[2]} <br />Chunk: <b>%{customdata[3]}</b> &nbsp; &nbsp; %{customdata[4]} <br />%{customdata[0]}: <b>%{customdata[5]}</b><b r /><extra></extra>",
         "legendgroup": "metric_analysis",
         "marker": {
          "color": "#00c8e5",
          "size": 5,
          "symbol": "circle"
         },
         "mode": "markers",
         "name": "Method",
         "showlegend": false,
         "type": "scatter",
         "x": [
          "2021-06-27T13:36:00",
          "2021-07-01T16:36:00",
          "2021-07-05T19:36:00",
          "2021-07-09T22:31:30"
         ],
         "xaxis": "x2",
         "y": [
          0.6024629996416266,
          0.3510861667384969,
          0.32963511270088486,
          0.160768505344868,
          0.160768505344868
         ],
         "yaxis": "y2"
        },
        {
         "hoverinfo": "skip",
         "legendgroup": "alert",
         "marker": {
          "color": "#DD4040",
          "size": 8,
          "symbol": "diamond"
         },
         "mode": "markers",
         "name": "Alert",
         "showlegend": false,
         "type": "scatter",
         "x": [
          "2021-06-27T13:36:00"
         ],
         "xaxis": "x2",
         "y": [
          0.6024629996416266
         ],
         "yaxis": "y2"
        },
        {
         "hoverinfo": "skip",
         "legendgroup": "thresh",
         "line": {
          "color": "#DD4040",
          "dash": "dash",
          "width": 2
         },
         "mode": "lines",
         "name": "Threshold",
         "showlegend": false,
         "type": "scatter",
         "x": [
          "2021-06-09T00:12:00",
          "2021-06-13T03:12:00",
          "2021-06-17T06:12:00",
          "2021-06-21T09:12:00",
          "2021-06-25T12:03:00"
         ],
         "xaxis": "x2",
         "y": [
          0.4013181984816378,
          0.4013181984816378,
          0.4013181984816378,
          0.4013181984816378,
          0.4013181984816378
         ],
         "yaxis": "y2"
        },
        {
         "hoverinfo": "skip",
         "legendgroup": "thresh",
         "line": {
          "color": "#DD4040",
          "dash": "dash",
          "width": 2
         },
         "mode": "lines",
         "name": "Threshold",
         "showlegend": false,
         "type": "scatter",
         "x": [
          "2021-06-25T12:06:00",
          "2021-06-29T15:06:00",
          "2021-07-03T18:06:00",
          "2021-07-07T21:06:00",
          "2021-07-11T23:57:00"
         ],
         "xaxis": "x2",
         "y": [
          0.4013181984816378,
          0.4013181984816378,
          0.4013181984816378,
          0.4013181984816378,
          0.4013181984816378
         ],
         "yaxis": "y2"
        },
        {
         "hoverinfo": "skip",
         "legendgroup": "metric_reference",
         "line": {
          "color": "#00c8e5",
          "shape": "hv",
          "width": 2
         },
         "mode": "lines",
         "name": "Method",
         "showlegend": false,
         "type": "scatter",
         "x": [
          "2021-06-09T00:12:00",
          "2021-06-13T03:12:00",
          "2021-06-17T06:12:00",
          "2021-06-21T09:12:00",
          "2021-06-25T12:03:00"
         ],
         "xaxis": "x3",
         "y": [
          2.097567046374766,
          27.807389671332576,
          26.08930015128257,
          0.7863151770681018,
          0.7863151770681018
         ],
         "yaxis": "y3"
        },
        {
         "customdata": [
          [
           "Chi2 statistic for <b>predicted</b>",
           "<b style=\"color:#00c8e5;line-height:60px\">Reference</b>",
           "",
           "[0:1963]",
           "From <b>Jun-09-2021</b> to <b>Jun-13-2021</b>",
           2.0976
          ],
          [
           "Chi2 statistic for <b>predicted</b>",
           "<b style=\"color:#00c8e5;line-height:60px\">Reference</b>",
           "<span style=\"color:#AD0000\">⚠ <b>Drift detected</b></span>",
           "[1964:3927]",
           "From <b>Jun-13-2021</b> to <b>Jun-17-2021</b>",
           27.8074
          ],
          [
           "Chi2 statistic for <b>predicted</b>",
           "<b style=\"color:#00c8e5;line-height:60px\">Reference</b>",
           "<span style=\"color:#AD0000\">⚠ <b>Drift detected</b></span>",
           "[3928:5891]",
           "From <b>Jun-17-2021</b> to <b>Jun-21-2021</b>",
           26.0893
          ],
          [
           "Chi2 statistic for <b>predicted</b>",
           "<b style=\"color:#00c8e5;line-height:60px\">Reference</b>",
           "",
           "[5892:7853]",
           "From <b>Jun-21-2021</b> to <b>Jun-25-2021</b>",
           0.7863
          ]
         ],
         "hovertemplate": "%{customdata[1]} &nbsp; &nbsp; %{customdata[2]} <br />Chunk: <b>%{customdata[3]}</b> &nbsp; &nbsp; %{customdata[4]} <br />%{customdata[0]}: <b>%{customdata[5]}</b><b r /><extra></extra>",
         "legendgroup": "metric_reference",
         "marker": {
          "color": "#00c8e5",
          "size": 5,
          "symbol": "circle"
         },
         "mode": "markers",
         "name": "Method",
         "showlegend": false,
         "type": "scatter",
         "x": [
          "2021-06-11T01:42:00",
          "2021-06-15T04:42:00",
          "2021-06-19T07:42:00",
          "2021-06-23T10:37:30"
         ],
         "xaxis": "x3",
         "y": [
          2.097567046374766,
          27.807389671332576,
          26.08930015128257,
          0.7863151770681018,
          0.7863151770681018
         ],
         "yaxis": "y3"
        },
        {
         "hoverinfo": "skip",
         "legendgroup": "metric_analysis",
         "line": {
          "color": "#00c8e5",
          "shape": "hv",
          "width": 2
         },
         "mode": "lines",
         "name": "Method",
         "showlegend": false,
         "type": "scatter",
         "x": [
          "2021-06-25T12:06:00",
          "2021-06-29T15:06:00",
          "2021-07-03T18:06:00",
          "2021-07-07T21:06:00",
          "2021-07-11T23:57:00"
         ],
         "xaxis": "x3",
         "y": [
          4.058634619912013,
          0.037385336643905864,
          2.6043008852130547,
          29.075953095532494,
          29.075953095532494
         ],
         "yaxis": "y3"
        },
        {
         "customdata": [
          [
           "Chi2 statistic for <b>predicted</b>",
           "<b style=\"color:#00c8e5;line-height:60px\">Analysis</b>",
           "<span style=\"color:#AD0000\">⚠ <b>Drift detected</b></span>",
           "[0:1963]",
           "From <b>Jun-25-2021</b> to <b>Jun-29-2021</b>",
           4.0586
          ],
          [
           "Chi2 statistic for <b>predicted</b>",
           "<b style=\"color:#00c8e5;line-height:60px\">Analysis</b>",
           "",
           "[1964:3927]",
           "From <b>Jun-29-2021</b> to <b>Jul-03-2021</b>",
           0.0374
          ],
          [
           "Chi2 statistic for <b>predicted</b>",
           "<b style=\"color:#00c8e5;line-height:60px\">Analysis</b>",
           "",
           "[3928:5891]",
           "From <b>Jul-03-2021</b> to <b>Jul-07-2021</b>",
           2.6043
          ],
          [
           "Chi2 statistic for <b>predicted</b>",
           "<b style=\"color:#00c8e5;line-height:60px\">Analysis</b>",
           "<span style=\"color:#AD0000\">⚠ <b>Drift detected</b></span>",
           "[5892:7853]",
           "From <b>Jul-07-2021</b> to <b>Jul-11-2021</b>",
           29.076
          ]
         ],
         "hovertemplate": "%{customdata[1]} &nbsp; &nbsp; %{customdata[2]} <br />Chunk: <b>%{customdata[3]}</b> &nbsp; &nbsp; %{customdata[4]} <br />%{customdata[0]}: <b>%{customdata[5]}</b><b r /><extra></extra>",
         "legendgroup": "metric_analysis",
         "marker": {
          "color": "#00c8e5",
          "size": 5,
          "symbol": "circle"
         },
         "mode": "markers",
         "name": "Method",
         "showlegend": false,
         "type": "scatter",
         "x": [
          "2021-06-27T13:36:00",
          "2021-07-01T16:36:00",
          "2021-07-05T19:36:00",
          "2021-07-09T22:31:30"
         ],
         "xaxis": "x3",
         "y": [
          4.058634619912013,
          0.037385336643905864,
          2.6043008852130547,
          29.075953095532494,
          29.075953095532494
         ],
         "yaxis": "y3"
        },
        {
         "hoverinfo": "skip",
         "legendgroup": "alert",
         "marker": {
          "color": "#DD4040",
          "size": 8,
          "symbol": "diamond"
         },
         "mode": "markers",
         "name": "Alert",
         "showlegend": false,
         "type": "scatter",
         "x": [
          "2021-06-27T13:36:00",
          "2021-07-09T22:31:30"
         ],
         "xaxis": "x3",
         "y": [
          4.058634619912013,
          29.075953095532494
         ],
         "yaxis": "y3"
        }
       ],
       "layout": {
        "annotations": [
         {
          "font": {
           "size": 16
          },
          "showarrow": false,
          "text": "Kolmogorov-Smirnov statistic for <b>co2</b>",
          "x": 0.5,
          "xanchor": "center",
          "xref": "paper",
          "y": 1,
          "yanchor": "bottom",
          "yref": "paper"
         },
         {
          "font": {
           "size": 16
          },
          "showarrow": false,
          "text": "Kolmogorov-Smirnov statistic for <b>temperature</b>",
          "x": 0.5,
          "xanchor": "center",
          "xref": "paper",
          "y": 0.6111111111111112,
          "yanchor": "bottom",
          "yref": "paper"
         },
         {
          "font": {
           "size": 16
          },
          "showarrow": false,
          "text": "Chi2 statistic for <b>predicted</b>",
          "x": 0.5,
          "xanchor": "center",
          "xref": "paper",
          "y": 0.22222222222222224,
          "yanchor": "bottom",
          "yref": "paper"
         },
         {
          "showarrow": false,
          "text": "Reference",
          "x": "2021-06-15T04:42:00",
          "xref": "x",
          "xshift": 10,
          "y": 1.01,
          "yref": "y domain"
         },
         {
          "showarrow": false,
          "text": "Analysis",
          "x": "2021-07-01T16:36:00",
          "xref": "x",
          "xshift": 15,
          "y": 1.01,
          "yref": "y domain"
         },
         {
          "showarrow": false,
          "text": "Reference",
          "x": "2021-06-15T04:42:00",
          "xref": "x2",
          "xshift": 10,
          "y": 1.01,
          "yref": "y2 domain"
         },
         {
          "showarrow": false,
          "text": "Analysis",
          "x": "2021-07-01T16:36:00",
          "xref": "x2",
          "xshift": 15,
          "y": 1.01,
          "yref": "y2 domain"
         },
         {
          "showarrow": false,
          "text": "Reference",
          "x": "2021-06-15T04:42:00",
          "xref": "x3",
          "xshift": 10,
          "y": 1.01,
          "yref": "y3 domain"
         },
         {
          "showarrow": false,
          "text": "Analysis",
          "x": "2021-07-01T16:36:00",
          "xref": "x3",
          "xshift": 15,
          "y": 1.01,
          "yref": "y3 domain"
         }
        ],
        "height": 1500,
        "hoverlabel": {
         "bgcolor": "white",
         "font": {
          "size": 14
         }
        },
        "legend": {
         "itemclick": false,
         "itemdoubleclick": false,
         "traceorder": "grouped"
        },
        "paper_bgcolor": "rgba(255,255,255,1)",
        "plot_bgcolor": "rgba(255,255,255,1)",
        "shapes": [
         {
          "layer": "below",
          "line": {
           "color": "#666666",
           "width": 1
          },
          "type": "line",
          "x0": "2021-06-25T12:06:00",
          "x1": "2021-06-25T12:06:00",
          "xref": "x",
          "y0": 0,
          "y1": 1,
          "yref": "y domain"
         },
         {
          "layer": "below",
          "line": {
           "color": "#666666",
           "width": 1
          },
          "type": "line",
          "x0": "2021-06-25T12:06:00",
          "x1": "2021-06-25T12:06:00",
          "xref": "x",
          "y0": 0,
          "y1": 1,
          "yref": "y domain"
         },
         {
          "layer": "below",
          "line": {
           "color": "#666666",
           "width": 1
          },
          "type": "line",
          "x0": "2021-06-25T12:06:00",
          "x1": "2021-06-25T12:06:00",
          "xref": "x2",
          "y0": 0,
          "y1": 1,
          "yref": "y2 domain"
         },
         {
          "layer": "below",
          "line": {
           "color": "#666666",
           "width": 1
          },
          "type": "line",
          "x0": "2021-06-25T12:06:00",
          "x1": "2021-06-25T12:06:00",
          "xref": "x",
          "y0": 0,
          "y1": 1,
          "yref": "y domain"
         },
         {
          "layer": "below",
          "line": {
           "color": "#666666",
           "width": 1
          },
          "type": "line",
          "x0": "2021-06-25T12:06:00",
          "x1": "2021-06-25T12:06:00",
          "xref": "x2",
          "y0": 0,
          "y1": 1,
          "yref": "y2 domain"
         },
         {
          "layer": "below",
          "line": {
           "color": "#666666",
           "width": 1
          },
          "type": "line",
          "x0": "2021-06-25T12:06:00",
          "x1": "2021-06-25T12:06:00",
          "xref": "x3",
          "y0": 0,
          "y1": 1,
          "yref": "y3 domain"
         }
        ],
        "template": {
         "data": {
          "bar": [
           {
            "error_x": {
             "color": "#2a3f5f"
            },
            "error_y": {
             "color": "#2a3f5f"
            },
            "marker": {
             "line": {
              "color": "#E5ECF6",
              "width": 0.5
             },
             "pattern": {
              "fillmode": "overlay",
              "size": 10,
              "solidity": 0.2
             }
            },
            "type": "bar"
           }
          ],
          "barpolar": [
           {
            "marker": {
             "line": {
              "color": "#E5ECF6",
              "width": 0.5
             },
             "pattern": {
              "fillmode": "overlay",
              "size": 10,
              "solidity": 0.2
             }
            },
            "type": "barpolar"
           }
          ],
          "carpet": [
           {
            "aaxis": {
             "endlinecolor": "#2a3f5f",
             "gridcolor": "white",
             "linecolor": "white",
             "minorgridcolor": "white",
             "startlinecolor": "#2a3f5f"
            },
            "baxis": {
             "endlinecolor": "#2a3f5f",
             "gridcolor": "white",
             "linecolor": "white",
             "minorgridcolor": "white",
             "startlinecolor": "#2a3f5f"
            },
            "type": "carpet"
           }
          ],
          "choropleth": [
           {
            "colorbar": {
             "outlinewidth": 0,
             "ticks": ""
            },
            "type": "choropleth"
           }
          ],
          "contour": [
           {
            "colorbar": {
             "outlinewidth": 0,
             "ticks": ""
            },
            "colorscale": [
             [
              0,
              "#0d0887"
             ],
             [
              0.1111111111111111,
              "#46039f"
             ],
             [
              0.2222222222222222,
              "#7201a8"
             ],
             [
              0.3333333333333333,
              "#9c179e"
             ],
             [
              0.4444444444444444,
              "#bd3786"
             ],
             [
              0.5555555555555556,
              "#d8576b"
             ],
             [
              0.6666666666666666,
              "#ed7953"
             ],
             [
              0.7777777777777778,
              "#fb9f3a"
             ],
             [
              0.8888888888888888,
              "#fdca26"
             ],
             [
              1,
              "#f0f921"
             ]
            ],
            "type": "contour"
           }
          ],
          "contourcarpet": [
           {
            "colorbar": {
             "outlinewidth": 0,
             "ticks": ""
            },
            "type": "contourcarpet"
           }
          ],
          "heatmap": [
           {
            "colorbar": {
             "outlinewidth": 0,
             "ticks": ""
            },
            "colorscale": [
             [
              0,
              "#0d0887"
             ],
             [
              0.1111111111111111,
              "#46039f"
             ],
             [
              0.2222222222222222,
              "#7201a8"
             ],
             [
              0.3333333333333333,
              "#9c179e"
             ],
             [
              0.4444444444444444,
              "#bd3786"
             ],
             [
              0.5555555555555556,
              "#d8576b"
             ],
             [
              0.6666666666666666,
              "#ed7953"
             ],
             [
              0.7777777777777778,
              "#fb9f3a"
             ],
             [
              0.8888888888888888,
              "#fdca26"
             ],
             [
              1,
              "#f0f921"
             ]
            ],
            "type": "heatmap"
           }
          ],
          "heatmapgl": [
           {
            "colorbar": {
             "outlinewidth": 0,
             "ticks": ""
            },
            "colorscale": [
             [
              0,
              "#0d0887"
             ],
             [
              0.1111111111111111,
              "#46039f"
             ],
             [
              0.2222222222222222,
              "#7201a8"
             ],
             [
              0.3333333333333333,
              "#9c179e"
             ],
             [
              0.4444444444444444,
              "#bd3786"
             ],
             [
              0.5555555555555556,
              "#d8576b"
             ],
             [
              0.6666666666666666,
              "#ed7953"
             ],
             [
              0.7777777777777778,
              "#fb9f3a"
             ],
             [
              0.8888888888888888,
              "#fdca26"
             ],
             [
              1,
              "#f0f921"
             ]
            ],
            "type": "heatmapgl"
           }
          ],
          "histogram": [
           {
            "marker": {
             "pattern": {
              "fillmode": "overlay",
              "size": 10,
              "solidity": 0.2
             }
            },
            "type": "histogram"
           }
          ],
          "histogram2d": [
           {
            "colorbar": {
             "outlinewidth": 0,
             "ticks": ""
            },
            "colorscale": [
             [
              0,
              "#0d0887"
             ],
             [
              0.1111111111111111,
              "#46039f"
             ],
             [
              0.2222222222222222,
              "#7201a8"
             ],
             [
              0.3333333333333333,
              "#9c179e"
             ],
             [
              0.4444444444444444,
              "#bd3786"
             ],
             [
              0.5555555555555556,
              "#d8576b"
             ],
             [
              0.6666666666666666,
              "#ed7953"
             ],
             [
              0.7777777777777778,
              "#fb9f3a"
             ],
             [
              0.8888888888888888,
              "#fdca26"
             ],
             [
              1,
              "#f0f921"
             ]
            ],
            "type": "histogram2d"
           }
          ],
          "histogram2dcontour": [
           {
            "colorbar": {
             "outlinewidth": 0,
             "ticks": ""
            },
            "colorscale": [
             [
              0,
              "#0d0887"
             ],
             [
              0.1111111111111111,
              "#46039f"
             ],
             [
              0.2222222222222222,
              "#7201a8"
             ],
             [
              0.3333333333333333,
              "#9c179e"
             ],
             [
              0.4444444444444444,
              "#bd3786"
             ],
             [
              0.5555555555555556,
              "#d8576b"
             ],
             [
              0.6666666666666666,
              "#ed7953"
             ],
             [
              0.7777777777777778,
              "#fb9f3a"
             ],
             [
              0.8888888888888888,
              "#fdca26"
             ],
             [
              1,
              "#f0f921"
             ]
            ],
            "type": "histogram2dcontour"
           }
          ],
          "mesh3d": [
           {
            "colorbar": {
             "outlinewidth": 0,
             "ticks": ""
            },
            "type": "mesh3d"
           }
          ],
          "parcoords": [
           {
            "line": {
             "colorbar": {
              "outlinewidth": 0,
              "ticks": ""
             }
            },
            "type": "parcoords"
           }
          ],
          "pie": [
           {
            "automargin": true,
            "type": "pie"
           }
          ],
          "scatter": [
           {
            "fillpattern": {
             "fillmode": "overlay",
             "size": 10,
             "solidity": 0.2
            },
            "type": "scatter"
           }
          ],
          "scatter3d": [
           {
            "line": {
             "colorbar": {
              "outlinewidth": 0,
              "ticks": ""
             }
            },
            "marker": {
             "colorbar": {
              "outlinewidth": 0,
              "ticks": ""
             }
            },
            "type": "scatter3d"
           }
          ],
          "scattercarpet": [
           {
            "marker": {
             "colorbar": {
              "outlinewidth": 0,
              "ticks": ""
             }
            },
            "type": "scattercarpet"
           }
          ],
          "scattergeo": [
           {
            "marker": {
             "colorbar": {
              "outlinewidth": 0,
              "ticks": ""
             }
            },
            "type": "scattergeo"
           }
          ],
          "scattergl": [
           {
            "marker": {
             "colorbar": {
              "outlinewidth": 0,
              "ticks": ""
             }
            },
            "type": "scattergl"
           }
          ],
          "scattermapbox": [
           {
            "marker": {
             "colorbar": {
              "outlinewidth": 0,
              "ticks": ""
             }
            },
            "type": "scattermapbox"
           }
          ],
          "scatterpolar": [
           {
            "marker": {
             "colorbar": {
              "outlinewidth": 0,
              "ticks": ""
             }
            },
            "type": "scatterpolar"
           }
          ],
          "scatterpolargl": [
           {
            "marker": {
             "colorbar": {
              "outlinewidth": 0,
              "ticks": ""
             }
            },
            "type": "scatterpolargl"
           }
          ],
          "scatterternary": [
           {
            "marker": {
             "colorbar": {
              "outlinewidth": 0,
              "ticks": ""
             }
            },
            "type": "scatterternary"
           }
          ],
          "surface": [
           {
            "colorbar": {
             "outlinewidth": 0,
             "ticks": ""
            },
            "colorscale": [
             [
              0,
              "#0d0887"
             ],
             [
              0.1111111111111111,
              "#46039f"
             ],
             [
              0.2222222222222222,
              "#7201a8"
             ],
             [
              0.3333333333333333,
              "#9c179e"
             ],
             [
              0.4444444444444444,
              "#bd3786"
             ],
             [
              0.5555555555555556,
              "#d8576b"
             ],
             [
              0.6666666666666666,
              "#ed7953"
             ],
             [
              0.7777777777777778,
              "#fb9f3a"
             ],
             [
              0.8888888888888888,
              "#fdca26"
             ],
             [
              1,
              "#f0f921"
             ]
            ],
            "type": "surface"
           }
          ],
          "table": [
           {
            "cells": {
             "fill": {
              "color": "#EBF0F8"
             },
             "line": {
              "color": "white"
             }
            },
            "header": {
             "fill": {
              "color": "#C8D4E3"
             },
             "line": {
              "color": "white"
             }
            },
            "type": "table"
           }
          ]
         },
         "layout": {
          "annotationdefaults": {
           "arrowcolor": "#2a3f5f",
           "arrowhead": 0,
           "arrowwidth": 1
          },
          "autotypenumbers": "strict",
          "coloraxis": {
           "colorbar": {
            "outlinewidth": 0,
            "ticks": ""
           }
          },
          "colorscale": {
           "diverging": [
            [
             0,
             "#8e0152"
            ],
            [
             0.1,
             "#c51b7d"
            ],
            [
             0.2,
             "#de77ae"
            ],
            [
             0.3,
             "#f1b6da"
            ],
            [
             0.4,
             "#fde0ef"
            ],
            [
             0.5,
             "#f7f7f7"
            ],
            [
             0.6,
             "#e6f5d0"
            ],
            [
             0.7,
             "#b8e186"
            ],
            [
             0.8,
             "#7fbc41"
            ],
            [
             0.9,
             "#4d9221"
            ],
            [
             1,
             "#276419"
            ]
           ],
           "sequential": [
            [
             0,
             "#0d0887"
            ],
            [
             0.1111111111111111,
             "#46039f"
            ],
            [
             0.2222222222222222,
             "#7201a8"
            ],
            [
             0.3333333333333333,
             "#9c179e"
            ],
            [
             0.4444444444444444,
             "#bd3786"
            ],
            [
             0.5555555555555556,
             "#d8576b"
            ],
            [
             0.6666666666666666,
             "#ed7953"
            ],
            [
             0.7777777777777778,
             "#fb9f3a"
            ],
            [
             0.8888888888888888,
             "#fdca26"
            ],
            [
             1,
             "#f0f921"
            ]
           ],
           "sequentialminus": [
            [
             0,
             "#0d0887"
            ],
            [
             0.1111111111111111,
             "#46039f"
            ],
            [
             0.2222222222222222,
             "#7201a8"
            ],
            [
             0.3333333333333333,
             "#9c179e"
            ],
            [
             0.4444444444444444,
             "#bd3786"
            ],
            [
             0.5555555555555556,
             "#d8576b"
            ],
            [
             0.6666666666666666,
             "#ed7953"
            ],
            [
             0.7777777777777778,
             "#fb9f3a"
            ],
            [
             0.8888888888888888,
             "#fdca26"
            ],
            [
             1,
             "#f0f921"
            ]
           ]
          },
          "colorway": [
           "#636efa",
           "#EF553B",
           "#00cc96",
           "#ab63fa",
           "#FFA15A",
           "#19d3f3",
           "#FF6692",
           "#B6E880",
           "#FF97FF",
           "#FECB52"
          ],
          "font": {
           "color": "#2a3f5f"
          },
          "geo": {
           "bgcolor": "white",
           "lakecolor": "white",
           "landcolor": "#E5ECF6",
           "showlakes": true,
           "showland": true,
           "subunitcolor": "white"
          },
          "hoverlabel": {
           "align": "left"
          },
          "hovermode": "closest",
          "mapbox": {
           "style": "light"
          },
          "paper_bgcolor": "white",
          "plot_bgcolor": "#E5ECF6",
          "polar": {
           "angularaxis": {
            "gridcolor": "white",
            "linecolor": "white",
            "ticks": ""
           },
           "bgcolor": "#E5ECF6",
           "radialaxis": {
            "gridcolor": "white",
            "linecolor": "white",
            "ticks": ""
           }
          },
          "scene": {
           "xaxis": {
            "backgroundcolor": "#E5ECF6",
            "gridcolor": "white",
            "gridwidth": 2,
            "linecolor": "white",
            "showbackground": true,
            "ticks": "",
            "zerolinecolor": "white"
           },
           "yaxis": {
            "backgroundcolor": "#E5ECF6",
            "gridcolor": "white",
            "gridwidth": 2,
            "linecolor": "white",
            "showbackground": true,
            "ticks": "",
            "zerolinecolor": "white"
           },
           "zaxis": {
            "backgroundcolor": "#E5ECF6",
            "gridcolor": "white",
            "gridwidth": 2,
            "linecolor": "white",
            "showbackground": true,
            "ticks": "",
            "zerolinecolor": "white"
           }
          },
          "shapedefaults": {
           "line": {
            "color": "#2a3f5f"
           }
          },
          "ternary": {
           "aaxis": {
            "gridcolor": "white",
            "linecolor": "white",
            "ticks": ""
           },
           "baxis": {
            "gridcolor": "white",
            "linecolor": "white",
            "ticks": ""
           },
           "bgcolor": "#E5ECF6",
           "caxis": {
            "gridcolor": "white",
            "linecolor": "white",
            "ticks": ""
           }
          },
          "title": {
           "x": 0.05
          },
          "xaxis": {
           "automargin": true,
           "gridcolor": "white",
           "linecolor": "white",
           "ticks": "",
           "title": {
            "standoff": 15
           },
           "zerolinecolor": "white",
           "zerolinewidth": 2
          },
          "yaxis": {
           "automargin": true,
           "gridcolor": "white",
           "linecolor": "white",
           "ticks": "",
           "title": {
            "standoff": 15
           },
           "zerolinecolor": "white",
           "zerolinewidth": 2
          }
         }
        },
        "title": {
         "text": "Univariate drift metrics"
        },
        "xaxis": {
         "anchor": "y",
         "domain": [
          0,
          1
         ],
         "linecolor": "#3b0280",
         "matches": "x",
         "mirror": true,
         "showgrid": false,
         "title": {
          "text": "Time"
         },
         "zeroline": false
        },
        "xaxis2": {
         "anchor": "y2",
         "domain": [
          0,
          1
         ],
         "linecolor": "#3b0280",
         "matches": "x",
         "mirror": true,
         "showgrid": false,
         "title": {
          "text": "Time"
         },
         "zeroline": false
        },
        "xaxis3": {
         "anchor": "y3",
         "domain": [
          0,
          1
         ],
         "linecolor": "#3b0280",
         "matches": "x",
         "mirror": true,
         "showgrid": false,
         "title": {
          "text": "Time"
         },
         "zeroline": false
        },
        "yaxis": {
         "anchor": "x",
         "domain": [
          0.7777777777777778,
          1
         ],
         "linecolor": "#3b0280",
         "mirror": true,
         "showgrid": false,
         "title": {
          "text": "Kolmogorov-Smirnov statistic"
         },
         "zeroline": false
        },
        "yaxis2": {
         "anchor": "x2",
         "domain": [
          0.3888888888888889,
          0.6111111111111112
         ],
         "linecolor": "#3b0280",
         "mirror": true,
         "showgrid": false,
         "title": {
          "text": "Kolmogorov-Smirnov statistic"
         },
         "zeroline": false
        },
        "yaxis3": {
         "anchor": "x3",
         "domain": [
          0,
          0.22222222222222224
         ],
         "linecolor": "#3b0280",
         "mirror": true,
         "showgrid": false,
         "title": {
          "text": "Chi2 statistic"
         },
         "zeroline": false
        }
       }
      }
     },
     "metadata": {},
     "output_type": "display_data"
    }
   ],
   "source": [
    "univariate_drift_calc = nml.UnivariateDriftCalculator(\n",
    "    column_names=features + [y_pred],\n",
    "    treat_as_categorical=y_pred,\n",
    "    timestamp_column_name=timestamp,\n",
    "    continuous_methods=['kolmogorov_smirnov'],\n",
    "    categorical_methods=['chi2'],\n",
    "    chunk_size=1964\n",
    ")\n",
    "\n",
    "univariate_drift_calc.fit(df_test)\n",
    "univariate_drift_results = univariate_drift_calc.calculate(df_prod)\n",
    "univariate_drift_results.plot()\n"
   ]
  },
  {
   "cell_type": "code",
   "execution_count": 10,
   "metadata": {},
   "outputs": [
    {
     "data": {
      "application/vnd.plotly.v1+json": {
       "config": {
        "plotlyServerURL": "https://plot.ly"
       },
       "data": [
        {
         "hoverinfo": "skip",
         "legendgroup": "metric_reference",
         "line": {
          "color": "#00c8e5",
          "shape": "hv",
          "width": 2
         },
         "mode": "lines",
         "name": "Method",
         "showlegend": true,
         "type": "scatter",
         "x": [
          "2021-06-09T00:12:00",
          "2021-06-13T03:12:00",
          "2021-06-17T06:12:00",
          "2021-06-21T09:12:00",
          "2021-06-25T12:03:00"
         ],
         "xaxis": "x",
         "y": [
          0.29888035569717614,
          0.24671434950577156,
          0.14139175388726125,
          0.16851928427751417,
          0.16851928427751417
         ],
         "yaxis": "y"
        },
        {
         "customdata": [
          [
           "Kolmogorov-Smirnov statistic for <b>temperature</b>",
           "<b style=\"color:#00c8e5;line-height:60px\">Reference</b>",
           "",
           "[0:1963]",
           "From <b>Jun-09-2021</b> to <b>Jun-13-2021</b>",
           0.2989
          ],
          [
           "Kolmogorov-Smirnov statistic for <b>temperature</b>",
           "<b style=\"color:#00c8e5;line-height:60px\">Reference</b>",
           "",
           "[1964:3927]",
           "From <b>Jun-13-2021</b> to <b>Jun-17-2021</b>",
           0.2467
          ],
          [
           "Kolmogorov-Smirnov statistic for <b>temperature</b>",
           "<b style=\"color:#00c8e5;line-height:60px\">Reference</b>",
           "",
           "[3928:5891]",
           "From <b>Jun-17-2021</b> to <b>Jun-21-2021</b>",
           0.1414
          ],
          [
           "Kolmogorov-Smirnov statistic for <b>temperature</b>",
           "<b style=\"color:#00c8e5;line-height:60px\">Reference</b>",
           "",
           "[5892:7853]",
           "From <b>Jun-21-2021</b> to <b>Jun-25-2021</b>",
           0.1685
          ]
         ],
         "hovertemplate": "%{customdata[1]} &nbsp; &nbsp; %{customdata[2]} <br />Chunk: <b>%{customdata[3]}</b> &nbsp; &nbsp; %{customdata[4]} <br />%{customdata[0]}: <b>%{customdata[5]}</b><b r /><extra></extra>",
         "legendgroup": "metric_reference",
         "marker": {
          "color": "#00c8e5",
          "size": 5,
          "symbol": "circle"
         },
         "mode": "markers",
         "name": "Method",
         "showlegend": false,
         "type": "scatter",
         "x": [
          "2021-06-11T01:42:00",
          "2021-06-15T04:42:00",
          "2021-06-19T07:42:00",
          "2021-06-23T10:37:30"
         ],
         "xaxis": "x",
         "y": [
          0.29888035569717614,
          0.24671434950577156,
          0.14139175388726125,
          0.16851928427751417,
          0.16851928427751417
         ],
         "yaxis": "y"
        },
        {
         "hoverinfo": "skip",
         "legendgroup": "metric_analysis",
         "line": {
          "color": "#00c8e5",
          "shape": "hv",
          "width": 2
         },
         "mode": "lines",
         "name": "Method",
         "showlegend": false,
         "type": "scatter",
         "x": [
          "2021-06-25T12:06:00",
          "2021-06-29T15:06:00",
          "2021-07-03T18:06:00",
          "2021-07-07T21:06:00",
          "2021-07-11T23:57:00"
         ],
         "xaxis": "x",
         "y": [
          0.6024629996416266,
          0.3510861667384969,
          0.32963511270088486,
          0.160768505344868,
          0.160768505344868
         ],
         "yaxis": "y"
        },
        {
         "customdata": [
          [
           "Kolmogorov-Smirnov statistic for <b>temperature</b>",
           "<b style=\"color:#00c8e5;line-height:60px\">Analysis</b>",
           "<span style=\"color:#AD0000\">⚠ <b>Drift detected</b></span>",
           "[0:1963]",
           "From <b>Jun-25-2021</b> to <b>Jun-29-2021</b>",
           0.6025
          ],
          [
           "Kolmogorov-Smirnov statistic for <b>temperature</b>",
           "<b style=\"color:#00c8e5;line-height:60px\">Analysis</b>",
           "",
           "[1964:3927]",
           "From <b>Jun-29-2021</b> to <b>Jul-03-2021</b>",
           0.3511
          ],
          [
           "Kolmogorov-Smirnov statistic for <b>temperature</b>",
           "<b style=\"color:#00c8e5;line-height:60px\">Analysis</b>",
           "",
           "[3928:5891]",
           "From <b>Jul-03-2021</b> to <b>Jul-07-2021</b>",
           0.3296
          ],
          [
           "Kolmogorov-Smirnov statistic for <b>temperature</b>",
           "<b style=\"color:#00c8e5;line-height:60px\">Analysis</b>",
           "",
           "[5892:7853]",
           "From <b>Jul-07-2021</b> to <b>Jul-11-2021</b>",
           0.1608
          ]
         ],
         "hovertemplate": "%{customdata[1]} &nbsp; &nbsp; %{customdata[2]} <br />Chunk: <b>%{customdata[3]}</b> &nbsp; &nbsp; %{customdata[4]} <br />%{customdata[0]}: <b>%{customdata[5]}</b><b r /><extra></extra>",
         "legendgroup": "metric_analysis",
         "marker": {
          "color": "#00c8e5",
          "size": 5,
          "symbol": "circle"
         },
         "mode": "markers",
         "name": "Method",
         "showlegend": false,
         "type": "scatter",
         "x": [
          "2021-06-27T13:36:00",
          "2021-07-01T16:36:00",
          "2021-07-05T19:36:00",
          "2021-07-09T22:31:30"
         ],
         "xaxis": "x",
         "y": [
          0.6024629996416266,
          0.3510861667384969,
          0.32963511270088486,
          0.160768505344868,
          0.160768505344868
         ],
         "yaxis": "y"
        },
        {
         "hoverinfo": "skip",
         "legendgroup": "alert",
         "marker": {
          "color": "#DD4040",
          "size": 8,
          "symbol": "diamond"
         },
         "mode": "markers",
         "name": "Alert",
         "showlegend": true,
         "type": "scatter",
         "x": [
          "2021-06-27T13:36:00"
         ],
         "xaxis": "x",
         "y": [
          0.6024629996416266
         ],
         "yaxis": "y"
        },
        {
         "hoverinfo": "skip",
         "legendgroup": "thresh",
         "line": {
          "color": "#DD4040",
          "dash": "dash",
          "width": 2
         },
         "mode": "lines",
         "name": "Threshold",
         "showlegend": true,
         "type": "scatter",
         "x": [
          "2021-06-09T00:12:00",
          "2021-06-13T03:12:00",
          "2021-06-17T06:12:00",
          "2021-06-21T09:12:00",
          "2021-06-25T12:03:00"
         ],
         "xaxis": "x",
         "y": [
          0.4013181984816378,
          0.4013181984816378,
          0.4013181984816378,
          0.4013181984816378,
          0.4013181984816378
         ],
         "yaxis": "y"
        },
        {
         "hoverinfo": "skip",
         "legendgroup": "thresh",
         "line": {
          "color": "#DD4040",
          "dash": "dash",
          "width": 2
         },
         "mode": "lines",
         "name": "Threshold",
         "showlegend": false,
         "type": "scatter",
         "x": [
          "2021-06-25T12:06:00",
          "2021-06-29T15:06:00",
          "2021-07-03T18:06:00",
          "2021-07-07T21:06:00",
          "2021-07-11T23:57:00"
         ],
         "xaxis": "x",
         "y": [
          0.4013181984816378,
          0.4013181984816378,
          0.4013181984816378,
          0.4013181984816378,
          0.4013181984816378
         ],
         "yaxis": "y"
        }
       ],
       "layout": {
        "annotations": [
         {
          "font": {
           "size": 16
          },
          "showarrow": false,
          "text": "Kolmogorov-Smirnov statistic for <b>temperature</b>",
          "x": 0.5,
          "xanchor": "center",
          "xref": "paper",
          "y": 1,
          "yanchor": "bottom",
          "yref": "paper"
         },
         {
          "showarrow": false,
          "text": "Reference",
          "x": "2021-06-15T04:42:00",
          "xref": "x",
          "xshift": 10,
          "y": 1.01,
          "yref": "y domain"
         },
         {
          "showarrow": false,
          "text": "Analysis",
          "x": "2021-07-01T16:36:00",
          "xref": "x",
          "xshift": 15,
          "y": 1.01,
          "yref": "y domain"
         }
        ],
        "height": 500,
        "hoverlabel": {
         "bgcolor": "white",
         "font": {
          "size": 14
         }
        },
        "legend": {
         "itemclick": false,
         "itemdoubleclick": false,
         "traceorder": "grouped"
        },
        "paper_bgcolor": "rgba(255,255,255,1)",
        "plot_bgcolor": "rgba(255,255,255,1)",
        "shapes": [
         {
          "layer": "below",
          "line": {
           "color": "#666666",
           "width": 1
          },
          "type": "line",
          "x0": "2021-06-25T12:06:00",
          "x1": "2021-06-25T12:06:00",
          "xref": "x",
          "y0": 0,
          "y1": 1,
          "yref": "y domain"
         }
        ],
        "template": {
         "data": {
          "bar": [
           {
            "error_x": {
             "color": "#2a3f5f"
            },
            "error_y": {
             "color": "#2a3f5f"
            },
            "marker": {
             "line": {
              "color": "#E5ECF6",
              "width": 0.5
             },
             "pattern": {
              "fillmode": "overlay",
              "size": 10,
              "solidity": 0.2
             }
            },
            "type": "bar"
           }
          ],
          "barpolar": [
           {
            "marker": {
             "line": {
              "color": "#E5ECF6",
              "width": 0.5
             },
             "pattern": {
              "fillmode": "overlay",
              "size": 10,
              "solidity": 0.2
             }
            },
            "type": "barpolar"
           }
          ],
          "carpet": [
           {
            "aaxis": {
             "endlinecolor": "#2a3f5f",
             "gridcolor": "white",
             "linecolor": "white",
             "minorgridcolor": "white",
             "startlinecolor": "#2a3f5f"
            },
            "baxis": {
             "endlinecolor": "#2a3f5f",
             "gridcolor": "white",
             "linecolor": "white",
             "minorgridcolor": "white",
             "startlinecolor": "#2a3f5f"
            },
            "type": "carpet"
           }
          ],
          "choropleth": [
           {
            "colorbar": {
             "outlinewidth": 0,
             "ticks": ""
            },
            "type": "choropleth"
           }
          ],
          "contour": [
           {
            "colorbar": {
             "outlinewidth": 0,
             "ticks": ""
            },
            "colorscale": [
             [
              0,
              "#0d0887"
             ],
             [
              0.1111111111111111,
              "#46039f"
             ],
             [
              0.2222222222222222,
              "#7201a8"
             ],
             [
              0.3333333333333333,
              "#9c179e"
             ],
             [
              0.4444444444444444,
              "#bd3786"
             ],
             [
              0.5555555555555556,
              "#d8576b"
             ],
             [
              0.6666666666666666,
              "#ed7953"
             ],
             [
              0.7777777777777778,
              "#fb9f3a"
             ],
             [
              0.8888888888888888,
              "#fdca26"
             ],
             [
              1,
              "#f0f921"
             ]
            ],
            "type": "contour"
           }
          ],
          "contourcarpet": [
           {
            "colorbar": {
             "outlinewidth": 0,
             "ticks": ""
            },
            "type": "contourcarpet"
           }
          ],
          "heatmap": [
           {
            "colorbar": {
             "outlinewidth": 0,
             "ticks": ""
            },
            "colorscale": [
             [
              0,
              "#0d0887"
             ],
             [
              0.1111111111111111,
              "#46039f"
             ],
             [
              0.2222222222222222,
              "#7201a8"
             ],
             [
              0.3333333333333333,
              "#9c179e"
             ],
             [
              0.4444444444444444,
              "#bd3786"
             ],
             [
              0.5555555555555556,
              "#d8576b"
             ],
             [
              0.6666666666666666,
              "#ed7953"
             ],
             [
              0.7777777777777778,
              "#fb9f3a"
             ],
             [
              0.8888888888888888,
              "#fdca26"
             ],
             [
              1,
              "#f0f921"
             ]
            ],
            "type": "heatmap"
           }
          ],
          "heatmapgl": [
           {
            "colorbar": {
             "outlinewidth": 0,
             "ticks": ""
            },
            "colorscale": [
             [
              0,
              "#0d0887"
             ],
             [
              0.1111111111111111,
              "#46039f"
             ],
             [
              0.2222222222222222,
              "#7201a8"
             ],
             [
              0.3333333333333333,
              "#9c179e"
             ],
             [
              0.4444444444444444,
              "#bd3786"
             ],
             [
              0.5555555555555556,
              "#d8576b"
             ],
             [
              0.6666666666666666,
              "#ed7953"
             ],
             [
              0.7777777777777778,
              "#fb9f3a"
             ],
             [
              0.8888888888888888,
              "#fdca26"
             ],
             [
              1,
              "#f0f921"
             ]
            ],
            "type": "heatmapgl"
           }
          ],
          "histogram": [
           {
            "marker": {
             "pattern": {
              "fillmode": "overlay",
              "size": 10,
              "solidity": 0.2
             }
            },
            "type": "histogram"
           }
          ],
          "histogram2d": [
           {
            "colorbar": {
             "outlinewidth": 0,
             "ticks": ""
            },
            "colorscale": [
             [
              0,
              "#0d0887"
             ],
             [
              0.1111111111111111,
              "#46039f"
             ],
             [
              0.2222222222222222,
              "#7201a8"
             ],
             [
              0.3333333333333333,
              "#9c179e"
             ],
             [
              0.4444444444444444,
              "#bd3786"
             ],
             [
              0.5555555555555556,
              "#d8576b"
             ],
             [
              0.6666666666666666,
              "#ed7953"
             ],
             [
              0.7777777777777778,
              "#fb9f3a"
             ],
             [
              0.8888888888888888,
              "#fdca26"
             ],
             [
              1,
              "#f0f921"
             ]
            ],
            "type": "histogram2d"
           }
          ],
          "histogram2dcontour": [
           {
            "colorbar": {
             "outlinewidth": 0,
             "ticks": ""
            },
            "colorscale": [
             [
              0,
              "#0d0887"
             ],
             [
              0.1111111111111111,
              "#46039f"
             ],
             [
              0.2222222222222222,
              "#7201a8"
             ],
             [
              0.3333333333333333,
              "#9c179e"
             ],
             [
              0.4444444444444444,
              "#bd3786"
             ],
             [
              0.5555555555555556,
              "#d8576b"
             ],
             [
              0.6666666666666666,
              "#ed7953"
             ],
             [
              0.7777777777777778,
              "#fb9f3a"
             ],
             [
              0.8888888888888888,
              "#fdca26"
             ],
             [
              1,
              "#f0f921"
             ]
            ],
            "type": "histogram2dcontour"
           }
          ],
          "mesh3d": [
           {
            "colorbar": {
             "outlinewidth": 0,
             "ticks": ""
            },
            "type": "mesh3d"
           }
          ],
          "parcoords": [
           {
            "line": {
             "colorbar": {
              "outlinewidth": 0,
              "ticks": ""
             }
            },
            "type": "parcoords"
           }
          ],
          "pie": [
           {
            "automargin": true,
            "type": "pie"
           }
          ],
          "scatter": [
           {
            "fillpattern": {
             "fillmode": "overlay",
             "size": 10,
             "solidity": 0.2
            },
            "type": "scatter"
           }
          ],
          "scatter3d": [
           {
            "line": {
             "colorbar": {
              "outlinewidth": 0,
              "ticks": ""
             }
            },
            "marker": {
             "colorbar": {
              "outlinewidth": 0,
              "ticks": ""
             }
            },
            "type": "scatter3d"
           }
          ],
          "scattercarpet": [
           {
            "marker": {
             "colorbar": {
              "outlinewidth": 0,
              "ticks": ""
             }
            },
            "type": "scattercarpet"
           }
          ],
          "scattergeo": [
           {
            "marker": {
             "colorbar": {
              "outlinewidth": 0,
              "ticks": ""
             }
            },
            "type": "scattergeo"
           }
          ],
          "scattergl": [
           {
            "marker": {
             "colorbar": {
              "outlinewidth": 0,
              "ticks": ""
             }
            },
            "type": "scattergl"
           }
          ],
          "scattermapbox": [
           {
            "marker": {
             "colorbar": {
              "outlinewidth": 0,
              "ticks": ""
             }
            },
            "type": "scattermapbox"
           }
          ],
          "scatterpolar": [
           {
            "marker": {
             "colorbar": {
              "outlinewidth": 0,
              "ticks": ""
             }
            },
            "type": "scatterpolar"
           }
          ],
          "scatterpolargl": [
           {
            "marker": {
             "colorbar": {
              "outlinewidth": 0,
              "ticks": ""
             }
            },
            "type": "scatterpolargl"
           }
          ],
          "scatterternary": [
           {
            "marker": {
             "colorbar": {
              "outlinewidth": 0,
              "ticks": ""
             }
            },
            "type": "scatterternary"
           }
          ],
          "surface": [
           {
            "colorbar": {
             "outlinewidth": 0,
             "ticks": ""
            },
            "colorscale": [
             [
              0,
              "#0d0887"
             ],
             [
              0.1111111111111111,
              "#46039f"
             ],
             [
              0.2222222222222222,
              "#7201a8"
             ],
             [
              0.3333333333333333,
              "#9c179e"
             ],
             [
              0.4444444444444444,
              "#bd3786"
             ],
             [
              0.5555555555555556,
              "#d8576b"
             ],
             [
              0.6666666666666666,
              "#ed7953"
             ],
             [
              0.7777777777777778,
              "#fb9f3a"
             ],
             [
              0.8888888888888888,
              "#fdca26"
             ],
             [
              1,
              "#f0f921"
             ]
            ],
            "type": "surface"
           }
          ],
          "table": [
           {
            "cells": {
             "fill": {
              "color": "#EBF0F8"
             },
             "line": {
              "color": "white"
             }
            },
            "header": {
             "fill": {
              "color": "#C8D4E3"
             },
             "line": {
              "color": "white"
             }
            },
            "type": "table"
           }
          ]
         },
         "layout": {
          "annotationdefaults": {
           "arrowcolor": "#2a3f5f",
           "arrowhead": 0,
           "arrowwidth": 1
          },
          "autotypenumbers": "strict",
          "coloraxis": {
           "colorbar": {
            "outlinewidth": 0,
            "ticks": ""
           }
          },
          "colorscale": {
           "diverging": [
            [
             0,
             "#8e0152"
            ],
            [
             0.1,
             "#c51b7d"
            ],
            [
             0.2,
             "#de77ae"
            ],
            [
             0.3,
             "#f1b6da"
            ],
            [
             0.4,
             "#fde0ef"
            ],
            [
             0.5,
             "#f7f7f7"
            ],
            [
             0.6,
             "#e6f5d0"
            ],
            [
             0.7,
             "#b8e186"
            ],
            [
             0.8,
             "#7fbc41"
            ],
            [
             0.9,
             "#4d9221"
            ],
            [
             1,
             "#276419"
            ]
           ],
           "sequential": [
            [
             0,
             "#0d0887"
            ],
            [
             0.1111111111111111,
             "#46039f"
            ],
            [
             0.2222222222222222,
             "#7201a8"
            ],
            [
             0.3333333333333333,
             "#9c179e"
            ],
            [
             0.4444444444444444,
             "#bd3786"
            ],
            [
             0.5555555555555556,
             "#d8576b"
            ],
            [
             0.6666666666666666,
             "#ed7953"
            ],
            [
             0.7777777777777778,
             "#fb9f3a"
            ],
            [
             0.8888888888888888,
             "#fdca26"
            ],
            [
             1,
             "#f0f921"
            ]
           ],
           "sequentialminus": [
            [
             0,
             "#0d0887"
            ],
            [
             0.1111111111111111,
             "#46039f"
            ],
            [
             0.2222222222222222,
             "#7201a8"
            ],
            [
             0.3333333333333333,
             "#9c179e"
            ],
            [
             0.4444444444444444,
             "#bd3786"
            ],
            [
             0.5555555555555556,
             "#d8576b"
            ],
            [
             0.6666666666666666,
             "#ed7953"
            ],
            [
             0.7777777777777778,
             "#fb9f3a"
            ],
            [
             0.8888888888888888,
             "#fdca26"
            ],
            [
             1,
             "#f0f921"
            ]
           ]
          },
          "colorway": [
           "#636efa",
           "#EF553B",
           "#00cc96",
           "#ab63fa",
           "#FFA15A",
           "#19d3f3",
           "#FF6692",
           "#B6E880",
           "#FF97FF",
           "#FECB52"
          ],
          "font": {
           "color": "#2a3f5f"
          },
          "geo": {
           "bgcolor": "white",
           "lakecolor": "white",
           "landcolor": "#E5ECF6",
           "showlakes": true,
           "showland": true,
           "subunitcolor": "white"
          },
          "hoverlabel": {
           "align": "left"
          },
          "hovermode": "closest",
          "mapbox": {
           "style": "light"
          },
          "paper_bgcolor": "white",
          "plot_bgcolor": "#E5ECF6",
          "polar": {
           "angularaxis": {
            "gridcolor": "white",
            "linecolor": "white",
            "ticks": ""
           },
           "bgcolor": "#E5ECF6",
           "radialaxis": {
            "gridcolor": "white",
            "linecolor": "white",
            "ticks": ""
           }
          },
          "scene": {
           "xaxis": {
            "backgroundcolor": "#E5ECF6",
            "gridcolor": "white",
            "gridwidth": 2,
            "linecolor": "white",
            "showbackground": true,
            "ticks": "",
            "zerolinecolor": "white"
           },
           "yaxis": {
            "backgroundcolor": "#E5ECF6",
            "gridcolor": "white",
            "gridwidth": 2,
            "linecolor": "white",
            "showbackground": true,
            "ticks": "",
            "zerolinecolor": "white"
           },
           "zaxis": {
            "backgroundcolor": "#E5ECF6",
            "gridcolor": "white",
            "gridwidth": 2,
            "linecolor": "white",
            "showbackground": true,
            "ticks": "",
            "zerolinecolor": "white"
           }
          },
          "shapedefaults": {
           "line": {
            "color": "#2a3f5f"
           }
          },
          "ternary": {
           "aaxis": {
            "gridcolor": "white",
            "linecolor": "white",
            "ticks": ""
           },
           "baxis": {
            "gridcolor": "white",
            "linecolor": "white",
            "ticks": ""
           },
           "bgcolor": "#E5ECF6",
           "caxis": {
            "gridcolor": "white",
            "linecolor": "white",
            "ticks": ""
           }
          },
          "title": {
           "x": 0.05
          },
          "xaxis": {
           "automargin": true,
           "gridcolor": "white",
           "linecolor": "white",
           "ticks": "",
           "title": {
            "standoff": 15
           },
           "zerolinecolor": "white",
           "zerolinewidth": 2
          },
          "yaxis": {
           "automargin": true,
           "gridcolor": "white",
           "linecolor": "white",
           "ticks": "",
           "title": {
            "standoff": 15
           },
           "zerolinecolor": "white",
           "zerolinewidth": 2
          }
         }
        },
        "title": {
         "text": "Univariate drift metrics"
        },
        "xaxis": {
         "anchor": "y",
         "domain": [
          0,
          1
         ],
         "linecolor": "#3b0280",
         "matches": "x",
         "mirror": true,
         "showgrid": false,
         "title": {
          "text": "Time"
         },
         "zeroline": false
        },
        "yaxis": {
         "anchor": "x",
         "domain": [
          0,
          1
         ],
         "linecolor": "#3b0280",
         "mirror": true,
         "showgrid": false,
         "title": {
          "text": "Kolmogorov-Smirnov statistic"
         },
         "zeroline": false
        }
       }
      }
     },
     "metadata": {},
     "output_type": "display_data"
    }
   ],
   "source": [
    "fig = univariate_drift_results.filter(column_names='temperature').plot()\n",
    "fig.show()\n",
    "fig.write_image('big_chunk_temperature.svg')"
   ]
  },
  {
   "cell_type": "markdown",
   "metadata": {},
   "source": [
    "# Red flag 3: comparing only univariate drift methods"
   ]
  },
  {
   "cell_type": "code",
   "execution_count": 11,
   "metadata": {},
   "outputs": [
    {
     "name": "stderr",
     "output_type": "stream",
     "text": [
      "/Users/santiago/miniconda3/envs/nannymlPremium/lib/python3.10/site-packages/nannyml/chunk.py:181: UserWarning:\n",
      "\n",
      "The resulting number of chunks is too low. Please consider splitting your data in a different way or continue at your own risk.\n",
      "\n",
      "/Users/santiago/miniconda3/envs/nannymlPremium/lib/python3.10/site-packages/nannyml/chunk.py:181: UserWarning:\n",
      "\n",
      "The resulting number of chunks is too low. Please consider splitting your data in a different way or continue at your own risk.\n",
      "\n"
     ]
    },
    {
     "data": {
      "application/vnd.plotly.v1+json": {
       "config": {
        "plotlyServerURL": "https://plot.ly"
       },
       "data": [
        {
         "hoverinfo": "skip",
         "legendgroup": "metric_reference",
         "line": {
          "color": "#00c8e5",
          "shape": "hv",
          "width": 2
         },
         "mode": "lines",
         "name": "Metric",
         "showlegend": true,
         "type": "scatter",
         "x": [
          "2021-06-09T00:12:00",
          "2021-06-13T03:12:00",
          "2021-06-17T06:12:00",
          "2021-06-21T09:12:00",
          "2021-06-25T12:03:00"
         ],
         "y": [
          1.720564726584319e-16,
          1.9614883808014912e-16,
          2.2399486889494227e-16,
          2.074135366894844e-16,
          2.074135366894844e-16
         ]
        },
        {
         "customdata": [
          [
           "Reconstruction Error",
           "<b style=\"color:#00c8e5;line-height:60px\">Reference</b>",
           "",
           "[0:1963]",
           "From <b>Jun-09-2021</b> to <b>Jun-13-2021</b>",
           0,
           0
          ],
          [
           "Reconstruction Error",
           "<b style=\"color:#00c8e5;line-height:60px\">Reference</b>",
           "",
           "[1964:3927]",
           "From <b>Jun-13-2021</b> to <b>Jun-17-2021</b>",
           0,
           0
          ],
          [
           "Reconstruction Error",
           "<b style=\"color:#00c8e5;line-height:60px\">Reference</b>",
           "",
           "[3928:5891]",
           "From <b>Jun-17-2021</b> to <b>Jun-21-2021</b>",
           0,
           0
          ],
          [
           "Reconstruction Error",
           "<b style=\"color:#00c8e5;line-height:60px\">Reference</b>",
           "",
           "[5892:7853]",
           "From <b>Jun-21-2021</b> to <b>Jun-25-2021</b>",
           0,
           0
          ]
         ],
         "hovertemplate": "%{customdata[1]} &nbsp; &nbsp; %{customdata[2]} <br />Chunk: <b>%{customdata[3]}</b> &nbsp; &nbsp; %{customdata[4]} <br />%{customdata[0]}: <b>%{customdata[5]}</b><br />Confidence band: +/- <b>%{customdata[6]}</b><br /><extra></extra>",
         "legendgroup": "metric_reference",
         "marker": {
          "color": "#00c8e5",
          "size": 5,
          "symbol": "circle"
         },
         "mode": "markers",
         "name": "Metric",
         "showlegend": false,
         "type": "scatter",
         "x": [
          "2021-06-11T01:42:00",
          "2021-06-15T04:42:00",
          "2021-06-19T07:42:00",
          "2021-06-23T10:37:30"
         ],
         "y": [
          1.720564726584319e-16,
          1.9614883808014912e-16,
          2.2399486889494227e-16,
          2.074135366894844e-16,
          2.074135366894844e-16
         ]
        },
        {
         "hoverinfo": "skip",
         "legendgroup": "metric_analysis",
         "line": {
          "color": "#00c8e5",
          "shape": "hv",
          "width": 2
         },
         "mode": "lines",
         "name": "Metric",
         "showlegend": false,
         "type": "scatter",
         "x": [
          "2021-06-25T12:06:00",
          "2021-06-29T15:06:00",
          "2021-07-03T18:06:00",
          "2021-07-07T21:06:00",
          "2021-07-11T23:57:00"
         ],
         "y": [
          3.079105775429185e-16,
          2.1480660873257034e-16,
          2.448025937802662e-16,
          1.569686823541902e-16,
          1.569686823541902e-16
         ]
        },
        {
         "customdata": [
          [
           "Reconstruction Error",
           "<b style=\"color:#3b0280;line-height:60px\">Analysis</b>",
           "<span style=\"color:#AD0000\">⚠ <b>Drift detected</b></span>",
           "[0:1963]",
           "From <b>Jun-25-2021</b> to <b>Jun-29-2021</b>",
           0,
           0
          ],
          [
           "Reconstruction Error",
           "<b style=\"color:#3b0280;line-height:60px\">Analysis</b>",
           "",
           "[1964:3927]",
           "From <b>Jun-29-2021</b> to <b>Jul-03-2021</b>",
           0,
           0
          ],
          [
           "Reconstruction Error",
           "<b style=\"color:#3b0280;line-height:60px\">Analysis</b>",
           "",
           "[3928:5891]",
           "From <b>Jul-03-2021</b> to <b>Jul-07-2021</b>",
           0,
           0
          ],
          [
           "Reconstruction Error",
           "<b style=\"color:#3b0280;line-height:60px\">Analysis</b>",
           "",
           "[5892:7853]",
           "From <b>Jul-07-2021</b> to <b>Jul-11-2021</b>",
           0,
           0
          ]
         ],
         "hovertemplate": "%{customdata[1]} &nbsp; &nbsp; %{customdata[2]} <br />Chunk: <b>%{customdata[3]}</b> &nbsp; &nbsp; %{customdata[4]} <br />%{customdata[0]}: <b>%{customdata[5]}</b><br />Confidence band: +/- <b>%{customdata[6]}</b><br /><extra></extra>",
         "legendgroup": "metric_analysis",
         "marker": {
          "color": "#00c8e5",
          "size": 5,
          "symbol": "circle"
         },
         "mode": "markers",
         "name": "Metric",
         "showlegend": false,
         "type": "scatter",
         "x": [
          "2021-06-27T13:36:00",
          "2021-07-01T16:36:00",
          "2021-07-05T19:36:00",
          "2021-07-09T22:31:30"
         ],
         "y": [
          3.079105775429185e-16,
          2.1480660873257034e-16,
          2.448025937802662e-16,
          1.569686823541902e-16,
          1.569686823541902e-16
         ]
        },
        {
         "hoverinfo": "skip",
         "legendgroup": "alert",
         "marker": {
          "color": "#DD4040",
          "size": 8,
          "symbol": "diamond"
         },
         "mode": "markers",
         "name": "Alert",
         "showlegend": true,
         "type": "scatter",
         "x": [
          "2021-06-27T13:36:00"
         ],
         "y": [
          3.079105775429185e-16
         ]
        },
        {
         "hoverinfo": "skip",
         "legendgroup": "thresh",
         "line": {
          "color": "#DD4040",
          "dash": "dash",
          "width": 2
         },
         "mode": "lines",
         "name": "Threshold",
         "showlegend": false,
         "type": "scatter",
         "x": [
          "2021-06-09T00:12:00",
          "2021-06-13T03:12:00",
          "2021-06-17T06:12:00",
          "2021-06-21T09:12:00",
          "2021-06-25T12:03:00"
         ],
         "y": [
          2.565539853835259e-16,
          2.565539853835259e-16,
          2.565539853835259e-16,
          2.565539853835259e-16,
          2.565539853835259e-16
         ]
        },
        {
         "hoverinfo": "skip",
         "legendgroup": "thresh",
         "line": {
          "color": "#DD4040",
          "dash": "dash",
          "width": 2
         },
         "mode": "lines",
         "name": "Threshold",
         "showlegend": false,
         "type": "scatter",
         "x": [
          "2021-06-09T00:12:00",
          "2021-06-13T03:12:00",
          "2021-06-17T06:12:00",
          "2021-06-21T09:12:00",
          "2021-06-25T12:03:00"
         ],
         "y": [
          1.432528727779779e-16,
          1.432528727779779e-16,
          1.432528727779779e-16,
          1.432528727779779e-16,
          1.432528727779779e-16
         ]
        },
        {
         "hoverinfo": "skip",
         "legendgroup": "thresh",
         "line": {
          "color": "#DD4040",
          "dash": "dash",
          "width": 2
         },
         "mode": "lines",
         "name": "Threshold",
         "showlegend": false,
         "type": "scatter",
         "x": [
          "2021-06-25T12:06:00",
          "2021-06-29T15:06:00",
          "2021-07-03T18:06:00",
          "2021-07-07T21:06:00",
          "2021-07-11T23:57:00"
         ],
         "y": [
          2.565539853835259e-16,
          2.565539853835259e-16,
          2.565539853835259e-16,
          2.565539853835259e-16,
          2.565539853835259e-16
         ]
        },
        {
         "hoverinfo": "skip",
         "legendgroup": "thresh",
         "line": {
          "color": "#DD4040",
          "dash": "dash",
          "width": 2
         },
         "mode": "lines",
         "name": "Threshold",
         "showlegend": false,
         "type": "scatter",
         "x": [
          "2021-06-25T12:06:00",
          "2021-06-29T15:06:00",
          "2021-07-03T18:06:00",
          "2021-07-07T21:06:00",
          "2021-07-11T23:57:00"
         ],
         "y": [
          1.432528727779779e-16,
          1.432528727779779e-16,
          1.432528727779779e-16,
          1.432528727779779e-16,
          1.432528727779779e-16
         ]
        },
        {
         "connectgaps": true,
         "hoverinfo": "skip",
         "line": {
          "color": "rgba(0,0,0,0)",
          "shape": "hv"
         },
         "mode": "lines",
         "name": "Confidence band",
         "showlegend": false,
         "type": "scatter",
         "x": [
          "2021-06-09T00:12:00",
          "2021-06-13T03:12:00",
          "2021-06-17T06:12:00",
          "2021-06-21T09:12:00",
          "2021-06-25T12:03:00"
         ],
         "y": [
          1.8309209155931443e-16,
          2.066759903760223e-16,
          2.4195648975468584e-16,
          2.1799058997178965e-16,
          2.1799058997178965e-16
         ]
        },
        {
         "connectgaps": true,
         "fill": "tonexty",
         "fillcolor": "rgba(0.0, 0.7843137254901961, 0.8980392156862745, 0.2)",
         "hoverinfo": "skip",
         "line": {
          "color": "rgba(0,0,0,0)",
          "shape": "hv"
         },
         "mode": "lines",
         "name": "Confidence band",
         "showlegend": true,
         "type": "scatter",
         "x": [
          "2021-06-09T00:12:00",
          "2021-06-13T03:12:00",
          "2021-06-17T06:12:00",
          "2021-06-21T09:12:00",
          "2021-06-25T12:03:00"
         ],
         "y": [
          1.6102085375754935e-16,
          1.8562168578427594e-16,
          2.0603324803519869e-16,
          1.9683648340717915e-16,
          1.9683648340717915e-16
         ]
        },
        {
         "connectgaps": true,
         "hoverinfo": "skip",
         "line": {
          "color": "rgba(0,0,0,0)",
          "shape": "hv"
         },
         "mode": "lines",
         "name": "Confidence band",
         "showlegend": false,
         "type": "scatter",
         "x": [
          "2021-06-25T12:06:00",
          "2021-06-29T15:06:00",
          "2021-07-03T18:06:00",
          "2021-07-07T21:06:00",
          "2021-07-11T23:57:00"
         ],
         "y": [
          3.1961752188360263e-16,
          2.2465133695666236e-16,
          2.5544807081856107e-16,
          1.6454135761474754e-16,
          1.6454135761474754e-16
         ]
        },
        {
         "connectgaps": true,
         "fill": "tonexty",
         "fillcolor": "rgba(0.0, 0.7843137254901961, 0.8980392156862745, 0.2)",
         "hoverinfo": "skip",
         "line": {
          "color": "rgba(0,0,0,0)",
          "shape": "hv"
         },
         "mode": "lines",
         "name": "Confidence band",
         "showlegend": false,
         "type": "scatter",
         "x": [
          "2021-06-25T12:06:00",
          "2021-06-29T15:06:00",
          "2021-07-03T18:06:00",
          "2021-07-07T21:06:00",
          "2021-07-11T23:57:00"
         ],
         "y": [
          2.962036332022344e-16,
          2.0496188050847835e-16,
          2.3415711674197135e-16,
          1.4939600709363287e-16,
          1.4939600709363287e-16
         ]
        }
       ],
       "layout": {
        "annotations": [
         {
          "showarrow": false,
          "text": "Reference",
          "x": "2021-06-15T04:42:00",
          "xshift": 10,
          "y": 1.01,
          "yref": "y domain"
         },
         {
          "showarrow": false,
          "text": "Analysis",
          "x": "2021-07-01T16:36:00",
          "xshift": 15,
          "y": 1.01,
          "yref": "y domain"
         }
        ],
        "hoverlabel": {
         "bgcolor": "white",
         "font": {
          "size": 14
         }
        },
        "legend": {
         "itemclick": false,
         "itemdoubleclick": false,
         "traceorder": "grouped"
        },
        "paper_bgcolor": "rgba(255,255,255,1)",
        "plot_bgcolor": "rgba(255,255,255,1)",
        "shapes": [
         {
          "layer": "below",
          "line": {
           "color": "#666666",
           "width": 1
          },
          "type": "line",
          "x0": "2021-06-25T12:06:00",
          "x1": "2021-06-25T12:06:00",
          "xref": "x",
          "y0": 0,
          "y1": 1,
          "yref": "y domain"
         }
        ],
        "template": {
         "data": {
          "bar": [
           {
            "error_x": {
             "color": "#2a3f5f"
            },
            "error_y": {
             "color": "#2a3f5f"
            },
            "marker": {
             "line": {
              "color": "#E5ECF6",
              "width": 0.5
             },
             "pattern": {
              "fillmode": "overlay",
              "size": 10,
              "solidity": 0.2
             }
            },
            "type": "bar"
           }
          ],
          "barpolar": [
           {
            "marker": {
             "line": {
              "color": "#E5ECF6",
              "width": 0.5
             },
             "pattern": {
              "fillmode": "overlay",
              "size": 10,
              "solidity": 0.2
             }
            },
            "type": "barpolar"
           }
          ],
          "carpet": [
           {
            "aaxis": {
             "endlinecolor": "#2a3f5f",
             "gridcolor": "white",
             "linecolor": "white",
             "minorgridcolor": "white",
             "startlinecolor": "#2a3f5f"
            },
            "baxis": {
             "endlinecolor": "#2a3f5f",
             "gridcolor": "white",
             "linecolor": "white",
             "minorgridcolor": "white",
             "startlinecolor": "#2a3f5f"
            },
            "type": "carpet"
           }
          ],
          "choropleth": [
           {
            "colorbar": {
             "outlinewidth": 0,
             "ticks": ""
            },
            "type": "choropleth"
           }
          ],
          "contour": [
           {
            "colorbar": {
             "outlinewidth": 0,
             "ticks": ""
            },
            "colorscale": [
             [
              0,
              "#0d0887"
             ],
             [
              0.1111111111111111,
              "#46039f"
             ],
             [
              0.2222222222222222,
              "#7201a8"
             ],
             [
              0.3333333333333333,
              "#9c179e"
             ],
             [
              0.4444444444444444,
              "#bd3786"
             ],
             [
              0.5555555555555556,
              "#d8576b"
             ],
             [
              0.6666666666666666,
              "#ed7953"
             ],
             [
              0.7777777777777778,
              "#fb9f3a"
             ],
             [
              0.8888888888888888,
              "#fdca26"
             ],
             [
              1,
              "#f0f921"
             ]
            ],
            "type": "contour"
           }
          ],
          "contourcarpet": [
           {
            "colorbar": {
             "outlinewidth": 0,
             "ticks": ""
            },
            "type": "contourcarpet"
           }
          ],
          "heatmap": [
           {
            "colorbar": {
             "outlinewidth": 0,
             "ticks": ""
            },
            "colorscale": [
             [
              0,
              "#0d0887"
             ],
             [
              0.1111111111111111,
              "#46039f"
             ],
             [
              0.2222222222222222,
              "#7201a8"
             ],
             [
              0.3333333333333333,
              "#9c179e"
             ],
             [
              0.4444444444444444,
              "#bd3786"
             ],
             [
              0.5555555555555556,
              "#d8576b"
             ],
             [
              0.6666666666666666,
              "#ed7953"
             ],
             [
              0.7777777777777778,
              "#fb9f3a"
             ],
             [
              0.8888888888888888,
              "#fdca26"
             ],
             [
              1,
              "#f0f921"
             ]
            ],
            "type": "heatmap"
           }
          ],
          "heatmapgl": [
           {
            "colorbar": {
             "outlinewidth": 0,
             "ticks": ""
            },
            "colorscale": [
             [
              0,
              "#0d0887"
             ],
             [
              0.1111111111111111,
              "#46039f"
             ],
             [
              0.2222222222222222,
              "#7201a8"
             ],
             [
              0.3333333333333333,
              "#9c179e"
             ],
             [
              0.4444444444444444,
              "#bd3786"
             ],
             [
              0.5555555555555556,
              "#d8576b"
             ],
             [
              0.6666666666666666,
              "#ed7953"
             ],
             [
              0.7777777777777778,
              "#fb9f3a"
             ],
             [
              0.8888888888888888,
              "#fdca26"
             ],
             [
              1,
              "#f0f921"
             ]
            ],
            "type": "heatmapgl"
           }
          ],
          "histogram": [
           {
            "marker": {
             "pattern": {
              "fillmode": "overlay",
              "size": 10,
              "solidity": 0.2
             }
            },
            "type": "histogram"
           }
          ],
          "histogram2d": [
           {
            "colorbar": {
             "outlinewidth": 0,
             "ticks": ""
            },
            "colorscale": [
             [
              0,
              "#0d0887"
             ],
             [
              0.1111111111111111,
              "#46039f"
             ],
             [
              0.2222222222222222,
              "#7201a8"
             ],
             [
              0.3333333333333333,
              "#9c179e"
             ],
             [
              0.4444444444444444,
              "#bd3786"
             ],
             [
              0.5555555555555556,
              "#d8576b"
             ],
             [
              0.6666666666666666,
              "#ed7953"
             ],
             [
              0.7777777777777778,
              "#fb9f3a"
             ],
             [
              0.8888888888888888,
              "#fdca26"
             ],
             [
              1,
              "#f0f921"
             ]
            ],
            "type": "histogram2d"
           }
          ],
          "histogram2dcontour": [
           {
            "colorbar": {
             "outlinewidth": 0,
             "ticks": ""
            },
            "colorscale": [
             [
              0,
              "#0d0887"
             ],
             [
              0.1111111111111111,
              "#46039f"
             ],
             [
              0.2222222222222222,
              "#7201a8"
             ],
             [
              0.3333333333333333,
              "#9c179e"
             ],
             [
              0.4444444444444444,
              "#bd3786"
             ],
             [
              0.5555555555555556,
              "#d8576b"
             ],
             [
              0.6666666666666666,
              "#ed7953"
             ],
             [
              0.7777777777777778,
              "#fb9f3a"
             ],
             [
              0.8888888888888888,
              "#fdca26"
             ],
             [
              1,
              "#f0f921"
             ]
            ],
            "type": "histogram2dcontour"
           }
          ],
          "mesh3d": [
           {
            "colorbar": {
             "outlinewidth": 0,
             "ticks": ""
            },
            "type": "mesh3d"
           }
          ],
          "parcoords": [
           {
            "line": {
             "colorbar": {
              "outlinewidth": 0,
              "ticks": ""
             }
            },
            "type": "parcoords"
           }
          ],
          "pie": [
           {
            "automargin": true,
            "type": "pie"
           }
          ],
          "scatter": [
           {
            "fillpattern": {
             "fillmode": "overlay",
             "size": 10,
             "solidity": 0.2
            },
            "type": "scatter"
           }
          ],
          "scatter3d": [
           {
            "line": {
             "colorbar": {
              "outlinewidth": 0,
              "ticks": ""
             }
            },
            "marker": {
             "colorbar": {
              "outlinewidth": 0,
              "ticks": ""
             }
            },
            "type": "scatter3d"
           }
          ],
          "scattercarpet": [
           {
            "marker": {
             "colorbar": {
              "outlinewidth": 0,
              "ticks": ""
             }
            },
            "type": "scattercarpet"
           }
          ],
          "scattergeo": [
           {
            "marker": {
             "colorbar": {
              "outlinewidth": 0,
              "ticks": ""
             }
            },
            "type": "scattergeo"
           }
          ],
          "scattergl": [
           {
            "marker": {
             "colorbar": {
              "outlinewidth": 0,
              "ticks": ""
             }
            },
            "type": "scattergl"
           }
          ],
          "scattermapbox": [
           {
            "marker": {
             "colorbar": {
              "outlinewidth": 0,
              "ticks": ""
             }
            },
            "type": "scattermapbox"
           }
          ],
          "scatterpolar": [
           {
            "marker": {
             "colorbar": {
              "outlinewidth": 0,
              "ticks": ""
             }
            },
            "type": "scatterpolar"
           }
          ],
          "scatterpolargl": [
           {
            "marker": {
             "colorbar": {
              "outlinewidth": 0,
              "ticks": ""
             }
            },
            "type": "scatterpolargl"
           }
          ],
          "scatterternary": [
           {
            "marker": {
             "colorbar": {
              "outlinewidth": 0,
              "ticks": ""
             }
            },
            "type": "scatterternary"
           }
          ],
          "surface": [
           {
            "colorbar": {
             "outlinewidth": 0,
             "ticks": ""
            },
            "colorscale": [
             [
              0,
              "#0d0887"
             ],
             [
              0.1111111111111111,
              "#46039f"
             ],
             [
              0.2222222222222222,
              "#7201a8"
             ],
             [
              0.3333333333333333,
              "#9c179e"
             ],
             [
              0.4444444444444444,
              "#bd3786"
             ],
             [
              0.5555555555555556,
              "#d8576b"
             ],
             [
              0.6666666666666666,
              "#ed7953"
             ],
             [
              0.7777777777777778,
              "#fb9f3a"
             ],
             [
              0.8888888888888888,
              "#fdca26"
             ],
             [
              1,
              "#f0f921"
             ]
            ],
            "type": "surface"
           }
          ],
          "table": [
           {
            "cells": {
             "fill": {
              "color": "#EBF0F8"
             },
             "line": {
              "color": "white"
             }
            },
            "header": {
             "fill": {
              "color": "#C8D4E3"
             },
             "line": {
              "color": "white"
             }
            },
            "type": "table"
           }
          ]
         },
         "layout": {
          "annotationdefaults": {
           "arrowcolor": "#2a3f5f",
           "arrowhead": 0,
           "arrowwidth": 1
          },
          "autotypenumbers": "strict",
          "coloraxis": {
           "colorbar": {
            "outlinewidth": 0,
            "ticks": ""
           }
          },
          "colorscale": {
           "diverging": [
            [
             0,
             "#8e0152"
            ],
            [
             0.1,
             "#c51b7d"
            ],
            [
             0.2,
             "#de77ae"
            ],
            [
             0.3,
             "#f1b6da"
            ],
            [
             0.4,
             "#fde0ef"
            ],
            [
             0.5,
             "#f7f7f7"
            ],
            [
             0.6,
             "#e6f5d0"
            ],
            [
             0.7,
             "#b8e186"
            ],
            [
             0.8,
             "#7fbc41"
            ],
            [
             0.9,
             "#4d9221"
            ],
            [
             1,
             "#276419"
            ]
           ],
           "sequential": [
            [
             0,
             "#0d0887"
            ],
            [
             0.1111111111111111,
             "#46039f"
            ],
            [
             0.2222222222222222,
             "#7201a8"
            ],
            [
             0.3333333333333333,
             "#9c179e"
            ],
            [
             0.4444444444444444,
             "#bd3786"
            ],
            [
             0.5555555555555556,
             "#d8576b"
            ],
            [
             0.6666666666666666,
             "#ed7953"
            ],
            [
             0.7777777777777778,
             "#fb9f3a"
            ],
            [
             0.8888888888888888,
             "#fdca26"
            ],
            [
             1,
             "#f0f921"
            ]
           ],
           "sequentialminus": [
            [
             0,
             "#0d0887"
            ],
            [
             0.1111111111111111,
             "#46039f"
            ],
            [
             0.2222222222222222,
             "#7201a8"
            ],
            [
             0.3333333333333333,
             "#9c179e"
            ],
            [
             0.4444444444444444,
             "#bd3786"
            ],
            [
             0.5555555555555556,
             "#d8576b"
            ],
            [
             0.6666666666666666,
             "#ed7953"
            ],
            [
             0.7777777777777778,
             "#fb9f3a"
            ],
            [
             0.8888888888888888,
             "#fdca26"
            ],
            [
             1,
             "#f0f921"
            ]
           ]
          },
          "colorway": [
           "#636efa",
           "#EF553B",
           "#00cc96",
           "#ab63fa",
           "#FFA15A",
           "#19d3f3",
           "#FF6692",
           "#B6E880",
           "#FF97FF",
           "#FECB52"
          ],
          "font": {
           "color": "#2a3f5f"
          },
          "geo": {
           "bgcolor": "white",
           "lakecolor": "white",
           "landcolor": "#E5ECF6",
           "showlakes": true,
           "showland": true,
           "subunitcolor": "white"
          },
          "hoverlabel": {
           "align": "left"
          },
          "hovermode": "closest",
          "mapbox": {
           "style": "light"
          },
          "paper_bgcolor": "white",
          "plot_bgcolor": "#E5ECF6",
          "polar": {
           "angularaxis": {
            "gridcolor": "white",
            "linecolor": "white",
            "ticks": ""
           },
           "bgcolor": "#E5ECF6",
           "radialaxis": {
            "gridcolor": "white",
            "linecolor": "white",
            "ticks": ""
           }
          },
          "scene": {
           "xaxis": {
            "backgroundcolor": "#E5ECF6",
            "gridcolor": "white",
            "gridwidth": 2,
            "linecolor": "white",
            "showbackground": true,
            "ticks": "",
            "zerolinecolor": "white"
           },
           "yaxis": {
            "backgroundcolor": "#E5ECF6",
            "gridcolor": "white",
            "gridwidth": 2,
            "linecolor": "white",
            "showbackground": true,
            "ticks": "",
            "zerolinecolor": "white"
           },
           "zaxis": {
            "backgroundcolor": "#E5ECF6",
            "gridcolor": "white",
            "gridwidth": 2,
            "linecolor": "white",
            "showbackground": true,
            "ticks": "",
            "zerolinecolor": "white"
           }
          },
          "shapedefaults": {
           "line": {
            "color": "#2a3f5f"
           }
          },
          "ternary": {
           "aaxis": {
            "gridcolor": "white",
            "linecolor": "white",
            "ticks": ""
           },
           "baxis": {
            "gridcolor": "white",
            "linecolor": "white",
            "ticks": ""
           },
           "bgcolor": "#E5ECF6",
           "caxis": {
            "gridcolor": "white",
            "linecolor": "white",
            "ticks": ""
           }
          },
          "title": {
           "x": 0.05
          },
          "xaxis": {
           "automargin": true,
           "gridcolor": "white",
           "linecolor": "white",
           "ticks": "",
           "title": {
            "standoff": 15
           },
           "zerolinecolor": "white",
           "zerolinewidth": 2
          },
          "yaxis": {
           "automargin": true,
           "gridcolor": "white",
           "linecolor": "white",
           "ticks": "",
           "title": {
            "standoff": 15
           },
           "zerolinecolor": "white",
           "zerolinewidth": 2
          }
         }
        },
        "title": {
         "text": "Multivariate Drift (PCA Reconstruction Error)"
        },
        "xaxis": {
         "linecolor": "#3b0280",
         "matches": "x",
         "mirror": true,
         "showgrid": false,
         "title": {
          "text": "Time"
         },
         "zeroline": false
        },
        "yaxis": {
         "linecolor": "#3b0280",
         "mirror": true,
         "showgrid": false,
         "title": {
          "text": "Reconstruction Error"
         },
         "zeroline": false
        }
       }
      }
     },
     "metadata": {},
     "output_type": "display_data"
    }
   ],
   "source": [
    "multivariate_drift_calc = nml.DataReconstructionDriftCalculator(\n",
    "    column_names=features,\n",
    "    timestamp_column_name=timestamp,\n",
    "    chunk_size=1964\n",
    ")\n",
    "\n",
    "multivariate_drift_calc.fit(df_test)\n",
    "multivariate_drift_results = multivariate_drift_calc.calculate(df_prod)\n",
    "multivariate_drift_results.plot()"
   ]
  },
  {
   "cell_type": "markdown",
   "metadata": {},
   "source": [
    "# Red flag 4: focusing only on data drift and not on model performance"
   ]
  },
  {
   "cell_type": "markdown",
   "metadata": {},
   "source": [
    "## Performance estimation"
   ]
  },
  {
   "cell_type": "markdown",
   "metadata": {},
   "source": [
    "### CBPE"
   ]
  },
  {
   "cell_type": "code",
   "execution_count": 12,
   "metadata": {},
   "outputs": [
    {
     "name": "stderr",
     "output_type": "stream",
     "text": [
      "/Users/santiago/miniconda3/envs/nannymlPremium/lib/python3.10/site-packages/nannyml/chunk.py:181: UserWarning:\n",
      "\n",
      "The resulting number of chunks is too low. Please consider splitting your data in a different way or continue at your own risk.\n",
      "\n",
      "/Users/santiago/miniconda3/envs/nannymlPremium/lib/python3.10/site-packages/nannyml/chunk.py:181: UserWarning:\n",
      "\n",
      "The resulting number of chunks is too low. Please consider splitting your data in a different way or continue at your own risk.\n",
      "\n",
      "/Users/santiago/miniconda3/envs/nannymlPremium/lib/python3.10/site-packages/nannyml/chunk.py:181: UserWarning:\n",
      "\n",
      "The resulting number of chunks is too low. Please consider splitting your data in a different way or continue at your own risk.\n",
      "\n",
      "/Users/santiago/miniconda3/envs/nannymlPremium/lib/python3.10/site-packages/nannyml/chunk.py:181: UserWarning:\n",
      "\n",
      "The resulting number of chunks is too low. Please consider splitting your data in a different way or continue at your own risk.\n",
      "\n",
      "/Users/santiago/miniconda3/envs/nannymlPremium/lib/python3.10/site-packages/nannyml/chunk.py:181: UserWarning:\n",
      "\n",
      "The resulting number of chunks is too low. Please consider splitting your data in a different way or continue at your own risk.\n",
      "\n",
      "/Users/santiago/miniconda3/envs/nannymlPremium/lib/python3.10/site-packages/nannyml/chunk.py:181: UserWarning:\n",
      "\n",
      "The resulting number of chunks is too low. Please consider splitting your data in a different way or continue at your own risk.\n",
      "\n"
     ]
    },
    {
     "data": {
      "application/vnd.plotly.v1+json": {
       "config": {
        "plotlyServerURL": "https://plot.ly"
       },
       "data": [
        {
         "hoverinfo": "skip",
         "legendgroup": "metric_reference",
         "line": {
          "color": "#3b0280",
          "dash": "dash",
          "shape": "hv",
          "width": 2
         },
         "mode": "lines",
         "name": "Metric",
         "showlegend": true,
         "type": "scatter",
         "x": [
          "2021-06-09T00:12:00",
          "2021-06-13T03:12:00",
          "2021-06-17T06:12:00",
          "2021-06-21T09:12:00",
          "2021-06-25T12:03:00"
         ],
         "xaxis": "x",
         "y": [
          0.9474860710658812,
          0.9717255825176189,
          0.9414479134769725,
          0.9630238457507634,
          0.9630238457507634
         ],
         "yaxis": "y"
        },
        {
         "customdata": [
          [
           "Estimated <b>ROC AUC</b>",
           "<b style=\"color:#3b0280;line-height:60px\">Reference</b>",
           "",
           "[0:1963]",
           "From <b>Jun-09-2021</b> to <b>Jun-13-2021</b>",
           0.9475,
           0.0357
          ],
          [
           "Estimated <b>ROC AUC</b>",
           "<b style=\"color:#3b0280;line-height:60px\">Reference</b>",
           "",
           "[1964:3927]",
           "From <b>Jun-13-2021</b> to <b>Jun-17-2021</b>",
           0.9717,
           0.0357
          ],
          [
           "Estimated <b>ROC AUC</b>",
           "<b style=\"color:#3b0280;line-height:60px\">Reference</b>",
           "",
           "[3928:5891]",
           "From <b>Jun-17-2021</b> to <b>Jun-21-2021</b>",
           0.9414,
           0.0357
          ],
          [
           "Estimated <b>ROC AUC</b>",
           "<b style=\"color:#3b0280;line-height:60px\">Reference</b>",
           "",
           "[5892:7853]",
           "From <b>Jun-21-2021</b> to <b>Jun-25-2021</b>",
           0.963,
           0.0357
          ]
         ],
         "hovertemplate": "%{customdata[1]} &nbsp; &nbsp; %{customdata[2]} <br />Chunk: <b>%{customdata[3]}</b> &nbsp; &nbsp; %{customdata[4]} <br />%{customdata[0]}: <b>%{customdata[5]}</b><br />Confidence band: +/- <b>%{customdata[6]}</b><br /><extra></extra>",
         "legendgroup": "metric_reference",
         "line": {
          "dash": "dash"
         },
         "marker": {
          "color": "#3b0280",
          "size": 5,
          "symbol": "circle"
         },
         "mode": "markers",
         "name": "Metric",
         "showlegend": false,
         "type": "scatter",
         "x": [
          "2021-06-11T01:42:00",
          "2021-06-15T04:42:00",
          "2021-06-19T07:42:00",
          "2021-06-23T10:37:30"
         ],
         "xaxis": "x",
         "y": [
          0.9474860710658812,
          0.9717255825176189,
          0.9414479134769725,
          0.9630238457507634,
          0.9630238457507634
         ],
         "yaxis": "y"
        },
        {
         "hoverinfo": "skip",
         "legendgroup": "metric_analysis",
         "line": {
          "color": "#3b0280",
          "dash": "dash",
          "shape": "hv",
          "width": 2
         },
         "mode": "lines",
         "name": "Metric",
         "showlegend": false,
         "type": "scatter",
         "x": [
          "2021-06-25T12:06:00",
          "2021-06-29T15:06:00",
          "2021-07-03T18:06:00",
          "2021-07-07T21:06:00",
          "2021-07-11T23:57:00"
         ],
         "xaxis": "x",
         "y": [
          0.9646281882023621,
          0.9655803387100776,
          0.9636985301151317,
          0.9454610429569852,
          0.9454610429569852
         ],
         "yaxis": "y"
        },
        {
         "customdata": [
          [
           "Estimated <b>ROC AUC</b>",
           "<b style=\"color:#3b0280;line-height:60px\">Analysis</b>",
           "",
           "[0:1963]",
           "From <b>Jun-25-2021</b> to <b>Jun-29-2021</b>",
           0.9646,
           0.0357
          ],
          [
           "Estimated <b>ROC AUC</b>",
           "<b style=\"color:#3b0280;line-height:60px\">Analysis</b>",
           "",
           "[1964:3927]",
           "From <b>Jun-29-2021</b> to <b>Jul-03-2021</b>",
           0.9656,
           0.0357
          ],
          [
           "Estimated <b>ROC AUC</b>",
           "<b style=\"color:#3b0280;line-height:60px\">Analysis</b>",
           "",
           "[3928:5891]",
           "From <b>Jul-03-2021</b> to <b>Jul-07-2021</b>",
           0.9637,
           0.0357
          ],
          [
           "Estimated <b>ROC AUC</b>",
           "<b style=\"color:#3b0280;line-height:60px\">Analysis</b>",
           "",
           "[5892:7853]",
           "From <b>Jul-07-2021</b> to <b>Jul-11-2021</b>",
           0.9455,
           0.0357
          ]
         ],
         "hovertemplate": "%{customdata[1]} &nbsp; &nbsp; %{customdata[2]} <br />Chunk: <b>%{customdata[3]}</b> &nbsp; &nbsp; %{customdata[4]} <br />%{customdata[0]}: <b>%{customdata[5]}</b><br />Confidence band: +/- <b>%{customdata[6]}</b><br /><extra></extra>",
         "legendgroup": "metric_analysis",
         "line": {
          "dash": "dash"
         },
         "marker": {
          "color": "#3b0280",
          "size": 5,
          "symbol": "circle"
         },
         "mode": "markers",
         "name": "Metric",
         "showlegend": false,
         "type": "scatter",
         "x": [
          "2021-06-27T13:36:00",
          "2021-07-01T16:36:00",
          "2021-07-05T19:36:00",
          "2021-07-09T22:31:30"
         ],
         "xaxis": "x",
         "y": [
          0.9646281882023621,
          0.9655803387100776,
          0.9636985301151317,
          0.9454610429569852,
          0.9454610429569852
         ],
         "yaxis": "y"
        },
        {
         "hoverinfo": "skip",
         "legendgroup": "alert",
         "marker": {
          "color": "#DD4040",
          "size": 8,
          "symbol": "diamond"
         },
         "mode": "markers",
         "name": "Alert",
         "showlegend": true,
         "type": "scatter",
         "x": [],
         "xaxis": "x",
         "y": [],
         "yaxis": "y"
        },
        {
         "hoverinfo": "skip",
         "legendgroup": "thresh",
         "line": {
          "color": "#DD4040",
          "dash": "dash",
          "width": 2
         },
         "mode": "lines",
         "name": "Threshold",
         "showlegend": true,
         "type": "scatter",
         "x": [
          "2021-06-09T00:12:00",
          "2021-06-13T03:12:00",
          "2021-06-17T06:12:00",
          "2021-06-21T09:12:00",
          "2021-06-25T12:03:00"
         ],
         "xaxis": "x",
         "y": [
          1,
          1,
          1,
          1,
          1
         ],
         "yaxis": "y"
        },
        {
         "hoverinfo": "skip",
         "legendgroup": "thresh",
         "line": {
          "color": "#DD4040",
          "dash": "dash",
          "width": 2
         },
         "mode": "lines",
         "name": "Threshold",
         "showlegend": false,
         "type": "scatter",
         "x": [
          "2021-06-09T00:12:00",
          "2021-06-13T03:12:00",
          "2021-06-17T06:12:00",
          "2021-06-21T09:12:00",
          "2021-06-25T12:03:00"
         ],
         "xaxis": "x",
         "y": [
          0.871192505982193,
          0.871192505982193,
          0.871192505982193,
          0.871192505982193,
          0.871192505982193
         ],
         "yaxis": "y"
        },
        {
         "hoverinfo": "skip",
         "legendgroup": "thresh",
         "line": {
          "color": "#DD4040",
          "dash": "dash",
          "width": 2
         },
         "mode": "lines",
         "name": "Threshold",
         "showlegend": false,
         "type": "scatter",
         "x": [
          "2021-06-25T12:06:00",
          "2021-06-29T15:06:00",
          "2021-07-03T18:06:00",
          "2021-07-07T21:06:00",
          "2021-07-11T23:57:00"
         ],
         "xaxis": "x",
         "y": [
          1,
          1,
          1,
          1,
          1
         ],
         "yaxis": "y"
        },
        {
         "hoverinfo": "skip",
         "legendgroup": "thresh",
         "line": {
          "color": "#DD4040",
          "dash": "dash",
          "width": 2
         },
         "mode": "lines",
         "name": "Threshold",
         "showlegend": false,
         "type": "scatter",
         "x": [
          "2021-06-25T12:06:00",
          "2021-06-29T15:06:00",
          "2021-07-03T18:06:00",
          "2021-07-07T21:06:00",
          "2021-07-11T23:57:00"
         ],
         "xaxis": "x",
         "y": [
          0.871192505982193,
          0.871192505982193,
          0.871192505982193,
          0.871192505982193,
          0.871192505982193
         ],
         "yaxis": "y"
        },
        {
         "connectgaps": true,
         "hoverinfo": "skip",
         "line": {
          "color": "rgba(0,0,0,0)",
          "shape": "hv"
         },
         "mode": "lines",
         "name": "Confidence band",
         "showlegend": false,
         "type": "scatter",
         "x": [
          "2021-06-09T00:12:00",
          "2021-06-13T03:12:00",
          "2021-06-17T06:12:00",
          "2021-06-21T09:12:00",
          "2021-06-25T12:03:00"
         ],
         "xaxis": "x",
         "y": [
          0.9832129065400739,
          1,
          0.9771747489511652,
          0.9987688859830669,
          0.9987688859830669
         ],
         "yaxis": "y"
        },
        {
         "connectgaps": true,
         "fill": "tonexty",
         "fillcolor": "rgba(0.23137254901960785, 0.00784313725490196, 0.5019607843137255, 0.2)",
         "hoverinfo": "skip",
         "line": {
          "color": "rgba(0,0,0,0)",
          "shape": "hv"
         },
         "mode": "lines",
         "name": "Confidence band",
         "showlegend": true,
         "type": "scatter",
         "x": [
          "2021-06-09T00:12:00",
          "2021-06-13T03:12:00",
          "2021-06-17T06:12:00",
          "2021-06-21T09:12:00",
          "2021-06-25T12:03:00"
         ],
         "xaxis": "x",
         "y": [
          0.9117592355916886,
          0.9359987470434262,
          0.9057210780027799,
          0.9272788055184599,
          0.9272788055184599
         ],
         "yaxis": "y"
        },
        {
         "connectgaps": true,
         "hoverinfo": "skip",
         "line": {
          "color": "rgba(0,0,0,0)",
          "shape": "hv"
         },
         "mode": "lines",
         "name": "Confidence band",
         "showlegend": false,
         "type": "scatter",
         "x": [
          "2021-06-25T12:06:00",
          "2021-06-29T15:06:00",
          "2021-07-03T18:06:00",
          "2021-07-07T21:06:00",
          "2021-07-11T23:57:00"
         ],
         "xaxis": "x",
         "y": [
          1,
          1,
          0.9994253655893244,
          0.9812060831892887,
          0.9812060831892887
         ],
         "yaxis": "y"
        },
        {
         "connectgaps": true,
         "fill": "tonexty",
         "fillcolor": "rgba(0.23137254901960785, 0.00784313725490196, 0.5019607843137255, 0.2)",
         "hoverinfo": "skip",
         "line": {
          "color": "rgba(0,0,0,0)",
          "shape": "hv"
         },
         "mode": "lines",
         "name": "Confidence band",
         "showlegend": false,
         "type": "scatter",
         "x": [
          "2021-06-25T12:06:00",
          "2021-06-29T15:06:00",
          "2021-07-03T18:06:00",
          "2021-07-07T21:06:00",
          "2021-07-11T23:57:00"
         ],
         "xaxis": "x",
         "y": [
          0.9289013527281694,
          0.929853503235885,
          0.9279716946409391,
          0.9097160027246817,
          0.9097160027246817
         ],
         "yaxis": "y"
        },
        {
         "hoverinfo": "skip",
         "legendgroup": "metric_reference",
         "line": {
          "color": "#3b0280",
          "dash": "dash",
          "shape": "hv",
          "width": 2
         },
         "mode": "lines",
         "name": "Metric",
         "showlegend": false,
         "type": "scatter",
         "x": [
          "2021-06-09T00:12:00",
          "2021-06-13T03:12:00",
          "2021-06-17T06:12:00",
          "2021-06-21T09:12:00",
          "2021-06-25T12:03:00"
         ],
         "xaxis": "x2",
         "y": [
          0.9627378667868512,
          0.9706259829335901,
          0.980137378244299,
          0.9762861018690083,
          0.9762861018690083
         ],
         "yaxis": "y2"
        },
        {
         "customdata": [
          [
           "Estimated <b>Accuracy</b>",
           "<b style=\"color:#3b0280;line-height:60px\">Reference</b>",
           "",
           "[0:1963]",
           "From <b>Jun-09-2021</b> to <b>Jun-13-2021</b>",
           0.9627,
           0.0111
          ],
          [
           "Estimated <b>Accuracy</b>",
           "<b style=\"color:#3b0280;line-height:60px\">Reference</b>",
           "",
           "[1964:3927]",
           "From <b>Jun-13-2021</b> to <b>Jun-17-2021</b>",
           0.9706,
           0.0111
          ],
          [
           "Estimated <b>Accuracy</b>",
           "<b style=\"color:#3b0280;line-height:60px\">Reference</b>",
           "",
           "[3928:5891]",
           "From <b>Jun-17-2021</b> to <b>Jun-21-2021</b>",
           0.9801,
           0.0111
          ],
          [
           "Estimated <b>Accuracy</b>",
           "<b style=\"color:#3b0280;line-height:60px\">Reference</b>",
           "",
           "[5892:7853]",
           "From <b>Jun-21-2021</b> to <b>Jun-25-2021</b>",
           0.9763,
           0.0111
          ]
         ],
         "hovertemplate": "%{customdata[1]} &nbsp; &nbsp; %{customdata[2]} <br />Chunk: <b>%{customdata[3]}</b> &nbsp; &nbsp; %{customdata[4]} <br />%{customdata[0]}: <b>%{customdata[5]}</b><br />Confidence band: +/- <b>%{customdata[6]}</b><br /><extra></extra>",
         "legendgroup": "metric_reference",
         "line": {
          "dash": "dash"
         },
         "marker": {
          "color": "#3b0280",
          "size": 5,
          "symbol": "circle"
         },
         "mode": "markers",
         "name": "Metric",
         "showlegend": false,
         "type": "scatter",
         "x": [
          "2021-06-11T01:42:00",
          "2021-06-15T04:42:00",
          "2021-06-19T07:42:00",
          "2021-06-23T10:37:30"
         ],
         "xaxis": "x2",
         "y": [
          0.9627378667868512,
          0.9706259829335901,
          0.980137378244299,
          0.9762861018690083,
          0.9762861018690083
         ],
         "yaxis": "y2"
        },
        {
         "hoverinfo": "skip",
         "legendgroup": "metric_analysis",
         "line": {
          "color": "#3b0280",
          "dash": "dash",
          "shape": "hv",
          "width": 2
         },
         "mode": "lines",
         "name": "Metric",
         "showlegend": false,
         "type": "scatter",
         "x": [
          "2021-06-25T12:06:00",
          "2021-06-29T15:06:00",
          "2021-07-03T18:06:00",
          "2021-07-07T21:06:00",
          "2021-07-11T23:57:00"
         ],
         "xaxis": "x2",
         "y": [
          0.978059434008619,
          0.9783661163134721,
          0.9666103482255151,
          0.9844469461865293,
          0.9844469461865293
         ],
         "yaxis": "y2"
        },
        {
         "customdata": [
          [
           "Estimated <b>Accuracy</b>",
           "<b style=\"color:#3b0280;line-height:60px\">Analysis</b>",
           "",
           "[0:1963]",
           "From <b>Jun-25-2021</b> to <b>Jun-29-2021</b>",
           0.9781,
           0.0111
          ],
          [
           "Estimated <b>Accuracy</b>",
           "<b style=\"color:#3b0280;line-height:60px\">Analysis</b>",
           "",
           "[1964:3927]",
           "From <b>Jun-29-2021</b> to <b>Jul-03-2021</b>",
           0.9784,
           0.0111
          ],
          [
           "Estimated <b>Accuracy</b>",
           "<b style=\"color:#3b0280;line-height:60px\">Analysis</b>",
           "",
           "[3928:5891]",
           "From <b>Jul-03-2021</b> to <b>Jul-07-2021</b>",
           0.9666,
           0.0111
          ],
          [
           "Estimated <b>Accuracy</b>",
           "<b style=\"color:#3b0280;line-height:60px\">Analysis</b>",
           "",
           "[5892:7853]",
           "From <b>Jul-07-2021</b> to <b>Jul-11-2021</b>",
           0.9844,
           0.0111
          ]
         ],
         "hovertemplate": "%{customdata[1]} &nbsp; &nbsp; %{customdata[2]} <br />Chunk: <b>%{customdata[3]}</b> &nbsp; &nbsp; %{customdata[4]} <br />%{customdata[0]}: <b>%{customdata[5]}</b><br />Confidence band: +/- <b>%{customdata[6]}</b><br /><extra></extra>",
         "legendgroup": "metric_analysis",
         "line": {
          "dash": "dash"
         },
         "marker": {
          "color": "#3b0280",
          "size": 5,
          "symbol": "circle"
         },
         "mode": "markers",
         "name": "Metric",
         "showlegend": false,
         "type": "scatter",
         "x": [
          "2021-06-27T13:36:00",
          "2021-07-01T16:36:00",
          "2021-07-05T19:36:00",
          "2021-07-09T22:31:30"
         ],
         "xaxis": "x2",
         "y": [
          0.978059434008619,
          0.9783661163134721,
          0.9666103482255151,
          0.9844469461865293,
          0.9844469461865293
         ],
         "yaxis": "y2"
        },
        {
         "hoverinfo": "skip",
         "legendgroup": "alert",
         "marker": {
          "color": "#DD4040",
          "size": 8,
          "symbol": "diamond"
         },
         "mode": "markers",
         "name": "Alert",
         "showlegend": false,
         "type": "scatter",
         "x": [],
         "xaxis": "x2",
         "y": [],
         "yaxis": "y2"
        },
        {
         "hoverinfo": "skip",
         "legendgroup": "thresh",
         "line": {
          "color": "#DD4040",
          "dash": "dash",
          "width": 2
         },
         "mode": "lines",
         "name": "Threshold",
         "showlegend": false,
         "type": "scatter",
         "x": [
          "2021-06-09T00:12:00",
          "2021-06-13T03:12:00",
          "2021-06-17T06:12:00",
          "2021-06-21T09:12:00",
          "2021-06-25T12:03:00"
         ],
         "xaxis": "x2",
         "y": [
          1,
          1,
          1,
          1,
          1
         ],
         "yaxis": "y2"
        },
        {
         "hoverinfo": "skip",
         "legendgroup": "thresh",
         "line": {
          "color": "#DD4040",
          "dash": "dash",
          "width": 2
         },
         "mode": "lines",
         "name": "Threshold",
         "showlegend": false,
         "type": "scatter",
         "x": [
          "2021-06-09T00:12:00",
          "2021-06-13T03:12:00",
          "2021-06-17T06:12:00",
          "2021-06-21T09:12:00",
          "2021-06-25T12:03:00"
         ],
         "xaxis": "x2",
         "y": [
          0.932555344391063,
          0.932555344391063,
          0.932555344391063,
          0.932555344391063,
          0.932555344391063
         ],
         "yaxis": "y2"
        },
        {
         "hoverinfo": "skip",
         "legendgroup": "thresh",
         "line": {
          "color": "#DD4040",
          "dash": "dash",
          "width": 2
         },
         "mode": "lines",
         "name": "Threshold",
         "showlegend": false,
         "type": "scatter",
         "x": [
          "2021-06-25T12:06:00",
          "2021-06-29T15:06:00",
          "2021-07-03T18:06:00",
          "2021-07-07T21:06:00",
          "2021-07-11T23:57:00"
         ],
         "xaxis": "x2",
         "y": [
          1,
          1,
          1,
          1,
          1
         ],
         "yaxis": "y2"
        },
        {
         "hoverinfo": "skip",
         "legendgroup": "thresh",
         "line": {
          "color": "#DD4040",
          "dash": "dash",
          "width": 2
         },
         "mode": "lines",
         "name": "Threshold",
         "showlegend": false,
         "type": "scatter",
         "x": [
          "2021-06-25T12:06:00",
          "2021-06-29T15:06:00",
          "2021-07-03T18:06:00",
          "2021-07-07T21:06:00",
          "2021-07-11T23:57:00"
         ],
         "xaxis": "x2",
         "y": [
          0.932555344391063,
          0.932555344391063,
          0.932555344391063,
          0.932555344391063,
          0.932555344391063
         ],
         "yaxis": "y2"
        },
        {
         "connectgaps": true,
         "hoverinfo": "skip",
         "line": {
          "color": "rgba(0,0,0,0)",
          "shape": "hv"
         },
         "mode": "lines",
         "name": "Confidence band",
         "showlegend": false,
         "type": "scatter",
         "x": [
          "2021-06-09T00:12:00",
          "2021-06-13T03:12:00",
          "2021-06-17T06:12:00",
          "2021-06-21T09:12:00",
          "2021-06-25T12:03:00"
         ],
         "xaxis": "x2",
         "y": [
          0.9738582773787475,
          0.9817463935254864,
          0.9912577888361953,
          0.9874121789125293,
          0.9874121789125293
         ],
         "yaxis": "y2"
        },
        {
         "connectgaps": true,
         "fill": "tonexty",
         "fillcolor": "rgba(0.23137254901960785, 0.00784313725490196, 0.5019607843137255, 0.2)",
         "hoverinfo": "skip",
         "line": {
          "color": "rgba(0,0,0,0)",
          "shape": "hv"
         },
         "mode": "lines",
         "name": "Confidence band",
         "showlegend": false,
         "type": "scatter",
         "x": [
          "2021-06-09T00:12:00",
          "2021-06-13T03:12:00",
          "2021-06-17T06:12:00",
          "2021-06-21T09:12:00",
          "2021-06-25T12:03:00"
         ],
         "xaxis": "x2",
         "y": [
          0.951617456194955,
          0.9595055723416939,
          0.9690169676524027,
          0.9651600248254874,
          0.9651600248254874
         ],
         "yaxis": "y2"
        },
        {
         "connectgaps": true,
         "hoverinfo": "skip",
         "line": {
          "color": "rgba(0,0,0,0)",
          "shape": "hv"
         },
         "mode": "lines",
         "name": "Confidence band",
         "showlegend": false,
         "type": "scatter",
         "x": [
          "2021-06-25T12:06:00",
          "2021-06-29T15:06:00",
          "2021-07-03T18:06:00",
          "2021-07-07T21:06:00",
          "2021-07-11T23:57:00"
         ],
         "xaxis": "x2",
         "y": [
          0.9891798446005153,
          0.9894865269053684,
          0.9777307588174113,
          0.9955730232300503,
          0.9955730232300503
         ],
         "yaxis": "y2"
        },
        {
         "connectgaps": true,
         "fill": "tonexty",
         "fillcolor": "rgba(0.23137254901960785, 0.00784313725490196, 0.5019607843137255, 0.2)",
         "hoverinfo": "skip",
         "line": {
          "color": "rgba(0,0,0,0)",
          "shape": "hv"
         },
         "mode": "lines",
         "name": "Confidence band",
         "showlegend": false,
         "type": "scatter",
         "x": [
          "2021-06-25T12:06:00",
          "2021-06-29T15:06:00",
          "2021-07-03T18:06:00",
          "2021-07-07T21:06:00",
          "2021-07-11T23:57:00"
         ],
         "xaxis": "x2",
         "y": [
          0.9669390234167228,
          0.9672457057215759,
          0.9554899376336188,
          0.9733208691430083,
          0.9733208691430083
         ],
         "yaxis": "y2"
        },
        {
         "hoverinfo": "skip",
         "legendgroup": "metric_reference",
         "line": {
          "color": "#3b0280",
          "dash": "dash",
          "shape": "hv",
          "width": 2
         },
         "mode": "lines",
         "name": "Metric",
         "showlegend": false,
         "type": "scatter",
         "x": [
          "2021-06-09T00:12:00",
          "2021-06-13T03:12:00",
          "2021-06-17T06:12:00",
          "2021-06-21T09:12:00",
          "2021-06-25T12:03:00"
         ],
         "xaxis": "x3",
         "y": [
          0.7643357774480543,
          0.8895201778091643,
          0.8229114014932393,
          0.882802353966206,
          0.882802353966206
         ],
         "yaxis": "y3"
        },
        {
         "customdata": [
          [
           "Estimated <b>F1</b>",
           "<b style=\"color:#3b0280;line-height:60px\">Reference</b>",
           "",
           "[0:1963]",
           "From <b>Jun-09-2021</b> to <b>Jun-13-2021</b>",
           0.7643,
           0.105
          ],
          [
           "Estimated <b>F1</b>",
           "<b style=\"color:#3b0280;line-height:60px\">Reference</b>",
           "",
           "[1964:3927]",
           "From <b>Jun-13-2021</b> to <b>Jun-17-2021</b>",
           0.8895,
           0.105
          ],
          [
           "Estimated <b>F1</b>",
           "<b style=\"color:#3b0280;line-height:60px\">Reference</b>",
           "",
           "[3928:5891]",
           "From <b>Jun-17-2021</b> to <b>Jun-21-2021</b>",
           0.8229,
           0.105
          ],
          [
           "Estimated <b>F1</b>",
           "<b style=\"color:#3b0280;line-height:60px\">Reference</b>",
           "",
           "[5892:7853]",
           "From <b>Jun-21-2021</b> to <b>Jun-25-2021</b>",
           0.8828,
           0.1051
          ]
         ],
         "hovertemplate": "%{customdata[1]} &nbsp; &nbsp; %{customdata[2]} <br />Chunk: <b>%{customdata[3]}</b> &nbsp; &nbsp; %{customdata[4]} <br />%{customdata[0]}: <b>%{customdata[5]}</b><br />Confidence band: +/- <b>%{customdata[6]}</b><br /><extra></extra>",
         "legendgroup": "metric_reference",
         "line": {
          "dash": "dash"
         },
         "marker": {
          "color": "#3b0280",
          "size": 5,
          "symbol": "circle"
         },
         "mode": "markers",
         "name": "Metric",
         "showlegend": false,
         "type": "scatter",
         "x": [
          "2021-06-11T01:42:00",
          "2021-06-15T04:42:00",
          "2021-06-19T07:42:00",
          "2021-06-23T10:37:30"
         ],
         "xaxis": "x3",
         "y": [
          0.7643357774480543,
          0.8895201778091643,
          0.8229114014932393,
          0.882802353966206,
          0.882802353966206
         ],
         "yaxis": "y3"
        },
        {
         "hoverinfo": "skip",
         "legendgroup": "metric_analysis",
         "line": {
          "color": "#3b0280",
          "dash": "dash",
          "shape": "hv",
          "width": 2
         },
         "mode": "lines",
         "name": "Metric",
         "showlegend": false,
         "type": "scatter",
         "x": [
          "2021-06-25T12:06:00",
          "2021-06-29T15:06:00",
          "2021-07-03T18:06:00",
          "2021-07-07T21:06:00",
          "2021-07-11T23:57:00"
         ],
         "xaxis": "x3",
         "y": [
          0.9002033123148745,
          0.8864778152038423,
          0.833299348932502,
          0.8655332097733051,
          0.8655332097733051
         ],
         "yaxis": "y3"
        },
        {
         "customdata": [
          [
           "Estimated <b>F1</b>",
           "<b style=\"color:#3b0280;line-height:60px\">Analysis</b>",
           "",
           "[0:1963]",
           "From <b>Jun-25-2021</b> to <b>Jun-29-2021</b>",
           0.9002,
           0.105
          ],
          [
           "Estimated <b>F1</b>",
           "<b style=\"color:#3b0280;line-height:60px\">Analysis</b>",
           "",
           "[1964:3927]",
           "From <b>Jun-29-2021</b> to <b>Jul-03-2021</b>",
           0.8865,
           0.105
          ],
          [
           "Estimated <b>F1</b>",
           "<b style=\"color:#3b0280;line-height:60px\">Analysis</b>",
           "",
           "[3928:5891]",
           "From <b>Jul-03-2021</b> to <b>Jul-07-2021</b>",
           0.8333,
           0.105
          ],
          [
           "Estimated <b>F1</b>",
           "<b style=\"color:#3b0280;line-height:60px\">Analysis</b>",
           "",
           "[5892:7853]",
           "From <b>Jul-07-2021</b> to <b>Jul-11-2021</b>",
           0.8655,
           0.1051
          ]
         ],
         "hovertemplate": "%{customdata[1]} &nbsp; &nbsp; %{customdata[2]} <br />Chunk: <b>%{customdata[3]}</b> &nbsp; &nbsp; %{customdata[4]} <br />%{customdata[0]}: <b>%{customdata[5]}</b><br />Confidence band: +/- <b>%{customdata[6]}</b><br /><extra></extra>",
         "legendgroup": "metric_analysis",
         "line": {
          "dash": "dash"
         },
         "marker": {
          "color": "#3b0280",
          "size": 5,
          "symbol": "circle"
         },
         "mode": "markers",
         "name": "Metric",
         "showlegend": false,
         "type": "scatter",
         "x": [
          "2021-06-27T13:36:00",
          "2021-07-01T16:36:00",
          "2021-07-05T19:36:00",
          "2021-07-09T22:31:30"
         ],
         "xaxis": "x3",
         "y": [
          0.9002033123148745,
          0.8864778152038423,
          0.833299348932502,
          0.8655332097733051,
          0.8655332097733051
         ],
         "yaxis": "y3"
        },
        {
         "hoverinfo": "skip",
         "legendgroup": "alert",
         "marker": {
          "color": "#DD4040",
          "size": 8,
          "symbol": "diamond"
         },
         "mode": "markers",
         "name": "Alert",
         "showlegend": false,
         "type": "scatter",
         "x": [],
         "xaxis": "x3",
         "y": [],
         "yaxis": "y3"
        },
        {
         "hoverinfo": "skip",
         "legendgroup": "thresh",
         "line": {
          "color": "#DD4040",
          "dash": "dash",
          "width": 2
         },
         "mode": "lines",
         "name": "Threshold",
         "showlegend": false,
         "type": "scatter",
         "x": [
          "2021-06-09T00:12:00",
          "2021-06-13T03:12:00",
          "2021-06-17T06:12:00",
          "2021-06-21T09:12:00",
          "2021-06-25T12:03:00"
         ],
         "xaxis": "x3",
         "y": [
          1,
          1,
          1,
          1,
          1
         ],
         "yaxis": "y3"
        },
        {
         "hoverinfo": "skip",
         "legendgroup": "thresh",
         "line": {
          "color": "#DD4040",
          "dash": "dash",
          "width": 2
         },
         "mode": "lines",
         "name": "Threshold",
         "showlegend": false,
         "type": "scatter",
         "x": [
          "2021-06-09T00:12:00",
          "2021-06-13T03:12:00",
          "2021-06-17T06:12:00",
          "2021-06-21T09:12:00",
          "2021-06-25T12:03:00"
         ],
         "xaxis": "x3",
         "y": [
          0.5732172148646006,
          0.5732172148646006,
          0.5732172148646006,
          0.5732172148646006,
          0.5732172148646006
         ],
         "yaxis": "y3"
        },
        {
         "hoverinfo": "skip",
         "legendgroup": "thresh",
         "line": {
          "color": "#DD4040",
          "dash": "dash",
          "width": 2
         },
         "mode": "lines",
         "name": "Threshold",
         "showlegend": false,
         "type": "scatter",
         "x": [
          "2021-06-25T12:06:00",
          "2021-06-29T15:06:00",
          "2021-07-03T18:06:00",
          "2021-07-07T21:06:00",
          "2021-07-11T23:57:00"
         ],
         "xaxis": "x3",
         "y": [
          1,
          1,
          1,
          1,
          1
         ],
         "yaxis": "y3"
        },
        {
         "hoverinfo": "skip",
         "legendgroup": "thresh",
         "line": {
          "color": "#DD4040",
          "dash": "dash",
          "width": 2
         },
         "mode": "lines",
         "name": "Threshold",
         "showlegend": false,
         "type": "scatter",
         "x": [
          "2021-06-25T12:06:00",
          "2021-06-29T15:06:00",
          "2021-07-03T18:06:00",
          "2021-07-07T21:06:00",
          "2021-07-11T23:57:00"
         ],
         "xaxis": "x3",
         "y": [
          0.5732172148646006,
          0.5732172148646006,
          0.5732172148646006,
          0.5732172148646006,
          0.5732172148646006
         ],
         "yaxis": "y3"
        },
        {
         "connectgaps": true,
         "hoverinfo": "skip",
         "line": {
          "color": "rgba(0,0,0,0)",
          "shape": "hv"
         },
         "mode": "lines",
         "name": "Confidence band",
         "showlegend": false,
         "type": "scatter",
         "x": [
          "2021-06-09T00:12:00",
          "2021-06-13T03:12:00",
          "2021-06-17T06:12:00",
          "2021-06-21T09:12:00",
          "2021-06-25T12:03:00"
         ],
         "xaxis": "x3",
         "y": [
          0.8693368009648766,
          0.9945212013259866,
          0.9279124250100617,
          0.9878568811927511,
          0.9878568811927511
         ],
         "yaxis": "y3"
        },
        {
         "connectgaps": true,
         "fill": "tonexty",
         "fillcolor": "rgba(0.23137254901960785, 0.00784313725490196, 0.5019607843137255, 0.2)",
         "hoverinfo": "skip",
         "line": {
          "color": "rgba(0,0,0,0)",
          "shape": "hv"
         },
         "mode": "lines",
         "name": "Confidence band",
         "showlegend": false,
         "type": "scatter",
         "x": [
          "2021-06-09T00:12:00",
          "2021-06-13T03:12:00",
          "2021-06-17T06:12:00",
          "2021-06-21T09:12:00",
          "2021-06-25T12:03:00"
         ],
         "xaxis": "x3",
         "y": [
          0.6593347539312319,
          0.7845191542923419,
          0.7179103779764169,
          0.7777478267396609,
          0.7777478267396609
         ],
         "yaxis": "y3"
        },
        {
         "connectgaps": true,
         "hoverinfo": "skip",
         "line": {
          "color": "rgba(0,0,0,0)",
          "shape": "hv"
         },
         "mode": "lines",
         "name": "Confidence band",
         "showlegend": false,
         "type": "scatter",
         "x": [
          "2021-06-25T12:06:00",
          "2021-06-29T15:06:00",
          "2021-07-03T18:06:00",
          "2021-07-07T21:06:00",
          "2021-07-11T23:57:00"
         ],
         "xaxis": "x3",
         "y": [
          1,
          0.9914788387206647,
          0.9383003724493244,
          0.9705877369998501,
          0.9705877369998501
         ],
         "yaxis": "y3"
        },
        {
         "connectgaps": true,
         "fill": "tonexty",
         "fillcolor": "rgba(0.23137254901960785, 0.00784313725490196, 0.5019607843137255, 0.2)",
         "hoverinfo": "skip",
         "line": {
          "color": "rgba(0,0,0,0)",
          "shape": "hv"
         },
         "mode": "lines",
         "name": "Confidence band",
         "showlegend": false,
         "type": "scatter",
         "x": [
          "2021-06-25T12:06:00",
          "2021-06-29T15:06:00",
          "2021-07-03T18:06:00",
          "2021-07-07T21:06:00",
          "2021-07-11T23:57:00"
         ],
         "xaxis": "x3",
         "y": [
          0.7952022887980521,
          0.7814767916870199,
          0.7282983254156796,
          0.76047868254676,
          0.76047868254676
         ],
         "yaxis": "y3"
        },
        {
         "hoverinfo": "skip",
         "legendgroup": "metric_reference",
         "line": {
          "color": "#3b0280",
          "dash": "dash",
          "shape": "hv",
          "width": 2
         },
         "mode": "lines",
         "name": "Metric",
         "showlegend": false,
         "type": "scatter",
         "x": [
          "2021-06-09T00:12:00",
          "2021-06-13T03:12:00",
          "2021-06-17T06:12:00",
          "2021-06-21T09:12:00",
          "2021-06-25T12:03:00"
         ],
         "xaxis": "x4",
         "y": [
          0.8268012676175894,
          0.9173074472112009,
          0.8691272171705525,
          0.8986634779508587,
          0.8986634779508587
         ],
         "yaxis": "y4"
        },
        {
         "customdata": [
          [
           "Estimated <b>Recall</b>",
           "<b style=\"color:#3b0280;line-height:60px\">Reference</b>",
           "",
           "[0:1963]",
           "From <b>Jun-09-2021</b> to <b>Jun-13-2021</b>",
           0.8268,
           0.0725
          ],
          [
           "Estimated <b>Recall</b>",
           "<b style=\"color:#3b0280;line-height:60px\">Reference</b>",
           "",
           "[1964:3927]",
           "From <b>Jun-13-2021</b> to <b>Jun-17-2021</b>",
           0.9173,
           0.0725
          ],
          [
           "Estimated <b>Recall</b>",
           "<b style=\"color:#3b0280;line-height:60px\">Reference</b>",
           "",
           "[3928:5891]",
           "From <b>Jun-17-2021</b> to <b>Jun-21-2021</b>",
           0.8691,
           0.0725
          ],
          [
           "Estimated <b>Recall</b>",
           "<b style=\"color:#3b0280;line-height:60px\">Reference</b>",
           "",
           "[5892:7853]",
           "From <b>Jun-21-2021</b> to <b>Jun-25-2021</b>",
           0.8987,
           0.0726
          ]
         ],
         "hovertemplate": "%{customdata[1]} &nbsp; &nbsp; %{customdata[2]} <br />Chunk: <b>%{customdata[3]}</b> &nbsp; &nbsp; %{customdata[4]} <br />%{customdata[0]}: <b>%{customdata[5]}</b><br />Confidence band: +/- <b>%{customdata[6]}</b><br /><extra></extra>",
         "legendgroup": "metric_reference",
         "line": {
          "dash": "dash"
         },
         "marker": {
          "color": "#3b0280",
          "size": 5,
          "symbol": "circle"
         },
         "mode": "markers",
         "name": "Metric",
         "showlegend": false,
         "type": "scatter",
         "x": [
          "2021-06-11T01:42:00",
          "2021-06-15T04:42:00",
          "2021-06-19T07:42:00",
          "2021-06-23T10:37:30"
         ],
         "xaxis": "x4",
         "y": [
          0.8268012676175894,
          0.9173074472112009,
          0.8691272171705525,
          0.8986634779508587,
          0.8986634779508587
         ],
         "yaxis": "y4"
        },
        {
         "hoverinfo": "skip",
         "legendgroup": "metric_analysis",
         "line": {
          "color": "#3b0280",
          "dash": "dash",
          "shape": "hv",
          "width": 2
         },
         "mode": "lines",
         "name": "Metric",
         "showlegend": false,
         "type": "scatter",
         "x": [
          "2021-06-25T12:06:00",
          "2021-06-29T15:06:00",
          "2021-07-03T18:06:00",
          "2021-07-07T21:06:00",
          "2021-07-11T23:57:00"
         ],
         "xaxis": "x4",
         "y": [
          0.9133376398631308,
          0.9101163961620662,
          0.9086370716063225,
          0.8544855395690506,
          0.8544855395690506
         ],
         "yaxis": "y4"
        },
        {
         "customdata": [
          [
           "Estimated <b>Recall</b>",
           "<b style=\"color:#3b0280;line-height:60px\">Analysis</b>",
           "",
           "[0:1963]",
           "From <b>Jun-25-2021</b> to <b>Jun-29-2021</b>",
           0.9133,
           0.0725
          ],
          [
           "Estimated <b>Recall</b>",
           "<b style=\"color:#3b0280;line-height:60px\">Analysis</b>",
           "",
           "[1964:3927]",
           "From <b>Jun-29-2021</b> to <b>Jul-03-2021</b>",
           0.9101,
           0.0725
          ],
          [
           "Estimated <b>Recall</b>",
           "<b style=\"color:#3b0280;line-height:60px\">Analysis</b>",
           "",
           "[3928:5891]",
           "From <b>Jul-03-2021</b> to <b>Jul-07-2021</b>",
           0.9086,
           0.0725
          ],
          [
           "Estimated <b>Recall</b>",
           "<b style=\"color:#3b0280;line-height:60px\">Analysis</b>",
           "",
           "[5892:7853]",
           "From <b>Jul-07-2021</b> to <b>Jul-11-2021</b>",
           0.8545,
           0.0726
          ]
         ],
         "hovertemplate": "%{customdata[1]} &nbsp; &nbsp; %{customdata[2]} <br />Chunk: <b>%{customdata[3]}</b> &nbsp; &nbsp; %{customdata[4]} <br />%{customdata[0]}: <b>%{customdata[5]}</b><br />Confidence band: +/- <b>%{customdata[6]}</b><br /><extra></extra>",
         "legendgroup": "metric_analysis",
         "line": {
          "dash": "dash"
         },
         "marker": {
          "color": "#3b0280",
          "size": 5,
          "symbol": "circle"
         },
         "mode": "markers",
         "name": "Metric",
         "showlegend": false,
         "type": "scatter",
         "x": [
          "2021-06-27T13:36:00",
          "2021-07-01T16:36:00",
          "2021-07-05T19:36:00",
          "2021-07-09T22:31:30"
         ],
         "xaxis": "x4",
         "y": [
          0.9133376398631308,
          0.9101163961620662,
          0.9086370716063225,
          0.8544855395690506,
          0.8544855395690506
         ],
         "yaxis": "y4"
        },
        {
         "hoverinfo": "skip",
         "legendgroup": "alert",
         "marker": {
          "color": "#DD4040",
          "size": 8,
          "symbol": "diamond"
         },
         "mode": "markers",
         "name": "Alert",
         "showlegend": false,
         "type": "scatter",
         "x": [],
         "xaxis": "x4",
         "y": [],
         "yaxis": "y4"
        },
        {
         "hoverinfo": "skip",
         "legendgroup": "thresh",
         "line": {
          "color": "#DD4040",
          "dash": "dash",
          "width": 2
         },
         "mode": "lines",
         "name": "Threshold",
         "showlegend": false,
         "type": "scatter",
         "x": [
          "2021-06-09T00:12:00",
          "2021-06-13T03:12:00",
          "2021-06-17T06:12:00",
          "2021-06-21T09:12:00",
          "2021-06-25T12:03:00"
         ],
         "xaxis": "x4",
         "y": [
          0.9774758347638348,
          0.9774758347638348,
          0.9774758347638348,
          0.9774758347638348,
          0.9774758347638348
         ],
         "yaxis": "y4"
        },
        {
         "hoverinfo": "skip",
         "legendgroup": "thresh",
         "line": {
          "color": "#DD4040",
          "dash": "dash",
          "width": 2
         },
         "mode": "lines",
         "name": "Threshold",
         "showlegend": false,
         "type": "scatter",
         "x": [
          "2021-06-09T00:12:00",
          "2021-06-13T03:12:00",
          "2021-06-17T06:12:00",
          "2021-06-21T09:12:00",
          "2021-06-25T12:03:00"
         ],
         "xaxis": "x4",
         "y": [
          0.7937194866492909,
          0.7937194866492909,
          0.7937194866492909,
          0.7937194866492909,
          0.7937194866492909
         ],
         "yaxis": "y4"
        },
        {
         "hoverinfo": "skip",
         "legendgroup": "thresh",
         "line": {
          "color": "#DD4040",
          "dash": "dash",
          "width": 2
         },
         "mode": "lines",
         "name": "Threshold",
         "showlegend": false,
         "type": "scatter",
         "x": [
          "2021-06-25T12:06:00",
          "2021-06-29T15:06:00",
          "2021-07-03T18:06:00",
          "2021-07-07T21:06:00",
          "2021-07-11T23:57:00"
         ],
         "xaxis": "x4",
         "y": [
          0.9774758347638348,
          0.9774758347638348,
          0.9774758347638348,
          0.9774758347638348,
          0.9774758347638348
         ],
         "yaxis": "y4"
        },
        {
         "hoverinfo": "skip",
         "legendgroup": "thresh",
         "line": {
          "color": "#DD4040",
          "dash": "dash",
          "width": 2
         },
         "mode": "lines",
         "name": "Threshold",
         "showlegend": false,
         "type": "scatter",
         "x": [
          "2021-06-25T12:06:00",
          "2021-06-29T15:06:00",
          "2021-07-03T18:06:00",
          "2021-07-07T21:06:00",
          "2021-07-11T23:57:00"
         ],
         "xaxis": "x4",
         "y": [
          0.7937194866492909,
          0.7937194866492909,
          0.7937194866492909,
          0.7937194866492909,
          0.7937194866492909
         ],
         "yaxis": "y4"
        },
        {
         "connectgaps": true,
         "hoverinfo": "skip",
         "line": {
          "color": "rgba(0,0,0,0)",
          "shape": "hv"
         },
         "mode": "lines",
         "name": "Confidence band",
         "showlegend": false,
         "type": "scatter",
         "x": [
          "2021-06-09T00:12:00",
          "2021-06-13T03:12:00",
          "2021-06-17T06:12:00",
          "2021-06-21T09:12:00",
          "2021-06-25T12:03:00"
         ],
         "xaxis": "x4",
         "y": [
          0.8993312299011846,
          0.9898374094947961,
          0.9416571794541477,
          0.9712303981794171,
          0.9712303981794171
         ],
         "yaxis": "y4"
        },
        {
         "connectgaps": true,
         "fill": "tonexty",
         "fillcolor": "rgba(0.23137254901960785, 0.00784313725490196, 0.5019607843137255, 0.2)",
         "hoverinfo": "skip",
         "line": {
          "color": "rgba(0,0,0,0)",
          "shape": "hv"
         },
         "mode": "lines",
         "name": "Confidence band",
         "showlegend": false,
         "type": "scatter",
         "x": [
          "2021-06-09T00:12:00",
          "2021-06-13T03:12:00",
          "2021-06-17T06:12:00",
          "2021-06-21T09:12:00",
          "2021-06-25T12:03:00"
         ],
         "xaxis": "x4",
         "y": [
          0.7542713053339942,
          0.8447774849276057,
          0.7965972548869573,
          0.8260965577223002,
          0.8260965577223002
         ],
         "yaxis": "y4"
        },
        {
         "connectgaps": true,
         "hoverinfo": "skip",
         "line": {
          "color": "rgba(0,0,0,0)",
          "shape": "hv"
         },
         "mode": "lines",
         "name": "Confidence band",
         "showlegend": false,
         "type": "scatter",
         "x": [
          "2021-06-25T12:06:00",
          "2021-06-29T15:06:00",
          "2021-07-03T18:06:00",
          "2021-07-07T21:06:00",
          "2021-07-11T23:57:00"
         ],
         "xaxis": "x4",
         "y": [
          0.985867602146726,
          0.9826463584456614,
          0.9811670338899177,
          0.9270524597976091,
          0.9270524597976091
         ],
         "yaxis": "y4"
        },
        {
         "connectgaps": true,
         "fill": "tonexty",
         "fillcolor": "rgba(0.23137254901960785, 0.00784313725490196, 0.5019607843137255, 0.2)",
         "hoverinfo": "skip",
         "line": {
          "color": "rgba(0,0,0,0)",
          "shape": "hv"
         },
         "mode": "lines",
         "name": "Confidence band",
         "showlegend": false,
         "type": "scatter",
         "x": [
          "2021-06-25T12:06:00",
          "2021-06-29T15:06:00",
          "2021-07-03T18:06:00",
          "2021-07-07T21:06:00",
          "2021-07-11T23:57:00"
         ],
         "xaxis": "x4",
         "y": [
          0.8408076775795356,
          0.837586433878471,
          0.8361071093227272,
          0.7819186193404921,
          0.7819186193404921
         ],
         "yaxis": "y4"
        }
       ],
       "layout": {
        "annotations": [
         {
          "font": {
           "size": 16
          },
          "showarrow": false,
          "text": "Estimated <b>ROC AUC</b>",
          "x": 0.5,
          "xanchor": "center",
          "xref": "paper",
          "y": 1,
          "yanchor": "bottom",
          "yref": "paper"
         },
         {
          "font": {
           "size": 16
          },
          "showarrow": false,
          "text": "Estimated <b>Accuracy</b>",
          "x": 0.5,
          "xanchor": "center",
          "xref": "paper",
          "y": 0.71875,
          "yanchor": "bottom",
          "yref": "paper"
         },
         {
          "font": {
           "size": 16
          },
          "showarrow": false,
          "text": "Estimated <b>F1</b>",
          "x": 0.5,
          "xanchor": "center",
          "xref": "paper",
          "y": 0.4375,
          "yanchor": "bottom",
          "yref": "paper"
         },
         {
          "font": {
           "size": 16
          },
          "showarrow": false,
          "text": "Estimated <b>Recall</b>",
          "x": 0.5,
          "xanchor": "center",
          "xref": "paper",
          "y": 0.15625,
          "yanchor": "bottom",
          "yref": "paper"
         },
         {
          "showarrow": false,
          "text": "Reference",
          "x": "2021-06-15T04:42:00",
          "xref": "x",
          "xshift": 10,
          "y": 1.01,
          "yref": "y domain"
         },
         {
          "showarrow": false,
          "text": "Analysis",
          "x": "2021-07-01T16:36:00",
          "xref": "x",
          "xshift": 15,
          "y": 1.01,
          "yref": "y domain"
         },
         {
          "showarrow": false,
          "text": "Reference",
          "x": "2021-06-15T04:42:00",
          "xref": "x2",
          "xshift": 10,
          "y": 1.01,
          "yref": "y2 domain"
         },
         {
          "showarrow": false,
          "text": "Analysis",
          "x": "2021-07-01T16:36:00",
          "xref": "x2",
          "xshift": 15,
          "y": 1.01,
          "yref": "y2 domain"
         },
         {
          "showarrow": false,
          "text": "Reference",
          "x": "2021-06-15T04:42:00",
          "xref": "x3",
          "xshift": 10,
          "y": 1.01,
          "yref": "y3 domain"
         },
         {
          "showarrow": false,
          "text": "Analysis",
          "x": "2021-07-01T16:36:00",
          "xref": "x3",
          "xshift": 15,
          "y": 1.01,
          "yref": "y3 domain"
         },
         {
          "showarrow": false,
          "text": "Reference",
          "x": "2021-06-15T04:42:00",
          "xref": "x4",
          "xshift": 10,
          "y": 1.01,
          "yref": "y4 domain"
         },
         {
          "showarrow": false,
          "text": "Analysis",
          "x": "2021-07-01T16:36:00",
          "xref": "x4",
          "xshift": 15,
          "y": 1.01,
          "yref": "y4 domain"
         }
        ],
        "height": 2000,
        "hoverlabel": {
         "bgcolor": "white",
         "font": {
          "size": 14
         }
        },
        "legend": {
         "itemclick": false,
         "itemdoubleclick": false,
         "traceorder": "grouped"
        },
        "paper_bgcolor": "rgba(255,255,255,1)",
        "plot_bgcolor": "rgba(255,255,255,1)",
        "shapes": [
         {
          "layer": "below",
          "line": {
           "color": "#666666",
           "width": 1
          },
          "type": "line",
          "x0": "2021-06-25T12:06:00",
          "x1": "2021-06-25T12:06:00",
          "xref": "x",
          "y0": 0,
          "y1": 1,
          "yref": "y domain"
         },
         {
          "layer": "below",
          "line": {
           "color": "#666666",
           "width": 1
          },
          "type": "line",
          "x0": "2021-06-25T12:06:00",
          "x1": "2021-06-25T12:06:00",
          "xref": "x",
          "y0": 0,
          "y1": 1,
          "yref": "y domain"
         },
         {
          "layer": "below",
          "line": {
           "color": "#666666",
           "width": 1
          },
          "type": "line",
          "x0": "2021-06-25T12:06:00",
          "x1": "2021-06-25T12:06:00",
          "xref": "x2",
          "y0": 0,
          "y1": 1,
          "yref": "y2 domain"
         },
         {
          "layer": "below",
          "line": {
           "color": "#666666",
           "width": 1
          },
          "type": "line",
          "x0": "2021-06-25T12:06:00",
          "x1": "2021-06-25T12:06:00",
          "xref": "x",
          "y0": 0,
          "y1": 1,
          "yref": "y domain"
         },
         {
          "layer": "below",
          "line": {
           "color": "#666666",
           "width": 1
          },
          "type": "line",
          "x0": "2021-06-25T12:06:00",
          "x1": "2021-06-25T12:06:00",
          "xref": "x2",
          "y0": 0,
          "y1": 1,
          "yref": "y2 domain"
         },
         {
          "layer": "below",
          "line": {
           "color": "#666666",
           "width": 1
          },
          "type": "line",
          "x0": "2021-06-25T12:06:00",
          "x1": "2021-06-25T12:06:00",
          "xref": "x3",
          "y0": 0,
          "y1": 1,
          "yref": "y3 domain"
         },
         {
          "layer": "below",
          "line": {
           "color": "#666666",
           "width": 1
          },
          "type": "line",
          "x0": "2021-06-25T12:06:00",
          "x1": "2021-06-25T12:06:00",
          "xref": "x",
          "y0": 0,
          "y1": 1,
          "yref": "y domain"
         },
         {
          "layer": "below",
          "line": {
           "color": "#666666",
           "width": 1
          },
          "type": "line",
          "x0": "2021-06-25T12:06:00",
          "x1": "2021-06-25T12:06:00",
          "xref": "x2",
          "y0": 0,
          "y1": 1,
          "yref": "y2 domain"
         },
         {
          "layer": "below",
          "line": {
           "color": "#666666",
           "width": 1
          },
          "type": "line",
          "x0": "2021-06-25T12:06:00",
          "x1": "2021-06-25T12:06:00",
          "xref": "x3",
          "y0": 0,
          "y1": 1,
          "yref": "y3 domain"
         },
         {
          "layer": "below",
          "line": {
           "color": "#666666",
           "width": 1
          },
          "type": "line",
          "x0": "2021-06-25T12:06:00",
          "x1": "2021-06-25T12:06:00",
          "xref": "x4",
          "y0": 0,
          "y1": 1,
          "yref": "y4 domain"
         }
        ],
        "template": {
         "data": {
          "bar": [
           {
            "error_x": {
             "color": "#2a3f5f"
            },
            "error_y": {
             "color": "#2a3f5f"
            },
            "marker": {
             "line": {
              "color": "#E5ECF6",
              "width": 0.5
             },
             "pattern": {
              "fillmode": "overlay",
              "size": 10,
              "solidity": 0.2
             }
            },
            "type": "bar"
           }
          ],
          "barpolar": [
           {
            "marker": {
             "line": {
              "color": "#E5ECF6",
              "width": 0.5
             },
             "pattern": {
              "fillmode": "overlay",
              "size": 10,
              "solidity": 0.2
             }
            },
            "type": "barpolar"
           }
          ],
          "carpet": [
           {
            "aaxis": {
             "endlinecolor": "#2a3f5f",
             "gridcolor": "white",
             "linecolor": "white",
             "minorgridcolor": "white",
             "startlinecolor": "#2a3f5f"
            },
            "baxis": {
             "endlinecolor": "#2a3f5f",
             "gridcolor": "white",
             "linecolor": "white",
             "minorgridcolor": "white",
             "startlinecolor": "#2a3f5f"
            },
            "type": "carpet"
           }
          ],
          "choropleth": [
           {
            "colorbar": {
             "outlinewidth": 0,
             "ticks": ""
            },
            "type": "choropleth"
           }
          ],
          "contour": [
           {
            "colorbar": {
             "outlinewidth": 0,
             "ticks": ""
            },
            "colorscale": [
             [
              0,
              "#0d0887"
             ],
             [
              0.1111111111111111,
              "#46039f"
             ],
             [
              0.2222222222222222,
              "#7201a8"
             ],
             [
              0.3333333333333333,
              "#9c179e"
             ],
             [
              0.4444444444444444,
              "#bd3786"
             ],
             [
              0.5555555555555556,
              "#d8576b"
             ],
             [
              0.6666666666666666,
              "#ed7953"
             ],
             [
              0.7777777777777778,
              "#fb9f3a"
             ],
             [
              0.8888888888888888,
              "#fdca26"
             ],
             [
              1,
              "#f0f921"
             ]
            ],
            "type": "contour"
           }
          ],
          "contourcarpet": [
           {
            "colorbar": {
             "outlinewidth": 0,
             "ticks": ""
            },
            "type": "contourcarpet"
           }
          ],
          "heatmap": [
           {
            "colorbar": {
             "outlinewidth": 0,
             "ticks": ""
            },
            "colorscale": [
             [
              0,
              "#0d0887"
             ],
             [
              0.1111111111111111,
              "#46039f"
             ],
             [
              0.2222222222222222,
              "#7201a8"
             ],
             [
              0.3333333333333333,
              "#9c179e"
             ],
             [
              0.4444444444444444,
              "#bd3786"
             ],
             [
              0.5555555555555556,
              "#d8576b"
             ],
             [
              0.6666666666666666,
              "#ed7953"
             ],
             [
              0.7777777777777778,
              "#fb9f3a"
             ],
             [
              0.8888888888888888,
              "#fdca26"
             ],
             [
              1,
              "#f0f921"
             ]
            ],
            "type": "heatmap"
           }
          ],
          "heatmapgl": [
           {
            "colorbar": {
             "outlinewidth": 0,
             "ticks": ""
            },
            "colorscale": [
             [
              0,
              "#0d0887"
             ],
             [
              0.1111111111111111,
              "#46039f"
             ],
             [
              0.2222222222222222,
              "#7201a8"
             ],
             [
              0.3333333333333333,
              "#9c179e"
             ],
             [
              0.4444444444444444,
              "#bd3786"
             ],
             [
              0.5555555555555556,
              "#d8576b"
             ],
             [
              0.6666666666666666,
              "#ed7953"
             ],
             [
              0.7777777777777778,
              "#fb9f3a"
             ],
             [
              0.8888888888888888,
              "#fdca26"
             ],
             [
              1,
              "#f0f921"
             ]
            ],
            "type": "heatmapgl"
           }
          ],
          "histogram": [
           {
            "marker": {
             "pattern": {
              "fillmode": "overlay",
              "size": 10,
              "solidity": 0.2
             }
            },
            "type": "histogram"
           }
          ],
          "histogram2d": [
           {
            "colorbar": {
             "outlinewidth": 0,
             "ticks": ""
            },
            "colorscale": [
             [
              0,
              "#0d0887"
             ],
             [
              0.1111111111111111,
              "#46039f"
             ],
             [
              0.2222222222222222,
              "#7201a8"
             ],
             [
              0.3333333333333333,
              "#9c179e"
             ],
             [
              0.4444444444444444,
              "#bd3786"
             ],
             [
              0.5555555555555556,
              "#d8576b"
             ],
             [
              0.6666666666666666,
              "#ed7953"
             ],
             [
              0.7777777777777778,
              "#fb9f3a"
             ],
             [
              0.8888888888888888,
              "#fdca26"
             ],
             [
              1,
              "#f0f921"
             ]
            ],
            "type": "histogram2d"
           }
          ],
          "histogram2dcontour": [
           {
            "colorbar": {
             "outlinewidth": 0,
             "ticks": ""
            },
            "colorscale": [
             [
              0,
              "#0d0887"
             ],
             [
              0.1111111111111111,
              "#46039f"
             ],
             [
              0.2222222222222222,
              "#7201a8"
             ],
             [
              0.3333333333333333,
              "#9c179e"
             ],
             [
              0.4444444444444444,
              "#bd3786"
             ],
             [
              0.5555555555555556,
              "#d8576b"
             ],
             [
              0.6666666666666666,
              "#ed7953"
             ],
             [
              0.7777777777777778,
              "#fb9f3a"
             ],
             [
              0.8888888888888888,
              "#fdca26"
             ],
             [
              1,
              "#f0f921"
             ]
            ],
            "type": "histogram2dcontour"
           }
          ],
          "mesh3d": [
           {
            "colorbar": {
             "outlinewidth": 0,
             "ticks": ""
            },
            "type": "mesh3d"
           }
          ],
          "parcoords": [
           {
            "line": {
             "colorbar": {
              "outlinewidth": 0,
              "ticks": ""
             }
            },
            "type": "parcoords"
           }
          ],
          "pie": [
           {
            "automargin": true,
            "type": "pie"
           }
          ],
          "scatter": [
           {
            "fillpattern": {
             "fillmode": "overlay",
             "size": 10,
             "solidity": 0.2
            },
            "type": "scatter"
           }
          ],
          "scatter3d": [
           {
            "line": {
             "colorbar": {
              "outlinewidth": 0,
              "ticks": ""
             }
            },
            "marker": {
             "colorbar": {
              "outlinewidth": 0,
              "ticks": ""
             }
            },
            "type": "scatter3d"
           }
          ],
          "scattercarpet": [
           {
            "marker": {
             "colorbar": {
              "outlinewidth": 0,
              "ticks": ""
             }
            },
            "type": "scattercarpet"
           }
          ],
          "scattergeo": [
           {
            "marker": {
             "colorbar": {
              "outlinewidth": 0,
              "ticks": ""
             }
            },
            "type": "scattergeo"
           }
          ],
          "scattergl": [
           {
            "marker": {
             "colorbar": {
              "outlinewidth": 0,
              "ticks": ""
             }
            },
            "type": "scattergl"
           }
          ],
          "scattermapbox": [
           {
            "marker": {
             "colorbar": {
              "outlinewidth": 0,
              "ticks": ""
             }
            },
            "type": "scattermapbox"
           }
          ],
          "scatterpolar": [
           {
            "marker": {
             "colorbar": {
              "outlinewidth": 0,
              "ticks": ""
             }
            },
            "type": "scatterpolar"
           }
          ],
          "scatterpolargl": [
           {
            "marker": {
             "colorbar": {
              "outlinewidth": 0,
              "ticks": ""
             }
            },
            "type": "scatterpolargl"
           }
          ],
          "scatterternary": [
           {
            "marker": {
             "colorbar": {
              "outlinewidth": 0,
              "ticks": ""
             }
            },
            "type": "scatterternary"
           }
          ],
          "surface": [
           {
            "colorbar": {
             "outlinewidth": 0,
             "ticks": ""
            },
            "colorscale": [
             [
              0,
              "#0d0887"
             ],
             [
              0.1111111111111111,
              "#46039f"
             ],
             [
              0.2222222222222222,
              "#7201a8"
             ],
             [
              0.3333333333333333,
              "#9c179e"
             ],
             [
              0.4444444444444444,
              "#bd3786"
             ],
             [
              0.5555555555555556,
              "#d8576b"
             ],
             [
              0.6666666666666666,
              "#ed7953"
             ],
             [
              0.7777777777777778,
              "#fb9f3a"
             ],
             [
              0.8888888888888888,
              "#fdca26"
             ],
             [
              1,
              "#f0f921"
             ]
            ],
            "type": "surface"
           }
          ],
          "table": [
           {
            "cells": {
             "fill": {
              "color": "#EBF0F8"
             },
             "line": {
              "color": "white"
             }
            },
            "header": {
             "fill": {
              "color": "#C8D4E3"
             },
             "line": {
              "color": "white"
             }
            },
            "type": "table"
           }
          ]
         },
         "layout": {
          "annotationdefaults": {
           "arrowcolor": "#2a3f5f",
           "arrowhead": 0,
           "arrowwidth": 1
          },
          "autotypenumbers": "strict",
          "coloraxis": {
           "colorbar": {
            "outlinewidth": 0,
            "ticks": ""
           }
          },
          "colorscale": {
           "diverging": [
            [
             0,
             "#8e0152"
            ],
            [
             0.1,
             "#c51b7d"
            ],
            [
             0.2,
             "#de77ae"
            ],
            [
             0.3,
             "#f1b6da"
            ],
            [
             0.4,
             "#fde0ef"
            ],
            [
             0.5,
             "#f7f7f7"
            ],
            [
             0.6,
             "#e6f5d0"
            ],
            [
             0.7,
             "#b8e186"
            ],
            [
             0.8,
             "#7fbc41"
            ],
            [
             0.9,
             "#4d9221"
            ],
            [
             1,
             "#276419"
            ]
           ],
           "sequential": [
            [
             0,
             "#0d0887"
            ],
            [
             0.1111111111111111,
             "#46039f"
            ],
            [
             0.2222222222222222,
             "#7201a8"
            ],
            [
             0.3333333333333333,
             "#9c179e"
            ],
            [
             0.4444444444444444,
             "#bd3786"
            ],
            [
             0.5555555555555556,
             "#d8576b"
            ],
            [
             0.6666666666666666,
             "#ed7953"
            ],
            [
             0.7777777777777778,
             "#fb9f3a"
            ],
            [
             0.8888888888888888,
             "#fdca26"
            ],
            [
             1,
             "#f0f921"
            ]
           ],
           "sequentialminus": [
            [
             0,
             "#0d0887"
            ],
            [
             0.1111111111111111,
             "#46039f"
            ],
            [
             0.2222222222222222,
             "#7201a8"
            ],
            [
             0.3333333333333333,
             "#9c179e"
            ],
            [
             0.4444444444444444,
             "#bd3786"
            ],
            [
             0.5555555555555556,
             "#d8576b"
            ],
            [
             0.6666666666666666,
             "#ed7953"
            ],
            [
             0.7777777777777778,
             "#fb9f3a"
            ],
            [
             0.8888888888888888,
             "#fdca26"
            ],
            [
             1,
             "#f0f921"
            ]
           ]
          },
          "colorway": [
           "#636efa",
           "#EF553B",
           "#00cc96",
           "#ab63fa",
           "#FFA15A",
           "#19d3f3",
           "#FF6692",
           "#B6E880",
           "#FF97FF",
           "#FECB52"
          ],
          "font": {
           "color": "#2a3f5f"
          },
          "geo": {
           "bgcolor": "white",
           "lakecolor": "white",
           "landcolor": "#E5ECF6",
           "showlakes": true,
           "showland": true,
           "subunitcolor": "white"
          },
          "hoverlabel": {
           "align": "left"
          },
          "hovermode": "closest",
          "mapbox": {
           "style": "light"
          },
          "paper_bgcolor": "white",
          "plot_bgcolor": "#E5ECF6",
          "polar": {
           "angularaxis": {
            "gridcolor": "white",
            "linecolor": "white",
            "ticks": ""
           },
           "bgcolor": "#E5ECF6",
           "radialaxis": {
            "gridcolor": "white",
            "linecolor": "white",
            "ticks": ""
           }
          },
          "scene": {
           "xaxis": {
            "backgroundcolor": "#E5ECF6",
            "gridcolor": "white",
            "gridwidth": 2,
            "linecolor": "white",
            "showbackground": true,
            "ticks": "",
            "zerolinecolor": "white"
           },
           "yaxis": {
            "backgroundcolor": "#E5ECF6",
            "gridcolor": "white",
            "gridwidth": 2,
            "linecolor": "white",
            "showbackground": true,
            "ticks": "",
            "zerolinecolor": "white"
           },
           "zaxis": {
            "backgroundcolor": "#E5ECF6",
            "gridcolor": "white",
            "gridwidth": 2,
            "linecolor": "white",
            "showbackground": true,
            "ticks": "",
            "zerolinecolor": "white"
           }
          },
          "shapedefaults": {
           "line": {
            "color": "#2a3f5f"
           }
          },
          "ternary": {
           "aaxis": {
            "gridcolor": "white",
            "linecolor": "white",
            "ticks": ""
           },
           "baxis": {
            "gridcolor": "white",
            "linecolor": "white",
            "ticks": ""
           },
           "bgcolor": "#E5ECF6",
           "caxis": {
            "gridcolor": "white",
            "linecolor": "white",
            "ticks": ""
           }
          },
          "title": {
           "x": 0.05
          },
          "xaxis": {
           "automargin": true,
           "gridcolor": "white",
           "linecolor": "white",
           "ticks": "",
           "title": {
            "standoff": 15
           },
           "zerolinecolor": "white",
           "zerolinewidth": 2
          },
          "yaxis": {
           "automargin": true,
           "gridcolor": "white",
           "linecolor": "white",
           "ticks": "",
           "title": {
            "standoff": 15
           },
           "zerolinecolor": "white",
           "zerolinewidth": 2
          }
         }
        },
        "title": {
         "text": "Estimated performance <b>(CBPE)</b>"
        },
        "xaxis": {
         "anchor": "y",
         "domain": [
          0,
          1
         ],
         "linecolor": "#3b0280",
         "matches": "x",
         "mirror": true,
         "showgrid": false,
         "title": {
          "text": "Time"
         },
         "zeroline": false
        },
        "xaxis2": {
         "anchor": "y2",
         "domain": [
          0,
          1
         ],
         "linecolor": "#3b0280",
         "matches": "x",
         "mirror": true,
         "showgrid": false,
         "title": {
          "text": "Time"
         },
         "zeroline": false
        },
        "xaxis3": {
         "anchor": "y3",
         "domain": [
          0,
          1
         ],
         "linecolor": "#3b0280",
         "matches": "x",
         "mirror": true,
         "showgrid": false,
         "title": {
          "text": "Time"
         },
         "zeroline": false
        },
        "xaxis4": {
         "anchor": "y4",
         "domain": [
          0,
          1
         ],
         "linecolor": "#3b0280",
         "matches": "x",
         "mirror": true,
         "showgrid": false,
         "title": {
          "text": "Time"
         },
         "zeroline": false
        },
        "yaxis": {
         "anchor": "x",
         "domain": [
          0.84375,
          1
         ],
         "linecolor": "#3b0280",
         "mirror": true,
         "showgrid": false,
         "title": {
          "text": "ROC AUC"
         },
         "zeroline": false
        },
        "yaxis2": {
         "anchor": "x2",
         "domain": [
          0.5625,
          0.71875
         ],
         "linecolor": "#3b0280",
         "mirror": true,
         "showgrid": false,
         "title": {
          "text": "Accuracy"
         },
         "zeroline": false
        },
        "yaxis3": {
         "anchor": "x3",
         "domain": [
          0.28125,
          0.4375
         ],
         "linecolor": "#3b0280",
         "mirror": true,
         "showgrid": false,
         "title": {
          "text": "F1"
         },
         "zeroline": false
        },
        "yaxis4": {
         "anchor": "x4",
         "domain": [
          0,
          0.15625
         ],
         "linecolor": "#3b0280",
         "mirror": true,
         "showgrid": false,
         "title": {
          "text": "Recall"
         },
         "zeroline": false
        }
       }
      }
     },
     "metadata": {},
     "output_type": "display_data"
    }
   ],
   "source": [
    "cbpe = nml.CBPE(\n",
    "    y_pred_proba=y_pred_proba,\n",
    "    y_pred=y_pred,\n",
    "    y_true=target,\n",
    "    timestamp_column_name=timestamp,\n",
    "    metrics=['roc_auc', 'accuracy', 'f1', 'recall'],\n",
    "    chunk_size=1964,\n",
    "    problem_type='classification_binary',\n",
    ")\n",
    "\n",
    "cbpe.fit(df_test)\n",
    "cbpe_results = cbpe.estimate(df_prod)\n",
    "cbpe_results.plot()\n"
   ]
  },
  {
   "cell_type": "markdown",
   "metadata": {},
   "source": [
    "### PAPE"
   ]
  },
  {
   "cell_type": "code",
   "execution_count": 13,
   "metadata": {},
   "outputs": [
    {
     "name": "stderr",
     "output_type": "stream",
     "text": [
      "/Users/santiago/miniconda3/envs/nannymlPremium/lib/python3.10/site-packages/nannyml/chunk.py:181: UserWarning:\n",
      "\n",
      "The resulting number of chunks is too low. Please consider splitting your data in a different way or continue at your own risk.\n",
      "\n",
      "/Users/santiago/miniconda3/envs/nannymlPremium/lib/python3.10/site-packages/nannyml/chunk.py:181: UserWarning:\n",
      "\n",
      "The resulting number of chunks is too low. Please consider splitting your data in a different way or continue at your own risk.\n",
      "\n"
     ]
    },
    {
     "data": {
      "application/vnd.plotly.v1+json": {
       "config": {
        "plotlyServerURL": "https://plot.ly"
       },
       "data": [
        {
         "hoverinfo": "skip",
         "legendgroup": "metric_reference",
         "line": {
          "color": "#3b0280",
          "dash": "dash",
          "shape": "hv",
          "width": 2
         },
         "mode": "lines",
         "name": "Metric",
         "showlegend": true,
         "type": "scatter",
         "x": [
          "2021-06-09T00:12:00",
          "2021-06-13T03:12:00",
          "2021-06-17T06:12:00",
          "2021-06-21T09:12:00",
          "2021-06-25T12:03:00"
         ],
         "xaxis": "x",
         "y": [
          0.7281225890011728,
          0.8831774901631053,
          0.9063527765910915,
          0.8709659758598676,
          0.8709659758598676
         ],
         "yaxis": "y"
        },
        {
         "customdata": [
          [
           "Estimated <b>F1</b>",
           "<b style=\"color:#3b0280;line-height:60px\">Reference</b>",
           "",
           "[0:1963]",
           "From <b>Jun-09-2021</b> to <b>Jun-13-2021</b>",
           0.7281,
           0.105
          ],
          [
           "Estimated <b>F1</b>",
           "<b style=\"color:#3b0280;line-height:60px\">Reference</b>",
           "",
           "[1964:3927]",
           "From <b>Jun-13-2021</b> to <b>Jun-17-2021</b>",
           0.8832,
           0.105
          ],
          [
           "Estimated <b>F1</b>",
           "<b style=\"color:#3b0280;line-height:60px\">Reference</b>",
           "",
           "[3928:5891]",
           "From <b>Jun-17-2021</b> to <b>Jun-21-2021</b>",
           0.9064,
           0.105
          ],
          [
           "Estimated <b>F1</b>",
           "<b style=\"color:#3b0280;line-height:60px\">Reference</b>",
           "",
           "[5892:7853]",
           "From <b>Jun-21-2021</b> to <b>Jun-25-2021</b>",
           0.871,
           0.1051
          ]
         ],
         "hovertemplate": "%{customdata[1]} &nbsp; &nbsp; %{customdata[2]} <br />Chunk: <b>%{customdata[3]}</b> &nbsp; &nbsp; %{customdata[4]} <br />%{customdata[0]}: <b>%{customdata[5]}</b><br />Confidence band: +/- <b>%{customdata[6]}</b><br /><extra></extra>",
         "legendgroup": "metric_reference",
         "line": {
          "dash": "dash"
         },
         "marker": {
          "color": "#3b0280",
          "size": 5,
          "symbol": "circle"
         },
         "mode": "markers",
         "name": "Metric",
         "showlegend": false,
         "type": "scatter",
         "x": [
          "2021-06-11T01:42:00",
          "2021-06-15T04:42:00",
          "2021-06-19T07:42:00",
          "2021-06-23T10:37:30"
         ],
         "xaxis": "x",
         "y": [
          0.7281225890011728,
          0.8831774901631053,
          0.9063527765910915,
          0.8709659758598676,
          0.8709659758598676
         ],
         "yaxis": "y"
        },
        {
         "hoverinfo": "skip",
         "legendgroup": "metric_analysis",
         "line": {
          "color": "#3b0280",
          "dash": "dash",
          "shape": "hv",
          "width": 2
         },
         "mode": "lines",
         "name": "Metric",
         "showlegend": false,
         "type": "scatter",
         "x": [
          "2021-06-25T12:06:00",
          "2021-06-29T15:06:00",
          "2021-07-03T18:06:00",
          "2021-07-07T21:06:00",
          "2021-07-11T23:57:00"
         ],
         "xaxis": "x",
         "y": [
          0.8574148114241198,
          0.8432295435015648,
          0.8453030090576895,
          0.8710179749613156,
          0.8710179749613156
         ],
         "yaxis": "y"
        },
        {
         "customdata": [
          [
           "Estimated <b>F1</b>",
           "<b style=\"color:#3b0280;line-height:60px\">Analysis</b>",
           "",
           "[0:1963]",
           "From <b>Jun-25-2021</b> to <b>Jun-29-2021</b>",
           0.8574,
           0.105
          ],
          [
           "Estimated <b>F1</b>",
           "<b style=\"color:#3b0280;line-height:60px\">Analysis</b>",
           "",
           "[1964:3927]",
           "From <b>Jun-29-2021</b> to <b>Jul-03-2021</b>",
           0.8432,
           0.105
          ],
          [
           "Estimated <b>F1</b>",
           "<b style=\"color:#3b0280;line-height:60px\">Analysis</b>",
           "",
           "[3928:5891]",
           "From <b>Jul-03-2021</b> to <b>Jul-07-2021</b>",
           0.8453,
           0.105
          ],
          [
           "Estimated <b>F1</b>",
           "<b style=\"color:#3b0280;line-height:60px\">Analysis</b>",
           "",
           "[5892:7853]",
           "From <b>Jul-07-2021</b> to <b>Jul-11-2021</b>",
           0.871,
           0.1051
          ]
         ],
         "hovertemplate": "%{customdata[1]} &nbsp; &nbsp; %{customdata[2]} <br />Chunk: <b>%{customdata[3]}</b> &nbsp; &nbsp; %{customdata[4]} <br />%{customdata[0]}: <b>%{customdata[5]}</b><br />Confidence band: +/- <b>%{customdata[6]}</b><br /><extra></extra>",
         "legendgroup": "metric_analysis",
         "line": {
          "dash": "dash"
         },
         "marker": {
          "color": "#3b0280",
          "size": 5,
          "symbol": "circle"
         },
         "mode": "markers",
         "name": "Metric",
         "showlegend": false,
         "type": "scatter",
         "x": [
          "2021-06-27T13:36:00",
          "2021-07-01T16:36:00",
          "2021-07-05T19:36:00",
          "2021-07-09T22:31:30"
         ],
         "xaxis": "x",
         "y": [
          0.8574148114241198,
          0.8432295435015648,
          0.8453030090576895,
          0.8710179749613156,
          0.8710179749613156
         ],
         "yaxis": "y"
        },
        {
         "hoverinfo": "skip",
         "legendgroup": "alert",
         "marker": {
          "color": "#DD4040",
          "size": 8,
          "symbol": "diamond"
         },
         "mode": "markers",
         "name": "Alert",
         "showlegend": true,
         "type": "scatter",
         "x": [],
         "xaxis": "x",
         "y": [],
         "yaxis": "y"
        },
        {
         "hoverinfo": "skip",
         "legendgroup": "thresh",
         "line": {
          "color": "#DD4040",
          "dash": "dash",
          "width": 2
         },
         "mode": "lines",
         "name": "Threshold",
         "showlegend": true,
         "type": "scatter",
         "x": [
          "2021-06-09T00:12:00",
          "2021-06-13T03:12:00",
          "2021-06-17T06:12:00",
          "2021-06-21T09:12:00",
          "2021-06-25T12:03:00"
         ],
         "xaxis": "x",
         "y": [
          1,
          1,
          1,
          1,
          1
         ],
         "yaxis": "y"
        },
        {
         "hoverinfo": "skip",
         "legendgroup": "thresh",
         "line": {
          "color": "#DD4040",
          "dash": "dash",
          "width": 2
         },
         "mode": "lines",
         "name": "Threshold",
         "showlegend": false,
         "type": "scatter",
         "x": [
          "2021-06-09T00:12:00",
          "2021-06-13T03:12:00",
          "2021-06-17T06:12:00",
          "2021-06-21T09:12:00",
          "2021-06-25T12:03:00"
         ],
         "xaxis": "x",
         "y": [
          0.5732172148646006,
          0.5732172148646006,
          0.5732172148646006,
          0.5732172148646006,
          0.5732172148646006
         ],
         "yaxis": "y"
        },
        {
         "hoverinfo": "skip",
         "legendgroup": "thresh",
         "line": {
          "color": "#DD4040",
          "dash": "dash",
          "width": 2
         },
         "mode": "lines",
         "name": "Threshold",
         "showlegend": false,
         "type": "scatter",
         "x": [
          "2021-06-25T12:06:00",
          "2021-06-29T15:06:00",
          "2021-07-03T18:06:00",
          "2021-07-07T21:06:00",
          "2021-07-11T23:57:00"
         ],
         "xaxis": "x",
         "y": [
          1,
          1,
          1,
          1,
          1
         ],
         "yaxis": "y"
        },
        {
         "hoverinfo": "skip",
         "legendgroup": "thresh",
         "line": {
          "color": "#DD4040",
          "dash": "dash",
          "width": 2
         },
         "mode": "lines",
         "name": "Threshold",
         "showlegend": false,
         "type": "scatter",
         "x": [
          "2021-06-25T12:06:00",
          "2021-06-29T15:06:00",
          "2021-07-03T18:06:00",
          "2021-07-07T21:06:00",
          "2021-07-11T23:57:00"
         ],
         "xaxis": "x",
         "y": [
          0.5732172148646006,
          0.5732172148646006,
          0.5732172148646006,
          0.5732172148646006,
          0.5732172148646006
         ],
         "yaxis": "y"
        },
        {
         "connectgaps": true,
         "hoverinfo": "skip",
         "line": {
          "color": "rgba(0,0,0,0)",
          "shape": "hv"
         },
         "mode": "lines",
         "name": "Confidence band",
         "showlegend": false,
         "type": "scatter",
         "x": [
          "2021-06-09T00:12:00",
          "2021-06-13T03:12:00",
          "2021-06-17T06:12:00",
          "2021-06-21T09:12:00",
          "2021-06-25T12:03:00"
         ],
         "xaxis": "x",
         "y": [
          0.8331236125179952,
          0.9881785136799277,
          1,
          0.9760205030864126,
          0.9760205030864126
         ],
         "yaxis": "y"
        },
        {
         "connectgaps": true,
         "fill": "tonexty",
         "fillcolor": "rgba(0.23137254901960785, 0.00784313725490196, 0.5019607843137255, 0.2)",
         "hoverinfo": "skip",
         "line": {
          "color": "rgba(0,0,0,0)",
          "shape": "hv"
         },
         "mode": "lines",
         "name": "Confidence band",
         "showlegend": true,
         "type": "scatter",
         "x": [
          "2021-06-09T00:12:00",
          "2021-06-13T03:12:00",
          "2021-06-17T06:12:00",
          "2021-06-21T09:12:00",
          "2021-06-25T12:03:00"
         ],
         "xaxis": "x",
         "y": [
          0.6231215654843504,
          0.7781764666462829,
          0.8013517530742691,
          0.7659114486333225,
          0.7659114486333225
         ],
         "yaxis": "y"
        },
        {
         "connectgaps": true,
         "hoverinfo": "skip",
         "line": {
          "color": "rgba(0,0,0,0)",
          "shape": "hv"
         },
         "mode": "lines",
         "name": "Confidence band",
         "showlegend": false,
         "type": "scatter",
         "x": [
          "2021-06-25T12:06:00",
          "2021-06-29T15:06:00",
          "2021-07-03T18:06:00",
          "2021-07-07T21:06:00",
          "2021-07-11T23:57:00"
         ],
         "xaxis": "x",
         "y": [
          0.9624158349409422,
          0.9482305670183871,
          0.9503040325745119,
          0.9760725021878607,
          0.9760725021878607
         ],
         "yaxis": "y"
        },
        {
         "connectgaps": true,
         "fill": "tonexty",
         "fillcolor": "rgba(0.23137254901960785, 0.00784313725490196, 0.5019607843137255, 0.2)",
         "hoverinfo": "skip",
         "line": {
          "color": "rgba(0,0,0,0)",
          "shape": "hv"
         },
         "mode": "lines",
         "name": "Confidence band",
         "showlegend": false,
         "type": "scatter",
         "x": [
          "2021-06-25T12:06:00",
          "2021-06-29T15:06:00",
          "2021-07-03T18:06:00",
          "2021-07-07T21:06:00",
          "2021-07-11T23:57:00"
         ],
         "xaxis": "x",
         "y": [
          0.7524137879072974,
          0.7382285199847424,
          0.7403019855408671,
          0.7659634477347705,
          0.7659634477347705
         ],
         "yaxis": "y"
        }
       ],
       "layout": {
        "annotations": [
         {
          "font": {
           "size": 16
          },
          "showarrow": false,
          "text": "Estimated <b>F1</b>",
          "x": 0.5,
          "xanchor": "center",
          "xref": "paper",
          "y": 1,
          "yanchor": "bottom",
          "yref": "paper"
         },
         {
          "showarrow": false,
          "text": "Reference",
          "x": "2021-06-15T04:42:00",
          "xref": "x",
          "xshift": 10,
          "y": 1.01,
          "yref": "y domain"
         },
         {
          "showarrow": false,
          "text": "Analysis",
          "x": "2021-07-01T16:36:00",
          "xref": "x",
          "xshift": 15,
          "y": 1.01,
          "yref": "y domain"
         }
        ],
        "height": 500,
        "hoverlabel": {
         "bgcolor": "white",
         "font": {
          "size": 14
         }
        },
        "legend": {
         "itemclick": false,
         "itemdoubleclick": false,
         "traceorder": "grouped"
        },
        "paper_bgcolor": "rgba(255,255,255,1)",
        "plot_bgcolor": "rgba(255,255,255,1)",
        "shapes": [
         {
          "layer": "below",
          "line": {
           "color": "#666666",
           "width": 1
          },
          "type": "line",
          "x0": "2021-06-25T12:06:00",
          "x1": "2021-06-25T12:06:00",
          "xref": "x",
          "y0": 0,
          "y1": 1,
          "yref": "y domain"
         }
        ],
        "template": {
         "data": {
          "bar": [
           {
            "error_x": {
             "color": "#2a3f5f"
            },
            "error_y": {
             "color": "#2a3f5f"
            },
            "marker": {
             "line": {
              "color": "#E5ECF6",
              "width": 0.5
             },
             "pattern": {
              "fillmode": "overlay",
              "size": 10,
              "solidity": 0.2
             }
            },
            "type": "bar"
           }
          ],
          "barpolar": [
           {
            "marker": {
             "line": {
              "color": "#E5ECF6",
              "width": 0.5
             },
             "pattern": {
              "fillmode": "overlay",
              "size": 10,
              "solidity": 0.2
             }
            },
            "type": "barpolar"
           }
          ],
          "carpet": [
           {
            "aaxis": {
             "endlinecolor": "#2a3f5f",
             "gridcolor": "white",
             "linecolor": "white",
             "minorgridcolor": "white",
             "startlinecolor": "#2a3f5f"
            },
            "baxis": {
             "endlinecolor": "#2a3f5f",
             "gridcolor": "white",
             "linecolor": "white",
             "minorgridcolor": "white",
             "startlinecolor": "#2a3f5f"
            },
            "type": "carpet"
           }
          ],
          "choropleth": [
           {
            "colorbar": {
             "outlinewidth": 0,
             "ticks": ""
            },
            "type": "choropleth"
           }
          ],
          "contour": [
           {
            "colorbar": {
             "outlinewidth": 0,
             "ticks": ""
            },
            "colorscale": [
             [
              0,
              "#0d0887"
             ],
             [
              0.1111111111111111,
              "#46039f"
             ],
             [
              0.2222222222222222,
              "#7201a8"
             ],
             [
              0.3333333333333333,
              "#9c179e"
             ],
             [
              0.4444444444444444,
              "#bd3786"
             ],
             [
              0.5555555555555556,
              "#d8576b"
             ],
             [
              0.6666666666666666,
              "#ed7953"
             ],
             [
              0.7777777777777778,
              "#fb9f3a"
             ],
             [
              0.8888888888888888,
              "#fdca26"
             ],
             [
              1,
              "#f0f921"
             ]
            ],
            "type": "contour"
           }
          ],
          "contourcarpet": [
           {
            "colorbar": {
             "outlinewidth": 0,
             "ticks": ""
            },
            "type": "contourcarpet"
           }
          ],
          "heatmap": [
           {
            "colorbar": {
             "outlinewidth": 0,
             "ticks": ""
            },
            "colorscale": [
             [
              0,
              "#0d0887"
             ],
             [
              0.1111111111111111,
              "#46039f"
             ],
             [
              0.2222222222222222,
              "#7201a8"
             ],
             [
              0.3333333333333333,
              "#9c179e"
             ],
             [
              0.4444444444444444,
              "#bd3786"
             ],
             [
              0.5555555555555556,
              "#d8576b"
             ],
             [
              0.6666666666666666,
              "#ed7953"
             ],
             [
              0.7777777777777778,
              "#fb9f3a"
             ],
             [
              0.8888888888888888,
              "#fdca26"
             ],
             [
              1,
              "#f0f921"
             ]
            ],
            "type": "heatmap"
           }
          ],
          "heatmapgl": [
           {
            "colorbar": {
             "outlinewidth": 0,
             "ticks": ""
            },
            "colorscale": [
             [
              0,
              "#0d0887"
             ],
             [
              0.1111111111111111,
              "#46039f"
             ],
             [
              0.2222222222222222,
              "#7201a8"
             ],
             [
              0.3333333333333333,
              "#9c179e"
             ],
             [
              0.4444444444444444,
              "#bd3786"
             ],
             [
              0.5555555555555556,
              "#d8576b"
             ],
             [
              0.6666666666666666,
              "#ed7953"
             ],
             [
              0.7777777777777778,
              "#fb9f3a"
             ],
             [
              0.8888888888888888,
              "#fdca26"
             ],
             [
              1,
              "#f0f921"
             ]
            ],
            "type": "heatmapgl"
           }
          ],
          "histogram": [
           {
            "marker": {
             "pattern": {
              "fillmode": "overlay",
              "size": 10,
              "solidity": 0.2
             }
            },
            "type": "histogram"
           }
          ],
          "histogram2d": [
           {
            "colorbar": {
             "outlinewidth": 0,
             "ticks": ""
            },
            "colorscale": [
             [
              0,
              "#0d0887"
             ],
             [
              0.1111111111111111,
              "#46039f"
             ],
             [
              0.2222222222222222,
              "#7201a8"
             ],
             [
              0.3333333333333333,
              "#9c179e"
             ],
             [
              0.4444444444444444,
              "#bd3786"
             ],
             [
              0.5555555555555556,
              "#d8576b"
             ],
             [
              0.6666666666666666,
              "#ed7953"
             ],
             [
              0.7777777777777778,
              "#fb9f3a"
             ],
             [
              0.8888888888888888,
              "#fdca26"
             ],
             [
              1,
              "#f0f921"
             ]
            ],
            "type": "histogram2d"
           }
          ],
          "histogram2dcontour": [
           {
            "colorbar": {
             "outlinewidth": 0,
             "ticks": ""
            },
            "colorscale": [
             [
              0,
              "#0d0887"
             ],
             [
              0.1111111111111111,
              "#46039f"
             ],
             [
              0.2222222222222222,
              "#7201a8"
             ],
             [
              0.3333333333333333,
              "#9c179e"
             ],
             [
              0.4444444444444444,
              "#bd3786"
             ],
             [
              0.5555555555555556,
              "#d8576b"
             ],
             [
              0.6666666666666666,
              "#ed7953"
             ],
             [
              0.7777777777777778,
              "#fb9f3a"
             ],
             [
              0.8888888888888888,
              "#fdca26"
             ],
             [
              1,
              "#f0f921"
             ]
            ],
            "type": "histogram2dcontour"
           }
          ],
          "mesh3d": [
           {
            "colorbar": {
             "outlinewidth": 0,
             "ticks": ""
            },
            "type": "mesh3d"
           }
          ],
          "parcoords": [
           {
            "line": {
             "colorbar": {
              "outlinewidth": 0,
              "ticks": ""
             }
            },
            "type": "parcoords"
           }
          ],
          "pie": [
           {
            "automargin": true,
            "type": "pie"
           }
          ],
          "scatter": [
           {
            "fillpattern": {
             "fillmode": "overlay",
             "size": 10,
             "solidity": 0.2
            },
            "type": "scatter"
           }
          ],
          "scatter3d": [
           {
            "line": {
             "colorbar": {
              "outlinewidth": 0,
              "ticks": ""
             }
            },
            "marker": {
             "colorbar": {
              "outlinewidth": 0,
              "ticks": ""
             }
            },
            "type": "scatter3d"
           }
          ],
          "scattercarpet": [
           {
            "marker": {
             "colorbar": {
              "outlinewidth": 0,
              "ticks": ""
             }
            },
            "type": "scattercarpet"
           }
          ],
          "scattergeo": [
           {
            "marker": {
             "colorbar": {
              "outlinewidth": 0,
              "ticks": ""
             }
            },
            "type": "scattergeo"
           }
          ],
          "scattergl": [
           {
            "marker": {
             "colorbar": {
              "outlinewidth": 0,
              "ticks": ""
             }
            },
            "type": "scattergl"
           }
          ],
          "scattermapbox": [
           {
            "marker": {
             "colorbar": {
              "outlinewidth": 0,
              "ticks": ""
             }
            },
            "type": "scattermapbox"
           }
          ],
          "scatterpolar": [
           {
            "marker": {
             "colorbar": {
              "outlinewidth": 0,
              "ticks": ""
             }
            },
            "type": "scatterpolar"
           }
          ],
          "scatterpolargl": [
           {
            "marker": {
             "colorbar": {
              "outlinewidth": 0,
              "ticks": ""
             }
            },
            "type": "scatterpolargl"
           }
          ],
          "scatterternary": [
           {
            "marker": {
             "colorbar": {
              "outlinewidth": 0,
              "ticks": ""
             }
            },
            "type": "scatterternary"
           }
          ],
          "surface": [
           {
            "colorbar": {
             "outlinewidth": 0,
             "ticks": ""
            },
            "colorscale": [
             [
              0,
              "#0d0887"
             ],
             [
              0.1111111111111111,
              "#46039f"
             ],
             [
              0.2222222222222222,
              "#7201a8"
             ],
             [
              0.3333333333333333,
              "#9c179e"
             ],
             [
              0.4444444444444444,
              "#bd3786"
             ],
             [
              0.5555555555555556,
              "#d8576b"
             ],
             [
              0.6666666666666666,
              "#ed7953"
             ],
             [
              0.7777777777777778,
              "#fb9f3a"
             ],
             [
              0.8888888888888888,
              "#fdca26"
             ],
             [
              1,
              "#f0f921"
             ]
            ],
            "type": "surface"
           }
          ],
          "table": [
           {
            "cells": {
             "fill": {
              "color": "#EBF0F8"
             },
             "line": {
              "color": "white"
             }
            },
            "header": {
             "fill": {
              "color": "#C8D4E3"
             },
             "line": {
              "color": "white"
             }
            },
            "type": "table"
           }
          ]
         },
         "layout": {
          "annotationdefaults": {
           "arrowcolor": "#2a3f5f",
           "arrowhead": 0,
           "arrowwidth": 1
          },
          "autotypenumbers": "strict",
          "coloraxis": {
           "colorbar": {
            "outlinewidth": 0,
            "ticks": ""
           }
          },
          "colorscale": {
           "diverging": [
            [
             0,
             "#8e0152"
            ],
            [
             0.1,
             "#c51b7d"
            ],
            [
             0.2,
             "#de77ae"
            ],
            [
             0.3,
             "#f1b6da"
            ],
            [
             0.4,
             "#fde0ef"
            ],
            [
             0.5,
             "#f7f7f7"
            ],
            [
             0.6,
             "#e6f5d0"
            ],
            [
             0.7,
             "#b8e186"
            ],
            [
             0.8,
             "#7fbc41"
            ],
            [
             0.9,
             "#4d9221"
            ],
            [
             1,
             "#276419"
            ]
           ],
           "sequential": [
            [
             0,
             "#0d0887"
            ],
            [
             0.1111111111111111,
             "#46039f"
            ],
            [
             0.2222222222222222,
             "#7201a8"
            ],
            [
             0.3333333333333333,
             "#9c179e"
            ],
            [
             0.4444444444444444,
             "#bd3786"
            ],
            [
             0.5555555555555556,
             "#d8576b"
            ],
            [
             0.6666666666666666,
             "#ed7953"
            ],
            [
             0.7777777777777778,
             "#fb9f3a"
            ],
            [
             0.8888888888888888,
             "#fdca26"
            ],
            [
             1,
             "#f0f921"
            ]
           ],
           "sequentialminus": [
            [
             0,
             "#0d0887"
            ],
            [
             0.1111111111111111,
             "#46039f"
            ],
            [
             0.2222222222222222,
             "#7201a8"
            ],
            [
             0.3333333333333333,
             "#9c179e"
            ],
            [
             0.4444444444444444,
             "#bd3786"
            ],
            [
             0.5555555555555556,
             "#d8576b"
            ],
            [
             0.6666666666666666,
             "#ed7953"
            ],
            [
             0.7777777777777778,
             "#fb9f3a"
            ],
            [
             0.8888888888888888,
             "#fdca26"
            ],
            [
             1,
             "#f0f921"
            ]
           ]
          },
          "colorway": [
           "#636efa",
           "#EF553B",
           "#00cc96",
           "#ab63fa",
           "#FFA15A",
           "#19d3f3",
           "#FF6692",
           "#B6E880",
           "#FF97FF",
           "#FECB52"
          ],
          "font": {
           "color": "#2a3f5f"
          },
          "geo": {
           "bgcolor": "white",
           "lakecolor": "white",
           "landcolor": "#E5ECF6",
           "showlakes": true,
           "showland": true,
           "subunitcolor": "white"
          },
          "hoverlabel": {
           "align": "left"
          },
          "hovermode": "closest",
          "mapbox": {
           "style": "light"
          },
          "paper_bgcolor": "white",
          "plot_bgcolor": "#E5ECF6",
          "polar": {
           "angularaxis": {
            "gridcolor": "white",
            "linecolor": "white",
            "ticks": ""
           },
           "bgcolor": "#E5ECF6",
           "radialaxis": {
            "gridcolor": "white",
            "linecolor": "white",
            "ticks": ""
           }
          },
          "scene": {
           "xaxis": {
            "backgroundcolor": "#E5ECF6",
            "gridcolor": "white",
            "gridwidth": 2,
            "linecolor": "white",
            "showbackground": true,
            "ticks": "",
            "zerolinecolor": "white"
           },
           "yaxis": {
            "backgroundcolor": "#E5ECF6",
            "gridcolor": "white",
            "gridwidth": 2,
            "linecolor": "white",
            "showbackground": true,
            "ticks": "",
            "zerolinecolor": "white"
           },
           "zaxis": {
            "backgroundcolor": "#E5ECF6",
            "gridcolor": "white",
            "gridwidth": 2,
            "linecolor": "white",
            "showbackground": true,
            "ticks": "",
            "zerolinecolor": "white"
           }
          },
          "shapedefaults": {
           "line": {
            "color": "#2a3f5f"
           }
          },
          "ternary": {
           "aaxis": {
            "gridcolor": "white",
            "linecolor": "white",
            "ticks": ""
           },
           "baxis": {
            "gridcolor": "white",
            "linecolor": "white",
            "ticks": ""
           },
           "bgcolor": "#E5ECF6",
           "caxis": {
            "gridcolor": "white",
            "linecolor": "white",
            "ticks": ""
           }
          },
          "title": {
           "x": 0.05
          },
          "xaxis": {
           "automargin": true,
           "gridcolor": "white",
           "linecolor": "white",
           "ticks": "",
           "title": {
            "standoff": 15
           },
           "zerolinecolor": "white",
           "zerolinewidth": 2
          },
          "yaxis": {
           "automargin": true,
           "gridcolor": "white",
           "linecolor": "white",
           "ticks": "",
           "title": {
            "standoff": 15
           },
           "zerolinecolor": "white",
           "zerolinewidth": 2
          }
         }
        },
        "title": {
         "text": "Estimated performance <b>(MCBPE)</b>"
        },
        "xaxis": {
         "anchor": "y",
         "domain": [
          0,
          1
         ],
         "linecolor": "#3b0280",
         "matches": "x",
         "mirror": true,
         "showgrid": false,
         "title": {
          "text": "Time"
         },
         "zeroline": false
        },
        "yaxis": {
         "anchor": "x",
         "domain": [
          0,
          1
         ],
         "linecolor": "#3b0280",
         "mirror": true,
         "showgrid": false,
         "title": {
          "text": "F1"
         },
         "zeroline": false
        }
       }
      }
     },
     "metadata": {},
     "output_type": "display_data"
    }
   ],
   "source": [
    "pape = MCBPE(\n",
    "    feature_column_names=features,\n",
    "    y_pred_proba=y_pred_proba,\n",
    "    y_pred=y_pred,\n",
    "    y_true=target,\n",
    "    timestamp_column_name=timestamp,\n",
    "    metrics=['f1'],\n",
    "    chunk_size=1964,\n",
    "    problem_type='classification_binary',\n",
    ")\n",
    "\n",
    "pape.fit(df_test)\n",
    "pape_results = pape.estimate(df_prod)\n",
    "fig = pape_results.plot()\n",
    "fig.show()\n",
    "fig.write_image('mcbpe_results.svg')"
   ]
  },
  {
   "cell_type": "markdown",
   "metadata": {},
   "source": [
    "## Realized vs. Esimated performance"
   ]
  },
  {
   "cell_type": "code",
   "execution_count": 14,
   "metadata": {},
   "outputs": [
    {
     "name": "stderr",
     "output_type": "stream",
     "text": [
      "/Users/santiago/miniconda3/envs/nannymlPremium/lib/python3.10/site-packages/nannyml/chunk.py:181: UserWarning:\n",
      "\n",
      "The resulting number of chunks is too low. Please consider splitting your data in a different way or continue at your own risk.\n",
      "\n",
      "/Users/santiago/miniconda3/envs/nannymlPremium/lib/python3.10/site-packages/nannyml/chunk.py:181: UserWarning:\n",
      "\n",
      "The resulting number of chunks is too low. Please consider splitting your data in a different way or continue at your own risk.\n",
      "\n",
      "/Users/santiago/miniconda3/envs/nannymlPremium/lib/python3.10/site-packages/nannyml/chunk.py:181: UserWarning:\n",
      "\n",
      "The resulting number of chunks is too low. Please consider splitting your data in a different way or continue at your own risk.\n",
      "\n",
      "/Users/santiago/miniconda3/envs/nannymlPremium/lib/python3.10/site-packages/nannyml/chunk.py:181: UserWarning:\n",
      "\n",
      "The resulting number of chunks is too low. Please consider splitting your data in a different way or continue at your own risk.\n",
      "\n",
      "/Users/santiago/miniconda3/envs/nannymlPremium/lib/python3.10/site-packages/nannyml/chunk.py:181: UserWarning:\n",
      "\n",
      "The resulting number of chunks is too low. Please consider splitting your data in a different way or continue at your own risk.\n",
      "\n",
      "/Users/santiago/miniconda3/envs/nannymlPremium/lib/python3.10/site-packages/nannyml/chunk.py:181: UserWarning:\n",
      "\n",
      "The resulting number of chunks is too low. Please consider splitting your data in a different way or continue at your own risk.\n",
      "\n"
     ]
    }
   ],
   "source": [
    "performance_calc = nml.PerformanceCalculator(\n",
    "    y_pred_proba=y_pred_proba,\n",
    "    y_pred=y_pred,\n",
    "    y_true=target,\n",
    "    timestamp_column_name=timestamp,\n",
    "    metrics=['roc_auc', 'accuracy', 'f1', 'recall'],\n",
    "    chunk_size=1964,\n",
    "    problem_type='classification_binary',\n",
    ").fit(df_test)\n",
    "\n",
    "realized_results = performance_calc.calculate(df_prod)"
   ]
  },
  {
   "cell_type": "code",
   "execution_count": 15,
   "metadata": {},
   "outputs": [
    {
     "data": {
      "application/vnd.plotly.v1+json": {
       "config": {
        "plotlyServerURL": "https://plot.ly"
       },
       "data": [
        {
         "hoverinfo": "skip",
         "line": {
          "color": "#3b0280",
          "dash": "dash",
          "shape": "hv",
          "width": 2
         },
         "mode": "lines",
         "name": "<b>Accuracy</b> (estimated Accuracy)",
         "showlegend": true,
         "type": "scatter",
         "x": [
          "2021-06-09T00:12:00",
          "2021-06-13T03:12:00",
          "2021-06-17T06:12:00",
          "2021-06-21T09:12:00",
          "2021-06-25T12:03:00"
         ],
         "xaxis": "x",
         "y": [
          0.9627378667868512,
          0.9706259829335901,
          0.980137378244299,
          0.9762861018690083,
          0.9762861018690083
         ],
         "yaxis": "y"
        },
        {
         "customdata": [
          [
           "<b>Accuracy</b> (estimated Accuracy)",
           "<b style=\"color:#3b0280;line-height:60px\">Reference</b>",
           "[0:1963]",
           "From <b>Jun-09-2021</b> to <b>Jun-13-2021</b>",
           0.9627
          ],
          [
           "<b>Accuracy</b> (estimated Accuracy)",
           "<b style=\"color:#3b0280;line-height:60px\">Reference</b>",
           "[1964:3927]",
           "From <b>Jun-13-2021</b> to <b>Jun-17-2021</b>",
           0.9706
          ],
          [
           "<b>Accuracy</b> (estimated Accuracy)",
           "<b style=\"color:#3b0280;line-height:60px\">Reference</b>",
           "[3928:5891]",
           "From <b>Jun-17-2021</b> to <b>Jun-21-2021</b>",
           0.9801
          ],
          [
           "<b>Accuracy</b> (estimated Accuracy)",
           "<b style=\"color:#3b0280;line-height:60px\">Reference</b>",
           "[5892:7853]",
           "From <b>Jun-21-2021</b> to <b>Jun-25-2021</b>",
           0.9763
          ]
         ],
         "hovertemplate": "%{customdata[1]}<br />Chunk: <b>%{customdata[2]}</b> &nbsp; &nbsp; %{customdata[3]} <br />%{customdata[0]}: <b>%{customdata[4]}</b><br /><extra></extra>",
         "line": {
          "dash": "dash"
         },
         "marker": {
          "color": "#3b0280",
          "size": 5,
          "symbol": "circle"
         },
         "mode": "markers",
         "name": "<b>Accuracy</b> (estimated Accuracy)",
         "showlegend": false,
         "type": "scatter",
         "x": [
          "2021-06-11T01:42:00",
          "2021-06-15T04:42:00",
          "2021-06-19T07:42:00",
          "2021-06-23T10:37:30"
         ],
         "xaxis": "x",
         "y": [
          0.9627378667868512,
          0.9706259829335901,
          0.980137378244299,
          0.9762861018690083,
          0.9762861018690083
         ],
         "yaxis": "y"
        },
        {
         "connectgaps": true,
         "hoverinfo": "skip",
         "line": {
          "color": "rgba(0,0,0,0)",
          "dash": "dash",
          "shape": "hv"
         },
         "mode": "lines",
         "name": "Confidence band",
         "showlegend": false,
         "type": "scatter",
         "x": [
          "2021-06-09T00:12:00",
          "2021-06-13T03:12:00",
          "2021-06-17T06:12:00",
          "2021-06-21T09:12:00",
          "2021-06-25T12:03:00"
         ],
         "xaxis": "x",
         "y": [
          0.9738582773787475,
          0.9817463935254864,
          0.9912577888361953,
          0.9874121789125293,
          0.9874121789125293
         ],
         "yaxis": "y"
        },
        {
         "connectgaps": true,
         "fill": "tonexty",
         "fillcolor": "rgba(0.23137254901960785, 0.00784313725490196, 0.5019607843137255, 0.2)",
         "hoverinfo": "skip",
         "line": {
          "color": "rgba(0,0,0,0)",
          "dash": "dash",
          "shape": "hv"
         },
         "mode": "lines",
         "name": "Confidence band",
         "showlegend": true,
         "type": "scatter",
         "x": [
          "2021-06-09T00:12:00",
          "2021-06-13T03:12:00",
          "2021-06-17T06:12:00",
          "2021-06-21T09:12:00",
          "2021-06-25T12:03:00"
         ],
         "xaxis": "x",
         "y": [
          0.951617456194955,
          0.9595055723416939,
          0.9690169676524027,
          0.9651600248254874,
          0.9651600248254874
         ],
         "yaxis": "y"
        },
        {
         "hoverinfo": "skip",
         "line": {
          "color": "#00c8e5",
          "shape": "hv",
          "width": 2
         },
         "mode": "lines",
         "name": "<b>Accuracy</b> (realized Accuracy)",
         "showlegend": true,
         "type": "scatter",
         "x": [
          "2021-06-09T00:12:00",
          "2021-06-13T03:12:00",
          "2021-06-17T06:12:00",
          "2021-06-21T09:12:00",
          "2021-06-25T12:03:00"
         ],
         "xaxis": "x",
         "y": [
          0.9557026476578412,
          0.9663951120162932,
          0.9918533604887984,
          0.9750254841997962,
          0.9750254841997962
         ],
         "yaxis": "y"
        },
        {
         "customdata": [
          [
           "<b>Accuracy</b>",
           "<b style=\"color:#00c8e5;line-height:60px\">Reference</b>",
           "[0:1963]",
           "From <b>Jun-09-2021</b> to <b>Jun-13-2021</b>",
           0.9557
          ],
          [
           "<b>Accuracy</b>",
           "<b style=\"color:#00c8e5;line-height:60px\">Reference</b>",
           "[1964:3927]",
           "From <b>Jun-13-2021</b> to <b>Jun-17-2021</b>",
           0.9664
          ],
          [
           "<b>Accuracy</b>",
           "<b style=\"color:#00c8e5;line-height:60px\">Reference</b>",
           "[3928:5891]",
           "From <b>Jun-17-2021</b> to <b>Jun-21-2021</b>",
           0.9919
          ],
          [
           "<b>Accuracy</b>",
           "<b style=\"color:#00c8e5;line-height:60px\">Reference</b>",
           "[5892:7853]",
           "From <b>Jun-21-2021</b> to <b>Jun-25-2021</b>",
           0.975
          ]
         ],
         "hovertemplate": "%{customdata[1]}<br />Chunk: <b>%{customdata[2]}</b> &nbsp; &nbsp; %{customdata[3]} <br />%{customdata[0]}: <b>%{customdata[4]}</b><br /><extra></extra>",
         "marker": {
          "color": "#00c8e5",
          "size": 5,
          "symbol": "circle"
         },
         "mode": "markers",
         "name": "<b>Accuracy</b> (realized Accuracy)",
         "showlegend": false,
         "type": "scatter",
         "x": [
          "2021-06-11T01:42:00",
          "2021-06-15T04:42:00",
          "2021-06-19T07:42:00",
          "2021-06-23T10:37:30"
         ],
         "xaxis": "x",
         "y": [
          0.9557026476578412,
          0.9663951120162932,
          0.9918533604887984,
          0.9750254841997962,
          0.9750254841997962
         ],
         "yaxis": "y"
        },
        {
         "hoverinfo": "skip",
         "line": {
          "color": "#3b0280",
          "dash": "dash",
          "shape": "hv",
          "width": 2
         },
         "mode": "lines",
         "name": "<b>Accuracy</b> (estimated Accuracy)",
         "showlegend": false,
         "type": "scatter",
         "x": [
          "2021-06-25T12:06:00",
          "2021-06-29T15:06:00",
          "2021-07-03T18:06:00",
          "2021-07-07T21:06:00",
          "2021-07-11T23:57:00"
         ],
         "xaxis": "x",
         "y": [
          0.978059434008619,
          0.9783661163134721,
          0.9666103482255151,
          0.9844469461865293,
          0.9844469461865293
         ],
         "yaxis": "y"
        },
        {
         "customdata": [
          [
           "<b>Accuracy</b> (estimated Accuracy)",
           "<b style=\"color:#3b0280;line-height:60px\">Analysis</b>",
           "",
           "[0:1963]",
           "From <b>Jun-25-2021</b> to <b>Jun-29-2021</b>",
           0.9781
          ],
          [
           "<b>Accuracy</b> (estimated Accuracy)",
           "<b style=\"color:#3b0280;line-height:60px\">Analysis</b>",
           "",
           "[1964:3927]",
           "From <b>Jun-29-2021</b> to <b>Jul-03-2021</b>",
           0.9784
          ],
          [
           "<b>Accuracy</b> (estimated Accuracy)",
           "<b style=\"color:#3b0280;line-height:60px\">Analysis</b>",
           "",
           "[3928:5891]",
           "From <b>Jul-03-2021</b> to <b>Jul-07-2021</b>",
           0.9666
          ],
          [
           "<b>Accuracy</b> (estimated Accuracy)",
           "<b style=\"color:#3b0280;line-height:60px\">Analysis</b>",
           "",
           "[5892:7853]",
           "From <b>Jul-07-2021</b> to <b>Jul-11-2021</b>",
           0.9844
          ]
         ],
         "hovertemplate": "%{customdata[1]} &nbsp; &nbsp; %{customdata[2]} <br />Chunk: <b>%{customdata[3]}</b> &nbsp; &nbsp; %{customdata[4]} <br />%{customdata[0]}: <b>%{customdata[5]}</b><br /><extra></extra>",
         "line": {
          "dash": "dash"
         },
         "marker": {
          "color": "#3b0280",
          "size": 5,
          "symbol": "circle"
         },
         "mode": "markers",
         "name": "<b>Accuracy</b> (estimated Accuracy)",
         "showlegend": false,
         "type": "scatter",
         "x": [
          "2021-06-27T13:36:00",
          "2021-07-01T16:36:00",
          "2021-07-05T19:36:00",
          "2021-07-09T22:31:30"
         ],
         "xaxis": "x",
         "y": [
          0.978059434008619,
          0.9783661163134721,
          0.9666103482255151,
          0.9844469461865293,
          0.9844469461865293
         ],
         "yaxis": "y"
        },
        {
         "connectgaps": true,
         "hoverinfo": "skip",
         "line": {
          "color": "rgba(0,0,0,0)",
          "shape": "hv"
         },
         "mode": "lines",
         "name": "Confidence band",
         "showlegend": false,
         "type": "scatter",
         "x": [
          "2021-06-25T12:06:00",
          "2021-06-29T15:06:00",
          "2021-07-03T18:06:00",
          "2021-07-07T21:06:00",
          "2021-07-11T23:57:00"
         ],
         "xaxis": "x",
         "y": [
          0.9891798446005153,
          0.9894865269053684,
          0.9777307588174113,
          0.9955730232300503,
          0.9955730232300503
         ],
         "yaxis": "y"
        },
        {
         "connectgaps": true,
         "fill": "tonexty",
         "fillcolor": "rgba(0.23137254901960785, 0.00784313725490196, 0.5019607843137255, 0.2)",
         "hoverinfo": "skip",
         "line": {
          "color": "rgba(0,0,0,0)",
          "shape": "hv"
         },
         "mode": "lines",
         "name": "Confidence band",
         "showlegend": false,
         "type": "scatter",
         "x": [
          "2021-06-25T12:06:00",
          "2021-06-29T15:06:00",
          "2021-07-03T18:06:00",
          "2021-07-07T21:06:00",
          "2021-07-11T23:57:00"
         ],
         "xaxis": "x",
         "y": [
          0.9669390234167228,
          0.9672457057215759,
          0.9554899376336188,
          0.9733208691430083,
          0.9733208691430083
         ],
         "yaxis": "y"
        },
        {
         "hoverinfo": "skip",
         "line": {
          "color": "#00c8e5",
          "shape": "hv",
          "width": 2
         },
         "mode": "lines",
         "name": "<b>Accuracy</b> (realized Accuracy)",
         "showlegend": false,
         "type": "scatter",
         "x": [
          "2021-06-25T12:06:00",
          "2021-06-29T15:06:00",
          "2021-07-03T18:06:00",
          "2021-07-07T21:06:00",
          "2021-07-11T23:57:00"
         ],
         "xaxis": "x",
         "y": [
          0.9837067209775967,
          0.9760692464358453,
          0.9633401221995926,
          0.990316004077472,
          0.990316004077472
         ],
         "yaxis": "y"
        },
        {
         "customdata": [
          [
           "<b>Accuracy</b>",
           "<b style=\"color:#00c8e5;line-height:60px\">Analysis</b>",
           "",
           "[0:1963]",
           "From <b>Jun-25-2021</b> to <b>Jun-29-2021</b>",
           0.9837
          ],
          [
           "<b>Accuracy</b>",
           "<b style=\"color:#00c8e5;line-height:60px\">Analysis</b>",
           "",
           "[1964:3927]",
           "From <b>Jun-29-2021</b> to <b>Jul-03-2021</b>",
           0.9761
          ],
          [
           "<b>Accuracy</b>",
           "<b style=\"color:#00c8e5;line-height:60px\">Analysis</b>",
           "",
           "[3928:5891]",
           "From <b>Jul-03-2021</b> to <b>Jul-07-2021</b>",
           0.9633
          ],
          [
           "<b>Accuracy</b>",
           "<b style=\"color:#00c8e5;line-height:60px\">Analysis</b>",
           "",
           "[5892:7853]",
           "From <b>Jul-07-2021</b> to <b>Jul-11-2021</b>",
           0.9903
          ]
         ],
         "hovertemplate": "%{customdata[1]} &nbsp; &nbsp; %{customdata[2]} <br />Chunk: <b>%{customdata[3]}</b> &nbsp; &nbsp; %{customdata[4]} <br />%{customdata[0]}: <b>%{customdata[5]}</b><br /><extra></extra>",
         "marker": {
          "color": "#00c8e5",
          "size": 5,
          "symbol": "circle"
         },
         "mode": "markers",
         "name": "<b>Accuracy</b> (realized Accuracy)",
         "showlegend": false,
         "type": "scatter",
         "x": [
          "2021-06-27T13:36:00",
          "2021-07-01T16:36:00",
          "2021-07-05T19:36:00",
          "2021-07-09T22:31:30"
         ],
         "xaxis": "x",
         "y": [
          0.9837067209775967,
          0.9760692464358453,
          0.9633401221995926,
          0.990316004077472,
          0.990316004077472
         ],
         "yaxis": "y"
        },
        {
         "hoverinfo": "skip",
         "legendgroup": "alert",
         "marker": {
          "color": "#DD4040",
          "size": 8,
          "symbol": "diamond"
         },
         "mode": "markers",
         "name": "Alert",
         "showlegend": true,
         "type": "scatter",
         "x": [],
         "xaxis": "x",
         "y": [],
         "yaxis": "y"
        },
        {
         "hoverinfo": "skip",
         "legendgroup": "alert",
         "marker": {
          "color": "#DD4040",
          "size": 8,
          "symbol": "diamond"
         },
         "mode": "markers",
         "name": "Alert",
         "showlegend": false,
         "type": "scatter",
         "x": [],
         "xaxis": "x",
         "y": [],
         "yaxis": "y"
        }
       ],
       "layout": {
        "annotations": [
         {
          "font": {
           "size": 16
          },
          "showarrow": false,
          "text": "<b>Accuracy</b> (estimated Accuracy) vs. <b>Accuracy</b> (realized Accuracy)",
          "x": 0.47,
          "xanchor": "center",
          "xref": "paper",
          "y": 1,
          "yanchor": "bottom",
          "yref": "paper"
         },
         {
          "showarrow": false,
          "text": "Reference",
          "x": "2021-06-15T04:42:00",
          "xshift": 10,
          "y": 1,
          "yref": "paper"
         },
         {
          "showarrow": false,
          "text": "Analysis",
          "x": "2021-07-01T16:36:00",
          "xshift": 15,
          "y": 1,
          "yref": "paper"
         }
        ],
        "height": 500,
        "hoverlabel": {
         "bgcolor": "white",
         "font": {
          "size": 14
         }
        },
        "legend": {
         "itemclick": false,
         "itemdoubleclick": false,
         "traceorder": "grouped"
        },
        "paper_bgcolor": "rgba(255,255,255,1)",
        "plot_bgcolor": "rgba(255,255,255,1)",
        "shapes": [
         {
          "layer": "below",
          "line": {
           "color": "#666666",
           "width": 1
          },
          "type": "line",
          "x0": "2021-06-25T12:06:00",
          "x1": "2021-06-25T12:06:00",
          "xref": "x",
          "y0": 0,
          "y1": 1,
          "yref": "y domain"
         }
        ],
        "template": {
         "data": {
          "bar": [
           {
            "error_x": {
             "color": "#2a3f5f"
            },
            "error_y": {
             "color": "#2a3f5f"
            },
            "marker": {
             "line": {
              "color": "#E5ECF6",
              "width": 0.5
             },
             "pattern": {
              "fillmode": "overlay",
              "size": 10,
              "solidity": 0.2
             }
            },
            "type": "bar"
           }
          ],
          "barpolar": [
           {
            "marker": {
             "line": {
              "color": "#E5ECF6",
              "width": 0.5
             },
             "pattern": {
              "fillmode": "overlay",
              "size": 10,
              "solidity": 0.2
             }
            },
            "type": "barpolar"
           }
          ],
          "carpet": [
           {
            "aaxis": {
             "endlinecolor": "#2a3f5f",
             "gridcolor": "white",
             "linecolor": "white",
             "minorgridcolor": "white",
             "startlinecolor": "#2a3f5f"
            },
            "baxis": {
             "endlinecolor": "#2a3f5f",
             "gridcolor": "white",
             "linecolor": "white",
             "minorgridcolor": "white",
             "startlinecolor": "#2a3f5f"
            },
            "type": "carpet"
           }
          ],
          "choropleth": [
           {
            "colorbar": {
             "outlinewidth": 0,
             "ticks": ""
            },
            "type": "choropleth"
           }
          ],
          "contour": [
           {
            "colorbar": {
             "outlinewidth": 0,
             "ticks": ""
            },
            "colorscale": [
             [
              0,
              "#0d0887"
             ],
             [
              0.1111111111111111,
              "#46039f"
             ],
             [
              0.2222222222222222,
              "#7201a8"
             ],
             [
              0.3333333333333333,
              "#9c179e"
             ],
             [
              0.4444444444444444,
              "#bd3786"
             ],
             [
              0.5555555555555556,
              "#d8576b"
             ],
             [
              0.6666666666666666,
              "#ed7953"
             ],
             [
              0.7777777777777778,
              "#fb9f3a"
             ],
             [
              0.8888888888888888,
              "#fdca26"
             ],
             [
              1,
              "#f0f921"
             ]
            ],
            "type": "contour"
           }
          ],
          "contourcarpet": [
           {
            "colorbar": {
             "outlinewidth": 0,
             "ticks": ""
            },
            "type": "contourcarpet"
           }
          ],
          "heatmap": [
           {
            "colorbar": {
             "outlinewidth": 0,
             "ticks": ""
            },
            "colorscale": [
             [
              0,
              "#0d0887"
             ],
             [
              0.1111111111111111,
              "#46039f"
             ],
             [
              0.2222222222222222,
              "#7201a8"
             ],
             [
              0.3333333333333333,
              "#9c179e"
             ],
             [
              0.4444444444444444,
              "#bd3786"
             ],
             [
              0.5555555555555556,
              "#d8576b"
             ],
             [
              0.6666666666666666,
              "#ed7953"
             ],
             [
              0.7777777777777778,
              "#fb9f3a"
             ],
             [
              0.8888888888888888,
              "#fdca26"
             ],
             [
              1,
              "#f0f921"
             ]
            ],
            "type": "heatmap"
           }
          ],
          "heatmapgl": [
           {
            "colorbar": {
             "outlinewidth": 0,
             "ticks": ""
            },
            "colorscale": [
             [
              0,
              "#0d0887"
             ],
             [
              0.1111111111111111,
              "#46039f"
             ],
             [
              0.2222222222222222,
              "#7201a8"
             ],
             [
              0.3333333333333333,
              "#9c179e"
             ],
             [
              0.4444444444444444,
              "#bd3786"
             ],
             [
              0.5555555555555556,
              "#d8576b"
             ],
             [
              0.6666666666666666,
              "#ed7953"
             ],
             [
              0.7777777777777778,
              "#fb9f3a"
             ],
             [
              0.8888888888888888,
              "#fdca26"
             ],
             [
              1,
              "#f0f921"
             ]
            ],
            "type": "heatmapgl"
           }
          ],
          "histogram": [
           {
            "marker": {
             "pattern": {
              "fillmode": "overlay",
              "size": 10,
              "solidity": 0.2
             }
            },
            "type": "histogram"
           }
          ],
          "histogram2d": [
           {
            "colorbar": {
             "outlinewidth": 0,
             "ticks": ""
            },
            "colorscale": [
             [
              0,
              "#0d0887"
             ],
             [
              0.1111111111111111,
              "#46039f"
             ],
             [
              0.2222222222222222,
              "#7201a8"
             ],
             [
              0.3333333333333333,
              "#9c179e"
             ],
             [
              0.4444444444444444,
              "#bd3786"
             ],
             [
              0.5555555555555556,
              "#d8576b"
             ],
             [
              0.6666666666666666,
              "#ed7953"
             ],
             [
              0.7777777777777778,
              "#fb9f3a"
             ],
             [
              0.8888888888888888,
              "#fdca26"
             ],
             [
              1,
              "#f0f921"
             ]
            ],
            "type": "histogram2d"
           }
          ],
          "histogram2dcontour": [
           {
            "colorbar": {
             "outlinewidth": 0,
             "ticks": ""
            },
            "colorscale": [
             [
              0,
              "#0d0887"
             ],
             [
              0.1111111111111111,
              "#46039f"
             ],
             [
              0.2222222222222222,
              "#7201a8"
             ],
             [
              0.3333333333333333,
              "#9c179e"
             ],
             [
              0.4444444444444444,
              "#bd3786"
             ],
             [
              0.5555555555555556,
              "#d8576b"
             ],
             [
              0.6666666666666666,
              "#ed7953"
             ],
             [
              0.7777777777777778,
              "#fb9f3a"
             ],
             [
              0.8888888888888888,
              "#fdca26"
             ],
             [
              1,
              "#f0f921"
             ]
            ],
            "type": "histogram2dcontour"
           }
          ],
          "mesh3d": [
           {
            "colorbar": {
             "outlinewidth": 0,
             "ticks": ""
            },
            "type": "mesh3d"
           }
          ],
          "parcoords": [
           {
            "line": {
             "colorbar": {
              "outlinewidth": 0,
              "ticks": ""
             }
            },
            "type": "parcoords"
           }
          ],
          "pie": [
           {
            "automargin": true,
            "type": "pie"
           }
          ],
          "scatter": [
           {
            "fillpattern": {
             "fillmode": "overlay",
             "size": 10,
             "solidity": 0.2
            },
            "type": "scatter"
           }
          ],
          "scatter3d": [
           {
            "line": {
             "colorbar": {
              "outlinewidth": 0,
              "ticks": ""
             }
            },
            "marker": {
             "colorbar": {
              "outlinewidth": 0,
              "ticks": ""
             }
            },
            "type": "scatter3d"
           }
          ],
          "scattercarpet": [
           {
            "marker": {
             "colorbar": {
              "outlinewidth": 0,
              "ticks": ""
             }
            },
            "type": "scattercarpet"
           }
          ],
          "scattergeo": [
           {
            "marker": {
             "colorbar": {
              "outlinewidth": 0,
              "ticks": ""
             }
            },
            "type": "scattergeo"
           }
          ],
          "scattergl": [
           {
            "marker": {
             "colorbar": {
              "outlinewidth": 0,
              "ticks": ""
             }
            },
            "type": "scattergl"
           }
          ],
          "scattermapbox": [
           {
            "marker": {
             "colorbar": {
              "outlinewidth": 0,
              "ticks": ""
             }
            },
            "type": "scattermapbox"
           }
          ],
          "scatterpolar": [
           {
            "marker": {
             "colorbar": {
              "outlinewidth": 0,
              "ticks": ""
             }
            },
            "type": "scatterpolar"
           }
          ],
          "scatterpolargl": [
           {
            "marker": {
             "colorbar": {
              "outlinewidth": 0,
              "ticks": ""
             }
            },
            "type": "scatterpolargl"
           }
          ],
          "scatterternary": [
           {
            "marker": {
             "colorbar": {
              "outlinewidth": 0,
              "ticks": ""
             }
            },
            "type": "scatterternary"
           }
          ],
          "surface": [
           {
            "colorbar": {
             "outlinewidth": 0,
             "ticks": ""
            },
            "colorscale": [
             [
              0,
              "#0d0887"
             ],
             [
              0.1111111111111111,
              "#46039f"
             ],
             [
              0.2222222222222222,
              "#7201a8"
             ],
             [
              0.3333333333333333,
              "#9c179e"
             ],
             [
              0.4444444444444444,
              "#bd3786"
             ],
             [
              0.5555555555555556,
              "#d8576b"
             ],
             [
              0.6666666666666666,
              "#ed7953"
             ],
             [
              0.7777777777777778,
              "#fb9f3a"
             ],
             [
              0.8888888888888888,
              "#fdca26"
             ],
             [
              1,
              "#f0f921"
             ]
            ],
            "type": "surface"
           }
          ],
          "table": [
           {
            "cells": {
             "fill": {
              "color": "#EBF0F8"
             },
             "line": {
              "color": "white"
             }
            },
            "header": {
             "fill": {
              "color": "#C8D4E3"
             },
             "line": {
              "color": "white"
             }
            },
            "type": "table"
           }
          ]
         },
         "layout": {
          "annotationdefaults": {
           "arrowcolor": "#2a3f5f",
           "arrowhead": 0,
           "arrowwidth": 1
          },
          "autotypenumbers": "strict",
          "coloraxis": {
           "colorbar": {
            "outlinewidth": 0,
            "ticks": ""
           }
          },
          "colorscale": {
           "diverging": [
            [
             0,
             "#8e0152"
            ],
            [
             0.1,
             "#c51b7d"
            ],
            [
             0.2,
             "#de77ae"
            ],
            [
             0.3,
             "#f1b6da"
            ],
            [
             0.4,
             "#fde0ef"
            ],
            [
             0.5,
             "#f7f7f7"
            ],
            [
             0.6,
             "#e6f5d0"
            ],
            [
             0.7,
             "#b8e186"
            ],
            [
             0.8,
             "#7fbc41"
            ],
            [
             0.9,
             "#4d9221"
            ],
            [
             1,
             "#276419"
            ]
           ],
           "sequential": [
            [
             0,
             "#0d0887"
            ],
            [
             0.1111111111111111,
             "#46039f"
            ],
            [
             0.2222222222222222,
             "#7201a8"
            ],
            [
             0.3333333333333333,
             "#9c179e"
            ],
            [
             0.4444444444444444,
             "#bd3786"
            ],
            [
             0.5555555555555556,
             "#d8576b"
            ],
            [
             0.6666666666666666,
             "#ed7953"
            ],
            [
             0.7777777777777778,
             "#fb9f3a"
            ],
            [
             0.8888888888888888,
             "#fdca26"
            ],
            [
             1,
             "#f0f921"
            ]
           ],
           "sequentialminus": [
            [
             0,
             "#0d0887"
            ],
            [
             0.1111111111111111,
             "#46039f"
            ],
            [
             0.2222222222222222,
             "#7201a8"
            ],
            [
             0.3333333333333333,
             "#9c179e"
            ],
            [
             0.4444444444444444,
             "#bd3786"
            ],
            [
             0.5555555555555556,
             "#d8576b"
            ],
            [
             0.6666666666666666,
             "#ed7953"
            ],
            [
             0.7777777777777778,
             "#fb9f3a"
            ],
            [
             0.8888888888888888,
             "#fdca26"
            ],
            [
             1,
             "#f0f921"
            ]
           ]
          },
          "colorway": [
           "#636efa",
           "#EF553B",
           "#00cc96",
           "#ab63fa",
           "#FFA15A",
           "#19d3f3",
           "#FF6692",
           "#B6E880",
           "#FF97FF",
           "#FECB52"
          ],
          "font": {
           "color": "#2a3f5f"
          },
          "geo": {
           "bgcolor": "white",
           "lakecolor": "white",
           "landcolor": "#E5ECF6",
           "showlakes": true,
           "showland": true,
           "subunitcolor": "white"
          },
          "hoverlabel": {
           "align": "left"
          },
          "hovermode": "closest",
          "mapbox": {
           "style": "light"
          },
          "paper_bgcolor": "white",
          "plot_bgcolor": "#E5ECF6",
          "polar": {
           "angularaxis": {
            "gridcolor": "white",
            "linecolor": "white",
            "ticks": ""
           },
           "bgcolor": "#E5ECF6",
           "radialaxis": {
            "gridcolor": "white",
            "linecolor": "white",
            "ticks": ""
           }
          },
          "scene": {
           "xaxis": {
            "backgroundcolor": "#E5ECF6",
            "gridcolor": "white",
            "gridwidth": 2,
            "linecolor": "white",
            "showbackground": true,
            "ticks": "",
            "zerolinecolor": "white"
           },
           "yaxis": {
            "backgroundcolor": "#E5ECF6",
            "gridcolor": "white",
            "gridwidth": 2,
            "linecolor": "white",
            "showbackground": true,
            "ticks": "",
            "zerolinecolor": "white"
           },
           "zaxis": {
            "backgroundcolor": "#E5ECF6",
            "gridcolor": "white",
            "gridwidth": 2,
            "linecolor": "white",
            "showbackground": true,
            "ticks": "",
            "zerolinecolor": "white"
           }
          },
          "shapedefaults": {
           "line": {
            "color": "#2a3f5f"
           }
          },
          "ternary": {
           "aaxis": {
            "gridcolor": "white",
            "linecolor": "white",
            "ticks": ""
           },
           "baxis": {
            "gridcolor": "white",
            "linecolor": "white",
            "ticks": ""
           },
           "bgcolor": "#E5ECF6",
           "caxis": {
            "gridcolor": "white",
            "linecolor": "white",
            "ticks": ""
           }
          },
          "title": {
           "x": 0.05
          },
          "xaxis": {
           "automargin": true,
           "gridcolor": "white",
           "linecolor": "white",
           "ticks": "",
           "title": {
            "standoff": 15
           },
           "zerolinecolor": "white",
           "zerolinewidth": 2
          },
          "yaxis": {
           "automargin": true,
           "gridcolor": "white",
           "linecolor": "white",
           "ticks": "",
           "title": {
            "standoff": 15
           },
           "zerolinecolor": "white",
           "zerolinewidth": 2
          }
         }
        },
        "title": {
         "text": "<b>Estimated performance (CBPE)</b> vs. <b>Realized performance</b>"
        },
        "xaxis": {
         "anchor": "y",
         "domain": [
          0,
          0.94
         ],
         "linecolor": "#3b0280",
         "matches": "x",
         "mirror": true,
         "showgrid": false,
         "title": {
          "text": "Time"
         },
         "zeroline": false
        },
        "yaxis": {
         "anchor": "x",
         "domain": [
          0,
          1
         ],
         "linecolor": "#3b0280",
         "mirror": true,
         "showgrid": false,
         "title": {
          "text": "<b>Accuracy</b>"
         },
         "zeroline": false
        },
        "yaxis2": {
         "anchor": "x",
         "linecolor": "#3b0280",
         "mirror": true,
         "overlaying": "y",
         "showgrid": false,
         "side": "right",
         "title": {
          "text": "Comparison"
         },
         "zeroline": false
        }
       }
      }
     },
     "metadata": {},
     "output_type": "display_data"
    }
   ],
   "source": [
    "cbpe_results.filter(metrics='accuracy').compare(realized_results.filter(metrics='accuracy')).plot()"
   ]
  },
  {
   "cell_type": "code",
   "execution_count": 16,
   "metadata": {},
   "outputs": [
    {
     "data": {
      "application/vnd.plotly.v1+json": {
       "config": {
        "plotlyServerURL": "https://plot.ly"
       },
       "data": [
        {
         "hoverinfo": "skip",
         "line": {
          "color": "#3b0280",
          "dash": "dash",
          "shape": "hv",
          "width": 2
         },
         "mode": "lines",
         "name": "<b>ROC AUC</b> (estimated ROC AUC)",
         "showlegend": true,
         "type": "scatter",
         "x": [
          "2021-06-09T00:12:00",
          "2021-06-13T03:12:00",
          "2021-06-17T06:12:00",
          "2021-06-21T09:12:00",
          "2021-06-25T12:03:00"
         ],
         "xaxis": "x",
         "y": [
          0.9474860710658812,
          0.9717255825176189,
          0.9414479134769725,
          0.9630238457507634,
          0.9630238457507634
         ],
         "yaxis": "y"
        },
        {
         "customdata": [
          [
           "<b>ROC AUC</b> (estimated ROC AUC)",
           "<b style=\"color:#3b0280;line-height:60px\">Reference</b>",
           "[0:1963]",
           "From <b>Jun-09-2021</b> to <b>Jun-13-2021</b>",
           0.9475
          ],
          [
           "<b>ROC AUC</b> (estimated ROC AUC)",
           "<b style=\"color:#3b0280;line-height:60px\">Reference</b>",
           "[1964:3927]",
           "From <b>Jun-13-2021</b> to <b>Jun-17-2021</b>",
           0.9717
          ],
          [
           "<b>ROC AUC</b> (estimated ROC AUC)",
           "<b style=\"color:#3b0280;line-height:60px\">Reference</b>",
           "[3928:5891]",
           "From <b>Jun-17-2021</b> to <b>Jun-21-2021</b>",
           0.9414
          ],
          [
           "<b>ROC AUC</b> (estimated ROC AUC)",
           "<b style=\"color:#3b0280;line-height:60px\">Reference</b>",
           "[5892:7853]",
           "From <b>Jun-21-2021</b> to <b>Jun-25-2021</b>",
           0.963
          ]
         ],
         "hovertemplate": "%{customdata[1]}<br />Chunk: <b>%{customdata[2]}</b> &nbsp; &nbsp; %{customdata[3]} <br />%{customdata[0]}: <b>%{customdata[4]}</b><br /><extra></extra>",
         "line": {
          "dash": "dash"
         },
         "marker": {
          "color": "#3b0280",
          "size": 5,
          "symbol": "circle"
         },
         "mode": "markers",
         "name": "<b>ROC AUC</b> (estimated ROC AUC)",
         "showlegend": false,
         "type": "scatter",
         "x": [
          "2021-06-11T01:42:00",
          "2021-06-15T04:42:00",
          "2021-06-19T07:42:00",
          "2021-06-23T10:37:30"
         ],
         "xaxis": "x",
         "y": [
          0.9474860710658812,
          0.9717255825176189,
          0.9414479134769725,
          0.9630238457507634,
          0.9630238457507634
         ],
         "yaxis": "y"
        },
        {
         "connectgaps": true,
         "hoverinfo": "skip",
         "line": {
          "color": "rgba(0,0,0,0)",
          "dash": "dash",
          "shape": "hv"
         },
         "mode": "lines",
         "name": "Confidence band",
         "showlegend": false,
         "type": "scatter",
         "x": [
          "2021-06-09T00:12:00",
          "2021-06-13T03:12:00",
          "2021-06-17T06:12:00",
          "2021-06-21T09:12:00",
          "2021-06-25T12:03:00"
         ],
         "xaxis": "x",
         "y": [
          0.9832129065400739,
          1,
          0.9771747489511652,
          0.9987688859830669,
          0.9987688859830669
         ],
         "yaxis": "y"
        },
        {
         "connectgaps": true,
         "fill": "tonexty",
         "fillcolor": "rgba(0.23137254901960785, 0.00784313725490196, 0.5019607843137255, 0.2)",
         "hoverinfo": "skip",
         "line": {
          "color": "rgba(0,0,0,0)",
          "dash": "dash",
          "shape": "hv"
         },
         "mode": "lines",
         "name": "Confidence band",
         "showlegend": true,
         "type": "scatter",
         "x": [
          "2021-06-09T00:12:00",
          "2021-06-13T03:12:00",
          "2021-06-17T06:12:00",
          "2021-06-21T09:12:00",
          "2021-06-25T12:03:00"
         ],
         "xaxis": "x",
         "y": [
          0.9117592355916886,
          0.9359987470434262,
          0.9057210780027799,
          0.9272788055184599,
          0.9272788055184599
         ],
         "yaxis": "y"
        },
        {
         "hoverinfo": "skip",
         "line": {
          "color": "#00c8e5",
          "shape": "hv",
          "width": 2
         },
         "mode": "lines",
         "name": "<b>ROC AUC</b> (realized ROC AUC)",
         "showlegend": true,
         "type": "scatter",
         "x": [
          "2021-06-09T00:12:00",
          "2021-06-13T03:12:00",
          "2021-06-17T06:12:00",
          "2021-06-21T09:12:00",
          "2021-06-25T12:03:00"
         ],
         "xaxis": "x",
         "y": [
          0.9117498880429915,
          0.952747545058487,
          0.9882585087326466,
          0.9647870810626029,
          0.9647870810626029
         ],
         "yaxis": "y"
        },
        {
         "customdata": [
          [
           "<b>ROC AUC</b>",
           "<b style=\"color:#00c8e5;line-height:60px\">Reference</b>",
           "[0:1963]",
           "From <b>Jun-09-2021</b> to <b>Jun-13-2021</b>",
           0.9117
          ],
          [
           "<b>ROC AUC</b>",
           "<b style=\"color:#00c8e5;line-height:60px\">Reference</b>",
           "[1964:3927]",
           "From <b>Jun-13-2021</b> to <b>Jun-17-2021</b>",
           0.9527
          ],
          [
           "<b>ROC AUC</b>",
           "<b style=\"color:#00c8e5;line-height:60px\">Reference</b>",
           "[3928:5891]",
           "From <b>Jun-17-2021</b> to <b>Jun-21-2021</b>",
           0.9883
          ],
          [
           "<b>ROC AUC</b>",
           "<b style=\"color:#00c8e5;line-height:60px\">Reference</b>",
           "[5892:7853]",
           "From <b>Jun-21-2021</b> to <b>Jun-25-2021</b>",
           0.9648
          ]
         ],
         "hovertemplate": "%{customdata[1]}<br />Chunk: <b>%{customdata[2]}</b> &nbsp; &nbsp; %{customdata[3]} <br />%{customdata[0]}: <b>%{customdata[4]}</b><br /><extra></extra>",
         "marker": {
          "color": "#00c8e5",
          "size": 5,
          "symbol": "circle"
         },
         "mode": "markers",
         "name": "<b>ROC AUC</b> (realized ROC AUC)",
         "showlegend": false,
         "type": "scatter",
         "x": [
          "2021-06-11T01:42:00",
          "2021-06-15T04:42:00",
          "2021-06-19T07:42:00",
          "2021-06-23T10:37:30"
         ],
         "xaxis": "x",
         "y": [
          0.9117498880429915,
          0.952747545058487,
          0.9882585087326466,
          0.9647870810626029,
          0.9647870810626029
         ],
         "yaxis": "y"
        },
        {
         "hoverinfo": "skip",
         "line": {
          "color": "#3b0280",
          "dash": "dash",
          "shape": "hv",
          "width": 2
         },
         "mode": "lines",
         "name": "<b>ROC AUC</b> (estimated ROC AUC)",
         "showlegend": false,
         "type": "scatter",
         "x": [
          "2021-06-25T12:06:00",
          "2021-06-29T15:06:00",
          "2021-07-03T18:06:00",
          "2021-07-07T21:06:00",
          "2021-07-11T23:57:00"
         ],
         "xaxis": "x",
         "y": [
          0.9646281882023621,
          0.9655803387100776,
          0.9636985301151317,
          0.9454610429569852,
          0.9454610429569852
         ],
         "yaxis": "y"
        },
        {
         "customdata": [
          [
           "<b>ROC AUC</b> (estimated ROC AUC)",
           "<b style=\"color:#3b0280;line-height:60px\">Analysis</b>",
           "",
           "[0:1963]",
           "From <b>Jun-25-2021</b> to <b>Jun-29-2021</b>",
           0.9646
          ],
          [
           "<b>ROC AUC</b> (estimated ROC AUC)",
           "<b style=\"color:#3b0280;line-height:60px\">Analysis</b>",
           "",
           "[1964:3927]",
           "From <b>Jun-29-2021</b> to <b>Jul-03-2021</b>",
           0.9656
          ],
          [
           "<b>ROC AUC</b> (estimated ROC AUC)",
           "<b style=\"color:#3b0280;line-height:60px\">Analysis</b>",
           "",
           "[3928:5891]",
           "From <b>Jul-03-2021</b> to <b>Jul-07-2021</b>",
           0.9637
          ],
          [
           "<b>ROC AUC</b> (estimated ROC AUC)",
           "<b style=\"color:#3b0280;line-height:60px\">Analysis</b>",
           "",
           "[5892:7853]",
           "From <b>Jul-07-2021</b> to <b>Jul-11-2021</b>",
           0.9455
          ]
         ],
         "hovertemplate": "%{customdata[1]} &nbsp; &nbsp; %{customdata[2]} <br />Chunk: <b>%{customdata[3]}</b> &nbsp; &nbsp; %{customdata[4]} <br />%{customdata[0]}: <b>%{customdata[5]}</b><br /><extra></extra>",
         "line": {
          "dash": "dash"
         },
         "marker": {
          "color": "#3b0280",
          "size": 5,
          "symbol": "circle"
         },
         "mode": "markers",
         "name": "<b>ROC AUC</b> (estimated ROC AUC)",
         "showlegend": false,
         "type": "scatter",
         "x": [
          "2021-06-27T13:36:00",
          "2021-07-01T16:36:00",
          "2021-07-05T19:36:00",
          "2021-07-09T22:31:30"
         ],
         "xaxis": "x",
         "y": [
          0.9646281882023621,
          0.9655803387100776,
          0.9636985301151317,
          0.9454610429569852,
          0.9454610429569852
         ],
         "yaxis": "y"
        },
        {
         "connectgaps": true,
         "hoverinfo": "skip",
         "line": {
          "color": "rgba(0,0,0,0)",
          "shape": "hv"
         },
         "mode": "lines",
         "name": "Confidence band",
         "showlegend": false,
         "type": "scatter",
         "x": [
          "2021-06-25T12:06:00",
          "2021-06-29T15:06:00",
          "2021-07-03T18:06:00",
          "2021-07-07T21:06:00",
          "2021-07-11T23:57:00"
         ],
         "xaxis": "x",
         "y": [
          1,
          1,
          0.9994253655893244,
          0.9812060831892887,
          0.9812060831892887
         ],
         "yaxis": "y"
        },
        {
         "connectgaps": true,
         "fill": "tonexty",
         "fillcolor": "rgba(0.23137254901960785, 0.00784313725490196, 0.5019607843137255, 0.2)",
         "hoverinfo": "skip",
         "line": {
          "color": "rgba(0,0,0,0)",
          "shape": "hv"
         },
         "mode": "lines",
         "name": "Confidence band",
         "showlegend": false,
         "type": "scatter",
         "x": [
          "2021-06-25T12:06:00",
          "2021-06-29T15:06:00",
          "2021-07-03T18:06:00",
          "2021-07-07T21:06:00",
          "2021-07-11T23:57:00"
         ],
         "xaxis": "x",
         "y": [
          0.9289013527281694,
          0.929853503235885,
          0.9279716946409391,
          0.9097160027246817,
          0.9097160027246817
         ],
         "yaxis": "y"
        },
        {
         "hoverinfo": "skip",
         "line": {
          "color": "#00c8e5",
          "shape": "hv",
          "width": 2
         },
         "mode": "lines",
         "name": "<b>ROC AUC</b> (realized ROC AUC)",
         "showlegend": false,
         "type": "scatter",
         "x": [
          "2021-06-25T12:06:00",
          "2021-06-29T15:06:00",
          "2021-07-03T18:06:00",
          "2021-07-07T21:06:00",
          "2021-07-11T23:57:00"
         ],
         "xaxis": "x",
         "y": [
          0.990782778481774,
          0.9842151250913889,
          0.9637804888108022,
          0.9718876088406072,
          0.9718876088406072
         ],
         "yaxis": "y"
        },
        {
         "customdata": [
          [
           "<b>ROC AUC</b>",
           "<b style=\"color:#00c8e5;line-height:60px\">Analysis</b>",
           "",
           "[0:1963]",
           "From <b>Jun-25-2021</b> to <b>Jun-29-2021</b>",
           0.9908
          ],
          [
           "<b>ROC AUC</b>",
           "<b style=\"color:#00c8e5;line-height:60px\">Analysis</b>",
           "",
           "[1964:3927]",
           "From <b>Jun-29-2021</b> to <b>Jul-03-2021</b>",
           0.9842
          ],
          [
           "<b>ROC AUC</b>",
           "<b style=\"color:#00c8e5;line-height:60px\">Analysis</b>",
           "",
           "[3928:5891]",
           "From <b>Jul-03-2021</b> to <b>Jul-07-2021</b>",
           0.9638
          ],
          [
           "<b>ROC AUC</b>",
           "<b style=\"color:#00c8e5;line-height:60px\">Analysis</b>",
           "",
           "[5892:7853]",
           "From <b>Jul-07-2021</b> to <b>Jul-11-2021</b>",
           0.9719
          ]
         ],
         "hovertemplate": "%{customdata[1]} &nbsp; &nbsp; %{customdata[2]} <br />Chunk: <b>%{customdata[3]}</b> &nbsp; &nbsp; %{customdata[4]} <br />%{customdata[0]}: <b>%{customdata[5]}</b><br /><extra></extra>",
         "marker": {
          "color": "#00c8e5",
          "size": 5,
          "symbol": "circle"
         },
         "mode": "markers",
         "name": "<b>ROC AUC</b> (realized ROC AUC)",
         "showlegend": false,
         "type": "scatter",
         "x": [
          "2021-06-27T13:36:00",
          "2021-07-01T16:36:00",
          "2021-07-05T19:36:00",
          "2021-07-09T22:31:30"
         ],
         "xaxis": "x",
         "y": [
          0.990782778481774,
          0.9842151250913889,
          0.9637804888108022,
          0.9718876088406072,
          0.9718876088406072
         ],
         "yaxis": "y"
        },
        {
         "hoverinfo": "skip",
         "legendgroup": "alert",
         "marker": {
          "color": "#DD4040",
          "size": 8,
          "symbol": "diamond"
         },
         "mode": "markers",
         "name": "Alert",
         "showlegend": true,
         "type": "scatter",
         "x": [],
         "xaxis": "x",
         "y": [],
         "yaxis": "y"
        },
        {
         "hoverinfo": "skip",
         "legendgroup": "alert",
         "marker": {
          "color": "#DD4040",
          "size": 8,
          "symbol": "diamond"
         },
         "mode": "markers",
         "name": "Alert",
         "showlegend": false,
         "type": "scatter",
         "x": [],
         "xaxis": "x",
         "y": [],
         "yaxis": "y"
        }
       ],
       "layout": {
        "annotations": [
         {
          "font": {
           "size": 16
          },
          "showarrow": false,
          "text": "<b>ROC AUC</b> (estimated ROC AUC) vs. <b>ROC AUC</b> (realized ROC AUC)",
          "x": 0.47,
          "xanchor": "center",
          "xref": "paper",
          "y": 1,
          "yanchor": "bottom",
          "yref": "paper"
         },
         {
          "showarrow": false,
          "text": "Reference",
          "x": "2021-06-15T04:42:00",
          "xshift": 10,
          "y": 1,
          "yref": "paper"
         },
         {
          "showarrow": false,
          "text": "Analysis",
          "x": "2021-07-01T16:36:00",
          "xshift": 15,
          "y": 1,
          "yref": "paper"
         }
        ],
        "height": 500,
        "hoverlabel": {
         "bgcolor": "white",
         "font": {
          "size": 14
         }
        },
        "legend": {
         "itemclick": false,
         "itemdoubleclick": false,
         "traceorder": "grouped"
        },
        "paper_bgcolor": "rgba(255,255,255,1)",
        "plot_bgcolor": "rgba(255,255,255,1)",
        "shapes": [
         {
          "layer": "below",
          "line": {
           "color": "#666666",
           "width": 1
          },
          "type": "line",
          "x0": "2021-06-25T12:06:00",
          "x1": "2021-06-25T12:06:00",
          "xref": "x",
          "y0": 0,
          "y1": 1,
          "yref": "y domain"
         }
        ],
        "template": {
         "data": {
          "bar": [
           {
            "error_x": {
             "color": "#2a3f5f"
            },
            "error_y": {
             "color": "#2a3f5f"
            },
            "marker": {
             "line": {
              "color": "#E5ECF6",
              "width": 0.5
             },
             "pattern": {
              "fillmode": "overlay",
              "size": 10,
              "solidity": 0.2
             }
            },
            "type": "bar"
           }
          ],
          "barpolar": [
           {
            "marker": {
             "line": {
              "color": "#E5ECF6",
              "width": 0.5
             },
             "pattern": {
              "fillmode": "overlay",
              "size": 10,
              "solidity": 0.2
             }
            },
            "type": "barpolar"
           }
          ],
          "carpet": [
           {
            "aaxis": {
             "endlinecolor": "#2a3f5f",
             "gridcolor": "white",
             "linecolor": "white",
             "minorgridcolor": "white",
             "startlinecolor": "#2a3f5f"
            },
            "baxis": {
             "endlinecolor": "#2a3f5f",
             "gridcolor": "white",
             "linecolor": "white",
             "minorgridcolor": "white",
             "startlinecolor": "#2a3f5f"
            },
            "type": "carpet"
           }
          ],
          "choropleth": [
           {
            "colorbar": {
             "outlinewidth": 0,
             "ticks": ""
            },
            "type": "choropleth"
           }
          ],
          "contour": [
           {
            "colorbar": {
             "outlinewidth": 0,
             "ticks": ""
            },
            "colorscale": [
             [
              0,
              "#0d0887"
             ],
             [
              0.1111111111111111,
              "#46039f"
             ],
             [
              0.2222222222222222,
              "#7201a8"
             ],
             [
              0.3333333333333333,
              "#9c179e"
             ],
             [
              0.4444444444444444,
              "#bd3786"
             ],
             [
              0.5555555555555556,
              "#d8576b"
             ],
             [
              0.6666666666666666,
              "#ed7953"
             ],
             [
              0.7777777777777778,
              "#fb9f3a"
             ],
             [
              0.8888888888888888,
              "#fdca26"
             ],
             [
              1,
              "#f0f921"
             ]
            ],
            "type": "contour"
           }
          ],
          "contourcarpet": [
           {
            "colorbar": {
             "outlinewidth": 0,
             "ticks": ""
            },
            "type": "contourcarpet"
           }
          ],
          "heatmap": [
           {
            "colorbar": {
             "outlinewidth": 0,
             "ticks": ""
            },
            "colorscale": [
             [
              0,
              "#0d0887"
             ],
             [
              0.1111111111111111,
              "#46039f"
             ],
             [
              0.2222222222222222,
              "#7201a8"
             ],
             [
              0.3333333333333333,
              "#9c179e"
             ],
             [
              0.4444444444444444,
              "#bd3786"
             ],
             [
              0.5555555555555556,
              "#d8576b"
             ],
             [
              0.6666666666666666,
              "#ed7953"
             ],
             [
              0.7777777777777778,
              "#fb9f3a"
             ],
             [
              0.8888888888888888,
              "#fdca26"
             ],
             [
              1,
              "#f0f921"
             ]
            ],
            "type": "heatmap"
           }
          ],
          "heatmapgl": [
           {
            "colorbar": {
             "outlinewidth": 0,
             "ticks": ""
            },
            "colorscale": [
             [
              0,
              "#0d0887"
             ],
             [
              0.1111111111111111,
              "#46039f"
             ],
             [
              0.2222222222222222,
              "#7201a8"
             ],
             [
              0.3333333333333333,
              "#9c179e"
             ],
             [
              0.4444444444444444,
              "#bd3786"
             ],
             [
              0.5555555555555556,
              "#d8576b"
             ],
             [
              0.6666666666666666,
              "#ed7953"
             ],
             [
              0.7777777777777778,
              "#fb9f3a"
             ],
             [
              0.8888888888888888,
              "#fdca26"
             ],
             [
              1,
              "#f0f921"
             ]
            ],
            "type": "heatmapgl"
           }
          ],
          "histogram": [
           {
            "marker": {
             "pattern": {
              "fillmode": "overlay",
              "size": 10,
              "solidity": 0.2
             }
            },
            "type": "histogram"
           }
          ],
          "histogram2d": [
           {
            "colorbar": {
             "outlinewidth": 0,
             "ticks": ""
            },
            "colorscale": [
             [
              0,
              "#0d0887"
             ],
             [
              0.1111111111111111,
              "#46039f"
             ],
             [
              0.2222222222222222,
              "#7201a8"
             ],
             [
              0.3333333333333333,
              "#9c179e"
             ],
             [
              0.4444444444444444,
              "#bd3786"
             ],
             [
              0.5555555555555556,
              "#d8576b"
             ],
             [
              0.6666666666666666,
              "#ed7953"
             ],
             [
              0.7777777777777778,
              "#fb9f3a"
             ],
             [
              0.8888888888888888,
              "#fdca26"
             ],
             [
              1,
              "#f0f921"
             ]
            ],
            "type": "histogram2d"
           }
          ],
          "histogram2dcontour": [
           {
            "colorbar": {
             "outlinewidth": 0,
             "ticks": ""
            },
            "colorscale": [
             [
              0,
              "#0d0887"
             ],
             [
              0.1111111111111111,
              "#46039f"
             ],
             [
              0.2222222222222222,
              "#7201a8"
             ],
             [
              0.3333333333333333,
              "#9c179e"
             ],
             [
              0.4444444444444444,
              "#bd3786"
             ],
             [
              0.5555555555555556,
              "#d8576b"
             ],
             [
              0.6666666666666666,
              "#ed7953"
             ],
             [
              0.7777777777777778,
              "#fb9f3a"
             ],
             [
              0.8888888888888888,
              "#fdca26"
             ],
             [
              1,
              "#f0f921"
             ]
            ],
            "type": "histogram2dcontour"
           }
          ],
          "mesh3d": [
           {
            "colorbar": {
             "outlinewidth": 0,
             "ticks": ""
            },
            "type": "mesh3d"
           }
          ],
          "parcoords": [
           {
            "line": {
             "colorbar": {
              "outlinewidth": 0,
              "ticks": ""
             }
            },
            "type": "parcoords"
           }
          ],
          "pie": [
           {
            "automargin": true,
            "type": "pie"
           }
          ],
          "scatter": [
           {
            "fillpattern": {
             "fillmode": "overlay",
             "size": 10,
             "solidity": 0.2
            },
            "type": "scatter"
           }
          ],
          "scatter3d": [
           {
            "line": {
             "colorbar": {
              "outlinewidth": 0,
              "ticks": ""
             }
            },
            "marker": {
             "colorbar": {
              "outlinewidth": 0,
              "ticks": ""
             }
            },
            "type": "scatter3d"
           }
          ],
          "scattercarpet": [
           {
            "marker": {
             "colorbar": {
              "outlinewidth": 0,
              "ticks": ""
             }
            },
            "type": "scattercarpet"
           }
          ],
          "scattergeo": [
           {
            "marker": {
             "colorbar": {
              "outlinewidth": 0,
              "ticks": ""
             }
            },
            "type": "scattergeo"
           }
          ],
          "scattergl": [
           {
            "marker": {
             "colorbar": {
              "outlinewidth": 0,
              "ticks": ""
             }
            },
            "type": "scattergl"
           }
          ],
          "scattermapbox": [
           {
            "marker": {
             "colorbar": {
              "outlinewidth": 0,
              "ticks": ""
             }
            },
            "type": "scattermapbox"
           }
          ],
          "scatterpolar": [
           {
            "marker": {
             "colorbar": {
              "outlinewidth": 0,
              "ticks": ""
             }
            },
            "type": "scatterpolar"
           }
          ],
          "scatterpolargl": [
           {
            "marker": {
             "colorbar": {
              "outlinewidth": 0,
              "ticks": ""
             }
            },
            "type": "scatterpolargl"
           }
          ],
          "scatterternary": [
           {
            "marker": {
             "colorbar": {
              "outlinewidth": 0,
              "ticks": ""
             }
            },
            "type": "scatterternary"
           }
          ],
          "surface": [
           {
            "colorbar": {
             "outlinewidth": 0,
             "ticks": ""
            },
            "colorscale": [
             [
              0,
              "#0d0887"
             ],
             [
              0.1111111111111111,
              "#46039f"
             ],
             [
              0.2222222222222222,
              "#7201a8"
             ],
             [
              0.3333333333333333,
              "#9c179e"
             ],
             [
              0.4444444444444444,
              "#bd3786"
             ],
             [
              0.5555555555555556,
              "#d8576b"
             ],
             [
              0.6666666666666666,
              "#ed7953"
             ],
             [
              0.7777777777777778,
              "#fb9f3a"
             ],
             [
              0.8888888888888888,
              "#fdca26"
             ],
             [
              1,
              "#f0f921"
             ]
            ],
            "type": "surface"
           }
          ],
          "table": [
           {
            "cells": {
             "fill": {
              "color": "#EBF0F8"
             },
             "line": {
              "color": "white"
             }
            },
            "header": {
             "fill": {
              "color": "#C8D4E3"
             },
             "line": {
              "color": "white"
             }
            },
            "type": "table"
           }
          ]
         },
         "layout": {
          "annotationdefaults": {
           "arrowcolor": "#2a3f5f",
           "arrowhead": 0,
           "arrowwidth": 1
          },
          "autotypenumbers": "strict",
          "coloraxis": {
           "colorbar": {
            "outlinewidth": 0,
            "ticks": ""
           }
          },
          "colorscale": {
           "diverging": [
            [
             0,
             "#8e0152"
            ],
            [
             0.1,
             "#c51b7d"
            ],
            [
             0.2,
             "#de77ae"
            ],
            [
             0.3,
             "#f1b6da"
            ],
            [
             0.4,
             "#fde0ef"
            ],
            [
             0.5,
             "#f7f7f7"
            ],
            [
             0.6,
             "#e6f5d0"
            ],
            [
             0.7,
             "#b8e186"
            ],
            [
             0.8,
             "#7fbc41"
            ],
            [
             0.9,
             "#4d9221"
            ],
            [
             1,
             "#276419"
            ]
           ],
           "sequential": [
            [
             0,
             "#0d0887"
            ],
            [
             0.1111111111111111,
             "#46039f"
            ],
            [
             0.2222222222222222,
             "#7201a8"
            ],
            [
             0.3333333333333333,
             "#9c179e"
            ],
            [
             0.4444444444444444,
             "#bd3786"
            ],
            [
             0.5555555555555556,
             "#d8576b"
            ],
            [
             0.6666666666666666,
             "#ed7953"
            ],
            [
             0.7777777777777778,
             "#fb9f3a"
            ],
            [
             0.8888888888888888,
             "#fdca26"
            ],
            [
             1,
             "#f0f921"
            ]
           ],
           "sequentialminus": [
            [
             0,
             "#0d0887"
            ],
            [
             0.1111111111111111,
             "#46039f"
            ],
            [
             0.2222222222222222,
             "#7201a8"
            ],
            [
             0.3333333333333333,
             "#9c179e"
            ],
            [
             0.4444444444444444,
             "#bd3786"
            ],
            [
             0.5555555555555556,
             "#d8576b"
            ],
            [
             0.6666666666666666,
             "#ed7953"
            ],
            [
             0.7777777777777778,
             "#fb9f3a"
            ],
            [
             0.8888888888888888,
             "#fdca26"
            ],
            [
             1,
             "#f0f921"
            ]
           ]
          },
          "colorway": [
           "#636efa",
           "#EF553B",
           "#00cc96",
           "#ab63fa",
           "#FFA15A",
           "#19d3f3",
           "#FF6692",
           "#B6E880",
           "#FF97FF",
           "#FECB52"
          ],
          "font": {
           "color": "#2a3f5f"
          },
          "geo": {
           "bgcolor": "white",
           "lakecolor": "white",
           "landcolor": "#E5ECF6",
           "showlakes": true,
           "showland": true,
           "subunitcolor": "white"
          },
          "hoverlabel": {
           "align": "left"
          },
          "hovermode": "closest",
          "mapbox": {
           "style": "light"
          },
          "paper_bgcolor": "white",
          "plot_bgcolor": "#E5ECF6",
          "polar": {
           "angularaxis": {
            "gridcolor": "white",
            "linecolor": "white",
            "ticks": ""
           },
           "bgcolor": "#E5ECF6",
           "radialaxis": {
            "gridcolor": "white",
            "linecolor": "white",
            "ticks": ""
           }
          },
          "scene": {
           "xaxis": {
            "backgroundcolor": "#E5ECF6",
            "gridcolor": "white",
            "gridwidth": 2,
            "linecolor": "white",
            "showbackground": true,
            "ticks": "",
            "zerolinecolor": "white"
           },
           "yaxis": {
            "backgroundcolor": "#E5ECF6",
            "gridcolor": "white",
            "gridwidth": 2,
            "linecolor": "white",
            "showbackground": true,
            "ticks": "",
            "zerolinecolor": "white"
           },
           "zaxis": {
            "backgroundcolor": "#E5ECF6",
            "gridcolor": "white",
            "gridwidth": 2,
            "linecolor": "white",
            "showbackground": true,
            "ticks": "",
            "zerolinecolor": "white"
           }
          },
          "shapedefaults": {
           "line": {
            "color": "#2a3f5f"
           }
          },
          "ternary": {
           "aaxis": {
            "gridcolor": "white",
            "linecolor": "white",
            "ticks": ""
           },
           "baxis": {
            "gridcolor": "white",
            "linecolor": "white",
            "ticks": ""
           },
           "bgcolor": "#E5ECF6",
           "caxis": {
            "gridcolor": "white",
            "linecolor": "white",
            "ticks": ""
           }
          },
          "title": {
           "x": 0.05
          },
          "xaxis": {
           "automargin": true,
           "gridcolor": "white",
           "linecolor": "white",
           "ticks": "",
           "title": {
            "standoff": 15
           },
           "zerolinecolor": "white",
           "zerolinewidth": 2
          },
          "yaxis": {
           "automargin": true,
           "gridcolor": "white",
           "linecolor": "white",
           "ticks": "",
           "title": {
            "standoff": 15
           },
           "zerolinecolor": "white",
           "zerolinewidth": 2
          }
         }
        },
        "title": {
         "text": "<b>Estimated performance (CBPE)</b> vs. <b>Realized performance</b>"
        },
        "xaxis": {
         "anchor": "y",
         "domain": [
          0,
          0.94
         ],
         "linecolor": "#3b0280",
         "matches": "x",
         "mirror": true,
         "showgrid": false,
         "title": {
          "text": "Time"
         },
         "zeroline": false
        },
        "yaxis": {
         "anchor": "x",
         "domain": [
          0,
          1
         ],
         "linecolor": "#3b0280",
         "mirror": true,
         "showgrid": false,
         "title": {
          "text": "<b>ROC AUC</b>"
         },
         "zeroline": false
        },
        "yaxis2": {
         "anchor": "x",
         "linecolor": "#3b0280",
         "mirror": true,
         "overlaying": "y",
         "showgrid": false,
         "side": "right",
         "title": {
          "text": "Comparison"
         },
         "zeroline": false
        }
       }
      }
     },
     "metadata": {},
     "output_type": "display_data"
    }
   ],
   "source": [
    "cbpe_results.filter(metrics='roc_auc').compare(realized_results.filter(metrics='roc_auc')).plot()"
   ]
  },
  {
   "cell_type": "code",
   "execution_count": 17,
   "metadata": {},
   "outputs": [],
   "source": [
    "fig = cbpe_results.filter(metrics='f1').compare(realized_results.filter(metrics='f1')).plot()\n",
    "fig.write_image('realized_f1_vs_estimated_f1.svg')"
   ]
  },
  {
   "cell_type": "code",
   "execution_count": 18,
   "metadata": {},
   "outputs": [
    {
     "data": {
      "application/vnd.plotly.v1+json": {
       "config": {
        "plotlyServerURL": "https://plot.ly"
       },
       "data": [
        {
         "hoverinfo": "skip",
         "line": {
          "color": "#3b0280",
          "dash": "dash",
          "shape": "hv",
          "width": 2
         },
         "mode": "lines",
         "name": "<b>Recall</b> (estimated Recall)",
         "showlegend": true,
         "type": "scatter",
         "x": [
          "2021-06-09T00:12:00",
          "2021-06-13T03:12:00",
          "2021-06-17T06:12:00",
          "2021-06-21T09:12:00",
          "2021-06-25T12:03:00"
         ],
         "xaxis": "x",
         "y": [
          0.8268012676175894,
          0.9173074472112009,
          0.8691272171705525,
          0.8986634779508587,
          0.8986634779508587
         ],
         "yaxis": "y"
        },
        {
         "customdata": [
          [
           "<b>Recall</b> (estimated Recall)",
           "<b style=\"color:#3b0280;line-height:60px\">Reference</b>",
           "[0:1963]",
           "From <b>Jun-09-2021</b> to <b>Jun-13-2021</b>",
           0.8268
          ],
          [
           "<b>Recall</b> (estimated Recall)",
           "<b style=\"color:#3b0280;line-height:60px\">Reference</b>",
           "[1964:3927]",
           "From <b>Jun-13-2021</b> to <b>Jun-17-2021</b>",
           0.9173
          ],
          [
           "<b>Recall</b> (estimated Recall)",
           "<b style=\"color:#3b0280;line-height:60px\">Reference</b>",
           "[3928:5891]",
           "From <b>Jun-17-2021</b> to <b>Jun-21-2021</b>",
           0.8691
          ],
          [
           "<b>Recall</b> (estimated Recall)",
           "<b style=\"color:#3b0280;line-height:60px\">Reference</b>",
           "[5892:7853]",
           "From <b>Jun-21-2021</b> to <b>Jun-25-2021</b>",
           0.8987
          ]
         ],
         "hovertemplate": "%{customdata[1]}<br />Chunk: <b>%{customdata[2]}</b> &nbsp; &nbsp; %{customdata[3]} <br />%{customdata[0]}: <b>%{customdata[4]}</b><br /><extra></extra>",
         "line": {
          "dash": "dash"
         },
         "marker": {
          "color": "#3b0280",
          "size": 5,
          "symbol": "circle"
         },
         "mode": "markers",
         "name": "<b>Recall</b> (estimated Recall)",
         "showlegend": false,
         "type": "scatter",
         "x": [
          "2021-06-11T01:42:00",
          "2021-06-15T04:42:00",
          "2021-06-19T07:42:00",
          "2021-06-23T10:37:30"
         ],
         "xaxis": "x",
         "y": [
          0.8268012676175894,
          0.9173074472112009,
          0.8691272171705525,
          0.8986634779508587,
          0.8986634779508587
         ],
         "yaxis": "y"
        },
        {
         "connectgaps": true,
         "hoverinfo": "skip",
         "line": {
          "color": "rgba(0,0,0,0)",
          "dash": "dash",
          "shape": "hv"
         },
         "mode": "lines",
         "name": "Confidence band",
         "showlegend": false,
         "type": "scatter",
         "x": [
          "2021-06-09T00:12:00",
          "2021-06-13T03:12:00",
          "2021-06-17T06:12:00",
          "2021-06-21T09:12:00",
          "2021-06-25T12:03:00"
         ],
         "xaxis": "x",
         "y": [
          0.8993312299011846,
          0.9898374094947961,
          0.9416571794541477,
          0.9712303981794171,
          0.9712303981794171
         ],
         "yaxis": "y"
        },
        {
         "connectgaps": true,
         "fill": "tonexty",
         "fillcolor": "rgba(0.23137254901960785, 0.00784313725490196, 0.5019607843137255, 0.2)",
         "hoverinfo": "skip",
         "line": {
          "color": "rgba(0,0,0,0)",
          "dash": "dash",
          "shape": "hv"
         },
         "mode": "lines",
         "name": "Confidence band",
         "showlegend": true,
         "type": "scatter",
         "x": [
          "2021-06-09T00:12:00",
          "2021-06-13T03:12:00",
          "2021-06-17T06:12:00",
          "2021-06-21T09:12:00",
          "2021-06-25T12:03:00"
         ],
         "xaxis": "x",
         "y": [
          0.7542713053339942,
          0.8447774849276057,
          0.7965972548869573,
          0.8260965577223002,
          0.8260965577223002
         ],
         "yaxis": "y"
        },
        {
         "hoverinfo": "skip",
         "line": {
          "color": "#00c8e5",
          "shape": "hv",
          "width": 2
         },
         "mode": "lines",
         "name": "<b>Recall</b> (realized Recall)",
         "showlegend": true,
         "type": "scatter",
         "x": [
          "2021-06-09T00:12:00",
          "2021-06-13T03:12:00",
          "2021-06-17T06:12:00",
          "2021-06-21T09:12:00",
          "2021-06-25T12:03:00"
         ],
         "xaxis": "x",
         "y": [
          0.8448275862068966,
          0.8859315589353612,
          0.9310344827586207,
          0.8805970149253731,
          0.8805970149253731
         ],
         "yaxis": "y"
        },
        {
         "customdata": [
          [
           "<b>Recall</b>",
           "<b style=\"color:#00c8e5;line-height:60px\">Reference</b>",
           "[0:1963]",
           "From <b>Jun-09-2021</b> to <b>Jun-13-2021</b>",
           0.8448
          ],
          [
           "<b>Recall</b>",
           "<b style=\"color:#00c8e5;line-height:60px\">Reference</b>",
           "[1964:3927]",
           "From <b>Jun-13-2021</b> to <b>Jun-17-2021</b>",
           0.8859
          ],
          [
           "<b>Recall</b>",
           "<b style=\"color:#00c8e5;line-height:60px\">Reference</b>",
           "[3928:5891]",
           "From <b>Jun-17-2021</b> to <b>Jun-21-2021</b>",
           0.931
          ],
          [
           "<b>Recall</b>",
           "<b style=\"color:#00c8e5;line-height:60px\">Reference</b>",
           "[5892:7853]",
           "From <b>Jun-21-2021</b> to <b>Jun-25-2021</b>",
           0.8806
          ]
         ],
         "hovertemplate": "%{customdata[1]}<br />Chunk: <b>%{customdata[2]}</b> &nbsp; &nbsp; %{customdata[3]} <br />%{customdata[0]}: <b>%{customdata[4]}</b><br /><extra></extra>",
         "marker": {
          "color": "#00c8e5",
          "size": 5,
          "symbol": "circle"
         },
         "mode": "markers",
         "name": "<b>Recall</b> (realized Recall)",
         "showlegend": false,
         "type": "scatter",
         "x": [
          "2021-06-11T01:42:00",
          "2021-06-15T04:42:00",
          "2021-06-19T07:42:00",
          "2021-06-23T10:37:30"
         ],
         "xaxis": "x",
         "y": [
          0.8448275862068966,
          0.8859315589353612,
          0.9310344827586207,
          0.8805970149253731,
          0.8805970149253731
         ],
         "yaxis": "y"
        },
        {
         "hoverinfo": "skip",
         "line": {
          "color": "#3b0280",
          "dash": "dash",
          "shape": "hv",
          "width": 2
         },
         "mode": "lines",
         "name": "<b>Recall</b> (estimated Recall)",
         "showlegend": false,
         "type": "scatter",
         "x": [
          "2021-06-25T12:06:00",
          "2021-06-29T15:06:00",
          "2021-07-03T18:06:00",
          "2021-07-07T21:06:00",
          "2021-07-11T23:57:00"
         ],
         "xaxis": "x",
         "y": [
          0.9133376398631308,
          0.9101163961620662,
          0.9086370716063225,
          0.8544855395690506,
          0.8544855395690506
         ],
         "yaxis": "y"
        },
        {
         "customdata": [
          [
           "<b>Recall</b> (estimated Recall)",
           "<b style=\"color:#3b0280;line-height:60px\">Analysis</b>",
           "",
           "[0:1963]",
           "From <b>Jun-25-2021</b> to <b>Jun-29-2021</b>",
           0.9133
          ],
          [
           "<b>Recall</b> (estimated Recall)",
           "<b style=\"color:#3b0280;line-height:60px\">Analysis</b>",
           "",
           "[1964:3927]",
           "From <b>Jun-29-2021</b> to <b>Jul-03-2021</b>",
           0.9101
          ],
          [
           "<b>Recall</b> (estimated Recall)",
           "<b style=\"color:#3b0280;line-height:60px\">Analysis</b>",
           "",
           "[3928:5891]",
           "From <b>Jul-03-2021</b> to <b>Jul-07-2021</b>",
           0.9086
          ],
          [
           "<b>Recall</b> (estimated Recall)",
           "<b style=\"color:#3b0280;line-height:60px\">Analysis</b>",
           "",
           "[5892:7853]",
           "From <b>Jul-07-2021</b> to <b>Jul-11-2021</b>",
           0.8545
          ]
         ],
         "hovertemplate": "%{customdata[1]} &nbsp; &nbsp; %{customdata[2]} <br />Chunk: <b>%{customdata[3]}</b> &nbsp; &nbsp; %{customdata[4]} <br />%{customdata[0]}: <b>%{customdata[5]}</b><br /><extra></extra>",
         "line": {
          "dash": "dash"
         },
         "marker": {
          "color": "#3b0280",
          "size": 5,
          "symbol": "circle"
         },
         "mode": "markers",
         "name": "<b>Recall</b> (estimated Recall)",
         "showlegend": false,
         "type": "scatter",
         "x": [
          "2021-06-27T13:36:00",
          "2021-07-01T16:36:00",
          "2021-07-05T19:36:00",
          "2021-07-09T22:31:30"
         ],
         "xaxis": "x",
         "y": [
          0.9133376398631308,
          0.9101163961620662,
          0.9086370716063225,
          0.8544855395690506,
          0.8544855395690506
         ],
         "yaxis": "y"
        },
        {
         "connectgaps": true,
         "hoverinfo": "skip",
         "line": {
          "color": "rgba(0,0,0,0)",
          "shape": "hv"
         },
         "mode": "lines",
         "name": "Confidence band",
         "showlegend": false,
         "type": "scatter",
         "x": [
          "2021-06-25T12:06:00",
          "2021-06-29T15:06:00",
          "2021-07-03T18:06:00",
          "2021-07-07T21:06:00",
          "2021-07-11T23:57:00"
         ],
         "xaxis": "x",
         "y": [
          0.985867602146726,
          0.9826463584456614,
          0.9811670338899177,
          0.9270524597976091,
          0.9270524597976091
         ],
         "yaxis": "y"
        },
        {
         "connectgaps": true,
         "fill": "tonexty",
         "fillcolor": "rgba(0.23137254901960785, 0.00784313725490196, 0.5019607843137255, 0.2)",
         "hoverinfo": "skip",
         "line": {
          "color": "rgba(0,0,0,0)",
          "shape": "hv"
         },
         "mode": "lines",
         "name": "Confidence band",
         "showlegend": false,
         "type": "scatter",
         "x": [
          "2021-06-25T12:06:00",
          "2021-06-29T15:06:00",
          "2021-07-03T18:06:00",
          "2021-07-07T21:06:00",
          "2021-07-11T23:57:00"
         ],
         "xaxis": "x",
         "y": [
          0.8408076775795356,
          0.837586433878471,
          0.8361071093227272,
          0.7819186193404921,
          0.7819186193404921
         ],
         "yaxis": "y"
        },
        {
         "hoverinfo": "skip",
         "line": {
          "color": "#00c8e5",
          "shape": "hv",
          "width": 2
         },
         "mode": "lines",
         "name": "<b>Recall</b> (realized Recall)",
         "showlegend": false,
         "type": "scatter",
         "x": [
          "2021-06-25T12:06:00",
          "2021-06-29T15:06:00",
          "2021-07-03T18:06:00",
          "2021-07-07T21:06:00",
          "2021-07-11T23:57:00"
         ],
         "xaxis": "x",
         "y": [
          0.9605911330049262,
          0.967741935483871,
          0.8405797101449275,
          0.918918918918919,
          0.918918918918919
         ],
         "yaxis": "y"
        },
        {
         "customdata": [
          [
           "<b>Recall</b>",
           "<b style=\"color:#00c8e5;line-height:60px\">Analysis</b>",
           "",
           "[0:1963]",
           "From <b>Jun-25-2021</b> to <b>Jun-29-2021</b>",
           0.9606
          ],
          [
           "<b>Recall</b>",
           "<b style=\"color:#00c8e5;line-height:60px\">Analysis</b>",
           "",
           "[1964:3927]",
           "From <b>Jun-29-2021</b> to <b>Jul-03-2021</b>",
           0.9677
          ],
          [
           "<b>Recall</b>",
           "<b style=\"color:#00c8e5;line-height:60px\">Analysis</b>",
           "",
           "[3928:5891]",
           "From <b>Jul-03-2021</b> to <b>Jul-07-2021</b>",
           0.8406
          ],
          [
           "<b>Recall</b>",
           "<b style=\"color:#00c8e5;line-height:60px\">Analysis</b>",
           "",
           "[5892:7853]",
           "From <b>Jul-07-2021</b> to <b>Jul-11-2021</b>",
           0.9189
          ]
         ],
         "hovertemplate": "%{customdata[1]} &nbsp; &nbsp; %{customdata[2]} <br />Chunk: <b>%{customdata[3]}</b> &nbsp; &nbsp; %{customdata[4]} <br />%{customdata[0]}: <b>%{customdata[5]}</b><br /><extra></extra>",
         "marker": {
          "color": "#00c8e5",
          "size": 5,
          "symbol": "circle"
         },
         "mode": "markers",
         "name": "<b>Recall</b> (realized Recall)",
         "showlegend": false,
         "type": "scatter",
         "x": [
          "2021-06-27T13:36:00",
          "2021-07-01T16:36:00",
          "2021-07-05T19:36:00",
          "2021-07-09T22:31:30"
         ],
         "xaxis": "x",
         "y": [
          0.9605911330049262,
          0.967741935483871,
          0.8405797101449275,
          0.918918918918919,
          0.918918918918919
         ],
         "yaxis": "y"
        },
        {
         "hoverinfo": "skip",
         "legendgroup": "alert",
         "marker": {
          "color": "#DD4040",
          "size": 8,
          "symbol": "diamond"
         },
         "mode": "markers",
         "name": "Alert",
         "showlegend": true,
         "type": "scatter",
         "x": [],
         "xaxis": "x",
         "y": [],
         "yaxis": "y"
        },
        {
         "hoverinfo": "skip",
         "legendgroup": "alert",
         "marker": {
          "color": "#DD4040",
          "size": 8,
          "symbol": "diamond"
         },
         "mode": "markers",
         "name": "Alert",
         "showlegend": false,
         "type": "scatter",
         "x": [],
         "xaxis": "x",
         "y": [],
         "yaxis": "y"
        }
       ],
       "layout": {
        "annotations": [
         {
          "font": {
           "size": 16
          },
          "showarrow": false,
          "text": "<b>Recall</b> (estimated Recall) vs. <b>Recall</b> (realized Recall)",
          "x": 0.47,
          "xanchor": "center",
          "xref": "paper",
          "y": 1,
          "yanchor": "bottom",
          "yref": "paper"
         },
         {
          "showarrow": false,
          "text": "Reference",
          "x": "2021-06-15T04:42:00",
          "xshift": 10,
          "y": 1,
          "yref": "paper"
         },
         {
          "showarrow": false,
          "text": "Analysis",
          "x": "2021-07-01T16:36:00",
          "xshift": 15,
          "y": 1,
          "yref": "paper"
         }
        ],
        "height": 500,
        "hoverlabel": {
         "bgcolor": "white",
         "font": {
          "size": 14
         }
        },
        "legend": {
         "itemclick": false,
         "itemdoubleclick": false,
         "traceorder": "grouped"
        },
        "paper_bgcolor": "rgba(255,255,255,1)",
        "plot_bgcolor": "rgba(255,255,255,1)",
        "shapes": [
         {
          "layer": "below",
          "line": {
           "color": "#666666",
           "width": 1
          },
          "type": "line",
          "x0": "2021-06-25T12:06:00",
          "x1": "2021-06-25T12:06:00",
          "xref": "x",
          "y0": 0,
          "y1": 1,
          "yref": "y domain"
         }
        ],
        "template": {
         "data": {
          "bar": [
           {
            "error_x": {
             "color": "#2a3f5f"
            },
            "error_y": {
             "color": "#2a3f5f"
            },
            "marker": {
             "line": {
              "color": "#E5ECF6",
              "width": 0.5
             },
             "pattern": {
              "fillmode": "overlay",
              "size": 10,
              "solidity": 0.2
             }
            },
            "type": "bar"
           }
          ],
          "barpolar": [
           {
            "marker": {
             "line": {
              "color": "#E5ECF6",
              "width": 0.5
             },
             "pattern": {
              "fillmode": "overlay",
              "size": 10,
              "solidity": 0.2
             }
            },
            "type": "barpolar"
           }
          ],
          "carpet": [
           {
            "aaxis": {
             "endlinecolor": "#2a3f5f",
             "gridcolor": "white",
             "linecolor": "white",
             "minorgridcolor": "white",
             "startlinecolor": "#2a3f5f"
            },
            "baxis": {
             "endlinecolor": "#2a3f5f",
             "gridcolor": "white",
             "linecolor": "white",
             "minorgridcolor": "white",
             "startlinecolor": "#2a3f5f"
            },
            "type": "carpet"
           }
          ],
          "choropleth": [
           {
            "colorbar": {
             "outlinewidth": 0,
             "ticks": ""
            },
            "type": "choropleth"
           }
          ],
          "contour": [
           {
            "colorbar": {
             "outlinewidth": 0,
             "ticks": ""
            },
            "colorscale": [
             [
              0,
              "#0d0887"
             ],
             [
              0.1111111111111111,
              "#46039f"
             ],
             [
              0.2222222222222222,
              "#7201a8"
             ],
             [
              0.3333333333333333,
              "#9c179e"
             ],
             [
              0.4444444444444444,
              "#bd3786"
             ],
             [
              0.5555555555555556,
              "#d8576b"
             ],
             [
              0.6666666666666666,
              "#ed7953"
             ],
             [
              0.7777777777777778,
              "#fb9f3a"
             ],
             [
              0.8888888888888888,
              "#fdca26"
             ],
             [
              1,
              "#f0f921"
             ]
            ],
            "type": "contour"
           }
          ],
          "contourcarpet": [
           {
            "colorbar": {
             "outlinewidth": 0,
             "ticks": ""
            },
            "type": "contourcarpet"
           }
          ],
          "heatmap": [
           {
            "colorbar": {
             "outlinewidth": 0,
             "ticks": ""
            },
            "colorscale": [
             [
              0,
              "#0d0887"
             ],
             [
              0.1111111111111111,
              "#46039f"
             ],
             [
              0.2222222222222222,
              "#7201a8"
             ],
             [
              0.3333333333333333,
              "#9c179e"
             ],
             [
              0.4444444444444444,
              "#bd3786"
             ],
             [
              0.5555555555555556,
              "#d8576b"
             ],
             [
              0.6666666666666666,
              "#ed7953"
             ],
             [
              0.7777777777777778,
              "#fb9f3a"
             ],
             [
              0.8888888888888888,
              "#fdca26"
             ],
             [
              1,
              "#f0f921"
             ]
            ],
            "type": "heatmap"
           }
          ],
          "heatmapgl": [
           {
            "colorbar": {
             "outlinewidth": 0,
             "ticks": ""
            },
            "colorscale": [
             [
              0,
              "#0d0887"
             ],
             [
              0.1111111111111111,
              "#46039f"
             ],
             [
              0.2222222222222222,
              "#7201a8"
             ],
             [
              0.3333333333333333,
              "#9c179e"
             ],
             [
              0.4444444444444444,
              "#bd3786"
             ],
             [
              0.5555555555555556,
              "#d8576b"
             ],
             [
              0.6666666666666666,
              "#ed7953"
             ],
             [
              0.7777777777777778,
              "#fb9f3a"
             ],
             [
              0.8888888888888888,
              "#fdca26"
             ],
             [
              1,
              "#f0f921"
             ]
            ],
            "type": "heatmapgl"
           }
          ],
          "histogram": [
           {
            "marker": {
             "pattern": {
              "fillmode": "overlay",
              "size": 10,
              "solidity": 0.2
             }
            },
            "type": "histogram"
           }
          ],
          "histogram2d": [
           {
            "colorbar": {
             "outlinewidth": 0,
             "ticks": ""
            },
            "colorscale": [
             [
              0,
              "#0d0887"
             ],
             [
              0.1111111111111111,
              "#46039f"
             ],
             [
              0.2222222222222222,
              "#7201a8"
             ],
             [
              0.3333333333333333,
              "#9c179e"
             ],
             [
              0.4444444444444444,
              "#bd3786"
             ],
             [
              0.5555555555555556,
              "#d8576b"
             ],
             [
              0.6666666666666666,
              "#ed7953"
             ],
             [
              0.7777777777777778,
              "#fb9f3a"
             ],
             [
              0.8888888888888888,
              "#fdca26"
             ],
             [
              1,
              "#f0f921"
             ]
            ],
            "type": "histogram2d"
           }
          ],
          "histogram2dcontour": [
           {
            "colorbar": {
             "outlinewidth": 0,
             "ticks": ""
            },
            "colorscale": [
             [
              0,
              "#0d0887"
             ],
             [
              0.1111111111111111,
              "#46039f"
             ],
             [
              0.2222222222222222,
              "#7201a8"
             ],
             [
              0.3333333333333333,
              "#9c179e"
             ],
             [
              0.4444444444444444,
              "#bd3786"
             ],
             [
              0.5555555555555556,
              "#d8576b"
             ],
             [
              0.6666666666666666,
              "#ed7953"
             ],
             [
              0.7777777777777778,
              "#fb9f3a"
             ],
             [
              0.8888888888888888,
              "#fdca26"
             ],
             [
              1,
              "#f0f921"
             ]
            ],
            "type": "histogram2dcontour"
           }
          ],
          "mesh3d": [
           {
            "colorbar": {
             "outlinewidth": 0,
             "ticks": ""
            },
            "type": "mesh3d"
           }
          ],
          "parcoords": [
           {
            "line": {
             "colorbar": {
              "outlinewidth": 0,
              "ticks": ""
             }
            },
            "type": "parcoords"
           }
          ],
          "pie": [
           {
            "automargin": true,
            "type": "pie"
           }
          ],
          "scatter": [
           {
            "fillpattern": {
             "fillmode": "overlay",
             "size": 10,
             "solidity": 0.2
            },
            "type": "scatter"
           }
          ],
          "scatter3d": [
           {
            "line": {
             "colorbar": {
              "outlinewidth": 0,
              "ticks": ""
             }
            },
            "marker": {
             "colorbar": {
              "outlinewidth": 0,
              "ticks": ""
             }
            },
            "type": "scatter3d"
           }
          ],
          "scattercarpet": [
           {
            "marker": {
             "colorbar": {
              "outlinewidth": 0,
              "ticks": ""
             }
            },
            "type": "scattercarpet"
           }
          ],
          "scattergeo": [
           {
            "marker": {
             "colorbar": {
              "outlinewidth": 0,
              "ticks": ""
             }
            },
            "type": "scattergeo"
           }
          ],
          "scattergl": [
           {
            "marker": {
             "colorbar": {
              "outlinewidth": 0,
              "ticks": ""
             }
            },
            "type": "scattergl"
           }
          ],
          "scattermapbox": [
           {
            "marker": {
             "colorbar": {
              "outlinewidth": 0,
              "ticks": ""
             }
            },
            "type": "scattermapbox"
           }
          ],
          "scatterpolar": [
           {
            "marker": {
             "colorbar": {
              "outlinewidth": 0,
              "ticks": ""
             }
            },
            "type": "scatterpolar"
           }
          ],
          "scatterpolargl": [
           {
            "marker": {
             "colorbar": {
              "outlinewidth": 0,
              "ticks": ""
             }
            },
            "type": "scatterpolargl"
           }
          ],
          "scatterternary": [
           {
            "marker": {
             "colorbar": {
              "outlinewidth": 0,
              "ticks": ""
             }
            },
            "type": "scatterternary"
           }
          ],
          "surface": [
           {
            "colorbar": {
             "outlinewidth": 0,
             "ticks": ""
            },
            "colorscale": [
             [
              0,
              "#0d0887"
             ],
             [
              0.1111111111111111,
              "#46039f"
             ],
             [
              0.2222222222222222,
              "#7201a8"
             ],
             [
              0.3333333333333333,
              "#9c179e"
             ],
             [
              0.4444444444444444,
              "#bd3786"
             ],
             [
              0.5555555555555556,
              "#d8576b"
             ],
             [
              0.6666666666666666,
              "#ed7953"
             ],
             [
              0.7777777777777778,
              "#fb9f3a"
             ],
             [
              0.8888888888888888,
              "#fdca26"
             ],
             [
              1,
              "#f0f921"
             ]
            ],
            "type": "surface"
           }
          ],
          "table": [
           {
            "cells": {
             "fill": {
              "color": "#EBF0F8"
             },
             "line": {
              "color": "white"
             }
            },
            "header": {
             "fill": {
              "color": "#C8D4E3"
             },
             "line": {
              "color": "white"
             }
            },
            "type": "table"
           }
          ]
         },
         "layout": {
          "annotationdefaults": {
           "arrowcolor": "#2a3f5f",
           "arrowhead": 0,
           "arrowwidth": 1
          },
          "autotypenumbers": "strict",
          "coloraxis": {
           "colorbar": {
            "outlinewidth": 0,
            "ticks": ""
           }
          },
          "colorscale": {
           "diverging": [
            [
             0,
             "#8e0152"
            ],
            [
             0.1,
             "#c51b7d"
            ],
            [
             0.2,
             "#de77ae"
            ],
            [
             0.3,
             "#f1b6da"
            ],
            [
             0.4,
             "#fde0ef"
            ],
            [
             0.5,
             "#f7f7f7"
            ],
            [
             0.6,
             "#e6f5d0"
            ],
            [
             0.7,
             "#b8e186"
            ],
            [
             0.8,
             "#7fbc41"
            ],
            [
             0.9,
             "#4d9221"
            ],
            [
             1,
             "#276419"
            ]
           ],
           "sequential": [
            [
             0,
             "#0d0887"
            ],
            [
             0.1111111111111111,
             "#46039f"
            ],
            [
             0.2222222222222222,
             "#7201a8"
            ],
            [
             0.3333333333333333,
             "#9c179e"
            ],
            [
             0.4444444444444444,
             "#bd3786"
            ],
            [
             0.5555555555555556,
             "#d8576b"
            ],
            [
             0.6666666666666666,
             "#ed7953"
            ],
            [
             0.7777777777777778,
             "#fb9f3a"
            ],
            [
             0.8888888888888888,
             "#fdca26"
            ],
            [
             1,
             "#f0f921"
            ]
           ],
           "sequentialminus": [
            [
             0,
             "#0d0887"
            ],
            [
             0.1111111111111111,
             "#46039f"
            ],
            [
             0.2222222222222222,
             "#7201a8"
            ],
            [
             0.3333333333333333,
             "#9c179e"
            ],
            [
             0.4444444444444444,
             "#bd3786"
            ],
            [
             0.5555555555555556,
             "#d8576b"
            ],
            [
             0.6666666666666666,
             "#ed7953"
            ],
            [
             0.7777777777777778,
             "#fb9f3a"
            ],
            [
             0.8888888888888888,
             "#fdca26"
            ],
            [
             1,
             "#f0f921"
            ]
           ]
          },
          "colorway": [
           "#636efa",
           "#EF553B",
           "#00cc96",
           "#ab63fa",
           "#FFA15A",
           "#19d3f3",
           "#FF6692",
           "#B6E880",
           "#FF97FF",
           "#FECB52"
          ],
          "font": {
           "color": "#2a3f5f"
          },
          "geo": {
           "bgcolor": "white",
           "lakecolor": "white",
           "landcolor": "#E5ECF6",
           "showlakes": true,
           "showland": true,
           "subunitcolor": "white"
          },
          "hoverlabel": {
           "align": "left"
          },
          "hovermode": "closest",
          "mapbox": {
           "style": "light"
          },
          "paper_bgcolor": "white",
          "plot_bgcolor": "#E5ECF6",
          "polar": {
           "angularaxis": {
            "gridcolor": "white",
            "linecolor": "white",
            "ticks": ""
           },
           "bgcolor": "#E5ECF6",
           "radialaxis": {
            "gridcolor": "white",
            "linecolor": "white",
            "ticks": ""
           }
          },
          "scene": {
           "xaxis": {
            "backgroundcolor": "#E5ECF6",
            "gridcolor": "white",
            "gridwidth": 2,
            "linecolor": "white",
            "showbackground": true,
            "ticks": "",
            "zerolinecolor": "white"
           },
           "yaxis": {
            "backgroundcolor": "#E5ECF6",
            "gridcolor": "white",
            "gridwidth": 2,
            "linecolor": "white",
            "showbackground": true,
            "ticks": "",
            "zerolinecolor": "white"
           },
           "zaxis": {
            "backgroundcolor": "#E5ECF6",
            "gridcolor": "white",
            "gridwidth": 2,
            "linecolor": "white",
            "showbackground": true,
            "ticks": "",
            "zerolinecolor": "white"
           }
          },
          "shapedefaults": {
           "line": {
            "color": "#2a3f5f"
           }
          },
          "ternary": {
           "aaxis": {
            "gridcolor": "white",
            "linecolor": "white",
            "ticks": ""
           },
           "baxis": {
            "gridcolor": "white",
            "linecolor": "white",
            "ticks": ""
           },
           "bgcolor": "#E5ECF6",
           "caxis": {
            "gridcolor": "white",
            "linecolor": "white",
            "ticks": ""
           }
          },
          "title": {
           "x": 0.05
          },
          "xaxis": {
           "automargin": true,
           "gridcolor": "white",
           "linecolor": "white",
           "ticks": "",
           "title": {
            "standoff": 15
           },
           "zerolinecolor": "white",
           "zerolinewidth": 2
          },
          "yaxis": {
           "automargin": true,
           "gridcolor": "white",
           "linecolor": "white",
           "ticks": "",
           "title": {
            "standoff": 15
           },
           "zerolinecolor": "white",
           "zerolinewidth": 2
          }
         }
        },
        "title": {
         "text": "<b>Estimated performance (CBPE)</b> vs. <b>Realized performance</b>"
        },
        "xaxis": {
         "anchor": "y",
         "domain": [
          0,
          0.94
         ],
         "linecolor": "#3b0280",
         "matches": "x",
         "mirror": true,
         "showgrid": false,
         "title": {
          "text": "Time"
         },
         "zeroline": false
        },
        "yaxis": {
         "anchor": "x",
         "domain": [
          0,
          1
         ],
         "linecolor": "#3b0280",
         "mirror": true,
         "showgrid": false,
         "title": {
          "text": "<b>Recall</b>"
         },
         "zeroline": false
        },
        "yaxis2": {
         "anchor": "x",
         "linecolor": "#3b0280",
         "mirror": true,
         "overlaying": "y",
         "showgrid": false,
         "side": "right",
         "title": {
          "text": "Comparison"
         },
         "zeroline": false
        }
       }
      }
     },
     "metadata": {},
     "output_type": "display_data"
    }
   ],
   "source": [
    "cbpe_results.filter(metrics='recall').compare(realized_results.filter(metrics='recall')).plot()"
   ]
  },
  {
   "cell_type": "code",
   "execution_count": 21,
   "metadata": {},
   "outputs": [
    {
     "data": {
      "application/vnd.plotly.v1+json": {
       "config": {
        "plotlyServerURL": "https://plot.ly"
       },
       "data": [
        {
         "hoverinfo": "skip",
         "line": {
          "color": "#00c8e5",
          "shape": "hv",
          "width": 2
         },
         "mode": "lines",
         "name": "<b>F1</b> (estimated F1)",
         "showlegend": true,
         "type": "scatter",
         "x": [
          "2021-06-09T00:12:00",
          "2021-06-13T03:12:00",
          "2021-06-17T06:12:00",
          "2021-06-21T09:12:00",
          "2021-06-25T12:03:00"
         ],
         "xaxis": "x",
         "y": [
          0.7281225890011728,
          0.8831774901631053,
          0.9063527765910915,
          0.8709659758598676,
          0.8709659758598676
         ],
         "yaxis": "y"
        },
        {
         "customdata": [
          [
           "<b>F1</b> (estimated F1)",
           "<b style=\"color:#00c8e5;line-height:60px\">Reference</b>",
           "[0:1963]",
           "From <b>Jun-09-2021</b> to <b>Jun-13-2021</b>",
           0.7281
          ],
          [
           "<b>F1</b> (estimated F1)",
           "<b style=\"color:#00c8e5;line-height:60px\">Reference</b>",
           "[1964:3927]",
           "From <b>Jun-13-2021</b> to <b>Jun-17-2021</b>",
           0.8832
          ],
          [
           "<b>F1</b> (estimated F1)",
           "<b style=\"color:#00c8e5;line-height:60px\">Reference</b>",
           "[3928:5891]",
           "From <b>Jun-17-2021</b> to <b>Jun-21-2021</b>",
           0.9064
          ],
          [
           "<b>F1</b> (estimated F1)",
           "<b style=\"color:#00c8e5;line-height:60px\">Reference</b>",
           "[5892:7853]",
           "From <b>Jun-21-2021</b> to <b>Jun-25-2021</b>",
           0.871
          ]
         ],
         "hovertemplate": "%{customdata[1]}<br />Chunk: <b>%{customdata[2]}</b> &nbsp; &nbsp; %{customdata[3]} <br />%{customdata[0]}: <b>%{customdata[4]}</b><br /><extra></extra>",
         "marker": {
          "color": "#00c8e5",
          "size": 5,
          "symbol": "circle"
         },
         "mode": "markers",
         "name": "<b>F1</b> (estimated F1)",
         "showlegend": false,
         "type": "scatter",
         "x": [
          "2021-06-11T01:42:00",
          "2021-06-15T04:42:00",
          "2021-06-19T07:42:00",
          "2021-06-23T10:37:30"
         ],
         "xaxis": "x",
         "y": [
          0.7281225890011728,
          0.8831774901631053,
          0.9063527765910915,
          0.8709659758598676,
          0.8709659758598676
         ],
         "yaxis": "y"
        },
        {
         "connectgaps": true,
         "hoverinfo": "skip",
         "line": {
          "color": "rgba(0,0,0,0)",
          "shape": "hv"
         },
         "mode": "lines",
         "name": "Confidence band",
         "showlegend": false,
         "type": "scatter",
         "x": [
          "2021-06-09T00:12:00",
          "2021-06-13T03:12:00",
          "2021-06-17T06:12:00",
          "2021-06-21T09:12:00",
          "2021-06-25T12:03:00"
         ],
         "xaxis": "x",
         "y": [
          0.8331236125179952,
          0.9881785136799277,
          1,
          0.9760205030864126,
          0.9760205030864126
         ],
         "yaxis": "y"
        },
        {
         "connectgaps": true,
         "fill": "tonexty",
         "fillcolor": "rgba(0.0, 0.7843137254901961, 0.8980392156862745, 0.2)",
         "hoverinfo": "skip",
         "line": {
          "color": "rgba(0,0,0,0)",
          "shape": "hv"
         },
         "mode": "lines",
         "name": "Confidence band",
         "showlegend": true,
         "type": "scatter",
         "x": [
          "2021-06-09T00:12:00",
          "2021-06-13T03:12:00",
          "2021-06-17T06:12:00",
          "2021-06-21T09:12:00",
          "2021-06-25T12:03:00"
         ],
         "xaxis": "x",
         "y": [
          0.6231215654843504,
          0.7781764666462829,
          0.8013517530742691,
          0.7659114486333225,
          0.7659114486333225
         ],
         "yaxis": "y"
        },
        {
         "hoverinfo": "skip",
         "line": {
          "color": "#3b0280",
          "shape": "hv",
          "width": 2
         },
         "mode": "lines",
         "name": "<b>F1</b> (realized F1)",
         "showlegend": true,
         "type": "scatter",
         "x": [
          "2021-06-09T00:12:00",
          "2021-06-13T03:12:00",
          "2021-06-17T06:12:00",
          "2021-06-21T09:12:00",
          "2021-06-25T12:03:00"
         ],
         "xaxis": "x",
         "y": [
          0.6925795053003534,
          0.8759398496240601,
          0.9310344827586207,
          0.8784119106699751,
          0.8784119106699751
         ],
         "yaxis": "y"
        },
        {
         "customdata": [
          [
           "<b>F1</b>",
           "<b style=\"color:#3b0280;line-height:60px\">Reference</b>",
           "[0:1963]",
           "From <b>Jun-09-2021</b> to <b>Jun-13-2021</b>",
           0.6926
          ],
          [
           "<b>F1</b>",
           "<b style=\"color:#3b0280;line-height:60px\">Reference</b>",
           "[1964:3927]",
           "From <b>Jun-13-2021</b> to <b>Jun-17-2021</b>",
           0.8759
          ],
          [
           "<b>F1</b>",
           "<b style=\"color:#3b0280;line-height:60px\">Reference</b>",
           "[3928:5891]",
           "From <b>Jun-17-2021</b> to <b>Jun-21-2021</b>",
           0.931
          ],
          [
           "<b>F1</b>",
           "<b style=\"color:#3b0280;line-height:60px\">Reference</b>",
           "[5892:7853]",
           "From <b>Jun-21-2021</b> to <b>Jun-25-2021</b>",
           0.8784
          ]
         ],
         "hovertemplate": "%{customdata[1]}<br />Chunk: <b>%{customdata[2]}</b> &nbsp; &nbsp; %{customdata[3]} <br />%{customdata[0]}: <b>%{customdata[4]}</b><br /><extra></extra>",
         "marker": {
          "color": "#3b0280",
          "size": 5,
          "symbol": "circle"
         },
         "mode": "markers",
         "name": "<b>F1</b> (realized F1)",
         "showlegend": false,
         "type": "scatter",
         "x": [
          "2021-06-11T01:42:00",
          "2021-06-15T04:42:00",
          "2021-06-19T07:42:00",
          "2021-06-23T10:37:30"
         ],
         "xaxis": "x",
         "y": [
          0.6925795053003534,
          0.8759398496240601,
          0.9310344827586207,
          0.8784119106699751,
          0.8784119106699751
         ],
         "yaxis": "y"
        },
        {
         "hoverinfo": "skip",
         "line": {
          "color": "#00c8e5",
          "shape": "hv",
          "width": 2
         },
         "mode": "lines",
         "name": "<b>F1</b> (estimated F1)",
         "showlegend": false,
         "type": "scatter",
         "x": [
          "2021-06-25T12:06:00",
          "2021-06-29T15:06:00",
          "2021-07-03T18:06:00",
          "2021-07-07T21:06:00",
          "2021-07-11T23:57:00"
         ],
         "xaxis": "x",
         "y": [
          0.8574148114241198,
          0.8432295435015648,
          0.8453030090576895,
          0.8710179749613156,
          0.8710179749613156
         ],
         "yaxis": "y"
        },
        {
         "customdata": [
          [
           "<b>F1</b> (estimated F1)",
           "<b style=\"color:#00c8e5;line-height:60px\">Analysis</b>",
           "",
           "[0:1963]",
           "From <b>Jun-25-2021</b> to <b>Jun-29-2021</b>",
           0.8574
          ],
          [
           "<b>F1</b> (estimated F1)",
           "<b style=\"color:#00c8e5;line-height:60px\">Analysis</b>",
           "",
           "[1964:3927]",
           "From <b>Jun-29-2021</b> to <b>Jul-03-2021</b>",
           0.8432
          ],
          [
           "<b>F1</b> (estimated F1)",
           "<b style=\"color:#00c8e5;line-height:60px\">Analysis</b>",
           "",
           "[3928:5891]",
           "From <b>Jul-03-2021</b> to <b>Jul-07-2021</b>",
           0.8453
          ],
          [
           "<b>F1</b> (estimated F1)",
           "<b style=\"color:#00c8e5;line-height:60px\">Analysis</b>",
           "",
           "[5892:7853]",
           "From <b>Jul-07-2021</b> to <b>Jul-11-2021</b>",
           0.871
          ]
         ],
         "hovertemplate": "%{customdata[1]} &nbsp; &nbsp; %{customdata[2]} <br />Chunk: <b>%{customdata[3]}</b> &nbsp; &nbsp; %{customdata[4]} <br />%{customdata[0]}: <b>%{customdata[5]}</b><br /><extra></extra>",
         "marker": {
          "color": "#00c8e5",
          "size": 5,
          "symbol": "circle"
         },
         "mode": "markers",
         "name": "<b>F1</b> (estimated F1)",
         "showlegend": false,
         "type": "scatter",
         "x": [
          "2021-06-27T13:36:00",
          "2021-07-01T16:36:00",
          "2021-07-05T19:36:00",
          "2021-07-09T22:31:30"
         ],
         "xaxis": "x",
         "y": [
          0.8574148114241198,
          0.8432295435015648,
          0.8453030090576895,
          0.8710179749613156,
          0.8710179749613156
         ],
         "yaxis": "y"
        },
        {
         "connectgaps": true,
         "hoverinfo": "skip",
         "line": {
          "color": "rgba(0,0,0,0)",
          "shape": "hv"
         },
         "mode": "lines",
         "name": "Confidence band",
         "showlegend": false,
         "type": "scatter",
         "x": [
          "2021-06-25T12:06:00",
          "2021-06-29T15:06:00",
          "2021-07-03T18:06:00",
          "2021-07-07T21:06:00",
          "2021-07-11T23:57:00"
         ],
         "xaxis": "x",
         "y": [
          0.9624158349409422,
          0.9482305670183871,
          0.9503040325745119,
          0.9760725021878607,
          0.9760725021878607
         ],
         "yaxis": "y"
        },
        {
         "connectgaps": true,
         "fill": "tonexty",
         "fillcolor": "rgba(0.0, 0.7843137254901961, 0.8980392156862745, 0.2)",
         "hoverinfo": "skip",
         "line": {
          "color": "rgba(0,0,0,0)",
          "shape": "hv"
         },
         "mode": "lines",
         "name": "Confidence band",
         "showlegend": false,
         "type": "scatter",
         "x": [
          "2021-06-25T12:06:00",
          "2021-06-29T15:06:00",
          "2021-07-03T18:06:00",
          "2021-07-07T21:06:00",
          "2021-07-11T23:57:00"
         ],
         "xaxis": "x",
         "y": [
          0.7524137879072974,
          0.7382285199847424,
          0.7403019855408671,
          0.7659634477347705,
          0.7659634477347705
         ],
         "yaxis": "y"
        },
        {
         "hoverinfo": "skip",
         "line": {
          "color": "#3b0280",
          "shape": "hv",
          "width": 2
         },
         "mode": "lines",
         "name": "<b>F1</b> (realized F1)",
         "showlegend": false,
         "type": "scatter",
         "x": [
          "2021-06-25T12:06:00",
          "2021-06-29T15:06:00",
          "2021-07-03T18:06:00",
          "2021-07-07T21:06:00",
          "2021-07-11T23:57:00"
         ],
         "xaxis": "x",
         "y": [
          0.9241706161137441,
          0.8645533141210374,
          0.8285714285714286,
          0.9147982062780269,
          0.9147982062780269
         ],
         "yaxis": "y"
        },
        {
         "customdata": [
          [
           "<b>F1</b>",
           "<b style=\"color:#3b0280;line-height:60px\">Analysis</b>",
           "",
           "[0:1963]",
           "From <b>Jun-25-2021</b> to <b>Jun-29-2021</b>",
           0.9242
          ],
          [
           "<b>F1</b>",
           "<b style=\"color:#3b0280;line-height:60px\">Analysis</b>",
           "",
           "[1964:3927]",
           "From <b>Jun-29-2021</b> to <b>Jul-03-2021</b>",
           0.8646
          ],
          [
           "<b>F1</b>",
           "<b style=\"color:#3b0280;line-height:60px\">Analysis</b>",
           "",
           "[3928:5891]",
           "From <b>Jul-03-2021</b> to <b>Jul-07-2021</b>",
           0.8286
          ],
          [
           "<b>F1</b>",
           "<b style=\"color:#3b0280;line-height:60px\">Analysis</b>",
           "",
           "[5892:7853]",
           "From <b>Jul-07-2021</b> to <b>Jul-11-2021</b>",
           0.9148
          ]
         ],
         "hovertemplate": "%{customdata[1]} &nbsp; &nbsp; %{customdata[2]} <br />Chunk: <b>%{customdata[3]}</b> &nbsp; &nbsp; %{customdata[4]} <br />%{customdata[0]}: <b>%{customdata[5]}</b><br /><extra></extra>",
         "marker": {
          "color": "#3b0280",
          "size": 5,
          "symbol": "circle"
         },
         "mode": "markers",
         "name": "<b>F1</b> (realized F1)",
         "showlegend": false,
         "type": "scatter",
         "x": [
          "2021-06-27T13:36:00",
          "2021-07-01T16:36:00",
          "2021-07-05T19:36:00",
          "2021-07-09T22:31:30"
         ],
         "xaxis": "x",
         "y": [
          0.9241706161137441,
          0.8645533141210374,
          0.8285714285714286,
          0.9147982062780269,
          0.9147982062780269
         ],
         "yaxis": "y"
        },
        {
         "hoverinfo": "skip",
         "legendgroup": "alert",
         "marker": {
          "color": "#DD4040",
          "size": 8,
          "symbol": "diamond"
         },
         "mode": "markers",
         "name": "Alert",
         "showlegend": true,
         "type": "scatter",
         "x": [],
         "xaxis": "x",
         "y": [],
         "yaxis": "y"
        },
        {
         "hoverinfo": "skip",
         "legendgroup": "alert",
         "marker": {
          "color": "#DD4040",
          "size": 8,
          "symbol": "diamond"
         },
         "mode": "markers",
         "name": "Alert",
         "showlegend": false,
         "type": "scatter",
         "x": [],
         "xaxis": "x",
         "y": [],
         "yaxis": "y"
        }
       ],
       "layout": {
        "annotations": [
         {
          "font": {
           "size": 16
          },
          "showarrow": false,
          "text": "<b>F1</b> (estimated F1) vs. <b>F1</b> (realized F1)",
          "x": 0.47,
          "xanchor": "center",
          "xref": "paper",
          "y": 1,
          "yanchor": "bottom",
          "yref": "paper"
         },
         {
          "showarrow": false,
          "text": "Reference",
          "x": "2021-06-15T04:42:00",
          "xshift": 10,
          "y": 1,
          "yref": "paper"
         },
         {
          "showarrow": false,
          "text": "Analysis",
          "x": "2021-07-01T16:36:00",
          "xshift": 15,
          "y": 1,
          "yref": "paper"
         }
        ],
        "height": 500,
        "hoverlabel": {
         "bgcolor": "white",
         "font": {
          "size": 14
         }
        },
        "legend": {
         "itemclick": false,
         "itemdoubleclick": false,
         "traceorder": "grouped"
        },
        "paper_bgcolor": "rgba(255,255,255,1)",
        "plot_bgcolor": "rgba(255,255,255,1)",
        "shapes": [
         {
          "layer": "below",
          "line": {
           "color": "#666666",
           "width": 1
          },
          "type": "line",
          "x0": "2021-06-25T12:06:00",
          "x1": "2021-06-25T12:06:00",
          "xref": "x",
          "y0": 0,
          "y1": 1,
          "yref": "y domain"
         }
        ],
        "template": {
         "data": {
          "bar": [
           {
            "error_x": {
             "color": "#2a3f5f"
            },
            "error_y": {
             "color": "#2a3f5f"
            },
            "marker": {
             "line": {
              "color": "#E5ECF6",
              "width": 0.5
             },
             "pattern": {
              "fillmode": "overlay",
              "size": 10,
              "solidity": 0.2
             }
            },
            "type": "bar"
           }
          ],
          "barpolar": [
           {
            "marker": {
             "line": {
              "color": "#E5ECF6",
              "width": 0.5
             },
             "pattern": {
              "fillmode": "overlay",
              "size": 10,
              "solidity": 0.2
             }
            },
            "type": "barpolar"
           }
          ],
          "carpet": [
           {
            "aaxis": {
             "endlinecolor": "#2a3f5f",
             "gridcolor": "white",
             "linecolor": "white",
             "minorgridcolor": "white",
             "startlinecolor": "#2a3f5f"
            },
            "baxis": {
             "endlinecolor": "#2a3f5f",
             "gridcolor": "white",
             "linecolor": "white",
             "minorgridcolor": "white",
             "startlinecolor": "#2a3f5f"
            },
            "type": "carpet"
           }
          ],
          "choropleth": [
           {
            "colorbar": {
             "outlinewidth": 0,
             "ticks": ""
            },
            "type": "choropleth"
           }
          ],
          "contour": [
           {
            "colorbar": {
             "outlinewidth": 0,
             "ticks": ""
            },
            "colorscale": [
             [
              0,
              "#0d0887"
             ],
             [
              0.1111111111111111,
              "#46039f"
             ],
             [
              0.2222222222222222,
              "#7201a8"
             ],
             [
              0.3333333333333333,
              "#9c179e"
             ],
             [
              0.4444444444444444,
              "#bd3786"
             ],
             [
              0.5555555555555556,
              "#d8576b"
             ],
             [
              0.6666666666666666,
              "#ed7953"
             ],
             [
              0.7777777777777778,
              "#fb9f3a"
             ],
             [
              0.8888888888888888,
              "#fdca26"
             ],
             [
              1,
              "#f0f921"
             ]
            ],
            "type": "contour"
           }
          ],
          "contourcarpet": [
           {
            "colorbar": {
             "outlinewidth": 0,
             "ticks": ""
            },
            "type": "contourcarpet"
           }
          ],
          "heatmap": [
           {
            "colorbar": {
             "outlinewidth": 0,
             "ticks": ""
            },
            "colorscale": [
             [
              0,
              "#0d0887"
             ],
             [
              0.1111111111111111,
              "#46039f"
             ],
             [
              0.2222222222222222,
              "#7201a8"
             ],
             [
              0.3333333333333333,
              "#9c179e"
             ],
             [
              0.4444444444444444,
              "#bd3786"
             ],
             [
              0.5555555555555556,
              "#d8576b"
             ],
             [
              0.6666666666666666,
              "#ed7953"
             ],
             [
              0.7777777777777778,
              "#fb9f3a"
             ],
             [
              0.8888888888888888,
              "#fdca26"
             ],
             [
              1,
              "#f0f921"
             ]
            ],
            "type": "heatmap"
           }
          ],
          "heatmapgl": [
           {
            "colorbar": {
             "outlinewidth": 0,
             "ticks": ""
            },
            "colorscale": [
             [
              0,
              "#0d0887"
             ],
             [
              0.1111111111111111,
              "#46039f"
             ],
             [
              0.2222222222222222,
              "#7201a8"
             ],
             [
              0.3333333333333333,
              "#9c179e"
             ],
             [
              0.4444444444444444,
              "#bd3786"
             ],
             [
              0.5555555555555556,
              "#d8576b"
             ],
             [
              0.6666666666666666,
              "#ed7953"
             ],
             [
              0.7777777777777778,
              "#fb9f3a"
             ],
             [
              0.8888888888888888,
              "#fdca26"
             ],
             [
              1,
              "#f0f921"
             ]
            ],
            "type": "heatmapgl"
           }
          ],
          "histogram": [
           {
            "marker": {
             "pattern": {
              "fillmode": "overlay",
              "size": 10,
              "solidity": 0.2
             }
            },
            "type": "histogram"
           }
          ],
          "histogram2d": [
           {
            "colorbar": {
             "outlinewidth": 0,
             "ticks": ""
            },
            "colorscale": [
             [
              0,
              "#0d0887"
             ],
             [
              0.1111111111111111,
              "#46039f"
             ],
             [
              0.2222222222222222,
              "#7201a8"
             ],
             [
              0.3333333333333333,
              "#9c179e"
             ],
             [
              0.4444444444444444,
              "#bd3786"
             ],
             [
              0.5555555555555556,
              "#d8576b"
             ],
             [
              0.6666666666666666,
              "#ed7953"
             ],
             [
              0.7777777777777778,
              "#fb9f3a"
             ],
             [
              0.8888888888888888,
              "#fdca26"
             ],
             [
              1,
              "#f0f921"
             ]
            ],
            "type": "histogram2d"
           }
          ],
          "histogram2dcontour": [
           {
            "colorbar": {
             "outlinewidth": 0,
             "ticks": ""
            },
            "colorscale": [
             [
              0,
              "#0d0887"
             ],
             [
              0.1111111111111111,
              "#46039f"
             ],
             [
              0.2222222222222222,
              "#7201a8"
             ],
             [
              0.3333333333333333,
              "#9c179e"
             ],
             [
              0.4444444444444444,
              "#bd3786"
             ],
             [
              0.5555555555555556,
              "#d8576b"
             ],
             [
              0.6666666666666666,
              "#ed7953"
             ],
             [
              0.7777777777777778,
              "#fb9f3a"
             ],
             [
              0.8888888888888888,
              "#fdca26"
             ],
             [
              1,
              "#f0f921"
             ]
            ],
            "type": "histogram2dcontour"
           }
          ],
          "mesh3d": [
           {
            "colorbar": {
             "outlinewidth": 0,
             "ticks": ""
            },
            "type": "mesh3d"
           }
          ],
          "parcoords": [
           {
            "line": {
             "colorbar": {
              "outlinewidth": 0,
              "ticks": ""
             }
            },
            "type": "parcoords"
           }
          ],
          "pie": [
           {
            "automargin": true,
            "type": "pie"
           }
          ],
          "scatter": [
           {
            "fillpattern": {
             "fillmode": "overlay",
             "size": 10,
             "solidity": 0.2
            },
            "type": "scatter"
           }
          ],
          "scatter3d": [
           {
            "line": {
             "colorbar": {
              "outlinewidth": 0,
              "ticks": ""
             }
            },
            "marker": {
             "colorbar": {
              "outlinewidth": 0,
              "ticks": ""
             }
            },
            "type": "scatter3d"
           }
          ],
          "scattercarpet": [
           {
            "marker": {
             "colorbar": {
              "outlinewidth": 0,
              "ticks": ""
             }
            },
            "type": "scattercarpet"
           }
          ],
          "scattergeo": [
           {
            "marker": {
             "colorbar": {
              "outlinewidth": 0,
              "ticks": ""
             }
            },
            "type": "scattergeo"
           }
          ],
          "scattergl": [
           {
            "marker": {
             "colorbar": {
              "outlinewidth": 0,
              "ticks": ""
             }
            },
            "type": "scattergl"
           }
          ],
          "scattermapbox": [
           {
            "marker": {
             "colorbar": {
              "outlinewidth": 0,
              "ticks": ""
             }
            },
            "type": "scattermapbox"
           }
          ],
          "scatterpolar": [
           {
            "marker": {
             "colorbar": {
              "outlinewidth": 0,
              "ticks": ""
             }
            },
            "type": "scatterpolar"
           }
          ],
          "scatterpolargl": [
           {
            "marker": {
             "colorbar": {
              "outlinewidth": 0,
              "ticks": ""
             }
            },
            "type": "scatterpolargl"
           }
          ],
          "scatterternary": [
           {
            "marker": {
             "colorbar": {
              "outlinewidth": 0,
              "ticks": ""
             }
            },
            "type": "scatterternary"
           }
          ],
          "surface": [
           {
            "colorbar": {
             "outlinewidth": 0,
             "ticks": ""
            },
            "colorscale": [
             [
              0,
              "#0d0887"
             ],
             [
              0.1111111111111111,
              "#46039f"
             ],
             [
              0.2222222222222222,
              "#7201a8"
             ],
             [
              0.3333333333333333,
              "#9c179e"
             ],
             [
              0.4444444444444444,
              "#bd3786"
             ],
             [
              0.5555555555555556,
              "#d8576b"
             ],
             [
              0.6666666666666666,
              "#ed7953"
             ],
             [
              0.7777777777777778,
              "#fb9f3a"
             ],
             [
              0.8888888888888888,
              "#fdca26"
             ],
             [
              1,
              "#f0f921"
             ]
            ],
            "type": "surface"
           }
          ],
          "table": [
           {
            "cells": {
             "fill": {
              "color": "#EBF0F8"
             },
             "line": {
              "color": "white"
             }
            },
            "header": {
             "fill": {
              "color": "#C8D4E3"
             },
             "line": {
              "color": "white"
             }
            },
            "type": "table"
           }
          ]
         },
         "layout": {
          "annotationdefaults": {
           "arrowcolor": "#2a3f5f",
           "arrowhead": 0,
           "arrowwidth": 1
          },
          "autotypenumbers": "strict",
          "coloraxis": {
           "colorbar": {
            "outlinewidth": 0,
            "ticks": ""
           }
          },
          "colorscale": {
           "diverging": [
            [
             0,
             "#8e0152"
            ],
            [
             0.1,
             "#c51b7d"
            ],
            [
             0.2,
             "#de77ae"
            ],
            [
             0.3,
             "#f1b6da"
            ],
            [
             0.4,
             "#fde0ef"
            ],
            [
             0.5,
             "#f7f7f7"
            ],
            [
             0.6,
             "#e6f5d0"
            ],
            [
             0.7,
             "#b8e186"
            ],
            [
             0.8,
             "#7fbc41"
            ],
            [
             0.9,
             "#4d9221"
            ],
            [
             1,
             "#276419"
            ]
           ],
           "sequential": [
            [
             0,
             "#0d0887"
            ],
            [
             0.1111111111111111,
             "#46039f"
            ],
            [
             0.2222222222222222,
             "#7201a8"
            ],
            [
             0.3333333333333333,
             "#9c179e"
            ],
            [
             0.4444444444444444,
             "#bd3786"
            ],
            [
             0.5555555555555556,
             "#d8576b"
            ],
            [
             0.6666666666666666,
             "#ed7953"
            ],
            [
             0.7777777777777778,
             "#fb9f3a"
            ],
            [
             0.8888888888888888,
             "#fdca26"
            ],
            [
             1,
             "#f0f921"
            ]
           ],
           "sequentialminus": [
            [
             0,
             "#0d0887"
            ],
            [
             0.1111111111111111,
             "#46039f"
            ],
            [
             0.2222222222222222,
             "#7201a8"
            ],
            [
             0.3333333333333333,
             "#9c179e"
            ],
            [
             0.4444444444444444,
             "#bd3786"
            ],
            [
             0.5555555555555556,
             "#d8576b"
            ],
            [
             0.6666666666666666,
             "#ed7953"
            ],
            [
             0.7777777777777778,
             "#fb9f3a"
            ],
            [
             0.8888888888888888,
             "#fdca26"
            ],
            [
             1,
             "#f0f921"
            ]
           ]
          },
          "colorway": [
           "#636efa",
           "#EF553B",
           "#00cc96",
           "#ab63fa",
           "#FFA15A",
           "#19d3f3",
           "#FF6692",
           "#B6E880",
           "#FF97FF",
           "#FECB52"
          ],
          "font": {
           "color": "#2a3f5f"
          },
          "geo": {
           "bgcolor": "white",
           "lakecolor": "white",
           "landcolor": "#E5ECF6",
           "showlakes": true,
           "showland": true,
           "subunitcolor": "white"
          },
          "hoverlabel": {
           "align": "left"
          },
          "hovermode": "closest",
          "mapbox": {
           "style": "light"
          },
          "paper_bgcolor": "white",
          "plot_bgcolor": "#E5ECF6",
          "polar": {
           "angularaxis": {
            "gridcolor": "white",
            "linecolor": "white",
            "ticks": ""
           },
           "bgcolor": "#E5ECF6",
           "radialaxis": {
            "gridcolor": "white",
            "linecolor": "white",
            "ticks": ""
           }
          },
          "scene": {
           "xaxis": {
            "backgroundcolor": "#E5ECF6",
            "gridcolor": "white",
            "gridwidth": 2,
            "linecolor": "white",
            "showbackground": true,
            "ticks": "",
            "zerolinecolor": "white"
           },
           "yaxis": {
            "backgroundcolor": "#E5ECF6",
            "gridcolor": "white",
            "gridwidth": 2,
            "linecolor": "white",
            "showbackground": true,
            "ticks": "",
            "zerolinecolor": "white"
           },
           "zaxis": {
            "backgroundcolor": "#E5ECF6",
            "gridcolor": "white",
            "gridwidth": 2,
            "linecolor": "white",
            "showbackground": true,
            "ticks": "",
            "zerolinecolor": "white"
           }
          },
          "shapedefaults": {
           "line": {
            "color": "#2a3f5f"
           }
          },
          "ternary": {
           "aaxis": {
            "gridcolor": "white",
            "linecolor": "white",
            "ticks": ""
           },
           "baxis": {
            "gridcolor": "white",
            "linecolor": "white",
            "ticks": ""
           },
           "bgcolor": "#E5ECF6",
           "caxis": {
            "gridcolor": "white",
            "linecolor": "white",
            "ticks": ""
           }
          },
          "title": {
           "x": 0.05
          },
          "xaxis": {
           "automargin": true,
           "gridcolor": "white",
           "linecolor": "white",
           "ticks": "",
           "title": {
            "standoff": 15
           },
           "zerolinecolor": "white",
           "zerolinewidth": 2
          },
          "yaxis": {
           "automargin": true,
           "gridcolor": "white",
           "linecolor": "white",
           "ticks": "",
           "title": {
            "standoff": 15
           },
           "zerolinecolor": "white",
           "zerolinewidth": 2
          }
         }
        },
        "title": {
         "text": "<b>Estimated performance (MCBPE)</b> vs. <b>Realized performance</b>"
        },
        "xaxis": {
         "anchor": "y",
         "domain": [
          0,
          0.94
         ],
         "linecolor": "#3b0280",
         "matches": "x",
         "mirror": true,
         "showgrid": false,
         "title": {
          "text": "Time"
         },
         "zeroline": false
        },
        "yaxis": {
         "anchor": "x",
         "domain": [
          0,
          1
         ],
         "linecolor": "#3b0280",
         "mirror": true,
         "showgrid": false,
         "title": {
          "text": "<b>F1</b>"
         },
         "zeroline": false
        },
        "yaxis2": {
         "anchor": "x",
         "linecolor": "#3b0280",
         "mirror": true,
         "overlaying": "y",
         "showgrid": false,
         "side": "right",
         "title": {
          "text": "Comparison"
         },
         "zeroline": false
        }
       }
      }
     },
     "metadata": {},
     "output_type": "display_data"
    }
   ],
   "source": [
    "fig = pape_results.filter(metrics='f1').compare(realized_results.filter(metrics='f1')).plot()\n",
    "fig.show()\n",
    "fig.write_image('realized_f1_vs_estimated_f1.svg')"
   ]
  },
  {
   "cell_type": "code",
   "execution_count": 22,
   "metadata": {},
   "outputs": [
    {
     "data": {
      "application/vnd.plotly.v1+json": {
       "config": {
        "plotlyServerURL": "https://plot.ly"
       },
       "data": [
        {
         "hoverinfo": "skip",
         "legendgroup": "metric_reference",
         "line": {
          "color": "#00c8e5",
          "shape": "hv",
          "width": 2
         },
         "mode": "lines",
         "name": "Metric",
         "showlegend": true,
         "type": "scatter",
         "x": [
          "2021-06-09T00:12:00",
          "2021-06-13T03:12:00",
          "2021-06-17T06:12:00",
          "2021-06-21T09:12:00",
          "2021-06-25T12:03:00"
         ],
         "xaxis": "x",
         "y": [
          0.6925795053003534,
          0.8759398496240601,
          0.9310344827586207,
          0.8784119106699751,
          0.8784119106699751
         ],
         "yaxis": "y"
        },
        {
         "customdata": [
          [
           "Realized <b>F1</b>",
           "<b style=\"color:#00c8e5;line-height:60px\">Reference</b>",
           "",
           "[0:1963]",
           "From <b>Jun-09-2021</b> to <b>Jun-13-2021</b>",
           0.6926,
           0.105
          ],
          [
           "Realized <b>F1</b>",
           "<b style=\"color:#00c8e5;line-height:60px\">Reference</b>",
           "",
           "[1964:3927]",
           "From <b>Jun-13-2021</b> to <b>Jun-17-2021</b>",
           0.8759,
           0.105
          ],
          [
           "Realized <b>F1</b>",
           "<b style=\"color:#00c8e5;line-height:60px\">Reference</b>",
           "",
           "[3928:5891]",
           "From <b>Jun-17-2021</b> to <b>Jun-21-2021</b>",
           0.931,
           0.105
          ],
          [
           "Realized <b>F1</b>",
           "<b style=\"color:#00c8e5;line-height:60px\">Reference</b>",
           "",
           "[5892:7853]",
           "From <b>Jun-21-2021</b> to <b>Jun-25-2021</b>",
           0.8784,
           0.1051
          ]
         ],
         "hovertemplate": "%{customdata[1]} &nbsp; &nbsp; %{customdata[2]} <br />Chunk: <b>%{customdata[3]}</b> &nbsp; &nbsp; %{customdata[4]} <br />%{customdata[0]}: <b>%{customdata[5]}</b><br />Confidence band: +/- <b>%{customdata[6]}</b><br /><extra></extra>",
         "legendgroup": "metric_reference",
         "marker": {
          "color": "#00c8e5",
          "size": 5,
          "symbol": "circle"
         },
         "mode": "markers",
         "name": "Metric",
         "showlegend": false,
         "type": "scatter",
         "x": [
          "2021-06-11T01:42:00",
          "2021-06-15T04:42:00",
          "2021-06-19T07:42:00",
          "2021-06-23T10:37:30"
         ],
         "xaxis": "x",
         "y": [
          0.6925795053003534,
          0.8759398496240601,
          0.9310344827586207,
          0.8784119106699751,
          0.8784119106699751
         ],
         "yaxis": "y"
        },
        {
         "hoverinfo": "skip",
         "legendgroup": "metric_analysis",
         "line": {
          "color": "#00c8e5",
          "shape": "hv",
          "width": 2
         },
         "mode": "lines",
         "name": "Metric",
         "showlegend": false,
         "type": "scatter",
         "x": [
          "2021-06-25T12:06:00",
          "2021-06-29T15:06:00",
          "2021-07-03T18:06:00",
          "2021-07-07T21:06:00",
          "2021-07-11T23:57:00"
         ],
         "xaxis": "x",
         "y": [
          0.9241706161137441,
          0.8645533141210374,
          0.8285714285714286,
          0.9147982062780269,
          0.9147982062780269
         ],
         "yaxis": "y"
        },
        {
         "customdata": [
          [
           "Realized <b>F1</b>",
           "<b style=\"color:#3b0280;line-height:60px\">Analysis</b>",
           "",
           "[0:1963]",
           "From <b>Jun-25-2021</b> to <b>Jun-29-2021</b>",
           0.9242,
           0.105
          ],
          [
           "Realized <b>F1</b>",
           "<b style=\"color:#3b0280;line-height:60px\">Analysis</b>",
           "",
           "[1964:3927]",
           "From <b>Jun-29-2021</b> to <b>Jul-03-2021</b>",
           0.8646,
           0.105
          ],
          [
           "Realized <b>F1</b>",
           "<b style=\"color:#3b0280;line-height:60px\">Analysis</b>",
           "",
           "[3928:5891]",
           "From <b>Jul-03-2021</b> to <b>Jul-07-2021</b>",
           0.8286,
           0.105
          ],
          [
           "Realized <b>F1</b>",
           "<b style=\"color:#3b0280;line-height:60px\">Analysis</b>",
           "",
           "[5892:7853]",
           "From <b>Jul-07-2021</b> to <b>Jul-11-2021</b>",
           0.9148,
           0.1051
          ]
         ],
         "hovertemplate": "%{customdata[1]} &nbsp; &nbsp; %{customdata[2]} <br />Chunk: <b>%{customdata[3]}</b> &nbsp; &nbsp; %{customdata[4]} <br />%{customdata[0]}: <b>%{customdata[5]}</b><br />Confidence band: +/- <b>%{customdata[6]}</b><br /><extra></extra>",
         "legendgroup": "metric_analysis",
         "marker": {
          "color": "#00c8e5",
          "size": 5,
          "symbol": "circle"
         },
         "mode": "markers",
         "name": "Metric",
         "showlegend": false,
         "type": "scatter",
         "x": [
          "2021-06-27T13:36:00",
          "2021-07-01T16:36:00",
          "2021-07-05T19:36:00",
          "2021-07-09T22:31:30"
         ],
         "xaxis": "x",
         "y": [
          0.9241706161137441,
          0.8645533141210374,
          0.8285714285714286,
          0.9147982062780269,
          0.9147982062780269
         ],
         "yaxis": "y"
        },
        {
         "hoverinfo": "skip",
         "legendgroup": "alert",
         "marker": {
          "color": "#DD4040",
          "size": 8,
          "symbol": "diamond"
         },
         "mode": "markers",
         "name": "Alert",
         "showlegend": true,
         "type": "scatter",
         "x": [],
         "xaxis": "x",
         "y": [],
         "yaxis": "y"
        },
        {
         "hoverinfo": "skip",
         "legendgroup": "thresh",
         "line": {
          "color": "#DD4040",
          "dash": "dash",
          "width": 2
         },
         "mode": "lines",
         "name": "Threshold",
         "showlegend": true,
         "type": "scatter",
         "x": [
          "2021-06-09T00:12:00",
          "2021-06-13T03:12:00",
          "2021-06-17T06:12:00",
          "2021-06-21T09:12:00",
          "2021-06-25T12:03:00"
         ],
         "xaxis": "x",
         "y": [
          1,
          1,
          1,
          1,
          1
         ],
         "yaxis": "y"
        },
        {
         "hoverinfo": "skip",
         "legendgroup": "thresh",
         "line": {
          "color": "#DD4040",
          "dash": "dash",
          "width": 2
         },
         "mode": "lines",
         "name": "Threshold",
         "showlegend": false,
         "type": "scatter",
         "x": [
          "2021-06-09T00:12:00",
          "2021-06-13T03:12:00",
          "2021-06-17T06:12:00",
          "2021-06-21T09:12:00",
          "2021-06-25T12:03:00"
         ],
         "xaxis": "x",
         "y": [
          0.5732172148646006,
          0.5732172148646006,
          0.5732172148646006,
          0.5732172148646006,
          0.5732172148646006
         ],
         "yaxis": "y"
        },
        {
         "hoverinfo": "skip",
         "legendgroup": "thresh",
         "line": {
          "color": "#DD4040",
          "dash": "dash",
          "width": 2
         },
         "mode": "lines",
         "name": "Threshold",
         "showlegend": false,
         "type": "scatter",
         "x": [
          "2021-06-25T12:06:00",
          "2021-06-29T15:06:00",
          "2021-07-03T18:06:00",
          "2021-07-07T21:06:00",
          "2021-07-11T23:57:00"
         ],
         "xaxis": "x",
         "y": [
          1,
          1,
          1,
          1,
          1
         ],
         "yaxis": "y"
        },
        {
         "hoverinfo": "skip",
         "legendgroup": "thresh",
         "line": {
          "color": "#DD4040",
          "dash": "dash",
          "width": 2
         },
         "mode": "lines",
         "name": "Threshold",
         "showlegend": false,
         "type": "scatter",
         "x": [
          "2021-06-25T12:06:00",
          "2021-06-29T15:06:00",
          "2021-07-03T18:06:00",
          "2021-07-07T21:06:00",
          "2021-07-11T23:57:00"
         ],
         "xaxis": "x",
         "y": [
          0.5732172148646006,
          0.5732172148646006,
          0.5732172148646006,
          0.5732172148646006,
          0.5732172148646006
         ],
         "yaxis": "y"
        }
       ],
       "layout": {
        "annotations": [
         {
          "font": {
           "size": 16
          },
          "showarrow": false,
          "text": "Realized <b>F1</b>",
          "x": 0.5,
          "xanchor": "center",
          "xref": "paper",
          "y": 1,
          "yanchor": "bottom",
          "yref": "paper"
         },
         {
          "showarrow": false,
          "text": "Reference",
          "x": "2021-06-15T04:42:00",
          "xref": "x",
          "xshift": 10,
          "y": 1.01,
          "yref": "y domain"
         },
         {
          "showarrow": false,
          "text": "Analysis",
          "x": "2021-07-01T16:36:00",
          "xref": "x",
          "xshift": 15,
          "y": 1.01,
          "yref": "y domain"
         }
        ],
        "height": 500,
        "hoverlabel": {
         "bgcolor": "white",
         "font": {
          "size": 14
         }
        },
        "legend": {
         "itemclick": false,
         "itemdoubleclick": false,
         "traceorder": "grouped"
        },
        "paper_bgcolor": "rgba(255,255,255,1)",
        "plot_bgcolor": "rgba(255,255,255,1)",
        "shapes": [
         {
          "layer": "below",
          "line": {
           "color": "#666666",
           "width": 1
          },
          "type": "line",
          "x0": "2021-06-25T12:06:00",
          "x1": "2021-06-25T12:06:00",
          "xref": "x",
          "y0": 0,
          "y1": 1,
          "yref": "y domain"
         }
        ],
        "template": {
         "data": {
          "bar": [
           {
            "error_x": {
             "color": "#2a3f5f"
            },
            "error_y": {
             "color": "#2a3f5f"
            },
            "marker": {
             "line": {
              "color": "#E5ECF6",
              "width": 0.5
             },
             "pattern": {
              "fillmode": "overlay",
              "size": 10,
              "solidity": 0.2
             }
            },
            "type": "bar"
           }
          ],
          "barpolar": [
           {
            "marker": {
             "line": {
              "color": "#E5ECF6",
              "width": 0.5
             },
             "pattern": {
              "fillmode": "overlay",
              "size": 10,
              "solidity": 0.2
             }
            },
            "type": "barpolar"
           }
          ],
          "carpet": [
           {
            "aaxis": {
             "endlinecolor": "#2a3f5f",
             "gridcolor": "white",
             "linecolor": "white",
             "minorgridcolor": "white",
             "startlinecolor": "#2a3f5f"
            },
            "baxis": {
             "endlinecolor": "#2a3f5f",
             "gridcolor": "white",
             "linecolor": "white",
             "minorgridcolor": "white",
             "startlinecolor": "#2a3f5f"
            },
            "type": "carpet"
           }
          ],
          "choropleth": [
           {
            "colorbar": {
             "outlinewidth": 0,
             "ticks": ""
            },
            "type": "choropleth"
           }
          ],
          "contour": [
           {
            "colorbar": {
             "outlinewidth": 0,
             "ticks": ""
            },
            "colorscale": [
             [
              0,
              "#0d0887"
             ],
             [
              0.1111111111111111,
              "#46039f"
             ],
             [
              0.2222222222222222,
              "#7201a8"
             ],
             [
              0.3333333333333333,
              "#9c179e"
             ],
             [
              0.4444444444444444,
              "#bd3786"
             ],
             [
              0.5555555555555556,
              "#d8576b"
             ],
             [
              0.6666666666666666,
              "#ed7953"
             ],
             [
              0.7777777777777778,
              "#fb9f3a"
             ],
             [
              0.8888888888888888,
              "#fdca26"
             ],
             [
              1,
              "#f0f921"
             ]
            ],
            "type": "contour"
           }
          ],
          "contourcarpet": [
           {
            "colorbar": {
             "outlinewidth": 0,
             "ticks": ""
            },
            "type": "contourcarpet"
           }
          ],
          "heatmap": [
           {
            "colorbar": {
             "outlinewidth": 0,
             "ticks": ""
            },
            "colorscale": [
             [
              0,
              "#0d0887"
             ],
             [
              0.1111111111111111,
              "#46039f"
             ],
             [
              0.2222222222222222,
              "#7201a8"
             ],
             [
              0.3333333333333333,
              "#9c179e"
             ],
             [
              0.4444444444444444,
              "#bd3786"
             ],
             [
              0.5555555555555556,
              "#d8576b"
             ],
             [
              0.6666666666666666,
              "#ed7953"
             ],
             [
              0.7777777777777778,
              "#fb9f3a"
             ],
             [
              0.8888888888888888,
              "#fdca26"
             ],
             [
              1,
              "#f0f921"
             ]
            ],
            "type": "heatmap"
           }
          ],
          "heatmapgl": [
           {
            "colorbar": {
             "outlinewidth": 0,
             "ticks": ""
            },
            "colorscale": [
             [
              0,
              "#0d0887"
             ],
             [
              0.1111111111111111,
              "#46039f"
             ],
             [
              0.2222222222222222,
              "#7201a8"
             ],
             [
              0.3333333333333333,
              "#9c179e"
             ],
             [
              0.4444444444444444,
              "#bd3786"
             ],
             [
              0.5555555555555556,
              "#d8576b"
             ],
             [
              0.6666666666666666,
              "#ed7953"
             ],
             [
              0.7777777777777778,
              "#fb9f3a"
             ],
             [
              0.8888888888888888,
              "#fdca26"
             ],
             [
              1,
              "#f0f921"
             ]
            ],
            "type": "heatmapgl"
           }
          ],
          "histogram": [
           {
            "marker": {
             "pattern": {
              "fillmode": "overlay",
              "size": 10,
              "solidity": 0.2
             }
            },
            "type": "histogram"
           }
          ],
          "histogram2d": [
           {
            "colorbar": {
             "outlinewidth": 0,
             "ticks": ""
            },
            "colorscale": [
             [
              0,
              "#0d0887"
             ],
             [
              0.1111111111111111,
              "#46039f"
             ],
             [
              0.2222222222222222,
              "#7201a8"
             ],
             [
              0.3333333333333333,
              "#9c179e"
             ],
             [
              0.4444444444444444,
              "#bd3786"
             ],
             [
              0.5555555555555556,
              "#d8576b"
             ],
             [
              0.6666666666666666,
              "#ed7953"
             ],
             [
              0.7777777777777778,
              "#fb9f3a"
             ],
             [
              0.8888888888888888,
              "#fdca26"
             ],
             [
              1,
              "#f0f921"
             ]
            ],
            "type": "histogram2d"
           }
          ],
          "histogram2dcontour": [
           {
            "colorbar": {
             "outlinewidth": 0,
             "ticks": ""
            },
            "colorscale": [
             [
              0,
              "#0d0887"
             ],
             [
              0.1111111111111111,
              "#46039f"
             ],
             [
              0.2222222222222222,
              "#7201a8"
             ],
             [
              0.3333333333333333,
              "#9c179e"
             ],
             [
              0.4444444444444444,
              "#bd3786"
             ],
             [
              0.5555555555555556,
              "#d8576b"
             ],
             [
              0.6666666666666666,
              "#ed7953"
             ],
             [
              0.7777777777777778,
              "#fb9f3a"
             ],
             [
              0.8888888888888888,
              "#fdca26"
             ],
             [
              1,
              "#f0f921"
             ]
            ],
            "type": "histogram2dcontour"
           }
          ],
          "mesh3d": [
           {
            "colorbar": {
             "outlinewidth": 0,
             "ticks": ""
            },
            "type": "mesh3d"
           }
          ],
          "parcoords": [
           {
            "line": {
             "colorbar": {
              "outlinewidth": 0,
              "ticks": ""
             }
            },
            "type": "parcoords"
           }
          ],
          "pie": [
           {
            "automargin": true,
            "type": "pie"
           }
          ],
          "scatter": [
           {
            "fillpattern": {
             "fillmode": "overlay",
             "size": 10,
             "solidity": 0.2
            },
            "type": "scatter"
           }
          ],
          "scatter3d": [
           {
            "line": {
             "colorbar": {
              "outlinewidth": 0,
              "ticks": ""
             }
            },
            "marker": {
             "colorbar": {
              "outlinewidth": 0,
              "ticks": ""
             }
            },
            "type": "scatter3d"
           }
          ],
          "scattercarpet": [
           {
            "marker": {
             "colorbar": {
              "outlinewidth": 0,
              "ticks": ""
             }
            },
            "type": "scattercarpet"
           }
          ],
          "scattergeo": [
           {
            "marker": {
             "colorbar": {
              "outlinewidth": 0,
              "ticks": ""
             }
            },
            "type": "scattergeo"
           }
          ],
          "scattergl": [
           {
            "marker": {
             "colorbar": {
              "outlinewidth": 0,
              "ticks": ""
             }
            },
            "type": "scattergl"
           }
          ],
          "scattermapbox": [
           {
            "marker": {
             "colorbar": {
              "outlinewidth": 0,
              "ticks": ""
             }
            },
            "type": "scattermapbox"
           }
          ],
          "scatterpolar": [
           {
            "marker": {
             "colorbar": {
              "outlinewidth": 0,
              "ticks": ""
             }
            },
            "type": "scatterpolar"
           }
          ],
          "scatterpolargl": [
           {
            "marker": {
             "colorbar": {
              "outlinewidth": 0,
              "ticks": ""
             }
            },
            "type": "scatterpolargl"
           }
          ],
          "scatterternary": [
           {
            "marker": {
             "colorbar": {
              "outlinewidth": 0,
              "ticks": ""
             }
            },
            "type": "scatterternary"
           }
          ],
          "surface": [
           {
            "colorbar": {
             "outlinewidth": 0,
             "ticks": ""
            },
            "colorscale": [
             [
              0,
              "#0d0887"
             ],
             [
              0.1111111111111111,
              "#46039f"
             ],
             [
              0.2222222222222222,
              "#7201a8"
             ],
             [
              0.3333333333333333,
              "#9c179e"
             ],
             [
              0.4444444444444444,
              "#bd3786"
             ],
             [
              0.5555555555555556,
              "#d8576b"
             ],
             [
              0.6666666666666666,
              "#ed7953"
             ],
             [
              0.7777777777777778,
              "#fb9f3a"
             ],
             [
              0.8888888888888888,
              "#fdca26"
             ],
             [
              1,
              "#f0f921"
             ]
            ],
            "type": "surface"
           }
          ],
          "table": [
           {
            "cells": {
             "fill": {
              "color": "#EBF0F8"
             },
             "line": {
              "color": "white"
             }
            },
            "header": {
             "fill": {
              "color": "#C8D4E3"
             },
             "line": {
              "color": "white"
             }
            },
            "type": "table"
           }
          ]
         },
         "layout": {
          "annotationdefaults": {
           "arrowcolor": "#2a3f5f",
           "arrowhead": 0,
           "arrowwidth": 1
          },
          "autotypenumbers": "strict",
          "coloraxis": {
           "colorbar": {
            "outlinewidth": 0,
            "ticks": ""
           }
          },
          "colorscale": {
           "diverging": [
            [
             0,
             "#8e0152"
            ],
            [
             0.1,
             "#c51b7d"
            ],
            [
             0.2,
             "#de77ae"
            ],
            [
             0.3,
             "#f1b6da"
            ],
            [
             0.4,
             "#fde0ef"
            ],
            [
             0.5,
             "#f7f7f7"
            ],
            [
             0.6,
             "#e6f5d0"
            ],
            [
             0.7,
             "#b8e186"
            ],
            [
             0.8,
             "#7fbc41"
            ],
            [
             0.9,
             "#4d9221"
            ],
            [
             1,
             "#276419"
            ]
           ],
           "sequential": [
            [
             0,
             "#0d0887"
            ],
            [
             0.1111111111111111,
             "#46039f"
            ],
            [
             0.2222222222222222,
             "#7201a8"
            ],
            [
             0.3333333333333333,
             "#9c179e"
            ],
            [
             0.4444444444444444,
             "#bd3786"
            ],
            [
             0.5555555555555556,
             "#d8576b"
            ],
            [
             0.6666666666666666,
             "#ed7953"
            ],
            [
             0.7777777777777778,
             "#fb9f3a"
            ],
            [
             0.8888888888888888,
             "#fdca26"
            ],
            [
             1,
             "#f0f921"
            ]
           ],
           "sequentialminus": [
            [
             0,
             "#0d0887"
            ],
            [
             0.1111111111111111,
             "#46039f"
            ],
            [
             0.2222222222222222,
             "#7201a8"
            ],
            [
             0.3333333333333333,
             "#9c179e"
            ],
            [
             0.4444444444444444,
             "#bd3786"
            ],
            [
             0.5555555555555556,
             "#d8576b"
            ],
            [
             0.6666666666666666,
             "#ed7953"
            ],
            [
             0.7777777777777778,
             "#fb9f3a"
            ],
            [
             0.8888888888888888,
             "#fdca26"
            ],
            [
             1,
             "#f0f921"
            ]
           ]
          },
          "colorway": [
           "#636efa",
           "#EF553B",
           "#00cc96",
           "#ab63fa",
           "#FFA15A",
           "#19d3f3",
           "#FF6692",
           "#B6E880",
           "#FF97FF",
           "#FECB52"
          ],
          "font": {
           "color": "#2a3f5f"
          },
          "geo": {
           "bgcolor": "white",
           "lakecolor": "white",
           "landcolor": "#E5ECF6",
           "showlakes": true,
           "showland": true,
           "subunitcolor": "white"
          },
          "hoverlabel": {
           "align": "left"
          },
          "hovermode": "closest",
          "mapbox": {
           "style": "light"
          },
          "paper_bgcolor": "white",
          "plot_bgcolor": "#E5ECF6",
          "polar": {
           "angularaxis": {
            "gridcolor": "white",
            "linecolor": "white",
            "ticks": ""
           },
           "bgcolor": "#E5ECF6",
           "radialaxis": {
            "gridcolor": "white",
            "linecolor": "white",
            "ticks": ""
           }
          },
          "scene": {
           "xaxis": {
            "backgroundcolor": "#E5ECF6",
            "gridcolor": "white",
            "gridwidth": 2,
            "linecolor": "white",
            "showbackground": true,
            "ticks": "",
            "zerolinecolor": "white"
           },
           "yaxis": {
            "backgroundcolor": "#E5ECF6",
            "gridcolor": "white",
            "gridwidth": 2,
            "linecolor": "white",
            "showbackground": true,
            "ticks": "",
            "zerolinecolor": "white"
           },
           "zaxis": {
            "backgroundcolor": "#E5ECF6",
            "gridcolor": "white",
            "gridwidth": 2,
            "linecolor": "white",
            "showbackground": true,
            "ticks": "",
            "zerolinecolor": "white"
           }
          },
          "shapedefaults": {
           "line": {
            "color": "#2a3f5f"
           }
          },
          "ternary": {
           "aaxis": {
            "gridcolor": "white",
            "linecolor": "white",
            "ticks": ""
           },
           "baxis": {
            "gridcolor": "white",
            "linecolor": "white",
            "ticks": ""
           },
           "bgcolor": "#E5ECF6",
           "caxis": {
            "gridcolor": "white",
            "linecolor": "white",
            "ticks": ""
           }
          },
          "title": {
           "x": 0.05
          },
          "xaxis": {
           "automargin": true,
           "gridcolor": "white",
           "linecolor": "white",
           "ticks": "",
           "title": {
            "standoff": 15
           },
           "zerolinecolor": "white",
           "zerolinewidth": 2
          },
          "yaxis": {
           "automargin": true,
           "gridcolor": "white",
           "linecolor": "white",
           "ticks": "",
           "title": {
            "standoff": 15
           },
           "zerolinecolor": "white",
           "zerolinewidth": 2
          }
         }
        },
        "title": {
         "text": "Realized performance"
        },
        "xaxis": {
         "anchor": "y",
         "domain": [
          0,
          1
         ],
         "linecolor": "#3b0280",
         "matches": "x",
         "mirror": true,
         "showgrid": false,
         "title": {
          "text": "Time"
         },
         "zeroline": false
        },
        "yaxis": {
         "anchor": "x",
         "domain": [
          0,
          1
         ],
         "linecolor": "#3b0280",
         "mirror": true,
         "showgrid": false,
         "title": {
          "text": "F1"
         },
         "zeroline": false
        }
       }
      }
     },
     "metadata": {},
     "output_type": "display_data"
    }
   ],
   "source": [
    "fig = realized_results.filter(metrics='f1').plot()\n",
    "fig.show()\n",
    "fig.write_image('f1_realized_performance.svg')"
   ]
  }
 ],
 "metadata": {
  "kernelspec": {
   "display_name": "NannyMLPremium",
   "language": "python",
   "name": "python3"
  },
  "language_info": {
   "codemirror_mode": {
    "name": "ipython",
    "version": 3
   },
   "file_extension": ".py",
   "mimetype": "text/x-python",
   "name": "python",
   "nbconvert_exporter": "python",
   "pygments_lexer": "ipython3",
   "version": "3.10.14"
  }
 },
 "nbformat": 4,
 "nbformat_minor": 2
}
